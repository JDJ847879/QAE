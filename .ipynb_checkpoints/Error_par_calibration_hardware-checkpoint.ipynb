{
 "cells": [
  {
   "cell_type": "code",
   "execution_count": null,
   "metadata": {},
   "outputs": [],
   "source": [
    "from support_functions import *"
   ]
  },
  {
   "cell_type": "markdown",
   "metadata": {},
   "source": [
    "This script generates dummy circuit that are similar to but smaller in size than actual QAE circuits. Using these the error characteristics (noise model) of the QPU are determined. In the first iteration the parameters of the noise model are trained. In the second iteration they are tested."
   ]
  },
  {
   "cell_type": "code",
   "execution_count": null,
   "metadata": {},
   "outputs": [],
   "source": [
    "def load_API_token():\n",
    "    \n",
    "    return token[0]\n"
   ]
  },
  {
   "cell_type": "markdown",
   "metadata": {},
   "source": [
    "## Load hardware "
   ]
  },
  {
   "cell_type": "code",
   "execution_count": null,
   "metadata": {
    "scrolled": true
   },
   "outputs": [],
   "source": [
    "#API_TOKEN = load_API_token()\n",
    "#IBMQ.save_account(API_TOKEN, overwrite=True)\n",
    "IBMQ.load_account()\n",
    "\n",
    "# listing the providers you have access to \n",
    "IBMQ.providers()\n",
    "# Use your provider to access \"premium\" devices\n",
    "provider = IBMQ.get_provider(hub='', group='', project='')\n",
    "# listing backends your provider have access to \n",
    "print(provider.backends())\n",
    "\n",
    "# Selecting ibm_perth\n",
    "backend = provider.get_backend('ibm_perth')\n",
    "#backend = provider.get_backend('ibmq_guadalupe')\n",
    "print(backend.name())\n"
   ]
  },
  {
   "cell_type": "code",
   "execution_count": null,
   "metadata": {},
   "outputs": [],
   "source": []
  },
  {
   "cell_type": "markdown",
   "metadata": {},
   "source": [
    "## Train the error model"
   ]
  },
  {
   "cell_type": "code",
   "execution_count": null,
   "metadata": {},
   "outputs": [],
   "source": [
    "#Parameters\n",
    "nr_qubits = 7\n",
    "#nr_qubits = 16\n",
    "n_tests = 20\n",
    "print(n_tests, Nr_shots)"
   ]
  },
  {
   "cell_type": "code",
   "execution_count": null,
   "metadata": {
    "scrolled": false
   },
   "outputs": [],
   "source": [
    "#Send jobs to hardware\n",
    "x = datetime.datetime.now()\n",
    "filename_jobs1 = \"Jobs1_\" + backend.name() + \"_T:\" + x.strftime(\"%H:%M:%S_%d-%m-%Y\") + \".txt\"\n",
    "filename_sims1 = \"Sims1_\" + backend.name() + \"_T:\" + x.strftime(\"%H:%M:%S_%d-%m-%Y\") + \".txt\"\n",
    "print(filename_jobs1, filename_sims1)\n",
    "\n",
    "D_jobs1 = {}\n",
    "D_sims1 = {}\n",
    "\n",
    "for q in range(nr_qubits,nr_qubits+1):\n",
    "    for t in range(0,8):#(2,11):\n",
    "        for test_nr in range(1,n_tests+1):\n",
    "            circ = random_circ(q,t)\n",
    "            counts1 = clean_exc(circ)\n",
    "            sS1 = \"S1_q=\"+str(q)+\"_t=\"+str(t)+\"_nr=\"+str(test_nr)\n",
    "            cd = circ.depth()\n",
    "            cs = circ.size()\n",
    "            sJ1 = \"J1_q=\"+str(q)+\"_t=\"+str(t)+\"_nr=\"+str(test_nr)\n",
    "            D_sims1[sS1] = [counts1, cd, cs, sJ1]\n",
    "            try:\n",
    "                job_id2 = hardware_exc(circ, backend)\n",
    "                D_jobs1[sJ1] = job_id2\n",
    "                print(sJ1, \"sent.\")\n",
    "            except:\n",
    "                print(sJ1, \"failed.\")"
   ]
  },
  {
   "cell_type": "code",
   "execution_count": null,
   "metadata": {},
   "outputs": [],
   "source": [
    "#Save references to jobs in files.\n",
    "print(filename_jobs1, filename_sims1)\n",
    "fnj = dict_to_file(D_jobs1, filename_jobs1)\n",
    "print(fnj)\n",
    "fns = dict_to_file(D_sims1, filename_sims1)\n",
    "print(fns)"
   ]
  },
  {
   "cell_type": "code",
   "execution_count": null,
   "metadata": {},
   "outputs": [],
   "source": [
    "#Check if the sent jobs are finished.\n",
    "filename_J1 = 'Jobs1_ibm_perth_T:09:55:23_28-09-2023.txt'#(0,8):\n",
    "modes = []\n",
    "ready = True\n",
    "\n",
    "D_J1 = file_to_dict(filename_J1)\n",
    "for x in D_J1.keys():\n",
    "    jobid = D_J1[x]\n",
    "    job2 = backend.retrieve_job(jobid)\n",
    "    stat = job2.status()\n",
    "    #print(job2.job_id(), \" : \", stat, \" : \", x)\n",
    "    if(str(stat)!='JobStatus.DONE'):\n",
    "        ready=False\n",
    "        break\n",
    "\n",
    "print(\"\\n\\nReady:\", ready)"
   ]
  },
  {
   "cell_type": "code",
   "execution_count": null,
   "metadata": {},
   "outputs": [],
   "source": [
    "filename_J1 = 'Jobs1_ibm_perth_T:09:55:23_28-09-2023.txt'#(0,8):\n",
    "filename_S1 = 'Sims1_ibm_perth_T:09:55:23_28-09-2023.txt'#(0,8):\n",
    "\n",
    "data = []\n",
    "\n",
    "D_S1 = file_to_dict(filename_S1)\n",
    "D_J1 = file_to_dict(filename_J1)\n",
    "for key in D_S1.keys():\n",
    "    [counts1, cd, cs, sJ1] = D_S1[key]\n",
    "    job2 = backend.retrieve_job(D_J1[sJ1])\n",
    "    Res = job2.result()\n",
    "    time = Res.time_taken\n",
    "    shots = Res.results[0].shots\n",
    "    data.append([cd, cs, shots, time, (shots*cd)/time, (shots*cs)/time].copy())\n",
    "\n",
    "avg = 0.0\n",
    "std = 0.0\n",
    "n = len(data)\n",
    "for [d,_,sh,t,c,_] in data:\n",
    "    avg += c/n\n",
    "    std += (c**2) / n\n",
    "std -= (avg**2)\n",
    "std = np.sqrt(std)\n",
    "print(\"Depth speed:\", avg, std)\n",
    "\n",
    "avg = 0.0\n",
    "std = 0.0\n",
    "n = len(data)\n",
    "for [_,s,sh,t,_,c] in data:\n",
    "    avg += c/n\n",
    "    std += (c**2) / n\n",
    "std -= (avg**2)\n",
    "std = np.sqrt(std)\n",
    "print(\"Size speed:\", avg, std)"
   ]
  },
  {
   "cell_type": "code",
   "execution_count": null,
   "metadata": {},
   "outputs": [],
   "source": [
    "#Preprocess results\n",
    "\n",
    "filename_J1 = 'Jobs1_ibm_perth_T:09:55:23_28-09-2023.txt'#(0,8):\n",
    "filename_S1 = 'Sims1_ibm_perth_T:09:55:23_28-09-2023.txt'#(0,8):\n",
    "\n",
    "\n",
    "D_jobs1 = file_to_dict(filename_jobs1)\n",
    "D_sims1 = file_to_dict(filename_sims1)\n",
    "R = []\n",
    "A_lst = []\n",
    "for q in range(nr_qubits,nr_qubits+1):\n",
    "    for t in range(0,8):#(2,11):\n",
    "        A_lst.append([])\n",
    "        a_avg = 0\n",
    "        R2_avg = 0\n",
    "        R2_std = 0\n",
    "        ads = 0\n",
    "        add = 0\n",
    "        ctr_tests = 0\n",
    "        for test_nr in range(1,n_tests+1):\n",
    "            sS1 = \"S1_q=\"+str(q)+\"_t=\"+str(t)+\"_nr=\"+str(test_nr)\n",
    "            sJ1 = \"J1_q=\"+str(q)+\"_t=\"+str(t)+\"_nr=\"+str(test_nr)\n",
    "            if( (sJ1 in D_jobs1.keys()) & (sS1 in D_sims1.keys()) ):\n",
    "                [counts1, cd, cs, _] = D_sims1[sS1]\n",
    "                job2 = backend.retrieve_job(D_jobs1[sJ1])\n",
    "                dummy_res = job2.result()\n",
    "                counts2 = dummy_res.get_counts(0)\n",
    "                a,R2 = analyse_noise(counts1, counts2)\n",
    "                A_lst[t].append(a)\n",
    "                ctr_tests += 1\n",
    "                a_avg += a\n",
    "                R2_avg += R2\n",
    "                R2_std += (R2**2)\n",
    "                add += cd\n",
    "                ads += cs\n",
    "        if(ctr_tests>0):\n",
    "            a_avg = a_avg/ctr_tests\n",
    "            R2_avg = R2_avg/ctr_tests\n",
    "            R2_std = R2_std/ctr_tests\n",
    "            add = add/ctr_tests\n",
    "            ads = ads/ctr_tests\n",
    "            R2_std -= R2_avg**2\n",
    "            if(R2_std>=0.0):\n",
    "                R2_std = np.sqrt(R2_std)\n",
    "            R.append([q, t, a_avg, R2_avg, R2_std, add, ads, ctr_tests].copy())\n",
    "            print(q, t, ctr_tests, round(add,2), round(ads,2), \" : \", round(a_avg,3), round(R2_avg,3), round(R2_std,3) )\n",
    "        else:\n",
    "            print(q, t, \"No usable circuits found.\" )"
   ]
  },
  {
   "cell_type": "code",
   "execution_count": null,
   "metadata": {},
   "outputs": [],
   "source": [
    "#Print the obtained distributions of the error probabilities a\n",
    "\n",
    "for a_lst in A_lst:\n",
    "    num_bins = 10\n",
    "    n, bins, patches = plt.hist(a_lst, num_bins)\n",
    "    plt.show()"
   ]
  },
  {
   "cell_type": "code",
   "execution_count": null,
   "metadata": {
    "scrolled": true
   },
   "outputs": [],
   "source": [
    "#Analyze the preprocessed results.\n",
    "\n",
    "b_nm, cd_nm, cs_nm, SSE = optimize_noise_model_simple(R)\n",
    "print(round(b_nm,5), round(cd_nm,5), round(cs_nm,4), round(SSE,5), \"simple\\n\")\n",
    "bs_nm, cs_nm, SSE = optimize_noise_model_bcs(R)\n",
    "print(round(b_nm,5), round(cs_nm,5), round(SSE,5), \"bcs\\n\")\n",
    "bd_nm, cd_nm, SSE = optimize_noise_model_bcd(R)\n",
    "print(round(bd_nm,5), round(cd_nm,5), round(SSE,5), \"bcd\\n\")\n",
    "\n",
    "for [q,p,a,R2_avg,R2_std,add,ads,ctr] in R:\n",
    "    print( \"{5:2d} {0:2d} :{6:3d}: {3:5.1f}  {4:5.1f}  ::  {1:7.3f}   {2:7.3f}\".format(\n",
    "        p, a, b_nm*(cd_nm**(0.01*add)), add, ads, q, ctr \n",
    "    ) )\n",
    "\n",
    "\"\"\"    \n",
    "print(\"\\n\\n[q,p,a,R2_avg,R2_std,add,ads,ctr]\")\n",
    "for r in R:\n",
    "    print(r)\n",
    "\"\"\"    \n",
    "    \n",
    "print()\n",
    "for [q,p,a,R2_avg,R2_std,add,ads,ctr] in R:\n",
    "    print( \"{0:2d} & {6:3d} & {3:5.1f} & {4:5.1f} & {1:7.3f} & {2:7.3f}\\\\\\hline\".format(\n",
    "        p, a, bd_nm*(cd_nm**(0.01*add)), add, ads, q, ctr \n",
    "    ) )\n",
    "    \n",
    "print()\n",
    "for [q,p,a,R2_avg,R2_std,add,ads,ctr] in R:\n",
    "    print( \"{0:2d} & {6:3d} & {3:5.1f} & {4:5.1f} & {1:7.3f} & {2:7.3f}\\\\\\hline\".format(\n",
    "        p, a, bs_nm*(cs_nm**(0.01*ads)), add, ads, q, ctr \n",
    "    ) )"
   ]
  },
  {
   "cell_type": "code",
   "execution_count": null,
   "metadata": {},
   "outputs": [],
   "source": [
    "#Depict the error probabilities, the modelled probabilities and the R2 of the error probabilities.\n",
    "\n",
    "X = [ add for [q,p,a,R2_avg,R2_std,add,_,_] in R ]\n",
    "Y2 = [ a for [q,p,a,R2_avg,R2_std,add,_,_] in R ]\n",
    "Y3 = [ bd_nm*(cd_nm**(0.01*add)) for [q,p,a,R2_avg,R2_std,add,_,_] in R ]\n",
    "Y4 = [ R2_avg for [q,p,a,R2_avg,R2_std,add,_,_] in R ]\n",
    "fig, ax = plt.subplots()\n",
    "ax.plot(X,Y2, color='blue')\n",
    "ax.plot(X,Y3, color='orange')\n",
    "ax.plot(X,Y4, color='green')\n",
    "#ax.plot(X,Y2, color='magenta')"
   ]
  },
  {
   "cell_type": "code",
   "execution_count": null,
   "metadata": {},
   "outputs": [],
   "source": [
    "#Depict the error probabilities, the modelled probabilities and the R2 of the error probabilities.\n",
    "\n",
    "X = [ ads for [q,p,a,R2_avg,R2_std,add,ads,_] in R ]\n",
    "Y2 = [ a for [q,p,a,R2_avg,R2_std,add,ads,_] in R ]\n",
    "Y3 = [ bs_nm*(cs_nm**(0.01*ads)) for [q,p,a,R2_avg,R2_std,add,ads,_] in R ]\n",
    "Y4 = [ R2_avg for [q,p,a,R2_avg,R2_std,add,ads,_] in R ]\n",
    "fig, ax = plt.subplots()\n",
    "ax.plot(X,Y2, color='blue')\n",
    "ax.plot(X,Y3, color='red')\n",
    "ax.plot(X,Y4, color='green')\n",
    "#ax.plot(X,Y2, color='magenta')"
   ]
  },
  {
   "cell_type": "markdown",
   "metadata": {},
   "source": [
    "## Test the error model"
   ]
  },
  {
   "cell_type": "code",
   "execution_count": null,
   "metadata": {},
   "outputs": [],
   "source": [
    "#Send jobs to hardware\n",
    "x = datetime.datetime.now()\n",
    "filename_jobs2 = \"Jobs2_\" + backend.name() + \"_T:\" + x.strftime(\"%H:%M:%S_%d-%m-%Y\") + \".txt\"\n",
    "filename_sims2 = \"Sims2_\" + backend.name() + \"_T:\" + x.strftime(\"%H:%M:%S_%d-%m-%Y\") + \".txt\"\n",
    "print(filename_jobs2, filename_sims2)\n",
    "\n",
    "D_jobs2 = {}\n",
    "D_sims2 = {}\n",
    "\n",
    "for q in range(nr_qubits,nr_qubits+1):\n",
    "    for t in range(0,8):#(2,11):\n",
    "        for test_nr in range(1,n_tests+1):\n",
    "            circ = random_circ(q,t)\n",
    "            counts1 = clean_exc(circ)\n",
    "            sS2 = \"S2_q=\"+str(q)+\"_t=\"+str(t)+\"_nr=\"+str(test_nr)\n",
    "            cd = circ.depth()\n",
    "            cs = circ.size()\n",
    "            D_sims2[sS2] = [counts1, cd, cs]\n",
    "            sJ2 = \"J2_q=\"+str(q)+\"_t=\"+str(t)+\"_nr=\"+str(test_nr)\n",
    "            try:\n",
    "                job_id2 = hardware_exc(circ, backend)\n",
    "                D_jobs2[sJ2] = job_id2\n",
    "                print(sJ2, \"sent.\")\n",
    "            except:\n",
    "                print(sJ2, \"failed.\")"
   ]
  },
  {
   "cell_type": "code",
   "execution_count": null,
   "metadata": {},
   "outputs": [],
   "source": [
    "#Save job id's to a file\n",
    "fnj = dict_to_file(D_jobs2, filename_jobs2)\n",
    "print(fnj)\n",
    "fns = dict_to_file(D_sims2, filename_sims2)\n",
    "print(fns)"
   ]
  },
  {
   "cell_type": "code",
   "execution_count": null,
   "metadata": {},
   "outputs": [],
   "source": [
    "#Check is the jobs are finished\n",
    "filename_J2 = 'Jobs2_ibm_perth_T:10:17:32_28-09-2023.txt'#(0,8):\n",
    "\n",
    "\n",
    "ready = True\n",
    "\n",
    "D_J2 = file_to_dict(filename_J2)\n",
    "for x in D_J2.keys():\n",
    "    jobid = D_J2[x]\n",
    "    job2 = backend.retrieve_job(jobid)\n",
    "    stat = job2.status()\n",
    "    #print(job2.job_id(), \" : \", stat, \" : \", x)\n",
    "    if(str(stat)!='JobStatus.DONE'):\n",
    "        ready=False\n",
    "        break\n",
    "        \n",
    "print(\"\\n\\nReady:\", ready)"
   ]
  },
  {
   "cell_type": "code",
   "execution_count": null,
   "metadata": {},
   "outputs": [],
   "source": [
    "#Recall learned parameters\n",
    "\n",
    "b_nm = 0.9601 #Run1 on  'Jobs2_ibm_perth_T:11:11:52_15-08-2023.txt'#(0,8):\n",
    "cd_nm = 0.037 #Run1 on  'Sims2_ibm_perth_T:11:11:52_15-08-2023.txt'#(0,8):"
   ]
  },
  {
   "cell_type": "code",
   "execution_count": null,
   "metadata": {},
   "outputs": [],
   "source": [
    "#Preproces results\n",
    "\n",
    "filename_J2 = 'Jobs2_ibm_perth_T:10:17:32_28-09-2023.txt'#(0,8):\n",
    "filename_S2 = 'Sims2_ibm_perth_T:10:17:32_28-09-2023.txt'#(0,8):\n",
    "\n",
    "\n",
    "D_jobs2 = file_to_dict(filename_jobs2)\n",
    "D_sims2 = file_to_dict(filename_sims2)\n",
    "results = []\n",
    "for q in range(nr_qubits,nr_qubits+1):\n",
    "    for t in range(0,8):#(2,11):\n",
    "        a_avg = 0\n",
    "        R2_avg = 0\n",
    "        R2_std = 0\n",
    "        R2_nm_avg = 0\n",
    "        R2_nm_std = 0\n",
    "        acd = 0\n",
    "        ctr_tests = 0\n",
    "        for test_nr in range(1,n_tests+1):\n",
    "            sS2 = \"S2_q=\"+str(q)+\"_t=\"+str(t)+\"_nr=\"+str(test_nr)\n",
    "            sJ2 = \"J2_q=\"+str(q)+\"_t=\"+str(t)+\"_nr=\"+str(test_nr)\n",
    "            if( (sJ2 in D_jobs2.keys()) & (sS2 in D_sims2.keys()) ):\n",
    "                [counts1, rcd, _] = D_sims2[sS2]\n",
    "                job2 = backend.retrieve_job(D_jobs2[sJ2])\n",
    "                counts2 = job2.result().get_counts(0)\n",
    "                a,R2 = analyse_noise(counts1, counts2)\n",
    "                a_nm = b_nm*(cd_nm**(0.01*rcd))\n",
    "                ctr_tests += 1\n",
    "                a_avg += a\n",
    "                acd += rcd\n",
    "                R2_avg += R2\n",
    "                R2_std += (R2**2)\n",
    "                R2_nm = c_R2(counts1,counts2,a_nm)\n",
    "                R2_nm_avg += R2_nm\n",
    "                R2_nm_std += (R2_nm**2)\n",
    "        if(ctr_tests>0):\n",
    "            a_avg = a_avg/ctr_tests\n",
    "            acd = acd/ctr_tests\n",
    "            R2_avg = R2_avg/ctr_tests\n",
    "            R2_std = R2_std/ctr_tests\n",
    "            R2_nm_avg = R2_nm_avg/ctr_tests\n",
    "            R2_nm_std = R2_nm_std/ctr_tests\n",
    "            R2_std -= R2_avg**2\n",
    "            R2_nm_std -= R2_nm_avg**2\n",
    "            if(R2_std>=0.0):\n",
    "                R2_std = np.sqrt(R2_std)\n",
    "            if(R2_nm_std>=0.0):\n",
    "                R2_nm_std = np.sqrt(R2_nm_std)\n",
    "            result = \"q={9:2d} p={0:2d} {7:6.1f} {8:3d} : a_avg={1:5.3f} R2_avg={2:5.2f} R2_std={3:5.2f} a_nm={4:5.3f} R2_nm_avg={5:5.2f} R2_nm_std={6:5.2f} \".format(\n",
    "                t,a_avg, R2_avg, R2_std, a_nm, R2_nm_avg, R2_nm_std, acd, ctr_tests, q\n",
    "            )\n",
    "            results.append([t,a_avg, R2_avg, R2_std, a_nm, R2_nm_avg, R2_nm_std, acd, ctr_tests, q])\n",
    "            print( result )\n",
    "        else:\n",
    "            print(q, t, \"No usable circuits found.\")"
   ]
  },
  {
   "cell_type": "code",
   "execution_count": null,
   "metadata": {},
   "outputs": [],
   "source": [
    "#Compare the quality of the trained model with the new experiments\n",
    "\n",
    "X = [ acd for [t,a_avg, R2_avg, R2_std, a_nm, R2_nm_avg, R2_nm_std, acd, _, q] in results ]\n",
    "Y2 = [ R2_avg for [t,a_avg, R2_avg, R2_std, a_nm, R2_nm_avg, R2_nm_std, acd, _, q] in results ]\n",
    "Y3 = [ R2_std for [t,a_avg, R2_avg, R2_std, a_nm, R2_nm_avg, R2_nm_std, acd, _, q] in results ]\n",
    "Y4 = [ R2_nm_avg for [t,a_avg, R2_avg, R2_std, a_nm, R2_nm_avg, R2_nm_std, acd, _, q] in results ]\n",
    "Y5 = [ R2_nm_std for [t,a_avg, R2_avg, R2_std, a_nm, R2_nm_avg, R2_nm_std, acd, _, q] in results ]\n",
    "fig, ax = plt.subplots()\n",
    "ax.plot(X,Y2, color='blue')\n",
    "ax.plot(X,Y3, color='orange')\n",
    "ax.plot(X,Y4, color='purple')\n",
    "ax.plot(X,Y5, color='green')\n",
    "#ax.plot(X,Y2, color='magenta')\n",
    "plt.legend(['$R^{2}$ data', 'std dev $R^{2}$ data', '$R^{2}$ noise model', 'std dev $R^{2}$ noise model'])\n",
    "plt.savefig(\"R2_perth.pdf\")"
   ]
  },
  {
   "cell_type": "code",
   "execution_count": null,
   "metadata": {},
   "outputs": [],
   "source": []
  }
 ],
 "metadata": {
  "kernelspec": {
   "display_name": "Python 3 (ipykernel)",
   "language": "python",
   "name": "python3"
  },
  "language_info": {
   "codemirror_mode": {
    "name": "ipython",
    "version": 3
   },
   "file_extension": ".py",
   "mimetype": "text/x-python",
   "name": "python",
   "nbconvert_exporter": "python",
   "pygments_lexer": "ipython3",
   "version": "3.10.12"
  }
 },
 "nbformat": 4,
 "nbformat_minor": 4
}
