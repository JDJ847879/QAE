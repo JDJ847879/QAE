{
 "cells": [
  {
   "cell_type": "code",
   "execution_count": 1,
   "metadata": {},
   "outputs": [],
   "source": [
    "from support_functions import *\n"
   ]
  },
  {
   "cell_type": "markdown",
   "metadata": {},
   "source": [
    "This script generates dummy circuit that are similar to but smaller in size than actual QAE circuits. Using these the error characteristics (noise model) of the QPU are determined. In the first iteration the parameters of the noise model are trained. In the second iteration they are tested."
   ]
  },
  {
   "cell_type": "code",
   "execution_count": 2,
   "metadata": {},
   "outputs": [],
   "source": [
    "def load_API_token():\n",
    "    return token[0]"
   ]
  },
  {
   "cell_type": "markdown",
   "metadata": {},
   "source": [
    "## Load hardware "
   ]
  },
  {
   "cell_type": "code",
   "execution_count": 3,
   "metadata": {},
   "outputs": [
    {
     "name": "stderr",
     "output_type": "stream",
     "text": [
      "/tmp/ipykernel_6733/3164268581.py:3: DeprecationWarning: The package qiskit.providers.ibmq is being deprecated. Please see https://ibm.biz/provider_migration_guide to get instructions on how to migrate to qiskit-ibm-provider (https://github.com/Qiskit/qiskit-ibm-provider) and qiskit-ibm-runtime (https://github.com/Qiskit/qiskit-ibm-runtime).\n",
      "  IBMQ.load_account()\n",
      "/tmp/ipykernel_6733/3164268581.py:3: DeprecationWarning: The qiskit.IBMQ entrypoint and the qiskit-ibmq-provider package (accessible from 'qiskit.providers.ibmq`) are deprecated and will be removed in a future release. Instead you should use the qiskit-ibm-provider package which is accessible from 'qiskit_ibm_provider'. You can install it with 'pip install qiskit_ibm_provider'. Just replace 'qiskit.IBMQ' with 'qiskit_ibm_provider.IBMProvider'\n",
      "  IBMQ.load_account()\n"
     ]
    },
    {
     "name": "stdout",
     "output_type": "stream",
     "text": [
      "ibmq_guadalupe\n"
     ]
    }
   ],
   "source": [
    "#API_TOKEN =\n",
    "#IBMQ.save_account(API_TOKEN, overwrite=True)\n",
    "IBMQ.load_account()\n",
    "\n",
    "# listing the providers you have access to \n",
    "IBMQ.providers()\n",
    "# Use your provider to access \"premium\" devices\n",
    "provider = IBMQ.get_provider(hub='', group='', project='')\n",
    "# listing backends your provider have access to \n",
    "provider.backends()\n",
    "\n",
    "# Selecting ibm_perth\n",
    "backend = provider.get_backend('ibmq_guadalupe')\n",
    "print(backend.name())\n"
   ]
  },
  {
   "cell_type": "markdown",
   "metadata": {},
   "source": [
    "## Train the error model"
   ]
  },
  {
   "cell_type": "code",
   "execution_count": 4,
   "metadata": {},
   "outputs": [
    {
     "name": "stdout",
     "output_type": "stream",
     "text": [
      "20 1000\n"
     ]
    }
   ],
   "source": [
    "#Parameters\n",
    "nr_qubits = 16\n",
    "n_tests = 20#N_t\n",
    "Nr_shots = 1000\n",
    "print(n_tests, Nr_shots)"
   ]
  },
  {
   "cell_type": "code",
   "execution_count": 6,
   "metadata": {
    "scrolled": true
   },
   "outputs": [
    {
     "name": "stderr",
     "output_type": "stream",
     "text": [
      "WARNING: all-qubit error already exists for instruction \"measure\", composing with additional error.\n",
      "WARNING: all-qubit error already exists for instruction \"cx\", composing with additional error.\n"
     ]
    },
    {
     "name": "stdout",
     "output_type": "stream",
     "text": [
      "Jobs1_ibmq_guadalupe_T:10:26:28_28-09-2023.txt Sims1_ibmq_guadalupe_T:10:26:28_28-09-2023.txt\n",
      "[{'0': 10001}, 1, 1]\n"
     ]
    },
    {
     "name": "stderr",
     "output_type": "stream",
     "text": [
      "WARNING: all-qubit error already exists for instruction \"measure\", composing with additional error.\n"
     ]
    },
    {
     "name": "stdout",
     "output_type": "stream",
     "text": [
      "J1_q=16_t=0_nr=1 sent.\n"
     ]
    },
    {
     "name": "stderr",
     "output_type": "stream",
     "text": [
      "WARNING: all-qubit error already exists for instruction \"cx\", composing with additional error.\n"
     ]
    },
    {
     "name": "stdout",
     "output_type": "stream",
     "text": [
      "[{'0': 10001}, 1, 1]\n"
     ]
    },
    {
     "name": "stderr",
     "output_type": "stream",
     "text": [
      "WARNING: all-qubit error already exists for instruction \"measure\", composing with additional error.\n"
     ]
    },
    {
     "name": "stdout",
     "output_type": "stream",
     "text": [
      "J1_q=16_t=0_nr=2 sent.\n"
     ]
    },
    {
     "name": "stderr",
     "output_type": "stream",
     "text": [
      "WARNING: all-qubit error already exists for instruction \"cx\", composing with additional error.\n"
     ]
    },
    {
     "name": "stdout",
     "output_type": "stream",
     "text": [
      "[{'0': 10001}, 1, 1]\n"
     ]
    },
    {
     "name": "stderr",
     "output_type": "stream",
     "text": [
      "WARNING: all-qubit error already exists for instruction \"measure\", composing with additional error.\n",
      "WARNING: all-qubit error already exists for instruction \"cx\", composing with additional error.\n"
     ]
    },
    {
     "name": "stdout",
     "output_type": "stream",
     "text": [
      "J1_q=16_t=0_nr=3 sent.\n",
      "[{'0': 10001}, 1, 1]\n"
     ]
    },
    {
     "name": "stderr",
     "output_type": "stream",
     "text": [
      "WARNING: all-qubit error already exists for instruction \"measure\", composing with additional error.\n",
      "WARNING: all-qubit error already exists for instruction \"cx\", composing with additional error.\n"
     ]
    },
    {
     "name": "stdout",
     "output_type": "stream",
     "text": [
      "J1_q=16_t=0_nr=4 sent.\n",
      "[{'0': 10001}, 1, 1]\n"
     ]
    },
    {
     "name": "stderr",
     "output_type": "stream",
     "text": [
      "WARNING: all-qubit error already exists for instruction \"measure\", composing with additional error.\n",
      "WARNING: all-qubit error already exists for instruction \"cx\", composing with additional error.\n"
     ]
    },
    {
     "name": "stdout",
     "output_type": "stream",
     "text": [
      "J1_q=16_t=0_nr=5 sent.\n",
      "[{'0': 10001}, 1, 1]\n"
     ]
    },
    {
     "name": "stderr",
     "output_type": "stream",
     "text": [
      "WARNING: all-qubit error already exists for instruction \"measure\", composing with additional error.\n",
      "WARNING: all-qubit error already exists for instruction \"cx\", composing with additional error.\n"
     ]
    },
    {
     "name": "stdout",
     "output_type": "stream",
     "text": [
      "J1_q=16_t=0_nr=6 sent.\n",
      "[{'0': 10001}, 1, 1]\n"
     ]
    },
    {
     "name": "stderr",
     "output_type": "stream",
     "text": [
      "WARNING: all-qubit error already exists for instruction \"measure\", composing with additional error.\n",
      "WARNING: all-qubit error already exists for instruction \"cx\", composing with additional error.\n"
     ]
    },
    {
     "name": "stdout",
     "output_type": "stream",
     "text": [
      "J1_q=16_t=0_nr=7 sent.\n",
      "[{'0': 10001}, 1, 1]\n"
     ]
    },
    {
     "name": "stderr",
     "output_type": "stream",
     "text": [
      "WARNING: all-qubit error already exists for instruction \"measure\", composing with additional error.\n",
      "WARNING: all-qubit error already exists for instruction \"cx\", composing with additional error.\n"
     ]
    },
    {
     "name": "stdout",
     "output_type": "stream",
     "text": [
      "J1_q=16_t=0_nr=8 sent.\n",
      "[{'0': 10001}, 1, 1]\n"
     ]
    },
    {
     "name": "stderr",
     "output_type": "stream",
     "text": [
      "WARNING: all-qubit error already exists for instruction \"measure\", composing with additional error.\n",
      "WARNING: all-qubit error already exists for instruction \"cx\", composing with additional error.\n"
     ]
    },
    {
     "name": "stdout",
     "output_type": "stream",
     "text": [
      "J1_q=16_t=0_nr=9 sent.\n",
      "[{'0': 10001}, 1, 1]\n"
     ]
    },
    {
     "name": "stderr",
     "output_type": "stream",
     "text": [
      "WARNING: all-qubit error already exists for instruction \"measure\", composing with additional error.\n",
      "WARNING: all-qubit error already exists for instruction \"cx\", composing with additional error.\n"
     ]
    },
    {
     "name": "stdout",
     "output_type": "stream",
     "text": [
      "J1_q=16_t=0_nr=10 sent.\n",
      "[{'0': 10001}, 1, 1]\n"
     ]
    },
    {
     "name": "stderr",
     "output_type": "stream",
     "text": [
      "WARNING: all-qubit error already exists for instruction \"measure\", composing with additional error.\n",
      "WARNING: all-qubit error already exists for instruction \"cx\", composing with additional error.\n"
     ]
    },
    {
     "name": "stdout",
     "output_type": "stream",
     "text": [
      "J1_q=16_t=0_nr=11 sent.\n",
      "[{'0': 10001}, 1, 1]\n"
     ]
    },
    {
     "name": "stderr",
     "output_type": "stream",
     "text": [
      "WARNING: all-qubit error already exists for instruction \"measure\", composing with additional error.\n"
     ]
    },
    {
     "name": "stdout",
     "output_type": "stream",
     "text": [
      "J1_q=16_t=0_nr=12 sent.\n"
     ]
    },
    {
     "name": "stderr",
     "output_type": "stream",
     "text": [
      "WARNING: all-qubit error already exists for instruction \"cx\", composing with additional error.\n"
     ]
    },
    {
     "name": "stdout",
     "output_type": "stream",
     "text": [
      "[{'0': 10001}, 1, 1]\n"
     ]
    },
    {
     "name": "stderr",
     "output_type": "stream",
     "text": [
      "WARNING: all-qubit error already exists for instruction \"measure\", composing with additional error.\n",
      "WARNING: all-qubit error already exists for instruction \"cx\", composing with additional error.\n"
     ]
    },
    {
     "name": "stdout",
     "output_type": "stream",
     "text": [
      "J1_q=16_t=0_nr=13 sent.\n",
      "[{'0': 10001}, 1, 1]\n"
     ]
    },
    {
     "name": "stderr",
     "output_type": "stream",
     "text": [
      "WARNING: all-qubit error already exists for instruction \"measure\", composing with additional error.\n",
      "WARNING: all-qubit error already exists for instruction \"cx\", composing with additional error.\n"
     ]
    },
    {
     "name": "stdout",
     "output_type": "stream",
     "text": [
      "J1_q=16_t=0_nr=14 sent.\n",
      "[{'0': 10001}, 1, 1]\n"
     ]
    },
    {
     "name": "stderr",
     "output_type": "stream",
     "text": [
      "WARNING: all-qubit error already exists for instruction \"measure\", composing with additional error.\n",
      "WARNING: all-qubit error already exists for instruction \"cx\", composing with additional error.\n"
     ]
    },
    {
     "name": "stdout",
     "output_type": "stream",
     "text": [
      "J1_q=16_t=0_nr=15 sent.\n",
      "[{'0': 10001}, 1, 1]\n"
     ]
    },
    {
     "name": "stderr",
     "output_type": "stream",
     "text": [
      "WARNING: all-qubit error already exists for instruction \"measure\", composing with additional error.\n",
      "WARNING: all-qubit error already exists for instruction \"cx\", composing with additional error.\n"
     ]
    },
    {
     "name": "stdout",
     "output_type": "stream",
     "text": [
      "J1_q=16_t=0_nr=16 sent.\n",
      "[{'0': 10001}, 1, 1]\n"
     ]
    },
    {
     "name": "stderr",
     "output_type": "stream",
     "text": [
      "WARNING: all-qubit error already exists for instruction \"measure\", composing with additional error.\n",
      "WARNING: all-qubit error already exists for instruction \"cx\", composing with additional error.\n"
     ]
    },
    {
     "name": "stdout",
     "output_type": "stream",
     "text": [
      "J1_q=16_t=0_nr=17 sent.\n",
      "[{'0': 10001}, 1, 1]\n"
     ]
    },
    {
     "name": "stderr",
     "output_type": "stream",
     "text": [
      "WARNING: all-qubit error already exists for instruction \"measure\", composing with additional error.\n",
      "WARNING: all-qubit error already exists for instruction \"cx\", composing with additional error.\n"
     ]
    },
    {
     "name": "stdout",
     "output_type": "stream",
     "text": [
      "J1_q=16_t=0_nr=18 sent.\n",
      "[{'0': 10001}, 1, 1]\n"
     ]
    },
    {
     "name": "stderr",
     "output_type": "stream",
     "text": [
      "WARNING: all-qubit error already exists for instruction \"measure\", composing with additional error.\n",
      "WARNING: all-qubit error already exists for instruction \"cx\", composing with additional error.\n"
     ]
    },
    {
     "name": "stdout",
     "output_type": "stream",
     "text": [
      "J1_q=16_t=0_nr=19 sent.\n",
      "[{'0': 10001}, 1, 1]\n",
      "J1_q=16_t=0_nr=20 sent.\n"
     ]
    },
    {
     "name": "stderr",
     "output_type": "stream",
     "text": [
      "WARNING: all-qubit error already exists for instruction \"measure\", composing with additional error.\n",
      "WARNING: all-qubit error already exists for instruction \"cx\", composing with additional error.\n"
     ]
    },
    {
     "name": "stdout",
     "output_type": "stream",
     "text": [
      "[{'1': 4307, '0': 5694}, 157, 237]\n"
     ]
    },
    {
     "name": "stderr",
     "output_type": "stream",
     "text": [
      "WARNING: all-qubit error already exists for instruction \"measure\", composing with additional error.\n"
     ]
    },
    {
     "name": "stdout",
     "output_type": "stream",
     "text": [
      "J1_q=16_t=1_nr=1 sent.\n"
     ]
    },
    {
     "name": "stderr",
     "output_type": "stream",
     "text": [
      "WARNING: all-qubit error already exists for instruction \"cx\", composing with additional error.\n"
     ]
    },
    {
     "name": "stdout",
     "output_type": "stream",
     "text": [
      "[{'0': 4048, '1': 5953}, 77, 97]\n",
      "J1_q=16_t=1_nr=2 sent.\n"
     ]
    },
    {
     "name": "stderr",
     "output_type": "stream",
     "text": [
      "WARNING: all-qubit error already exists for instruction \"measure\", composing with additional error.\n",
      "WARNING: all-qubit error already exists for instruction \"cx\", composing with additional error.\n"
     ]
    },
    {
     "name": "stdout",
     "output_type": "stream",
     "text": [
      "[{'1': 19, '0': 9982}, 485, 601]\n",
      "J1_q=16_t=1_nr=3 sent.\n"
     ]
    },
    {
     "name": "stderr",
     "output_type": "stream",
     "text": [
      "WARNING: all-qubit error already exists for instruction \"measure\", composing with additional error.\n",
      "WARNING: all-qubit error already exists for instruction \"cx\", composing with additional error.\n"
     ]
    },
    {
     "name": "stdout",
     "output_type": "stream",
     "text": [
      "[{'1': 2953, '0': 7048}, 468, 567]\n"
     ]
    },
    {
     "name": "stderr",
     "output_type": "stream",
     "text": [
      "WARNING: all-qubit error already exists for instruction \"measure\", composing with additional error.\n"
     ]
    },
    {
     "name": "stdout",
     "output_type": "stream",
     "text": [
      "J1_q=16_t=1_nr=4 sent.\n"
     ]
    },
    {
     "name": "stderr",
     "output_type": "stream",
     "text": [
      "WARNING: all-qubit error already exists for instruction \"cx\", composing with additional error.\n"
     ]
    },
    {
     "name": "stdout",
     "output_type": "stream",
     "text": [
      "[{'1': 4842, '0': 5159}, 153, 239]\n",
      "J1_q=16_t=1_nr=5 sent.\n"
     ]
    },
    {
     "name": "stderr",
     "output_type": "stream",
     "text": [
      "WARNING: all-qubit error already exists for instruction \"measure\", composing with additional error.\n",
      "WARNING: all-qubit error already exists for instruction \"cx\", composing with additional error.\n"
     ]
    },
    {
     "name": "stdout",
     "output_type": "stream",
     "text": [
      "[{'0': 4673, '1': 5328}, 335, 469]\n"
     ]
    },
    {
     "name": "stderr",
     "output_type": "stream",
     "text": [
      "WARNING: all-qubit error already exists for instruction \"measure\", composing with additional error.\n"
     ]
    },
    {
     "name": "stdout",
     "output_type": "stream",
     "text": [
      "J1_q=16_t=1_nr=6 sent.\n"
     ]
    },
    {
     "name": "stderr",
     "output_type": "stream",
     "text": [
      "WARNING: all-qubit error already exists for instruction \"cx\", composing with additional error.\n"
     ]
    },
    {
     "name": "stdout",
     "output_type": "stream",
     "text": [
      "[{'1': 535, '0': 9466}, 270, 387]\n",
      "J1_q=16_t=1_nr=7 sent.\n"
     ]
    },
    {
     "name": "stderr",
     "output_type": "stream",
     "text": [
      "WARNING: all-qubit error already exists for instruction \"measure\", composing with additional error.\n",
      "WARNING: all-qubit error already exists for instruction \"cx\", composing with additional error.\n"
     ]
    },
    {
     "name": "stdout",
     "output_type": "stream",
     "text": [
      "[{'0': 965, '1': 9036}, 143, 199]\n"
     ]
    },
    {
     "name": "stderr",
     "output_type": "stream",
     "text": [
      "WARNING: all-qubit error already exists for instruction \"measure\", composing with additional error.\n",
      "WARNING: all-qubit error already exists for instruction \"cx\", composing with additional error.\n"
     ]
    },
    {
     "name": "stdout",
     "output_type": "stream",
     "text": [
      "J1_q=16_t=1_nr=8 sent.\n",
      "[{'0': 342, '1': 9659}, 256, 336]\n",
      "J1_q=16_t=1_nr=9 sent.\n"
     ]
    },
    {
     "name": "stderr",
     "output_type": "stream",
     "text": [
      "WARNING: all-qubit error already exists for instruction \"measure\", composing with additional error.\n",
      "WARNING: all-qubit error already exists for instruction \"cx\", composing with additional error.\n"
     ]
    },
    {
     "name": "stdout",
     "output_type": "stream",
     "text": [
      "[{'0': 457, '1': 9544}, 324, 428]\n"
     ]
    },
    {
     "name": "stderr",
     "output_type": "stream",
     "text": [
      "WARNING: all-qubit error already exists for instruction \"measure\", composing with additional error.\n",
      "WARNING: all-qubit error already exists for instruction \"cx\", composing with additional error.\n"
     ]
    },
    {
     "name": "stdout",
     "output_type": "stream",
     "text": [
      "J1_q=16_t=1_nr=10 sent.\n",
      "[{'0': 303, '1': 9698}, 75, 106]\n",
      "J1_q=16_t=1_nr=11 sent.\n"
     ]
    },
    {
     "name": "stderr",
     "output_type": "stream",
     "text": [
      "WARNING: all-qubit error already exists for instruction \"measure\", composing with additional error.\n",
      "WARNING: all-qubit error already exists for instruction \"cx\", composing with additional error.\n"
     ]
    },
    {
     "name": "stdout",
     "output_type": "stream",
     "text": [
      "[{'1': 22, '0': 9979}, 468, 567]\n",
      "J1_q=16_t=1_nr=12 sent.\n"
     ]
    },
    {
     "name": "stderr",
     "output_type": "stream",
     "text": [
      "WARNING: all-qubit error already exists for instruction \"measure\", composing with additional error.\n",
      "WARNING: all-qubit error already exists for instruction \"cx\", composing with additional error.\n"
     ]
    },
    {
     "name": "stdout",
     "output_type": "stream",
     "text": [
      "[{'1': 1318, '0': 8683}, 441, 568]\n"
     ]
    },
    {
     "name": "stderr",
     "output_type": "stream",
     "text": [
      "WARNING: all-qubit error already exists for instruction \"measure\", composing with additional error.\n"
     ]
    },
    {
     "name": "stdout",
     "output_type": "stream",
     "text": [
      "J1_q=16_t=1_nr=13 sent.\n"
     ]
    },
    {
     "name": "stderr",
     "output_type": "stream",
     "text": [
      "WARNING: all-qubit error already exists for instruction \"cx\", composing with additional error.\n"
     ]
    },
    {
     "name": "stdout",
     "output_type": "stream",
     "text": [
      "[{'1': 752, '0': 9249}, 646, 820]\n",
      "J1_q=16_t=1_nr=14 sent.\n"
     ]
    },
    {
     "name": "stderr",
     "output_type": "stream",
     "text": [
      "WARNING: all-qubit error already exists for instruction \"measure\", composing with additional error.\n",
      "WARNING: all-qubit error already exists for instruction \"cx\", composing with additional error.\n"
     ]
    },
    {
     "name": "stdout",
     "output_type": "stream",
     "text": [
      "[{'0': 867, '1': 9134}, 330, 489]\n"
     ]
    },
    {
     "name": "stderr",
     "output_type": "stream",
     "text": [
      "WARNING: all-qubit error already exists for instruction \"measure\", composing with additional error.\n",
      "WARNING: all-qubit error already exists for instruction \"cx\", composing with additional error.\n"
     ]
    },
    {
     "name": "stdout",
     "output_type": "stream",
     "text": [
      "J1_q=16_t=1_nr=15 sent.\n",
      "[{'1': 2253, '0': 7748}, 74, 105]\n",
      "J1_q=16_t=1_nr=16 sent.\n"
     ]
    },
    {
     "name": "stderr",
     "output_type": "stream",
     "text": [
      "WARNING: all-qubit error already exists for instruction \"measure\", composing with additional error.\n",
      "WARNING: all-qubit error already exists for instruction \"cx\", composing with additional error.\n"
     ]
    },
    {
     "name": "stdout",
     "output_type": "stream",
     "text": [
      "[{'0': 5889, '1': 4112}, 159, 243]\n",
      "J1_q=16_t=1_nr=17 sent.\n"
     ]
    },
    {
     "name": "stderr",
     "output_type": "stream",
     "text": [
      "WARNING: all-qubit error already exists for instruction \"measure\", composing with additional error.\n",
      "WARNING: all-qubit error already exists for instruction \"cx\", composing with additional error.\n"
     ]
    },
    {
     "name": "stdout",
     "output_type": "stream",
     "text": [
      "[{'1': 2654, '0': 7347}, 468, 567]\n"
     ]
    },
    {
     "name": "stderr",
     "output_type": "stream",
     "text": [
      "WARNING: all-qubit error already exists for instruction \"measure\", composing with additional error.\n",
      "WARNING: all-qubit error already exists for instruction \"cx\", composing with additional error.\n"
     ]
    },
    {
     "name": "stdout",
     "output_type": "stream",
     "text": [
      "J1_q=16_t=1_nr=18 sent.\n",
      "[{'1': 3965, '0': 6036}, 159, 220]\n",
      "J1_q=16_t=1_nr=19 sent.\n"
     ]
    },
    {
     "name": "stderr",
     "output_type": "stream",
     "text": [
      "WARNING: all-qubit error already exists for instruction \"measure\", composing with additional error.\n",
      "WARNING: all-qubit error already exists for instruction \"cx\", composing with additional error.\n"
     ]
    },
    {
     "name": "stdout",
     "output_type": "stream",
     "text": [
      "[{'1': 5263, '0': 4738}, 605, 723]\n",
      "J1_q=16_t=1_nr=20 sent.\n"
     ]
    },
    {
     "name": "stderr",
     "output_type": "stream",
     "text": [
      "WARNING: all-qubit error already exists for instruction \"measure\", composing with additional error.\n",
      "WARNING: all-qubit error already exists for instruction \"cx\", composing with additional error.\n"
     ]
    },
    {
     "name": "stdout",
     "output_type": "stream",
     "text": [
      "[{'0': 2528, '1': 7473}, 604, 799]\n",
      "J1_q=16_t=2_nr=1 sent.\n"
     ]
    },
    {
     "name": "stderr",
     "output_type": "stream",
     "text": [
      "WARNING: all-qubit error already exists for instruction \"measure\", composing with additional error.\n",
      "WARNING: all-qubit error already exists for instruction \"cx\", composing with additional error.\n"
     ]
    },
    {
     "name": "stdout",
     "output_type": "stream",
     "text": [
      "[{'0': 2171, '1': 7830}, 803, 1091]\n",
      "J1_q=16_t=2_nr=2 sent.\n"
     ]
    },
    {
     "name": "stderr",
     "output_type": "stream",
     "text": [
      "WARNING: all-qubit error already exists for instruction \"measure\", composing with additional error.\n",
      "WARNING: all-qubit error already exists for instruction \"cx\", composing with additional error.\n"
     ]
    },
    {
     "name": "stdout",
     "output_type": "stream",
     "text": [
      "[{'1': 298, '0': 9703}, 617, 810]\n",
      "J1_q=16_t=2_nr=3 sent.\n"
     ]
    },
    {
     "name": "stderr",
     "output_type": "stream",
     "text": [
      "WARNING: all-qubit error already exists for instruction \"measure\", composing with additional error.\n",
      "WARNING: all-qubit error already exists for instruction \"cx\", composing with additional error.\n"
     ]
    },
    {
     "name": "stdout",
     "output_type": "stream",
     "text": [
      "[{'0': 5353, '1': 4648}, 504, 728]\n",
      "J1_q=16_t=2_nr=4 sent.\n"
     ]
    },
    {
     "name": "stderr",
     "output_type": "stream",
     "text": [
      "WARNING: all-qubit error already exists for instruction \"measure\", composing with additional error.\n",
      "WARNING: all-qubit error already exists for instruction \"cx\", composing with additional error.\n"
     ]
    },
    {
     "name": "stdout",
     "output_type": "stream",
     "text": [
      "[{'1': 6359, '0': 3642}, 798, 1140]\n",
      "J1_q=16_t=2_nr=5 sent.\n"
     ]
    },
    {
     "name": "stderr",
     "output_type": "stream",
     "text": [
      "WARNING: all-qubit error already exists for instruction \"measure\", composing with additional error.\n",
      "WARNING: all-qubit error already exists for instruction \"cx\", composing with additional error.\n"
     ]
    },
    {
     "name": "stdout",
     "output_type": "stream",
     "text": [
      "[{'1': 4813, '0': 5188}, 886, 1222]\n",
      "J1_q=16_t=2_nr=6 sent.\n"
     ]
    },
    {
     "name": "stderr",
     "output_type": "stream",
     "text": [
      "WARNING: all-qubit error already exists for instruction \"measure\", composing with additional error.\n",
      "WARNING: all-qubit error already exists for instruction \"cx\", composing with additional error.\n"
     ]
    },
    {
     "name": "stdout",
     "output_type": "stream",
     "text": [
      "[{'0': 290, '1': 9711}, 810, 1071]\n",
      "J1_q=16_t=2_nr=7 sent.\n"
     ]
    },
    {
     "name": "stderr",
     "output_type": "stream",
     "text": [
      "WARNING: all-qubit error already exists for instruction \"measure\", composing with additional error.\n",
      "WARNING: all-qubit error already exists for instruction \"cx\", composing with additional error.\n"
     ]
    },
    {
     "name": "stdout",
     "output_type": "stream",
     "text": [
      "[{'1': 7595, '0': 2406}, 395, 558]\n",
      "J1_q=16_t=2_nr=8 sent.\n"
     ]
    },
    {
     "name": "stderr",
     "output_type": "stream",
     "text": [
      "WARNING: all-qubit error already exists for instruction \"measure\", composing with additional error.\n",
      "WARNING: all-qubit error already exists for instruction \"cx\", composing with additional error.\n"
     ]
    },
    {
     "name": "stdout",
     "output_type": "stream",
     "text": [
      "[{'0': 33, '1': 9968}, 770, 1063]\n",
      "J1_q=16_t=2_nr=9 sent.\n"
     ]
    },
    {
     "name": "stderr",
     "output_type": "stream",
     "text": [
      "WARNING: all-qubit error already exists for instruction \"measure\", composing with additional error.\n",
      "WARNING: all-qubit error already exists for instruction \"cx\", composing with additional error.\n"
     ]
    },
    {
     "name": "stdout",
     "output_type": "stream",
     "text": [
      "[{'1': 7280, '0': 2721}, 436, 643]\n",
      "J1_q=16_t=2_nr=10 sent.\n"
     ]
    },
    {
     "name": "stderr",
     "output_type": "stream",
     "text": [
      "WARNING: all-qubit error already exists for instruction \"measure\", composing with additional error.\n",
      "WARNING: all-qubit error already exists for instruction \"cx\", composing with additional error.\n"
     ]
    },
    {
     "name": "stdout",
     "output_type": "stream",
     "text": [
      "[{'0': 275, '1': 9726}, 433, 593]\n",
      "J1_q=16_t=2_nr=11 sent.\n"
     ]
    },
    {
     "name": "stderr",
     "output_type": "stream",
     "text": [
      "WARNING: all-qubit error already exists for instruction \"measure\", composing with additional error.\n",
      "WARNING: all-qubit error already exists for instruction \"cx\", composing with additional error.\n"
     ]
    },
    {
     "name": "stdout",
     "output_type": "stream",
     "text": [
      "[{'0': 22, '1': 9979}, 516, 727]\n",
      "J1_q=16_t=2_nr=12 sent.\n"
     ]
    },
    {
     "name": "stderr",
     "output_type": "stream",
     "text": [
      "WARNING: all-qubit error already exists for instruction \"measure\", composing with additional error.\n",
      "WARNING: all-qubit error already exists for instruction \"cx\", composing with additional error.\n"
     ]
    },
    {
     "name": "stdout",
     "output_type": "stream",
     "text": [
      "[{'0': 1908, '1': 8093}, 239, 388]\n",
      "J1_q=16_t=2_nr=13 sent.\n"
     ]
    },
    {
     "name": "stderr",
     "output_type": "stream",
     "text": [
      "WARNING: all-qubit error already exists for instruction \"measure\", composing with additional error.\n",
      "WARNING: all-qubit error already exists for instruction \"cx\", composing with additional error.\n"
     ]
    },
    {
     "name": "stdout",
     "output_type": "stream",
     "text": [
      "[{'1': 1352, '0': 8649}, 439, 624]\n",
      "J1_q=16_t=2_nr=14 sent.\n"
     ]
    },
    {
     "name": "stderr",
     "output_type": "stream",
     "text": [
      "WARNING: all-qubit error already exists for instruction \"measure\", composing with additional error.\n",
      "WARNING: all-qubit error already exists for instruction \"cx\", composing with additional error.\n"
     ]
    },
    {
     "name": "stdout",
     "output_type": "stream",
     "text": [
      "[{'0': 7395, '1': 2606}, 650, 905]\n",
      "J1_q=16_t=2_nr=15 sent.\n"
     ]
    },
    {
     "name": "stderr",
     "output_type": "stream",
     "text": [
      "WARNING: all-qubit error already exists for instruction \"measure\", composing with additional error.\n",
      "WARNING: all-qubit error already exists for instruction \"cx\", composing with additional error.\n"
     ]
    },
    {
     "name": "stdout",
     "output_type": "stream",
     "text": [
      "[{'1': 8450, '0': 1551}, 633, 852]\n",
      "J1_q=16_t=2_nr=16 sent.\n"
     ]
    },
    {
     "name": "stderr",
     "output_type": "stream",
     "text": [
      "WARNING: all-qubit error already exists for instruction \"measure\", composing with additional error.\n",
      "WARNING: all-qubit error already exists for instruction \"cx\", composing with additional error.\n"
     ]
    },
    {
     "name": "stdout",
     "output_type": "stream",
     "text": [
      "[{'0': 4510, '1': 5491}, 319, 452]\n",
      "J1_q=16_t=2_nr=17 sent.\n"
     ]
    },
    {
     "name": "stderr",
     "output_type": "stream",
     "text": [
      "WARNING: all-qubit error already exists for instruction \"measure\", composing with additional error.\n",
      "WARNING: all-qubit error already exists for instruction \"cx\", composing with additional error.\n"
     ]
    },
    {
     "name": "stdout",
     "output_type": "stream",
     "text": [
      "[{'0': 1266, '1': 8735}, 645, 909]\n",
      "J1_q=16_t=2_nr=18 sent.\n"
     ]
    },
    {
     "name": "stderr",
     "output_type": "stream",
     "text": [
      "WARNING: all-qubit error already exists for instruction \"measure\", composing with additional error.\n",
      "WARNING: all-qubit error already exists for instruction \"cx\", composing with additional error.\n"
     ]
    },
    {
     "name": "stdout",
     "output_type": "stream",
     "text": [
      "[{'0': 3034, '1': 6967}, 344, 499]\n",
      "J1_q=16_t=2_nr=19 sent.\n"
     ]
    },
    {
     "name": "stderr",
     "output_type": "stream",
     "text": [
      "WARNING: all-qubit error already exists for instruction \"measure\", composing with additional error.\n",
      "WARNING: all-qubit error already exists for instruction \"cx\", composing with additional error.\n"
     ]
    },
    {
     "name": "stdout",
     "output_type": "stream",
     "text": [
      "[{'1': 3215, '0': 6786}, 317, 495]\n",
      "J1_q=16_t=2_nr=20 sent.\n"
     ]
    },
    {
     "name": "stderr",
     "output_type": "stream",
     "text": [
      "WARNING: all-qubit error already exists for instruction \"measure\", composing with additional error.\n",
      "WARNING: all-qubit error already exists for instruction \"cx\", composing with additional error.\n"
     ]
    },
    {
     "name": "stdout",
     "output_type": "stream",
     "text": [
      "[{'0': 10001}, 1157, 1522]\n",
      "J1_q=16_t=3_nr=1 sent.\n"
     ]
    },
    {
     "name": "stderr",
     "output_type": "stream",
     "text": [
      "WARNING: all-qubit error already exists for instruction \"measure\", composing with additional error.\n",
      "WARNING: all-qubit error already exists for instruction \"cx\", composing with additional error.\n"
     ]
    },
    {
     "name": "stdout",
     "output_type": "stream",
     "text": [
      "[{'0': 1392, '1': 8609}, 801, 1177]\n",
      "J1_q=16_t=3_nr=2 sent.\n"
     ]
    },
    {
     "name": "stderr",
     "output_type": "stream",
     "text": [
      "WARNING: all-qubit error already exists for instruction \"measure\", composing with additional error.\n",
      "WARNING: all-qubit error already exists for instruction \"cx\", composing with additional error.\n"
     ]
    },
    {
     "name": "stdout",
     "output_type": "stream",
     "text": [
      "[{'1': 8241, '0': 1760}, 1357, 1865]\n",
      "J1_q=16_t=3_nr=3 sent.\n"
     ]
    },
    {
     "name": "stderr",
     "output_type": "stream",
     "text": [
      "WARNING: all-qubit error already exists for instruction \"measure\", composing with additional error.\n",
      "WARNING: all-qubit error already exists for instruction \"cx\", composing with additional error.\n"
     ]
    },
    {
     "name": "stdout",
     "output_type": "stream",
     "text": [
      "[{'1': 8, '0': 9993}, 979, 1466]\n",
      "J1_q=16_t=3_nr=4 sent.\n"
     ]
    },
    {
     "name": "stderr",
     "output_type": "stream",
     "text": [
      "WARNING: all-qubit error already exists for instruction \"measure\", composing with additional error.\n",
      "WARNING: all-qubit error already exists for instruction \"cx\", composing with additional error.\n"
     ]
    },
    {
     "name": "stdout",
     "output_type": "stream",
     "text": [
      "[{'0': 10001}, 798, 1200]\n",
      "J1_q=16_t=3_nr=5 sent.\n"
     ]
    },
    {
     "name": "stderr",
     "output_type": "stream",
     "text": [
      "WARNING: all-qubit error already exists for instruction \"measure\", composing with additional error.\n",
      "WARNING: all-qubit error already exists for instruction \"cx\", composing with additional error.\n"
     ]
    },
    {
     "name": "stdout",
     "output_type": "stream",
     "text": [
      "[{'1': 4, '0': 9997}, 1091, 1472]\n",
      "J1_q=16_t=3_nr=6 sent.\n"
     ]
    },
    {
     "name": "stderr",
     "output_type": "stream",
     "text": [
      "WARNING: all-qubit error already exists for instruction \"measure\", composing with additional error.\n",
      "WARNING: all-qubit error already exists for instruction \"cx\", composing with additional error.\n"
     ]
    },
    {
     "name": "stdout",
     "output_type": "stream",
     "text": [
      "[{'1': 47, '0': 9954}, 1017, 1430]\n",
      "J1_q=16_t=3_nr=7 sent.\n"
     ]
    },
    {
     "name": "stderr",
     "output_type": "stream",
     "text": [
      "WARNING: all-qubit error already exists for instruction \"measure\", composing with additional error.\n",
      "WARNING: all-qubit error already exists for instruction \"cx\", composing with additional error.\n"
     ]
    },
    {
     "name": "stdout",
     "output_type": "stream",
     "text": [
      "[{'1': 692, '0': 9309}, 857, 1257]\n",
      "J1_q=16_t=3_nr=8 sent.\n"
     ]
    },
    {
     "name": "stderr",
     "output_type": "stream",
     "text": [
      "WARNING: all-qubit error already exists for instruction \"measure\", composing with additional error.\n",
      "WARNING: all-qubit error already exists for instruction \"cx\", composing with additional error.\n"
     ]
    },
    {
     "name": "stdout",
     "output_type": "stream",
     "text": [
      "[{'1': 4540, '0': 5461}, 643, 879]\n",
      "J1_q=16_t=3_nr=9 sent.\n"
     ]
    },
    {
     "name": "stderr",
     "output_type": "stream",
     "text": [
      "WARNING: all-qubit error already exists for instruction \"measure\", composing with additional error.\n",
      "WARNING: all-qubit error already exists for instruction \"cx\", composing with additional error.\n"
     ]
    },
    {
     "name": "stdout",
     "output_type": "stream",
     "text": [
      "[{'1': 1770, '0': 8231}, 1049, 1503]\n",
      "J1_q=16_t=3_nr=10 sent.\n"
     ]
    },
    {
     "name": "stderr",
     "output_type": "stream",
     "text": [
      "WARNING: all-qubit error already exists for instruction \"measure\", composing with additional error.\n",
      "WARNING: all-qubit error already exists for instruction \"cx\", composing with additional error.\n"
     ]
    },
    {
     "name": "stdout",
     "output_type": "stream",
     "text": [
      "[{'1': 4130, '0': 5871}, 748, 1088]\n",
      "J1_q=16_t=3_nr=11 sent.\n"
     ]
    },
    {
     "name": "stderr",
     "output_type": "stream",
     "text": [
      "WARNING: all-qubit error already exists for instruction \"measure\", composing with additional error.\n",
      "WARNING: all-qubit error already exists for instruction \"cx\", composing with additional error.\n"
     ]
    },
    {
     "name": "stdout",
     "output_type": "stream",
     "text": [
      "[{'1': 1518, '0': 8483}, 1391, 1862]\n",
      "J1_q=16_t=3_nr=12 sent.\n"
     ]
    },
    {
     "name": "stderr",
     "output_type": "stream",
     "text": [
      "WARNING: all-qubit error already exists for instruction \"measure\", composing with additional error.\n",
      "WARNING: all-qubit error already exists for instruction \"cx\", composing with additional error.\n"
     ]
    },
    {
     "name": "stdout",
     "output_type": "stream",
     "text": [
      "[{'0': 3362, '1': 6639}, 810, 1172]\n",
      "J1_q=16_t=3_nr=13 sent.\n"
     ]
    },
    {
     "name": "stderr",
     "output_type": "stream",
     "text": [
      "WARNING: all-qubit error already exists for instruction \"measure\", composing with additional error.\n",
      "WARNING: all-qubit error already exists for instruction \"cx\", composing with additional error.\n"
     ]
    },
    {
     "name": "stdout",
     "output_type": "stream",
     "text": [
      "[{'1': 6936, '0': 3065}, 863, 1245]\n",
      "J1_q=16_t=3_nr=14 sent.\n"
     ]
    },
    {
     "name": "stderr",
     "output_type": "stream",
     "text": [
      "WARNING: all-qubit error already exists for instruction \"measure\", composing with additional error.\n",
      "WARNING: all-qubit error already exists for instruction \"cx\", composing with additional error.\n"
     ]
    },
    {
     "name": "stdout",
     "output_type": "stream",
     "text": [
      "[{'0': 1, '1': 10000}, 845, 1206]\n",
      "J1_q=16_t=3_nr=15 sent.\n"
     ]
    },
    {
     "name": "stderr",
     "output_type": "stream",
     "text": [
      "WARNING: all-qubit error already exists for instruction \"measure\", composing with additional error.\n",
      "WARNING: all-qubit error already exists for instruction \"cx\", composing with additional error.\n"
     ]
    },
    {
     "name": "stdout",
     "output_type": "stream",
     "text": [
      "[{'1': 5538, '0': 4463}, 792, 1081]\n",
      "J1_q=16_t=3_nr=16 sent.\n"
     ]
    },
    {
     "name": "stderr",
     "output_type": "stream",
     "text": [
      "WARNING: all-qubit error already exists for instruction \"measure\", composing with additional error.\n",
      "WARNING: all-qubit error already exists for instruction \"cx\", composing with additional error.\n"
     ]
    },
    {
     "name": "stdout",
     "output_type": "stream",
     "text": [
      "[{'1': 711, '0': 9290}, 882, 1135]\n",
      "J1_q=16_t=3_nr=17 sent.\n"
     ]
    },
    {
     "name": "stderr",
     "output_type": "stream",
     "text": [
      "WARNING: all-qubit error already exists for instruction \"measure\", composing with additional error.\n",
      "WARNING: all-qubit error already exists for instruction \"cx\", composing with additional error.\n"
     ]
    },
    {
     "name": "stdout",
     "output_type": "stream",
     "text": [
      "[{'0': 458, '1': 9543}, 1005, 1503]\n",
      "J1_q=16_t=3_nr=18 sent.\n"
     ]
    },
    {
     "name": "stderr",
     "output_type": "stream",
     "text": [
      "WARNING: all-qubit error already exists for instruction \"measure\", composing with additional error.\n",
      "WARNING: all-qubit error already exists for instruction \"cx\", composing with additional error.\n"
     ]
    },
    {
     "name": "stdout",
     "output_type": "stream",
     "text": [
      "[{'1': 2245, '0': 7756}, 1379, 1836]\n",
      "J1_q=16_t=3_nr=19 sent.\n"
     ]
    },
    {
     "name": "stderr",
     "output_type": "stream",
     "text": [
      "WARNING: all-qubit error already exists for instruction \"measure\", composing with additional error.\n",
      "WARNING: all-qubit error already exists for instruction \"cx\", composing with additional error.\n"
     ]
    },
    {
     "name": "stdout",
     "output_type": "stream",
     "text": [
      "[{'1': 1422, '0': 8579}, 788, 1106]\n",
      "J1_q=16_t=3_nr=20 sent.\n"
     ]
    },
    {
     "name": "stderr",
     "output_type": "stream",
     "text": [
      "WARNING: all-qubit error already exists for instruction \"measure\", composing with additional error.\n",
      "WARNING: all-qubit error already exists for instruction \"cx\", composing with additional error.\n"
     ]
    },
    {
     "name": "stdout",
     "output_type": "stream",
     "text": [
      "[{'1': 3881, '0': 6120}, 1156, 1674]\n",
      "J1_q=16_t=4_nr=1 sent.\n"
     ]
    },
    {
     "name": "stderr",
     "output_type": "stream",
     "text": [
      "WARNING: all-qubit error already exists for instruction \"measure\", composing with additional error.\n",
      "WARNING: all-qubit error already exists for instruction \"cx\", composing with additional error.\n"
     ]
    },
    {
     "name": "stdout",
     "output_type": "stream",
     "text": [
      "[{'1': 3791, '0': 6210}, 997, 1537]\n",
      "J1_q=16_t=4_nr=2 sent.\n"
     ]
    },
    {
     "name": "stderr",
     "output_type": "stream",
     "text": [
      "WARNING: all-qubit error already exists for instruction \"measure\", composing with additional error.\n",
      "WARNING: all-qubit error already exists for instruction \"cx\", composing with additional error.\n"
     ]
    },
    {
     "name": "stdout",
     "output_type": "stream",
     "text": [
      "[{'1': 2856, '0': 7145}, 1218, 1743]\n",
      "J1_q=16_t=4_nr=3 sent.\n"
     ]
    },
    {
     "name": "stderr",
     "output_type": "stream",
     "text": [
      "WARNING: all-qubit error already exists for instruction \"measure\", composing with additional error.\n",
      "WARNING: all-qubit error already exists for instruction \"cx\", composing with additional error.\n"
     ]
    },
    {
     "name": "stdout",
     "output_type": "stream",
     "text": [
      "[{'0': 8247, '1': 1754}, 1334, 1813]\n",
      "J1_q=16_t=4_nr=4 sent.\n"
     ]
    },
    {
     "name": "stderr",
     "output_type": "stream",
     "text": [
      "WARNING: all-qubit error already exists for instruction \"measure\", composing with additional error.\n",
      "WARNING: all-qubit error already exists for instruction \"cx\", composing with additional error.\n"
     ]
    },
    {
     "name": "stdout",
     "output_type": "stream",
     "text": [
      "[{'1': 531, '0': 9470}, 1081, 1595]\n"
     ]
    },
    {
     "name": "stderr",
     "output_type": "stream",
     "text": [
      "WARNING: all-qubit error already exists for instruction \"measure\", composing with additional error.\n",
      "WARNING: all-qubit error already exists for instruction \"cx\", composing with additional error.\n"
     ]
    },
    {
     "name": "stdout",
     "output_type": "stream",
     "text": [
      "J1_q=16_t=4_nr=5 sent.\n",
      "[{'1': 551, '0': 9450}, 522, 809]\n",
      "J1_q=16_t=4_nr=6 sent.\n"
     ]
    },
    {
     "name": "stderr",
     "output_type": "stream",
     "text": [
      "WARNING: all-qubit error already exists for instruction \"measure\", composing with additional error.\n",
      "WARNING: all-qubit error already exists for instruction \"cx\", composing with additional error.\n"
     ]
    },
    {
     "name": "stdout",
     "output_type": "stream",
     "text": [
      "[{'0': 832, '1': 9169}, 1684, 2386]\n",
      "J1_q=16_t=4_nr=7 sent.\n"
     ]
    },
    {
     "name": "stderr",
     "output_type": "stream",
     "text": [
      "WARNING: all-qubit error already exists for instruction \"measure\", composing with additional error.\n",
      "WARNING: all-qubit error already exists for instruction \"cx\", composing with additional error.\n"
     ]
    },
    {
     "name": "stdout",
     "output_type": "stream",
     "text": [
      "[{'0': 23, '1': 9978}, 1462, 2041]\n",
      "J1_q=16_t=4_nr=8 sent.\n"
     ]
    },
    {
     "name": "stderr",
     "output_type": "stream",
     "text": [
      "WARNING: all-qubit error already exists for instruction \"measure\", composing with additional error.\n",
      "WARNING: all-qubit error already exists for instruction \"cx\", composing with additional error.\n"
     ]
    },
    {
     "name": "stdout",
     "output_type": "stream",
     "text": [
      "[{'1': 186, '0': 9815}, 1239, 1740]\n",
      "J1_q=16_t=4_nr=9 sent.\n"
     ]
    },
    {
     "name": "stderr",
     "output_type": "stream",
     "text": [
      "WARNING: all-qubit error already exists for instruction \"measure\", composing with additional error.\n",
      "WARNING: all-qubit error already exists for instruction \"cx\", composing with additional error.\n"
     ]
    },
    {
     "name": "stdout",
     "output_type": "stream",
     "text": [
      "[{'0': 12, '1': 9989}, 1045, 1513]\n",
      "J1_q=16_t=4_nr=10 sent.\n"
     ]
    },
    {
     "name": "stderr",
     "output_type": "stream",
     "text": [
      "WARNING: all-qubit error already exists for instruction \"measure\", composing with additional error.\n",
      "WARNING: all-qubit error already exists for instruction \"cx\", composing with additional error.\n"
     ]
    },
    {
     "name": "stdout",
     "output_type": "stream",
     "text": [
      "[{'1': 6184, '0': 3817}, 1743, 2311]\n",
      "J1_q=16_t=4_nr=11 sent.\n"
     ]
    },
    {
     "name": "stderr",
     "output_type": "stream",
     "text": [
      "WARNING: all-qubit error already exists for instruction \"measure\", composing with additional error.\n",
      "WARNING: all-qubit error already exists for instruction \"cx\", composing with additional error.\n"
     ]
    },
    {
     "name": "stdout",
     "output_type": "stream",
     "text": [
      "[{'1': 1635, '0': 8366}, 1467, 2111]\n",
      "J1_q=16_t=4_nr=12 sent.\n"
     ]
    },
    {
     "name": "stderr",
     "output_type": "stream",
     "text": [
      "WARNING: all-qubit error already exists for instruction \"measure\", composing with additional error.\n",
      "WARNING: all-qubit error already exists for instruction \"cx\", composing with additional error.\n"
     ]
    },
    {
     "name": "stdout",
     "output_type": "stream",
     "text": [
      "[{'1': 71, '0': 9930}, 1442, 1944]\n",
      "J1_q=16_t=4_nr=13 sent.\n"
     ]
    },
    {
     "name": "stderr",
     "output_type": "stream",
     "text": [
      "WARNING: all-qubit error already exists for instruction \"measure\", composing with additional error.\n",
      "WARNING: all-qubit error already exists for instruction \"cx\", composing with additional error.\n"
     ]
    },
    {
     "name": "stdout",
     "output_type": "stream",
     "text": [
      "[{'0': 7600, '1': 2401}, 1269, 1836]\n",
      "J1_q=16_t=4_nr=14 sent.\n"
     ]
    },
    {
     "name": "stderr",
     "output_type": "stream",
     "text": [
      "WARNING: all-qubit error already exists for instruction \"measure\", composing with additional error.\n",
      "WARNING: all-qubit error already exists for instruction \"cx\", composing with additional error.\n"
     ]
    },
    {
     "name": "stdout",
     "output_type": "stream",
     "text": [
      "[{'0': 3856, '1': 6145}, 1332, 1725]\n",
      "J1_q=16_t=4_nr=15 sent.\n"
     ]
    },
    {
     "name": "stderr",
     "output_type": "stream",
     "text": [
      "WARNING: all-qubit error already exists for instruction \"measure\", composing with additional error.\n",
      "WARNING: all-qubit error already exists for instruction \"cx\", composing with additional error.\n"
     ]
    },
    {
     "name": "stdout",
     "output_type": "stream",
     "text": [
      "[{'1': 395, '0': 9606}, 1024, 1454]\n",
      "J1_q=16_t=4_nr=16 sent.\n"
     ]
    },
    {
     "name": "stderr",
     "output_type": "stream",
     "text": [
      "WARNING: all-qubit error already exists for instruction \"measure\", composing with additional error.\n",
      "WARNING: all-qubit error already exists for instruction \"cx\", composing with additional error.\n"
     ]
    },
    {
     "name": "stdout",
     "output_type": "stream",
     "text": [
      "[{'0': 18, '1': 9983}, 1217, 1749]\n",
      "J1_q=16_t=4_nr=17 sent.\n"
     ]
    },
    {
     "name": "stderr",
     "output_type": "stream",
     "text": [
      "WARNING: all-qubit error already exists for instruction \"measure\", composing with additional error.\n",
      "WARNING: all-qubit error already exists for instruction \"cx\", composing with additional error.\n"
     ]
    },
    {
     "name": "stdout",
     "output_type": "stream",
     "text": [
      "[{'0': 5324, '1': 4677}, 812, 1172]\n",
      "J1_q=16_t=4_nr=18 sent.\n"
     ]
    },
    {
     "name": "stderr",
     "output_type": "stream",
     "text": [
      "WARNING: all-qubit error already exists for instruction \"measure\", composing with additional error.\n",
      "WARNING: all-qubit error already exists for instruction \"cx\", composing with additional error.\n"
     ]
    },
    {
     "name": "stdout",
     "output_type": "stream",
     "text": [
      "[{'0': 3630, '1': 6371}, 1291, 1809]\n",
      "J1_q=16_t=4_nr=19 sent.\n"
     ]
    },
    {
     "name": "stderr",
     "output_type": "stream",
     "text": [
      "WARNING: all-qubit error already exists for instruction \"measure\", composing with additional error.\n",
      "WARNING: all-qubit error already exists for instruction \"cx\", composing with additional error.\n"
     ]
    },
    {
     "name": "stdout",
     "output_type": "stream",
     "text": [
      "[{'0': 2271, '1': 7730}, 1669, 2312]\n",
      "J1_q=16_t=4_nr=20 sent.\n"
     ]
    },
    {
     "name": "stderr",
     "output_type": "stream",
     "text": [
      "WARNING: all-qubit error already exists for instruction \"measure\", composing with additional error.\n",
      "WARNING: all-qubit error already exists for instruction \"cx\", composing with additional error.\n"
     ]
    },
    {
     "name": "stdout",
     "output_type": "stream",
     "text": [
      "[{'1': 384, '0': 9617}, 1846, 2676]\n",
      "J1_q=16_t=5_nr=1 sent.\n"
     ]
    },
    {
     "name": "stderr",
     "output_type": "stream",
     "text": [
      "WARNING: all-qubit error already exists for instruction \"measure\", composing with additional error.\n",
      "WARNING: all-qubit error already exists for instruction \"cx\", composing with additional error.\n"
     ]
    },
    {
     "name": "stdout",
     "output_type": "stream",
     "text": [
      "[{'0': 7746, '1': 2255}, 1423, 2117]\n",
      "J1_q=16_t=5_nr=2 sent.\n"
     ]
    },
    {
     "name": "stderr",
     "output_type": "stream",
     "text": [
      "WARNING: all-qubit error already exists for instruction \"measure\", composing with additional error.\n",
      "WARNING: all-qubit error already exists for instruction \"cx\", composing with additional error.\n"
     ]
    },
    {
     "name": "stdout",
     "output_type": "stream",
     "text": [
      "[{'1': 3834, '0': 6167}, 1084, 1604]\n",
      "J1_q=16_t=5_nr=3 sent.\n"
     ]
    },
    {
     "name": "stderr",
     "output_type": "stream",
     "text": [
      "WARNING: all-qubit error already exists for instruction \"measure\", composing with additional error.\n",
      "WARNING: all-qubit error already exists for instruction \"cx\", composing with additional error.\n"
     ]
    },
    {
     "name": "stdout",
     "output_type": "stream",
     "text": [
      "[{'1': 1096, '0': 8905}, 1484, 2171]\n",
      "J1_q=16_t=5_nr=4 sent.\n"
     ]
    },
    {
     "name": "stderr",
     "output_type": "stream",
     "text": [
      "WARNING: all-qubit error already exists for instruction \"measure\", composing with additional error.\n",
      "WARNING: all-qubit error already exists for instruction \"cx\", composing with additional error.\n"
     ]
    },
    {
     "name": "stdout",
     "output_type": "stream",
     "text": [
      "[{'0': 3107, '1': 6894}, 1062, 1509]\n",
      "J1_q=16_t=5_nr=5 sent.\n"
     ]
    },
    {
     "name": "stderr",
     "output_type": "stream",
     "text": [
      "WARNING: all-qubit error already exists for instruction \"measure\", composing with additional error.\n",
      "WARNING: all-qubit error already exists for instruction \"cx\", composing with additional error.\n"
     ]
    },
    {
     "name": "stdout",
     "output_type": "stream",
     "text": [
      "[{'0': 5083, '1': 4918}, 1064, 1656]\n",
      "J1_q=16_t=5_nr=6 sent.\n"
     ]
    },
    {
     "name": "stderr",
     "output_type": "stream",
     "text": [
      "WARNING: all-qubit error already exists for instruction \"measure\", composing with additional error.\n",
      "WARNING: all-qubit error already exists for instruction \"cx\", composing with additional error.\n"
     ]
    },
    {
     "name": "stdout",
     "output_type": "stream",
     "text": [
      "[{'1': 8097, '0': 1904}, 1706, 2459]\n",
      "J1_q=16_t=5_nr=7 sent.\n"
     ]
    },
    {
     "name": "stderr",
     "output_type": "stream",
     "text": [
      "WARNING: all-qubit error already exists for instruction \"measure\", composing with additional error.\n",
      "WARNING: all-qubit error already exists for instruction \"cx\", composing with additional error.\n"
     ]
    },
    {
     "name": "stdout",
     "output_type": "stream",
     "text": [
      "[{'0': 2225, '1': 7776}, 1074, 1568]\n",
      "J1_q=16_t=5_nr=8 sent.\n"
     ]
    },
    {
     "name": "stderr",
     "output_type": "stream",
     "text": [
      "WARNING: all-qubit error already exists for instruction \"measure\", composing with additional error.\n",
      "WARNING: all-qubit error already exists for instruction \"cx\", composing with additional error.\n"
     ]
    },
    {
     "name": "stdout",
     "output_type": "stream",
     "text": [
      "[{'0': 2859, '1': 7142}, 1633, 2366]\n",
      "J1_q=16_t=5_nr=9 sent.\n"
     ]
    },
    {
     "name": "stderr",
     "output_type": "stream",
     "text": [
      "WARNING: all-qubit error already exists for instruction \"measure\", composing with additional error.\n",
      "WARNING: all-qubit error already exists for instruction \"cx\", composing with additional error.\n"
     ]
    },
    {
     "name": "stdout",
     "output_type": "stream",
     "text": [
      "[{'1': 5455, '0': 4546}, 1716, 2434]\n",
      "J1_q=16_t=5_nr=10 sent.\n"
     ]
    },
    {
     "name": "stderr",
     "output_type": "stream",
     "text": [
      "WARNING: all-qubit error already exists for instruction \"measure\", composing with additional error.\n",
      "WARNING: all-qubit error already exists for instruction \"cx\", composing with additional error.\n"
     ]
    },
    {
     "name": "stdout",
     "output_type": "stream",
     "text": [
      "[{'0': 9729, '1': 272}, 2351, 3066]\n",
      "J1_q=16_t=5_nr=11 sent.\n"
     ]
    },
    {
     "name": "stderr",
     "output_type": "stream",
     "text": [
      "WARNING: all-qubit error already exists for instruction \"measure\", composing with additional error.\n",
      "WARNING: all-qubit error already exists for instruction \"cx\", composing with additional error.\n"
     ]
    },
    {
     "name": "stdout",
     "output_type": "stream",
     "text": [
      "[{'0': 1888, '1': 8113}, 1775, 2591]\n",
      "J1_q=16_t=5_nr=12 sent.\n"
     ]
    },
    {
     "name": "stderr",
     "output_type": "stream",
     "text": [
      "WARNING: all-qubit error already exists for instruction \"measure\", composing with additional error.\n",
      "WARNING: all-qubit error already exists for instruction \"cx\", composing with additional error.\n"
     ]
    },
    {
     "name": "stdout",
     "output_type": "stream",
     "text": [
      "[{'1': 14, '0': 9987}, 1887, 2716]\n",
      "J1_q=16_t=5_nr=13 sent.\n"
     ]
    },
    {
     "name": "stderr",
     "output_type": "stream",
     "text": [
      "WARNING: all-qubit error already exists for instruction \"measure\", composing with additional error.\n",
      "WARNING: all-qubit error already exists for instruction \"cx\", composing with additional error.\n"
     ]
    },
    {
     "name": "stdout",
     "output_type": "stream",
     "text": [
      "[{'0': 4296, '1': 5705}, 1590, 2194]\n",
      "J1_q=16_t=5_nr=14 sent.\n"
     ]
    },
    {
     "name": "stderr",
     "output_type": "stream",
     "text": [
      "WARNING: all-qubit error already exists for instruction \"measure\", composing with additional error.\n",
      "WARNING: all-qubit error already exists for instruction \"cx\", composing with additional error.\n"
     ]
    },
    {
     "name": "stdout",
     "output_type": "stream",
     "text": [
      "[{'0': 8010, '1': 1991}, 959, 1477]\n",
      "J1_q=16_t=5_nr=15 sent.\n"
     ]
    },
    {
     "name": "stderr",
     "output_type": "stream",
     "text": [
      "WARNING: all-qubit error already exists for instruction \"measure\", composing with additional error.\n",
      "WARNING: all-qubit error already exists for instruction \"cx\", composing with additional error.\n"
     ]
    },
    {
     "name": "stdout",
     "output_type": "stream",
     "text": [
      "[{'1': 549, '0': 9452}, 2088, 2857]\n",
      "J1_q=16_t=5_nr=16 sent.\n"
     ]
    },
    {
     "name": "stderr",
     "output_type": "stream",
     "text": [
      "WARNING: all-qubit error already exists for instruction \"measure\", composing with additional error.\n",
      "WARNING: all-qubit error already exists for instruction \"cx\", composing with additional error.\n"
     ]
    },
    {
     "name": "stdout",
     "output_type": "stream",
     "text": [
      "[{'1': 2893, '0': 7108}, 1803, 2482]\n",
      "J1_q=16_t=5_nr=17 sent.\n"
     ]
    },
    {
     "name": "stderr",
     "output_type": "stream",
     "text": [
      "WARNING: all-qubit error already exists for instruction \"measure\", composing with additional error.\n",
      "WARNING: all-qubit error already exists for instruction \"cx\", composing with additional error.\n"
     ]
    },
    {
     "name": "stdout",
     "output_type": "stream",
     "text": [
      "[{'0': 5122, '1': 4879}, 1890, 2738]\n",
      "J1_q=16_t=5_nr=18 sent.\n"
     ]
    },
    {
     "name": "stderr",
     "output_type": "stream",
     "text": [
      "WARNING: all-qubit error already exists for instruction \"measure\", composing with additional error.\n",
      "WARNING: all-qubit error already exists for instruction \"cx\", composing with additional error.\n"
     ]
    },
    {
     "name": "stdout",
     "output_type": "stream",
     "text": [
      "[{'0': 5605, '1': 4396}, 967, 1497]\n",
      "J1_q=16_t=5_nr=19 sent.\n"
     ]
    },
    {
     "name": "stderr",
     "output_type": "stream",
     "text": [
      "WARNING: all-qubit error already exists for instruction \"measure\", composing with additional error.\n",
      "WARNING: all-qubit error already exists for instruction \"cx\", composing with additional error.\n"
     ]
    },
    {
     "name": "stdout",
     "output_type": "stream",
     "text": [
      "[{'0': 282, '1': 9719}, 1827, 2698]\n",
      "J1_q=16_t=5_nr=20 sent.\n"
     ]
    },
    {
     "name": "stderr",
     "output_type": "stream",
     "text": [
      "WARNING: all-qubit error already exists for instruction \"measure\", composing with additional error.\n",
      "WARNING: all-qubit error already exists for instruction \"cx\", composing with additional error.\n"
     ]
    },
    {
     "name": "stdout",
     "output_type": "stream",
     "text": [
      "[{'0': 2012, '1': 7989}, 2369, 3253]\n",
      "J1_q=16_t=6_nr=1 sent.\n"
     ]
    },
    {
     "name": "stderr",
     "output_type": "stream",
     "text": [
      "WARNING: all-qubit error already exists for instruction \"measure\", composing with additional error.\n",
      "WARNING: all-qubit error already exists for instruction \"cx\", composing with additional error.\n"
     ]
    },
    {
     "name": "stdout",
     "output_type": "stream",
     "text": [
      "[{'0': 1356, '1': 8645}, 1736, 2582]\n",
      "J1_q=16_t=6_nr=2 sent.\n"
     ]
    },
    {
     "name": "stderr",
     "output_type": "stream",
     "text": [
      "WARNING: all-qubit error already exists for instruction \"measure\", composing with additional error.\n",
      "WARNING: all-qubit error already exists for instruction \"cx\", composing with additional error.\n"
     ]
    },
    {
     "name": "stdout",
     "output_type": "stream",
     "text": [
      "[{'0': 1747, '1': 8254}, 1669, 2554]\n",
      "J1_q=16_t=6_nr=3 sent.\n"
     ]
    },
    {
     "name": "stderr",
     "output_type": "stream",
     "text": [
      "WARNING: all-qubit error already exists for instruction \"measure\", composing with additional error.\n",
      "WARNING: all-qubit error already exists for instruction \"cx\", composing with additional error.\n"
     ]
    },
    {
     "name": "stdout",
     "output_type": "stream",
     "text": [
      "[{'0': 3, '1': 9998}, 2478, 3533]\n",
      "J1_q=16_t=6_nr=4 sent.\n"
     ]
    },
    {
     "name": "stderr",
     "output_type": "stream",
     "text": [
      "WARNING: all-qubit error already exists for instruction \"measure\", composing with additional error.\n",
      "WARNING: all-qubit error already exists for instruction \"cx\", composing with additional error.\n"
     ]
    },
    {
     "name": "stdout",
     "output_type": "stream",
     "text": [
      "[{'0': 67, '1': 9934}, 1523, 2256]\n",
      "J1_q=16_t=6_nr=5 sent.\n"
     ]
    },
    {
     "name": "stderr",
     "output_type": "stream",
     "text": [
      "WARNING: all-qubit error already exists for instruction \"measure\", composing with additional error.\n",
      "WARNING: all-qubit error already exists for instruction \"cx\", composing with additional error.\n"
     ]
    },
    {
     "name": "stdout",
     "output_type": "stream",
     "text": [
      "[{'1': 7210, '0': 2791}, 2195, 3101]\n",
      "J1_q=16_t=6_nr=6 sent.\n"
     ]
    },
    {
     "name": "stderr",
     "output_type": "stream",
     "text": [
      "WARNING: all-qubit error already exists for instruction \"measure\", composing with additional error.\n",
      "WARNING: all-qubit error already exists for instruction \"cx\", composing with additional error.\n"
     ]
    },
    {
     "name": "stdout",
     "output_type": "stream",
     "text": [
      "[{'0': 269, '1': 9732}, 2218, 3112]\n",
      "J1_q=16_t=6_nr=7 sent.\n"
     ]
    },
    {
     "name": "stderr",
     "output_type": "stream",
     "text": [
      "WARNING: all-qubit error already exists for instruction \"measure\", composing with additional error.\n",
      "WARNING: all-qubit error already exists for instruction \"cx\", composing with additional error.\n"
     ]
    },
    {
     "name": "stdout",
     "output_type": "stream",
     "text": [
      "[{'1': 10001}, 2433, 3540]\n",
      "J1_q=16_t=6_nr=8 sent.\n"
     ]
    },
    {
     "name": "stderr",
     "output_type": "stream",
     "text": [
      "WARNING: all-qubit error already exists for instruction \"measure\", composing with additional error.\n",
      "WARNING: all-qubit error already exists for instruction \"cx\", composing with additional error.\n"
     ]
    },
    {
     "name": "stdout",
     "output_type": "stream",
     "text": [
      "[{'1': 1174, '0': 8827}, 2479, 3538]\n",
      "J1_q=16_t=6_nr=9 sent.\n"
     ]
    },
    {
     "name": "stderr",
     "output_type": "stream",
     "text": [
      "WARNING: all-qubit error already exists for instruction \"measure\", composing with additional error.\n",
      "WARNING: all-qubit error already exists for instruction \"cx\", composing with additional error.\n"
     ]
    },
    {
     "name": "stdout",
     "output_type": "stream",
     "text": [
      "[{'1': 91, '0': 9910}, 1490, 2220]\n",
      "J1_q=16_t=6_nr=10 sent.\n"
     ]
    },
    {
     "name": "stderr",
     "output_type": "stream",
     "text": [
      "WARNING: all-qubit error already exists for instruction \"measure\", composing with additional error.\n",
      "WARNING: all-qubit error already exists for instruction \"cx\", composing with additional error.\n"
     ]
    },
    {
     "name": "stdout",
     "output_type": "stream",
     "text": [
      "[{'1': 9158, '0': 843}, 1527, 2298]\n",
      "J1_q=16_t=6_nr=11 sent.\n"
     ]
    },
    {
     "name": "stderr",
     "output_type": "stream",
     "text": [
      "WARNING: all-qubit error already exists for instruction \"measure\", composing with additional error.\n",
      "WARNING: all-qubit error already exists for instruction \"cx\", composing with additional error.\n"
     ]
    },
    {
     "name": "stdout",
     "output_type": "stream",
     "text": [
      "[{'0': 4375, '1': 5626}, 1641, 2465]\n",
      "J1_q=16_t=6_nr=12 sent.\n"
     ]
    },
    {
     "name": "stderr",
     "output_type": "stream",
     "text": [
      "WARNING: all-qubit error already exists for instruction \"measure\", composing with additional error.\n",
      "WARNING: all-qubit error already exists for instruction \"cx\", composing with additional error.\n"
     ]
    },
    {
     "name": "stdout",
     "output_type": "stream",
     "text": [
      "[{'0': 5646, '1': 4355}, 2051, 2976]\n",
      "J1_q=16_t=6_nr=13 sent.\n"
     ]
    },
    {
     "name": "stderr",
     "output_type": "stream",
     "text": [
      "WARNING: all-qubit error already exists for instruction \"measure\", composing with additional error.\n",
      "WARNING: all-qubit error already exists for instruction \"cx\", composing with additional error.\n"
     ]
    },
    {
     "name": "stdout",
     "output_type": "stream",
     "text": [
      "[{'1': 27, '0': 9974}, 1884, 2795]\n",
      "J1_q=16_t=6_nr=14 sent.\n"
     ]
    },
    {
     "name": "stderr",
     "output_type": "stream",
     "text": [
      "WARNING: all-qubit error already exists for instruction \"measure\", composing with additional error.\n",
      "WARNING: all-qubit error already exists for instruction \"cx\", composing with additional error.\n"
     ]
    },
    {
     "name": "stdout",
     "output_type": "stream",
     "text": [
      "[{'1': 2186, '0': 7815}, 2401, 3331]\n",
      "J1_q=16_t=6_nr=15 sent.\n"
     ]
    },
    {
     "name": "stderr",
     "output_type": "stream",
     "text": [
      "WARNING: all-qubit error already exists for instruction \"measure\", composing with additional error.\n",
      "WARNING: all-qubit error already exists for instruction \"cx\", composing with additional error.\n"
     ]
    },
    {
     "name": "stdout",
     "output_type": "stream",
     "text": [
      "[{'1': 4521, '0': 5480}, 1953, 2883]\n",
      "J1_q=16_t=6_nr=16 sent.\n"
     ]
    },
    {
     "name": "stderr",
     "output_type": "stream",
     "text": [
      "WARNING: all-qubit error already exists for instruction \"measure\", composing with additional error.\n",
      "WARNING: all-qubit error already exists for instruction \"cx\", composing with additional error.\n"
     ]
    },
    {
     "name": "stdout",
     "output_type": "stream",
     "text": [
      "[{'0': 188, '1': 9813}, 1861, 2722]\n",
      "J1_q=16_t=6_nr=17 sent.\n"
     ]
    },
    {
     "name": "stderr",
     "output_type": "stream",
     "text": [
      "WARNING: all-qubit error already exists for instruction \"measure\", composing with additional error.\n",
      "WARNING: all-qubit error already exists for instruction \"cx\", composing with additional error.\n"
     ]
    },
    {
     "name": "stdout",
     "output_type": "stream",
     "text": [
      "[{'1': 19, '0': 9982}, 1960, 2809]\n",
      "J1_q=16_t=6_nr=18 sent.\n"
     ]
    },
    {
     "name": "stderr",
     "output_type": "stream",
     "text": [
      "WARNING: all-qubit error already exists for instruction \"measure\", composing with additional error.\n",
      "WARNING: all-qubit error already exists for instruction \"cx\", composing with additional error.\n"
     ]
    },
    {
     "name": "stdout",
     "output_type": "stream",
     "text": [
      "[{'0': 370, '1': 9631}, 2587, 3606]\n",
      "J1_q=16_t=6_nr=19 sent.\n"
     ]
    },
    {
     "name": "stderr",
     "output_type": "stream",
     "text": [
      "WARNING: all-qubit error already exists for instruction \"measure\", composing with additional error.\n",
      "WARNING: all-qubit error already exists for instruction \"cx\", composing with additional error.\n"
     ]
    },
    {
     "name": "stdout",
     "output_type": "stream",
     "text": [
      "[{'0': 1821, '1': 8180}, 2262, 3167]\n",
      "J1_q=16_t=6_nr=20 sent.\n"
     ]
    },
    {
     "name": "stderr",
     "output_type": "stream",
     "text": [
      "WARNING: all-qubit error already exists for instruction \"measure\", composing with additional error.\n",
      "WARNING: all-qubit error already exists for instruction \"cx\", composing with additional error.\n"
     ]
    },
    {
     "name": "stdout",
     "output_type": "stream",
     "text": [
      "[{'1': 3399, '0': 6602}, 2146, 3074]\n",
      "J1_q=16_t=7_nr=1 sent.\n"
     ]
    },
    {
     "name": "stderr",
     "output_type": "stream",
     "text": [
      "WARNING: all-qubit error already exists for instruction \"measure\", composing with additional error.\n",
      "WARNING: all-qubit error already exists for instruction \"cx\", composing with additional error.\n"
     ]
    },
    {
     "name": "stdout",
     "output_type": "stream",
     "text": [
      "[{'1': 3598, '0': 6403}, 2282, 3296]\n",
      "J1_q=16_t=7_nr=2 sent.\n"
     ]
    },
    {
     "name": "stderr",
     "output_type": "stream",
     "text": [
      "WARNING: all-qubit error already exists for instruction \"measure\", composing with additional error.\n",
      "WARNING: all-qubit error already exists for instruction \"cx\", composing with additional error.\n"
     ]
    },
    {
     "name": "stdout",
     "output_type": "stream",
     "text": [
      "[{'1': 1171, '0': 8830}, 2541, 3737]\n",
      "J1_q=16_t=7_nr=3 sent.\n"
     ]
    },
    {
     "name": "stderr",
     "output_type": "stream",
     "text": [
      "WARNING: all-qubit error already exists for instruction \"measure\", composing with additional error.\n",
      "WARNING: all-qubit error already exists for instruction \"cx\", composing with additional error.\n"
     ]
    },
    {
     "name": "stdout",
     "output_type": "stream",
     "text": [
      "[{'1': 1111, '0': 8890}, 2409, 3467]\n",
      "J1_q=16_t=7_nr=4 sent.\n"
     ]
    },
    {
     "name": "stderr",
     "output_type": "stream",
     "text": [
      "WARNING: all-qubit error already exists for instruction \"measure\", composing with additional error.\n",
      "WARNING: all-qubit error already exists for instruction \"cx\", composing with additional error.\n"
     ]
    },
    {
     "name": "stdout",
     "output_type": "stream",
     "text": [
      "[{'0': 4859, '1': 5142}, 2710, 3845]\n",
      "J1_q=16_t=7_nr=5 sent.\n"
     ]
    },
    {
     "name": "stderr",
     "output_type": "stream",
     "text": [
      "WARNING: all-qubit error already exists for instruction \"measure\", composing with additional error.\n",
      "WARNING: all-qubit error already exists for instruction \"cx\", composing with additional error.\n"
     ]
    },
    {
     "name": "stdout",
     "output_type": "stream",
     "text": [
      "[{'1': 1879, '0': 8122}, 2990, 4316]\n",
      "J1_q=16_t=7_nr=6 sent.\n"
     ]
    },
    {
     "name": "stderr",
     "output_type": "stream",
     "text": [
      "WARNING: all-qubit error already exists for instruction \"measure\", composing with additional error.\n",
      "WARNING: all-qubit error already exists for instruction \"cx\", composing with additional error.\n"
     ]
    },
    {
     "name": "stdout",
     "output_type": "stream",
     "text": [
      "[{'1': 710, '0': 9291}, 2835, 3908]\n",
      "J1_q=16_t=7_nr=7 sent.\n"
     ]
    },
    {
     "name": "stderr",
     "output_type": "stream",
     "text": [
      "WARNING: all-qubit error already exists for instruction \"measure\", composing with additional error.\n",
      "WARNING: all-qubit error already exists for instruction \"cx\", composing with additional error.\n"
     ]
    },
    {
     "name": "stdout",
     "output_type": "stream",
     "text": [
      "[{'0': 6642, '1': 3359}, 2080, 2982]\n",
      "J1_q=16_t=7_nr=8 sent.\n"
     ]
    },
    {
     "name": "stderr",
     "output_type": "stream",
     "text": [
      "WARNING: all-qubit error already exists for instruction \"measure\", composing with additional error.\n",
      "WARNING: all-qubit error already exists for instruction \"cx\", composing with additional error.\n"
     ]
    },
    {
     "name": "stdout",
     "output_type": "stream",
     "text": [
      "[{'1': 3645, '0': 6356}, 1384, 2157]\n",
      "J1_q=16_t=7_nr=9 sent.\n"
     ]
    },
    {
     "name": "stderr",
     "output_type": "stream",
     "text": [
      "WARNING: all-qubit error already exists for instruction \"measure\", composing with additional error.\n",
      "WARNING: all-qubit error already exists for instruction \"cx\", composing with additional error.\n"
     ]
    },
    {
     "name": "stdout",
     "output_type": "stream",
     "text": [
      "[{'1': 7234, '0': 2767}, 1987, 2939]\n",
      "J1_q=16_t=7_nr=10 sent.\n"
     ]
    },
    {
     "name": "stderr",
     "output_type": "stream",
     "text": [
      "WARNING: all-qubit error already exists for instruction \"measure\", composing with additional error.\n",
      "WARNING: all-qubit error already exists for instruction \"cx\", composing with additional error.\n"
     ]
    },
    {
     "name": "stdout",
     "output_type": "stream",
     "text": [
      "[{'1': 2974, '0': 7027}, 2369, 3412]\n",
      "J1_q=16_t=7_nr=11 sent.\n"
     ]
    },
    {
     "name": "stderr",
     "output_type": "stream",
     "text": [
      "WARNING: all-qubit error already exists for instruction \"measure\", composing with additional error.\n",
      "WARNING: all-qubit error already exists for instruction \"cx\", composing with additional error.\n"
     ]
    },
    {
     "name": "stdout",
     "output_type": "stream",
     "text": [
      "[{'0': 6923, '1': 3078}, 2302, 3441]\n",
      "J1_q=16_t=7_nr=12 sent.\n"
     ]
    },
    {
     "name": "stderr",
     "output_type": "stream",
     "text": [
      "WARNING: all-qubit error already exists for instruction \"measure\", composing with additional error.\n",
      "WARNING: all-qubit error already exists for instruction \"cx\", composing with additional error.\n"
     ]
    },
    {
     "name": "stdout",
     "output_type": "stream",
     "text": [
      "[{'1': 387, '0': 9614}, 1791, 2696]\n",
      "J1_q=16_t=7_nr=13 sent.\n"
     ]
    },
    {
     "name": "stderr",
     "output_type": "stream",
     "text": [
      "WARNING: all-qubit error already exists for instruction \"measure\", composing with additional error.\n",
      "WARNING: all-qubit error already exists for instruction \"cx\", composing with additional error.\n"
     ]
    },
    {
     "name": "stdout",
     "output_type": "stream",
     "text": [
      "[{'0': 2089, '1': 7912}, 2233, 3351]\n",
      "J1_q=16_t=7_nr=14 sent.\n"
     ]
    },
    {
     "name": "stderr",
     "output_type": "stream",
     "text": [
      "WARNING: all-qubit error already exists for instruction \"measure\", composing with additional error.\n",
      "WARNING: all-qubit error already exists for instruction \"cx\", composing with additional error.\n"
     ]
    },
    {
     "name": "stdout",
     "output_type": "stream",
     "text": [
      "[{'0': 7190, '1': 2811}, 1724, 2554]\n",
      "J1_q=16_t=7_nr=15 sent.\n"
     ]
    },
    {
     "name": "stderr",
     "output_type": "stream",
     "text": [
      "WARNING: all-qubit error already exists for instruction \"measure\", composing with additional error.\n",
      "WARNING: all-qubit error already exists for instruction \"cx\", composing with additional error.\n"
     ]
    },
    {
     "name": "stdout",
     "output_type": "stream",
     "text": [
      "[{'0': 4217, '1': 5784}, 1168, 1805]\n",
      "J1_q=16_t=7_nr=16 sent.\n"
     ]
    },
    {
     "name": "stderr",
     "output_type": "stream",
     "text": [
      "WARNING: all-qubit error already exists for instruction \"measure\", composing with additional error.\n",
      "WARNING: all-qubit error already exists for instruction \"cx\", composing with additional error.\n"
     ]
    },
    {
     "name": "stdout",
     "output_type": "stream",
     "text": [
      "[{'0': 4082, '1': 5919}, 1915, 2962]\n",
      "J1_q=16_t=7_nr=17 sent.\n"
     ]
    },
    {
     "name": "stderr",
     "output_type": "stream",
     "text": [
      "WARNING: all-qubit error already exists for instruction \"measure\", composing with additional error.\n",
      "WARNING: all-qubit error already exists for instruction \"cx\", composing with additional error.\n"
     ]
    },
    {
     "name": "stdout",
     "output_type": "stream",
     "text": [
      "[{'1': 6208, '0': 3793}, 2173, 3217]\n",
      "J1_q=16_t=7_nr=18 sent.\n"
     ]
    },
    {
     "name": "stderr",
     "output_type": "stream",
     "text": [
      "WARNING: all-qubit error already exists for instruction \"measure\", composing with additional error.\n",
      "WARNING: all-qubit error already exists for instruction \"cx\", composing with additional error.\n"
     ]
    },
    {
     "name": "stdout",
     "output_type": "stream",
     "text": [
      "[{'0': 1245, '1': 8756}, 2709, 3965]\n",
      "J1_q=16_t=7_nr=19 sent.\n"
     ]
    },
    {
     "name": "stderr",
     "output_type": "stream",
     "text": [
      "WARNING: all-qubit error already exists for instruction \"measure\", composing with additional error.\n",
      "WARNING: all-qubit error already exists for instruction \"cx\", composing with additional error.\n"
     ]
    },
    {
     "name": "stdout",
     "output_type": "stream",
     "text": [
      "[{'1': 706, '0': 9295}, 2108, 3025]\n",
      "J1_q=16_t=7_nr=20 sent.\n"
     ]
    }
   ],
   "source": [
    "#Send jobs to hardware\n",
    "x = datetime.datetime.now()\n",
    "filename_jobs1 = \"Jobs1_\" + backend.name() + \"_T:\" + x.strftime(\"%H:%M:%S_%d-%m-%Y\") + \".txt\"\n",
    "filename_sims1 = \"Sims1_\" + backend.name() + \"_T:\" + x.strftime(\"%H:%M:%S_%d-%m-%Y\") + \".txt\"\n",
    "print(filename_jobs1, filename_sims1)\n",
    "\n",
    "D_jobs1 = {}\n",
    "D_sims1 = {}\n",
    "\n",
    "for q in range(nr_qubits,nr_qubits+1):\n",
    "    for t in range(0,8):#(2,11):\n",
    "        for test_nr in range(1,n_tests+1):\n",
    "            circ = random_circ(q,t)\n",
    "            counts1 = clean_exc(circ)\n",
    "            sS1 = \"S1_q=\"+str(q)+\"_t=\"+str(t)+\"_nr=\"+str(test_nr)\n",
    "            cd = circ.depth()\n",
    "            cs = circ.size()\n",
    "            D_sims1[sS1] = [counts1, cd, cs]\n",
    "            print([counts1, cd, cs])\n",
    "            sJ1 = \"J1_q=\"+str(q)+\"_t=\"+str(t)+\"_nr=\"+str(test_nr)\n",
    "            try:\n",
    "                job_id2 = hardware_exc(circ, backend)\n",
    "                D_jobs1[sJ1] = job_id2\n",
    "                print(sJ1, \"sent.\")\n",
    "            except:\n",
    "                print(sJ1, \"failed.\")"
   ]
  },
  {
   "cell_type": "code",
   "execution_count": 7,
   "metadata": {},
   "outputs": [
    {
     "name": "stdout",
     "output_type": "stream",
     "text": [
      "Jobs1_ibmq_guadalupe_T:10:26:28_28-09-2023.txt Sims1_ibmq_guadalupe_T:10:26:28_28-09-2023.txt\n",
      "Jobs1_ibmq_guadalupe_T:10:26:28_28-09-2023.txt\n",
      "Sims1_ibmq_guadalupe_T:10:26:28_28-09-2023.txt\n"
     ]
    }
   ],
   "source": [
    "#Save references to jobs in files.\n",
    "print(filename_jobs1, filename_sims1)\n",
    "fnj = dict_to_file(D_jobs1, filename_jobs1)\n",
    "print(fnj)\n",
    "fns = dict_to_file(D_sims1, filename_sims1)\n",
    "print(fns)"
   ]
  },
  {
   "cell_type": "code",
   "execution_count": 8,
   "metadata": {
    "scrolled": true
   },
   "outputs": [
    {
     "name": "stdout",
     "output_type": "stream",
     "text": [
      "\n",
      "\n",
      "Ready: True\n"
     ]
    }
   ],
   "source": [
    "#Check if the sent jobs are finished.\n",
    "filename_J1 = 'Jobs1_ibmq_guadalupe_T:10:26:28_28-09-2023.txt'#(0,8):\n",
    "\n",
    "modes = []\n",
    "ready = True\n",
    "\n",
    "D_J1 = file_to_dict(filename_J1)\n",
    "for x in D_J1.keys():\n",
    "    jobid = D_J1[x]\n",
    "    job2 = backend.retrieve_job(jobid)\n",
    "    stat = job2.status()\n",
    "    #print(job2.job_id(), \" : \", stat, \" : \", x)\n",
    "    if(str(stat)!='JobStatus.DONE'):\n",
    "        ready=False\n",
    "        break\n",
    "\n",
    "print(\"\\n\\nReady:\", ready)"
   ]
  },
  {
   "cell_type": "code",
   "execution_count": 9,
   "metadata": {},
   "outputs": [
    {
     "name": "stdout",
     "output_type": "stream",
     "text": [
      "16 0 20 1.0 1.0  :  0.987 1.0 0.0\n",
      "16 1 20 304.65 398.4  :  -0.027 0.747 0.432\n",
      "16 2 20 557.9 778.45  :  0.045 0.799 0.4\n",
      "16 3 20 962.6 1350.25  :  -0.12 0.746 0.431\n",
      "16 4 20 1250.2 1763.7  :  0.019 0.75 0.433\n",
      "16 5 20 1561.45 2243.8  :  0.027 0.633 0.459\n",
      "16 6 20 2035.85 2937.05  :  0.098 0.697 0.456\n",
      "16 7 20 2192.8 3207.45  :  0.002 0.55 0.497\n"
     ]
    }
   ],
   "source": [
    "#Preprocess results\n",
    "\n",
    "filename_J1 = 'Jobs1_ibmq_guadalupe_T:10:26:28_28-09-2023.txt'#(0,8):\n",
    "filename_S1 = 'Sims1_ibmq_guadalupe_T:10:26:28_28-09-2023.txt'#(0,8):\n",
    "            \n",
    "D_jobs1 = file_to_dict(filename_jobs1)\n",
    "D_sims1 = file_to_dict(filename_sims1)\n",
    "R = []\n",
    "A_lst = []\n",
    "for q in range(nr_qubits,nr_qubits+1):\n",
    "    for t in range(0,8):#(2,11):\n",
    "        A_lst.append([])\n",
    "        a_avg = 0\n",
    "        R2_avg = 0\n",
    "        R2_std = 0\n",
    "        ads = 0\n",
    "        add = 0\n",
    "        ctr_tests = 0\n",
    "        for test_nr in range(1,n_tests+1):\n",
    "            sS1 = \"S1_q=\"+str(q)+\"_t=\"+str(t)+\"_nr=\"+str(test_nr)\n",
    "            sJ1 = \"J1_q=\"+str(q)+\"_t=\"+str(t)+\"_nr=\"+str(test_nr)\n",
    "            if( (sJ1 in D_jobs1.keys()) & (sS1 in D_sims1.keys()) ):\n",
    "                [counts1, cd, cs] = D_sims1[sS1]\n",
    "                job2 = backend.retrieve_job(D_jobs1[sJ1])\n",
    "                dummy_res = job2.result()\n",
    "                counts2 = dummy_res.get_counts(0)\n",
    "                a,R2 = analyse_noise(counts1, counts2)\n",
    "                A_lst[t].append(a)\n",
    "                ctr_tests += 1\n",
    "                a_avg += a\n",
    "                R2_avg += R2\n",
    "                R2_std += (R2**2)\n",
    "                add += cd\n",
    "                ads += cs\n",
    "        if(ctr_tests>0):\n",
    "            a_avg = a_avg/ctr_tests\n",
    "            R2_avg = R2_avg/ctr_tests\n",
    "            R2_std = R2_std/ctr_tests\n",
    "            add = add/ctr_tests\n",
    "            ads = ads/ctr_tests\n",
    "            R2_std -= R2_avg**2\n",
    "            if(R2_std>=0.0):\n",
    "                R2_std = np.sqrt(R2_std)\n",
    "            R.append([q, t, a_avg, R2_avg, R2_std, add, ads, ctr_tests].copy())\n",
    "            print(q, t, ctr_tests, round(add,2), round(ads,2), \" : \", round(a_avg,3), round(R2_avg,3), round(R2_std,3) )\n",
    "        else:\n",
    "            print(q, t, \"No usable circuits found.\" )"
   ]
  },
  {
   "cell_type": "code",
   "execution_count": 10,
   "metadata": {
    "scrolled": false
   },
   "outputs": [
    {
     "data": {
      "image/png": "[encoded data removed]",
      "text/plain": [
       "<Figure size 432x288 with 1 Axes>"
      ]
     },
     "metadata": {
      "needs_background": "light"
     },
     "output_type": "display_data"
    },
    {
     "data": {
      "image/png": "[encoded data removed]",
      "text/plain": [
       "<Figure size 432x288 with 1 Axes>"
      ]
     },
     "metadata": {
      "needs_background": "light"
     },
     "output_type": "display_data"
    },
    {
     "data": {
      "image/png": "[encoded data removed]",
      "text/plain": [
       "<Figure size 432x288 with 1 Axes>"
      ]
     },
     "metadata": {
      "needs_background": "light"
     },
     "output_type": "display_data"
    },
    {
     "data": {
      "image/png": "[encoded data removed]",
      "text/plain": [
       "<Figure size 432x288 with 1 Axes>"
      ]
     },
     "metadata": {
      "needs_background": "light"
     },
     "output_type": "display_data"
    },
    {
     "data": {
      "image/png": "[encoded data removed]",
      "text/plain": [
       "<Figure size 432x288 with 1 Axes>"
      ]
     },
     "metadata": {
      "needs_background": "light"
     },
     "output_type": "display_data"
    },
    {
     "data": {
      "image/png": "[encoded data removed]",
      "text/plain": [
       "<Figure size 432x288 with 1 Axes>"
      ]
     },
     "metadata": {
      "needs_background": "light"
     },
     "output_type": "display_data"
    },
    {
     "data": {
      "image/png": "[encoded data removed]",
      "text/plain": [
       "<Figure size 432x288 with 1 Axes>"
      ]
     },
     "metadata": {
      "needs_background": "light"
     },
     "output_type": "display_data"
    },
    {
     "data": {
      "image/png": "[encoded data removed]",
      "text/plain": [
       "<Figure size 432x288 with 1 Axes>"
      ]
     },
     "metadata": {
      "needs_background": "light"
     },
     "output_type": "display_data"
    }
   ],
   "source": [
    "#Print the obtained distributions of the error probabilities a\n",
    "\n",
    "for a_lst in A_lst:\n",
    "    num_bins = 10\n",
    "    n, bins, patches = plt.hist(a_lst, num_bins)\n",
    "    plt.show()"
   ]
  },
  {
   "cell_type": "code",
   "execution_count": 11,
   "metadata": {},
   "outputs": [
    {
     "name": "stdout",
     "output_type": "stream",
     "text": [
      "1.0 1.0 0.1506 0.55781 simple\n",
      "\n",
      "1.0 0.1506 0.55781 bcs\n",
      "\n",
      "1.0 0.1063 0.55945 bcd\n",
      "\n",
      "16  0 : 20:   1.0    1.0  ::    0.987     0.978\n",
      "16  1 : 20: 304.6  398.4  ::   -0.027     0.001\n",
      "16  2 : 20: 557.9  778.5  ::    0.045     0.000\n",
      "16  3 : 20: 962.6  1350.2  ::   -0.120     0.000\n",
      "16  4 : 20: 1250.2  1763.7  ::    0.019     0.000\n",
      "16  5 : 20: 1561.5  2243.8  ::    0.027     0.000\n",
      "16  6 : 20: 2035.8  2937.1  ::    0.098     0.000\n",
      "16  7 : 20: 2192.8  3207.4  ::    0.002     0.000\n",
      "\n",
      " 0 &  20 &   1.0 &   1.0 &   0.987 &   0.978\\\\hline\n",
      " 1 &  20 & 304.6 & 398.4 &  -0.027 &   0.001\\\\hline\n",
      " 2 &  20 & 557.9 & 778.5 &   0.045 &   0.000\\\\hline\n",
      " 3 &  20 & 962.6 & 1350.2 &  -0.120 &   0.000\\\\hline\n",
      " 4 &  20 & 1250.2 & 1763.7 &   0.019 &   0.000\\\\hline\n",
      " 5 &  20 & 1561.5 & 2243.8 &   0.027 &   0.000\\\\hline\n",
      " 6 &  20 & 2035.8 & 2937.1 &   0.098 &   0.000\\\\hline\n",
      " 7 &  20 & 2192.8 & 3207.4 &   0.002 &   0.000\\\\hline\n"
     ]
    }
   ],
   "source": [
    "#Analyze the preprocessed results.\n",
    "\n",
    "b_nm, cd_nm, cs_nm, SSE = optimize_noise_model_simple(R)\n",
    "print(round(b_nm,5), round(cd_nm,5), round(cs_nm,4), round(SSE,5), \"simple\\n\")\n",
    "b_nm, cs_nm, SSE = optimize_noise_model_bcs(R)\n",
    "print(round(b_nm,5), round(cs_nm,5), round(SSE,5), \"bcs\\n\")\n",
    "b_nm, cd_nm, SSE = optimize_noise_model_bcd(R)\n",
    "print(round(b_nm,5), round(cd_nm,5), round(SSE,5), \"bcd\\n\")\n",
    "\n",
    "for [q,p,a,R2_avg,R2_std,add,ads,ctr] in R:\n",
    "    print( \"{5:2d} {0:2d} :{6:3d}: {3:5.1f}  {4:5.1f}  ::  {1:7.3f}   {2:7.3f}\".format(\n",
    "        p, a, b_nm*(cd_nm**(0.01*add)), add, ads, q, ctr \n",
    "    ) )\n",
    "\n",
    "\"\"\"    \n",
    "print(\"\\n\\n[q,p,a,R2_avg,R2_std,add,ads,ctr]\")\n",
    "for r in R:\n",
    "    print(r)\n",
    "\"\"\"    \n",
    "    \n",
    "print()\n",
    "for [q,p,a,R2_avg,R2_std,add,ads,ctr] in R:\n",
    "    print( \"{0:2d} & {6:3d} & {3:5.1f} & {4:5.1f} & {1:7.3f} & {2:7.3f}\\\\\\hline\".format(\n",
    "        p, a, b_nm*(cd_nm**(0.01*add)), add, ads, q, ctr \n",
    "    ) )"
   ]
  },
  {
   "cell_type": "code",
   "execution_count": 12,
   "metadata": {},
   "outputs": [
    {
     "name": "stdout",
     "output_type": "stream",
     "text": [
      "[1.0, 304.65, 557.9, 962.6, 1250.2, 1561.45, 2035.85, 2192.8]\n"
     ]
    },
    {
     "data": {
      "image/png": "[encoded data removed]",
      "text/plain": [
       "<Figure size 432x288 with 1 Axes>"
      ]
     },
     "metadata": {
      "needs_background": "light"
     },
     "output_type": "display_data"
    }
   ],
   "source": [
    "#Depict the error probabilities, the modelled probabilities and the R2 of the error probabilities.\n",
    "\n",
    "X = [ add for [q,p,a,R2_avg,R2_std,add,_,_] in R ]\n",
    "Y2 = [ a for [q,p,a,R2_avg,R2_std,add,_,_] in R ]\n",
    "Y3 = [ b_nm*(cd_nm**(0.01*add)) for [q,p,a,R2_avg,R2_std,add,_,_] in R ]\n",
    "Y4 = [ R2_avg for [q,p,a,R2_avg,R2_std,add,_,_] in R ]\n",
    "fig, ax = plt.subplots()\n",
    "ax.plot(X,Y2, color='blue')\n",
    "ax.plot(X,Y3, color='orange')\n",
    "ax.plot(X,Y4, color='green')\n",
    "#ax.plot(X,Y2, color='magenta')\n",
    "\n",
    "print(X)"
   ]
  },
  {
   "cell_type": "markdown",
   "metadata": {},
   "source": [
    "## Test the error model"
   ]
  },
  {
   "cell_type": "code",
   "execution_count": 18,
   "metadata": {
    "scrolled": true
   },
   "outputs": [
    {
     "name": "stdout",
     "output_type": "stream",
     "text": [
      "Jobs2_ibmq_guadalupe_T:14:04:53_11-08-2023.txt Sims2_ibmq_guadalupe_T:14:04:53_11-08-2023.txt\n",
      "J2_q=16_t=0_nr=1 sent.\n",
      "J2_q=16_t=0_nr=2 sent.\n",
      "J2_q=16_t=0_nr=3 sent.\n",
      "J2_q=16_t=0_nr=4 sent.\n",
      "J2_q=16_t=0_nr=5 sent.\n",
      "J2_q=16_t=0_nr=6 sent.\n",
      "J2_q=16_t=0_nr=7 sent.\n",
      "J2_q=16_t=0_nr=8 sent.\n",
      "J2_q=16_t=0_nr=9 sent.\n",
      "J2_q=16_t=0_nr=10 sent.\n",
      "J2_q=16_t=0_nr=11 sent.\n",
      "J2_q=16_t=0_nr=12 sent.\n",
      "J2_q=16_t=0_nr=13 sent.\n",
      "J2_q=16_t=0_nr=14 sent.\n",
      "J2_q=16_t=0_nr=15 sent.\n",
      "J2_q=16_t=0_nr=16 sent.\n",
      "J2_q=16_t=0_nr=17 sent.\n",
      "J2_q=16_t=0_nr=18 sent.\n",
      "J2_q=16_t=0_nr=19 sent.\n",
      "J2_q=16_t=0_nr=20 sent.\n",
      "J2_q=16_t=1_nr=1 sent.\n",
      "J2_q=16_t=1_nr=2 sent.\n",
      "J2_q=16_t=1_nr=3 sent.\n",
      "J2_q=16_t=1_nr=4 sent.\n",
      "J2_q=16_t=1_nr=5 sent.\n",
      "J2_q=16_t=1_nr=6 sent.\n",
      "J2_q=16_t=1_nr=7 sent.\n",
      "J2_q=16_t=1_nr=8 sent.\n",
      "J2_q=16_t=1_nr=9 sent.\n",
      "J2_q=16_t=1_nr=10 sent.\n",
      "J2_q=16_t=1_nr=11 sent.\n",
      "J2_q=16_t=1_nr=12 sent.\n",
      "J2_q=16_t=1_nr=13 sent.\n",
      "J2_q=16_t=1_nr=14 sent.\n",
      "J2_q=16_t=1_nr=15 sent.\n",
      "J2_q=16_t=1_nr=16 sent.\n",
      "J2_q=16_t=1_nr=17 sent.\n",
      "J2_q=16_t=1_nr=18 sent.\n",
      "J2_q=16_t=1_nr=19 sent.\n",
      "J2_q=16_t=1_nr=20 sent.\n",
      "J2_q=16_t=2_nr=1 sent.\n",
      "J2_q=16_t=2_nr=2 sent.\n",
      "J2_q=16_t=2_nr=3 sent.\n",
      "J2_q=16_t=2_nr=4 sent.\n",
      "J2_q=16_t=2_nr=5 sent.\n",
      "J2_q=16_t=2_nr=6 sent.\n",
      "J2_q=16_t=2_nr=7 sent.\n",
      "J2_q=16_t=2_nr=8 sent.\n",
      "J2_q=16_t=2_nr=9 sent.\n",
      "J2_q=16_t=2_nr=10 sent.\n",
      "J2_q=16_t=2_nr=11 sent.\n",
      "J2_q=16_t=2_nr=12 sent.\n",
      "J2_q=16_t=2_nr=13 sent.\n",
      "J2_q=16_t=2_nr=14 sent.\n",
      "J2_q=16_t=2_nr=15 sent.\n",
      "J2_q=16_t=2_nr=16 sent.\n",
      "J2_q=16_t=2_nr=17 sent.\n",
      "J2_q=16_t=2_nr=18 sent.\n",
      "J2_q=16_t=2_nr=19 sent.\n",
      "J2_q=16_t=2_nr=20 sent.\n",
      "J2_q=16_t=3_nr=1 sent.\n",
      "J2_q=16_t=3_nr=2 sent.\n",
      "J2_q=16_t=3_nr=3 sent.\n",
      "J2_q=16_t=3_nr=4 sent.\n",
      "J2_q=16_t=3_nr=5 sent.\n",
      "J2_q=16_t=3_nr=6 sent.\n",
      "J2_q=16_t=3_nr=7 sent.\n",
      "J2_q=16_t=3_nr=8 sent.\n",
      "J2_q=16_t=3_nr=9 sent.\n",
      "J2_q=16_t=3_nr=10 sent.\n",
      "J2_q=16_t=3_nr=11 sent.\n",
      "J2_q=16_t=3_nr=12 sent.\n",
      "J2_q=16_t=3_nr=13 sent.\n",
      "J2_q=16_t=3_nr=14 sent.\n",
      "J2_q=16_t=3_nr=15 sent.\n",
      "J2_q=16_t=3_nr=16 sent.\n",
      "J2_q=16_t=3_nr=17 sent.\n",
      "J2_q=16_t=3_nr=18 sent.\n",
      "J2_q=16_t=3_nr=19 sent.\n",
      "J2_q=16_t=3_nr=20 sent.\n",
      "J2_q=16_t=4_nr=1 sent.\n",
      "J2_q=16_t=4_nr=2 sent.\n",
      "J2_q=16_t=4_nr=3 sent.\n",
      "J2_q=16_t=4_nr=4 sent.\n",
      "J2_q=16_t=4_nr=5 sent.\n",
      "J2_q=16_t=4_nr=6 sent.\n",
      "J2_q=16_t=4_nr=7 sent.\n",
      "J2_q=16_t=4_nr=8 sent.\n",
      "J2_q=16_t=4_nr=9 sent.\n",
      "J2_q=16_t=4_nr=10 sent.\n",
      "J2_q=16_t=4_nr=11 sent.\n",
      "J2_q=16_t=4_nr=12 sent.\n",
      "J2_q=16_t=4_nr=13 sent.\n",
      "J2_q=16_t=4_nr=14 sent.\n",
      "J2_q=16_t=4_nr=15 sent.\n",
      "J2_q=16_t=4_nr=16 sent.\n",
      "J2_q=16_t=4_nr=17 sent.\n",
      "J2_q=16_t=4_nr=18 sent.\n",
      "J2_q=16_t=4_nr=19 sent.\n",
      "J2_q=16_t=4_nr=20 sent.\n",
      "J2_q=16_t=5_nr=1 failed.\n",
      "J2_q=16_t=5_nr=2 sent.\n",
      "J2_q=16_t=5_nr=3 sent.\n",
      "J2_q=16_t=5_nr=4 sent.\n",
      "J2_q=16_t=5_nr=5 sent.\n",
      "J2_q=16_t=5_nr=6 sent.\n",
      "J2_q=16_t=5_nr=7 sent.\n",
      "J2_q=16_t=5_nr=8 sent.\n",
      "J2_q=16_t=5_nr=9 sent.\n",
      "J2_q=16_t=5_nr=10 sent.\n",
      "J2_q=16_t=5_nr=11 sent.\n",
      "J2_q=16_t=5_nr=12 sent.\n",
      "J2_q=16_t=5_nr=13 sent.\n",
      "J2_q=16_t=5_nr=14 sent.\n",
      "J2_q=16_t=5_nr=15 sent.\n",
      "J2_q=16_t=5_nr=16 sent.\n",
      "J2_q=16_t=5_nr=17 sent.\n",
      "J2_q=16_t=5_nr=18 sent.\n",
      "J2_q=16_t=5_nr=19 sent.\n",
      "J2_q=16_t=5_nr=20 sent.\n",
      "J2_q=16_t=6_nr=1 sent.\n",
      "J2_q=16_t=6_nr=2 sent.\n",
      "J2_q=16_t=6_nr=3 sent.\n",
      "J2_q=16_t=6_nr=4 sent.\n",
      "J2_q=16_t=6_nr=5 sent.\n",
      "J2_q=16_t=6_nr=6 sent.\n",
      "J2_q=16_t=6_nr=7 sent.\n",
      "J2_q=16_t=6_nr=8 sent.\n",
      "J2_q=16_t=6_nr=9 sent.\n",
      "J2_q=16_t=6_nr=10 sent.\n",
      "J2_q=16_t=6_nr=11 sent.\n",
      "J2_q=16_t=6_nr=12 sent.\n",
      "J2_q=16_t=6_nr=13 sent.\n",
      "J2_q=16_t=6_nr=14 sent.\n",
      "J2_q=16_t=6_nr=15 sent.\n",
      "J2_q=16_t=6_nr=16 sent.\n",
      "J2_q=16_t=6_nr=17 sent.\n",
      "J2_q=16_t=6_nr=18 sent.\n",
      "J2_q=16_t=6_nr=19 sent.\n",
      "J2_q=16_t=6_nr=20 sent.\n",
      "J2_q=16_t=7_nr=1 sent.\n",
      "J2_q=16_t=7_nr=2 sent.\n",
      "J2_q=16_t=7_nr=3 sent.\n",
      "J2_q=16_t=7_nr=4 sent.\n",
      "J2_q=16_t=7_nr=5 sent.\n",
      "J2_q=16_t=7_nr=6 sent.\n",
      "J2_q=16_t=7_nr=7 sent.\n",
      "J2_q=16_t=7_nr=8 sent.\n",
      "J2_q=16_t=7_nr=9 sent.\n",
      "J2_q=16_t=7_nr=10 sent.\n",
      "J2_q=16_t=7_nr=11 sent.\n",
      "J2_q=16_t=7_nr=12 sent.\n",
      "J2_q=16_t=7_nr=13 sent.\n",
      "J2_q=16_t=7_nr=14 sent.\n",
      "J2_q=16_t=7_nr=15 sent.\n",
      "J2_q=16_t=7_nr=16 sent.\n",
      "J2_q=16_t=7_nr=17 sent.\n",
      "J2_q=16_t=7_nr=18 sent.\n",
      "J2_q=16_t=7_nr=19 sent.\n",
      "J2_q=16_t=7_nr=20 sent.\n"
     ]
    }
   ],
   "source": [
    "#Send jobs to hardware\n",
    "x = datetime.datetime.now()\n",
    "filename_jobs2 = \"Jobs2_\" + backend.name() + \"_T:\" + x.strftime(\"%H:%M:%S_%d-%m-%Y\") + \".txt\"\n",
    "filename_sims2 = \"Sims2_\" + backend.name() + \"_T:\" + x.strftime(\"%H:%M:%S_%d-%m-%Y\") + \".txt\"\n",
    "print(filename_jobs2, filename_sims2)\n",
    "\n",
    "D_jobs2 = {}\n",
    "D_sims2 = {}\n",
    "\n",
    "for q in range(nr_qubits,nr_qubits+1):\n",
    "    for t in range(0,8):#(2,11):\n",
    "        for test_nr in range(1,n_tests+1):\n",
    "            circ = random_circ(q,t)\n",
    "            counts1 = clean_exc(circ)\n",
    "            sS2 = \"S2_q=\"+str(q)+\"_t=\"+str(t)+\"_nr=\"+str(test_nr)\n",
    "            cd = circ.depth()\n",
    "            cs = circ.size()\n",
    "            D_sims2[sS2] = [counts1, cd, cs]\n",
    "            sJ2 = \"J2_q=\"+str(q)+\"_t=\"+str(t)+\"_nr=\"+str(test_nr)\n",
    "            try:\n",
    "                job_id2 = hardware_exc(circ, backend)\n",
    "                D_jobs2[sJ2] = job_id2\n",
    "                print(sJ2, \"sent.\")\n",
    "            except:\n",
    "                print(sJ2, \"failed.\")"
   ]
  },
  {
   "cell_type": "code",
   "execution_count": 20,
   "metadata": {},
   "outputs": [
    {
     "name": "stdout",
     "output_type": "stream",
     "text": [
      "Jobs2_ibmq_guadalupe_T:14:04:53_11-08-2023.txt\n",
      "Sims2_ibmq_guadalupe_T:14:04:53_11-08-2023.txt\n"
     ]
    }
   ],
   "source": [
    "#Save job id's to a file\n",
    "fnj = dict_to_file(D_jobs2, filename_jobs2)\n",
    "print(fnj)\n",
    "fns = dict_to_file(D_sims2, filename_sims2)\n",
    "print(fns)"
   ]
  },
  {
   "cell_type": "code",
   "execution_count": null,
   "metadata": {},
   "outputs": [],
   "source": [
    "#Check is the jobs are finished\n",
    "\n",
    "filename_J2 = 'Jobs2_ibm_perth_T:15:23:00_16-03-2023.txt'#(0,8):\n",
    "\n",
    "ready = True\n",
    "\n",
    "D_J2 = file_to_dict(filename_J2)\n",
    "for x in D_J2.keys():\n",
    "    jobid = D_J2[x]\n",
    "    job2 = backend.retrieve_job(jobid)\n",
    "    stat = job2.status()\n",
    "    print(job2.job_id(), \" : \", stat, \" : \", x)\n",
    "    if(str(stat)!='JobStatus.DONE'):\n",
    "        ready=False\n",
    "        break\n",
    "        \n",
    "print(\"\\n\\nReady:\", ready)"
   ]
  },
  {
   "cell_type": "code",
   "execution_count": null,
   "metadata": {},
   "outputs": [],
   "source": [
    "#Recall learned parameters\n",
    "\n",
    "\n",
    "b_nm  = 0.9543   #Run1 on  'Jobs2_ibm_perth_T:16:50:38_10-01-2023.txt'\n",
    "cd_nm = 0.1757 #Run1 and 'Sims2_ibm_perth_T:16:50:38_10-01-2023.txt'"
   ]
  },
  {
   "cell_type": "code",
   "execution_count": null,
   "metadata": {},
   "outputs": [],
   "source": [
    "#Preproces results\n",
    "\n",
    "filename_jobs2 = 'Jobs2_ibm_perth_T:16:50:38_10-01-2023.txt'#(0,8):\n",
    "filename_sims2 = 'Sims2_ibm_perth_T:16:50:38_10-01-2023.txt'#(0,8):\n",
    "\n",
    "\n",
    "D_jobs2 = file_to_dict(filename_jobs2)\n",
    "D_sims2 = file_to_dict(filename_sims2)\n",
    "results = []\n",
    "for q in range(nr_qubits,nr_qubits+1):\n",
    "    for t in range(0,8):#(2,11):\n",
    "        a_avg = 0\n",
    "        R2_avg = 0\n",
    "        R2_std = 0\n",
    "        R2_nm_avg = 0\n",
    "        R2_nm_std = 0\n",
    "        acd = 0\n",
    "        ctr_tests = 0\n",
    "        for test_nr in range(1,n_tests+1):\n",
    "            sS2 = \"S2_q=\"+str(q)+\"_t=\"+str(t)+\"_nr=\"+str(test_nr)\n",
    "            sJ2 = \"J2_q=\"+str(q)+\"_t=\"+str(t)+\"_nr=\"+str(test_nr)\n",
    "            if( (sJ2 in D_jobs2.keys()) & (sS2 in D_sims2.keys()) ):\n",
    "                [counts1, rcd, _] = D_sims2[sS2]\n",
    "                job2 = backend.retrieve_job(D_jobs2[sJ2])\n",
    "                counts2 = job2.result().get_counts(0)\n",
    "                a,R2 = analyse_noise(counts1, counts2)\n",
    "                a_nm = b_nm*(cd_nm**(0.01*rcd))\n",
    "                ctr_tests += 1\n",
    "                a_avg += a\n",
    "                acd += rcd\n",
    "                R2_avg += R2\n",
    "                R2_std += (R2**2)\n",
    "                R2_nm = c_R2(counts1,counts2,a_nm)\n",
    "                R2_nm_avg += R2_nm\n",
    "                R2_nm_std += (R2_nm**2)\n",
    "        if(ctr_tests>0):\n",
    "            a_avg = a_avg/ctr_tests\n",
    "            acd = acd/ctr_tests\n",
    "            R2_avg = R2_avg/ctr_tests\n",
    "            R2_std = R2_std/ctr_tests\n",
    "            R2_nm_avg = R2_nm_avg/ctr_tests\n",
    "            R2_nm_std = R2_nm_std/ctr_tests\n",
    "            R2_std -= R2_avg**2\n",
    "            R2_nm_std -= R2_nm_avg**2\n",
    "            if(R2_std>=0.0):\n",
    "                R2_std = np.sqrt(R2_std)\n",
    "            if(R2_nm_std>=0.0):\n",
    "                R2_nm_std = np.sqrt(R2_nm_std)\n",
    "            result = \"q={9:2d} p={0:2d} {7:6.1f} {8:3d} : a_avg={1:5.3f} R2_avg={2:5.2f} R2_std={3:5.2f} a_nm={4:5.3f} R2_nm_avg={5:5.2f} R2_nm_std={6:5.2f} \".format(\n",
    "                t,a_avg, R2_avg, R2_std, a_nm, R2_nm_avg, R2_nm_std, acd, ctr_tests, q\n",
    "            )\n",
    "            results.append([t,a_avg, R2_avg, R2_std, a_nm, R2_nm_avg, R2_nm_std, acd, ctr_tests, q])\n",
    "            print( result )\n",
    "        else:\n",
    "            print(q, t, \"No usable circuits found.\")"
   ]
  },
  {
   "cell_type": "code",
   "execution_count": null,
   "metadata": {},
   "outputs": [],
   "source": [
    "#Compare the quality of the trained model with the new experiments\n",
    "\n",
    "X = [ acd for [t,a_avg, R2_avg, R2_std, a_nm, R2_nm_avg, R2_nm_std, acd, _, q] in results ]\n",
    "Y2 = [ R2_avg for [t,a_avg, R2_avg, R2_std, a_nm, R2_nm_avg, R2_nm_std, acd, _, q] in results ]\n",
    "Y3 = [ R2_std for [t,a_avg, R2_avg, R2_std, a_nm, R2_nm_avg, R2_nm_std, acd, _, q] in results ]\n",
    "Y4 = [ R2_nm_avg for [t,a_avg, R2_avg, R2_std, a_nm, R2_nm_avg, R2_nm_std, acd, _, q] in results ]\n",
    "Y5 = [ R2_nm_std for [t,a_avg, R2_avg, R2_std, a_nm, R2_nm_avg, R2_nm_std, acd, _, q] in results ]\n",
    "fig, ax = plt.subplots()\n",
    "ax.plot(X,Y2, color='blue')\n",
    "ax.plot(X,Y3, color='orange')\n",
    "ax.plot(X,Y4, color='purple')\n",
    "ax.plot(X,Y5, color='green')\n",
    "#ax.plot(X,Y2, color='magenta')\n",
    "plt.legend(['$R^{2}$ data', 'std dev $R^{2}$ data', '$R^{2}$ noise model', 'std dev $R^{2}$ noise model'])\n"
   ]
  },
  {
   "cell_type": "code",
   "execution_count": null,
   "metadata": {},
   "outputs": [],
   "source": []
  },
  {
   "cell_type": "code",
   "execution_count": null,
   "metadata": {},
   "outputs": [],
   "source": []
  }
 ],
 "metadata": {
  "kernelspec": {
   "display_name": "Python 3 (ipykernel)",
   "language": "python",
   "name": "python3"
  },
  "language_info": {
   "codemirror_mode": {
    "name": "ipython",
    "version": 3
   },
   "file_extension": ".py",
   "mimetype": "text/x-python",
   "name": "python",
   "nbconvert_exporter": "python",
   "pygments_lexer": "ipython3",
   "version": "3.10.12"
  }
 },
 "nbformat": 4,
 "nbformat_minor": 4
}
