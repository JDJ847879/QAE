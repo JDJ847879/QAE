{
 "cells": [
  {
   "cell_type": "code",
   "execution_count": 1,
   "id": "1974469a",
   "metadata": {},
   "outputs": [],
   "source": [
    "from support_functions import *"
   ]
  },
  {
   "cell_type": "markdown",
   "id": "ad9d3a2a",
   "metadata": {},
   "source": [
    "Plot the coupling maps"
   ]
  },
  {
   "cell_type": "code",
   "execution_count": 2,
   "id": "0027e36b",
   "metadata": {},
   "outputs": [],
   "source": [
    "import numpy as np\n",
    "\n",
    "import matplotlib.pyplot as plt\n",
    "from matplotlib import colors\n",
    "from qiskit_experiments.library import QuantumVolume\n",
    "\n",
    "from qiskit.visualization import plot_coupling_map"
   ]
  },
  {
   "cell_type": "markdown",
   "id": "3837673d",
   "metadata": {},
   "source": []
  },
  {
   "cell_type": "code",
   "execution_count": 13,
   "id": "0619f53e",
   "metadata": {},
   "outputs": [],
   "source": [
    "q = 8#8#10#15"
   ]
  },
  {
   "cell_type": "code",
   "execution_count": 14,
   "id": "fe960f79",
   "metadata": {},
   "outputs": [
    {
     "name": "stdout",
     "output_type": "stream",
     "text": [
      "[[0, 1], [1, 0], [1, 2], [2, 1], [1, 3], [3, 1], [3, 5], [5, 3], [4, 5], [5, 4], [5, 6], [6, 5], [2, 7], [7, 2]] <class 'qiskit.transpiler.coupling.CouplingMap'>\n",
      "[(0, 1), (1, 0), (1, 2), (2, 1), (1, 3), (3, 1), (3, 5), (5, 3), (4, 5), (5, 4), (5, 6), (6, 5), (2, 7), (7, 2)] <class 'list'>\n"
     ]
    }
   ],
   "source": [
    "Coupling_Map = get_coupling_map(q)\n",
    "print(Coupling_Map, type(Coupling_Map))\n",
    "print(list(Coupling_Map), type(list(Coupling_Map)))"
   ]
  },
  {
   "cell_type": "code",
   "execution_count": 15,
   "id": "27d143dd",
   "metadata": {},
   "outputs": [],
   "source": [
    "qubit_coor = [ \n",
    "[0,0], [0,1], [0,2], [1,1], \n",
    "[2,0], [2,1], [2,2], [0,3]\n",
    "]\n",
    "\n",
    "qubit_coor_10 = [ \n",
    "[0,0], [0,1], [0,2], [1,1], \n",
    "[2,0], [2,1], [2,2], [0,3],\n",
    "[2,3], [0,4]\n",
    "]\n",
    "\n",
    "qubit_coor_15 = [ \n",
    "[1,0], [1,1], [2,1], [3,1], \n",
    "[1,2], [3,2], [0,3], [1,3],\n",
    "[3,3], [4,3], [1,4], [3,4],\n",
    "[1,5], [2,5], [3,5]\n",
    "]"
   ]
  },
  {
   "cell_type": "code",
   "execution_count": 16,
   "id": "89f59f0e",
   "metadata": {},
   "outputs": [
    {
     "name": "stdout",
     "output_type": "stream",
     "text": [
      "CM8.png\n"
     ]
    },
    {
     "data": {
      "image/png": "[encoded data removed]",
      "text/plain": [
       "<Figure size 360x360 with 1 Axes>"
      ]
     },
     "execution_count": 16,
     "metadata": {},
     "output_type": "execute_result"
    }
   ],
   "source": [
    "name = 'CM'+str(q)+'.png'\n",
    "print(name)\n",
    "plot_coupling_map(q, qubit_coor, list(Coupling_Map), filename=name)"
   ]
  },
  {
   "cell_type": "code",
   "execution_count": 46,
   "id": "fd5c3d44",
   "metadata": {},
   "outputs": [
    {
     "data": {
      "text/plain": [
       "1"
      ]
     },
     "execution_count": 46,
     "metadata": {},
     "output_type": "execute_result"
    }
   ],
   "source": [
    "min([1,2,3,4])"
   ]
  },
  {
   "cell_type": "code",
   "execution_count": 50,
   "id": "d5b8be22",
   "metadata": {},
   "outputs": [
    {
     "name": "stdout",
     "output_type": "stream",
     "text": [
      "5\n"
     ]
    }
   ],
   "source": [
    "def dist(i, j, q, CM, nn=None):\n",
    "    cm = list(CM)\n",
    "    if(i==j):\n",
    "        print(\"Error\")\n",
    "        return 0\n",
    "    if(i,j) in cm:\n",
    "        return 1\n",
    "    not_node = -1\n",
    "    if nn is not None:\n",
    "        not_node=nn\n",
    "    answer_list = []\n",
    "    for (a,b) in cm:\n",
    "        if( ( a==i ) & (b!=not_node) ):\n",
    "            x = dist(b,j,q,cm,i)\n",
    "            if x is not None:\n",
    "                answer_list.append( 1+int(x) )\n",
    "            else:\n",
    "                answer_list.append( 1+int(q) )\n",
    "        else:\n",
    "            answer_list.append( int(q) )\n",
    "            \n",
    "    return min(answer_list)\n",
    "\n",
    "print(dist(0,8,q,get_coupling_map(q)))"
   ]
  },
  {
   "cell_type": "code",
   "execution_count": 56,
   "id": "bfce9918",
   "metadata": {},
   "outputs": [
    {
     "name": "stdout",
     "output_type": "stream",
     "text": [
      "5\n"
     ]
    }
   ],
   "source": [
    "print(dist(7,11,16,get_coupling_map(16)))"
   ]
  },
  {
   "cell_type": "code",
   "execution_count": 61,
   "id": "ed0806ab",
   "metadata": {},
   "outputs": [
    {
     "name": "stdout",
     "output_type": "stream",
     "text": [
      "4 1.5 0.75\n",
      "5 1.8 0.805\n",
      "6 2.13 0.871\n",
      "7 2.29 0.864\n",
      "8 2.54 0.897\n",
      "9 2.78 0.926\n",
      "10 3.07 0.97\n",
      "11 3.35 1.009\n",
      "12 3.02 0.87\n"
     ]
    }
   ],
   "source": [
    "for q in range(4,13):\n",
    "    pairs = 0\n",
    "    length = 0\n",
    "    for i in range(q-1):\n",
    "        for j in range(i+1,q):\n",
    "            x = dist(i,j,q,get_coupling_map(q))\n",
    "            if(x>0):\n",
    "                pairs += 1\n",
    "                length += x\n",
    "    print(q, round(length/pairs,2), round(length/(pairs*np.sqrt(q)),3))"
   ]
  },
  {
   "cell_type": "code",
   "execution_count": null,
   "id": "ecaeb6c7",
   "metadata": {},
   "outputs": [],
   "source": []
  }
 ],
 "metadata": {
  "kernelspec": {
   "display_name": "Python 3 (ipykernel)",
   "language": "python",
   "name": "python3"
  },
  "language_info": {
   "codemirror_mode": {
    "name": "ipython",
    "version": 3
   },
   "file_extension": ".py",
   "mimetype": "text/x-python",
   "name": "python",
   "nbconvert_exporter": "python",
   "pygments_lexer": "ipython3",
   "version": "3.10.12"
  }
 },
 "nbformat": 4,
 "nbformat_minor": 5
}
