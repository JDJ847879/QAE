{
 "cells": [
  {
   "cell_type": "code",
   "execution_count": null,
   "id": "1974469a",
   "metadata": {},
   "outputs": [],
   "source": [
    "from support_functions import *"
   ]
  },
  {
   "cell_type": "code",
   "execution_count": null,
   "id": "0027e36b",
   "metadata": {},
   "outputs": [],
   "source": [
    "import numpy as np\n",
    "from qiskit_experiments.library import QuantumVolume"
   ]
  },
  {
   "cell_type": "markdown",
   "id": "2c320dd4",
   "metadata": {},
   "source": [
    "This notebook determines the size of QV and QAE circuits. The circuits should be transpiled and decomposed."
   ]
  },
  {
   "cell_type": "code",
   "execution_count": null,
   "id": "9ed2fe39",
   "metadata": {},
   "outputs": [],
   "source": [
    "def all_keys(q):\n",
    "    \"\"\"\n",
    "    All possible bit strings with q bits.\n",
    "    \"\"\"\n",
    "    keys = []\n",
    "    vector = [0 for _ in range(q)]\n",
    "    while(vector[-1]<2):\n",
    "        keystr = ''\n",
    "        for b in vector:\n",
    "            keystr += str(b)\n",
    "        keys.append(keystr)\n",
    "        \n",
    "        vector[0] += 1\n",
    "        for i in range(0,q-1):\n",
    "            if( vector[i] >= 2):\n",
    "                vector[i] = 0\n",
    "                vector[i+1] += 1\n",
    "            else:\n",
    "                break\n",
    "    return keys\n",
    "\n",
    "#allkeys = all_keys(6)\n",
    "#print(allkeys)"
   ]
  },
  {
   "cell_type": "markdown",
   "id": "85df1a97",
   "metadata": {},
   "source": [
    "# Quantum volume"
   ]
  },
  {
   "cell_type": "code",
   "execution_count": null,
   "id": "f9b57a60",
   "metadata": {},
   "outputs": [],
   "source": [
    "def Generate_QuantumVolumeCircuits(nr_qubits, nr_of_circuits):\n",
    "    qv = QuantumVolume([i for i in range(nr_qubits)], trials=nr_of_circuits)\n",
    "    circs = qv.circuits()\n",
    "    return circs"
   ]
  },
  {
   "cell_type": "code",
   "execution_count": null,
   "id": "44a818ec",
   "metadata": {},
   "outputs": [],
   "source": [
    "q = 5\n",
    "n_tests = 20"
   ]
  },
  {
   "cell_type": "code",
   "execution_count": null,
   "id": "0bf7f3fd",
   "metadata": {},
   "outputs": [],
   "source": [
    "coef3 = 0.24\n",
    "coef2 = 8.13\n",
    "def size_pred(q, coef3, coef2):\n",
    "    \"\"\"\n",
    "    The size of a transpiled and decomposed quantum volume circuit on q qubits.\n",
    "    \"\"\"\n",
    "    return coef3 * q**3 + coef2 * q**2"
   ]
  },
  {
   "cell_type": "code",
   "execution_count": null,
   "id": "4809a73f",
   "metadata": {},
   "outputs": [],
   "source": [
    "#Test the size of QV circuit.\n",
    "for q in range(4,17):\n",
    "circs = Generate_QuantumVolumeCircuits(q, n_tests)\n",
    "total_size = 0\n",
    "for circ in circs:\n",
    "    tdc = transpile(circ.decompose(reps=2), basis_gates=load_noise_thermal().basis_gates, coupling_map=get_coupling_map(q), optimization_level=3)\n",
    "    total_size += tdc.size()\n",
    "print(q, round(total_size / n_tests,1), round(size_pred(q),1), round(total_size / (n_tests*q),3))"
   ]
  },
  {
   "cell_type": "code",
   "execution_count": null,
   "id": "8823477b",
   "metadata": {},
   "outputs": [],
   "source": []
  },
  {
   "cell_type": "code",
   "execution_count": null,
   "id": "8fb04e48",
   "metadata": {},
   "outputs": [],
   "source": [
    "#Find the best coefficients.\n",
    "X = [q for q in range(4,17)]\n",
    "Y = [135.2, 201.7, 375.7, 458.6, 682.0, 813.9, 1137.3, 1278.6, 1627.7, 1804.8, 2301.2, 2514.0, 3152.7]\n",
    "best_diff = sum( (Y[i]-size_pred(4+i,coef3,coef2))**2 for i in range(len(Y)) )\n",
    "for c2 in range(100):\n",
    "    for c3 in range(100):\n",
    "        tcoef2 = 8.19 + (c2-50)*0.01\n",
    "        tcoef3 = 0.24 + (c3-50)*0.01\n",
    "        diff = sum( (Y[i]-size_pred(4+i,tcoef3,tcoef2))**2 for i in range(len(Y)) )\n",
    "        if( diff < best_diff ):\n",
    "            best_diff = diff\n",
    "            coef3 = tcoef3\n",
    "            coef2 = tcoef2\n",
    "print(coef3, coef2)"
   ]
  },
  {
   "cell_type": "code",
   "execution_count": null,
   "id": "056aa467",
   "metadata": {},
   "outputs": [],
   "source": [
    "figure, ax = plt.subplots()\n",
    "Y2 = [ size_pred(q, coef3, coef2) for q in X ]\n",
    "plt.plot(X,Y)\n",
    "plt.plot(X,Y2)\n",
    "plt.legend(['QV size', 'model'])\n",
    "ax.set_xlabel('Number of Qubits')\n",
    "ax.set_ylabel('Circuit size')\n",
    "#plt.savefig('QV_circuit_size.png')\n",
    "plt.show()"
   ]
  },
  {
   "cell_type": "markdown",
   "id": "391a2ece",
   "metadata": {},
   "source": [
    "# Quantum amplitude estimation"
   ]
  },
  {
   "cell_type": "code",
   "execution_count": null,
   "id": "41b76ee2",
   "metadata": {},
   "outputs": [],
   "source": [
    "def MLE_MCI_f_uniform(nr_of_qubits,powers, f_lst):\n",
    "    \"\"\"\n",
    "    Function that generates a circuit of nr_of_qubits qubits with powers amplification rounds \n",
    "    for the maximum likelihood estimator for monte carlo integration of the function f_lst \n",
    "    against the probability distribution prob_lst.\n",
    "    \"\"\"\n",
    "    n = nr_of_qubits\n",
    "    qc = QuantumCircuit(n,1)\n",
    "    all_qubits = [i for i in range(n)]\n",
    "    sample_qubits = [i for i in range(n-1)]\n",
    "    \n",
    "    #Prepare samping points / state\n",
    "    qc.append(uniform_dist(n-1), sample_qubits)\n",
    "    #qc.append(uni_prob_mat(prob_lst), sample_qubits)\n",
    "\n",
    "    #qc.barrier()\n",
    "\n",
    "    #Evaluate function\n",
    "    qc.append(uni_integration_mat(f_lst),all_qubits)#f(x)=f(x)\n",
    "    \n",
    "\n",
    "    for _ in range(powers):\n",
    "        #qc.barrier()    \n",
    "        qc.z(n-1)\n",
    "        #qc.barrier()\n",
    "        #Invert function\n",
    "        qc.append(inv_uni_integration_mat(f_lst),all_qubits)#f(x)=f(x)\n",
    "        \n",
    "        #qc.barrier()\n",
    "        qc.x(n-1)\n",
    "        qc.h(n-1)\n",
    "        qc.append(inv_uniform_dist(n-1), sample_qubits)\n",
    "        #qc.append(inv_uni_prob_mat(prob_lst), sample_qubits)\n",
    "        for i in range(n-1):\n",
    "            qc.x(i)\n",
    "        qc.mcx(sample_qubits,n-1)\n",
    "        qc.h(n-1)\n",
    "        qc.x(n-1)\n",
    "        for i in range(n-1):\n",
    "            qc.x(i)\n",
    "        qc.append(uniform_dist(n-1), sample_qubits)\n",
    "        #qc.append(uni_prob_mat(prob_lst), sample_qubits)\n",
    "        #qc.barrier()\n",
    "        #Evaluate function\n",
    "        qc.append(uni_integration_mat(f_lst),all_qubits)#f(x)=f(x)\n",
    "\n",
    "    qc.measure(n-1,0)\n",
    "    return qc"
   ]
  },
  {
   "cell_type": "code",
   "execution_count": null,
   "id": "c4b43c4f",
   "metadata": {},
   "outputs": [],
   "source": [
    "%%time\n",
    "#Determine the size of a transpiled and decomposed QAE circuit on q qubits.\n",
    "Results = []\n",
    "n_tests = 1\n",
    "for q in range(4,10):\n",
    "    for R in range(0,1):\n",
    "        total_size = 0\n",
    "        total_size_uniform = 0\n",
    "        for n in range(n_tests):\n",
    "            prob_lst = [np.random.uniform(0.0,1.0) for _ in range(2**(q-1)) ]\n",
    "            f_lst = [np.random.uniform(0.0,1.0) for _ in range(2**(q-1)) ]\n",
    "            sum_p = sum(x for x in prob_lst)\n",
    "            sum_f = sum(x for x in f_lst)\n",
    "            prob_lst = [p/sum_p for p in prob_lst ]\n",
    "            f_lst = [f/sum_f for f in f_lst ]\n",
    "\n",
    "            circ = MLE_MCI_f(q,R,prob_lst,f_lst)\n",
    "            tdc = transpile(circ.decompose(reps=2), basis_gates=load_noise_thermal().basis_gates, coupling_map=get_coupling_map(q), optimization_level=3)\n",
    "            total_size += tdc.size()\n",
    "\n",
    "            circ_uniform = MLE_MCI_f_uniform(q,R,f_lst)\n",
    "            tdc_uniform = transpile(circ_uniform.decompose(reps=2), basis_gates=load_noise_thermal().basis_gates, coupling_map=get_coupling_map(q), optimization_level=3)\n",
    "            total_size_uniform += tdc_uniform.size()\n",
    "        Results.append([q, R, total_size / n_tests])\n",
    "        print(q, R, round(total_size / n_tests,1), round(total_size / (n_tests*(2*R+1)),2), round(total_size_uniform / n_tests,1))\n"
   ]
  },
  {
   "cell_type": "code",
   "execution_count": null,
   "id": "6d6ea65d",
   "metadata": {},
   "outputs": [],
   "source": [
    "%%time\n",
    "Results2 = []\n",
    "n_tests = 1\n",
    "for q in range(4,8):\n",
    "    for R in range(0,3):\n",
    "        total_size = 0\n",
    "        total_size_uniform = 0\n",
    "        for n in range(n_tests):\n",
    "            prob_lst = [np.random.uniform(0.0,1.0) for _ in range(2**(q-1)) ]\n",
    "            f_lst = [np.random.uniform(0.0,1.0) for _ in range(2**(q-1)) ]\n",
    "            sum_p = sum(x for x in prob_lst)\n",
    "            sum_f = sum(x for x in f_lst)\n",
    "            prob_lst = [p/sum_p for p in prob_lst ]\n",
    "            f_lst = [f/sum_f for f in f_lst ]\n",
    "\n",
    "            circ = MLE_MCI_f(q,R,prob_lst,f_lst)\n",
    "            tdc = transpile(circ.decompose(reps=2), basis_gates=load_noise_thermal().basis_gates, coupling_map=get_coupling_map(q), optimization_level=3)\n",
    "            total_size += tdc.size()\n",
    "\n",
    "            circ_uniform = MLE_MCI_f_uniform(q,R,f_lst)\n",
    "            tdc_uniform = transpile(circ_uniform.decompose(reps=2), basis_gates=load_noise_thermal().basis_gates, coupling_map=get_coupling_map(q), optimization_level=3)\n",
    "            total_size_uniform += tdc_uniform.size()\n",
    "        Results2.append([q, R, total_size / n_tests])\n",
    "        print(q, R, round(total_size / n_tests,1), round(total_size / (n_tests*(2*R+1)),2), round(total_size_uniform / n_tests,1))\n"
   ]
  },
  {
   "cell_type": "code",
   "execution_count": null,
   "id": "4791599b",
   "metadata": {},
   "outputs": [],
   "source": []
  },
  {
   "cell_type": "code",
   "execution_count": null,
   "id": "adb5bba6",
   "metadata": {},
   "outputs": [],
   "source": [
    "coef1 = 17.35\n",
    "coef2 = 0.46\n",
    "\n",
    "def QAE_size(q, R, coef1, coef2):\n",
    "    \"\"\"\n",
    "    The fitted size of a QAE circuit on q qubits with R amplification rounds.\n",
    "    \"\"\"\n",
    "    return coef1 * (2*R+1) * 10**(coef2*q)"
   ]
  },
  {
   "cell_type": "code",
   "execution_count": null,
   "id": "54441773",
   "metadata": {},
   "outputs": [],
   "source": []
  },
  {
   "cell_type": "code",
   "execution_count": null,
   "id": "4684482b",
   "metadata": {},
   "outputs": [],
   "source": [
    "#Fit the coefficients\n",
    "best_diff = sum( ( np.log(s) - np.log(QAE_size(q,R,coef1,coef2)) )**2 for [q,R,s] in Results )\n",
    "for c1 in range(100):\n",
    "    for c2 in range(100):\n",
    "        cf1 = max( 17.35 + (c1-50) * 0.01, 0.01 )\n",
    "        cf2 = 0.46 + (c2-50) * 0.001\n",
    "        diff = sum( ( np.log(s) - np.log(QAE_size(q,R,cf1,cf2)) )**2 for [q,R,s] in Results )\n",
    "        if( diff < best_diff ):\n",
    "            best_diff = diff\n",
    "            coef1 = cf1\n",
    "            coef2 = cf2\n",
    "print(coef1, coef2)"
   ]
  },
  {
   "cell_type": "code",
   "execution_count": null,
   "id": "4f1ca75f",
   "metadata": {},
   "outputs": [],
   "source": [
    "#Plot\n",
    "X = [q for [q,R,s] in Results]\n",
    "Y = [s for [q,R,s] in Results]\n",
    "Y3 = [ QAE_size(q,R,coef1, coef2) for [q,R,s] in Results ]\n",
    "figure, ax = plt.subplots()\n",
    "plt.plot(X,Y)\n",
    "plt.plot(X,Y3)\n",
    "plt.legend(['QAE size', 'model'])\n",
    "ax.set_xlabel('Number of Qubits')\n",
    "ax.set_ylabel('Circuit size')\n",
    "ax.set_yscale('log')\n",
    "#plt.savefig('QAE_circuit_size_log.png')\n",
    "plt.show()"
   ]
  },
  {
   "cell_type": "code",
   "execution_count": null,
   "id": "1cd9777b",
   "metadata": {},
   "outputs": [],
   "source": []
  }
 ],
 "metadata": {
  "kernelspec": {
   "display_name": "Python 3 (ipykernel)",
   "language": "python",
   "name": "python3"
  },
  "language_info": {
   "codemirror_mode": {
    "name": "ipython",
    "version": 3
   },
   "file_extension": ".py",
   "mimetype": "text/x-python",
   "name": "python",
   "nbconvert_exporter": "python",
   "pygments_lexer": "ipython3",
   "version": "3.10.12"
  }
 },
 "nbformat": 4,
 "nbformat_minor": 5
}
