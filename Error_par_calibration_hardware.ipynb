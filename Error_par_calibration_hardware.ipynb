{
 "cells": [
  {
   "cell_type": "code",
   "execution_count": 1,
   "metadata": {},
   "outputs": [],
   "source": [
    "from support_functions import *"
   ]
  },
  {
   "cell_type": "code",
   "execution_count": 2,
   "metadata": {},
   "outputs": [],
   "source": [
    "def load_API_token():\n",
    "    with open('/home/ubuntu_20_7/Desktop/work/2021/NAQT/API_token_IBM/APItoken.txt') as f:\n",
    "        token=f.readlines()\n",
    "    return token[0]\n"
   ]
  },
  {
   "cell_type": "markdown",
   "metadata": {},
   "source": [
    "## Load hardware "
   ]
  },
  {
   "cell_type": "code",
   "execution_count": 3,
   "metadata": {
    "scrolled": true
   },
   "outputs": [
    {
     "name": "stderr",
     "output_type": "stream",
     "text": [
      "/tmp/ipykernel_4695/1234609365.py:3: DeprecationWarning: The package qiskit.providers.ibmq is being deprecated. Please see https://ibm.biz/provider_migration_guide to get instructions on how to migrate to qiskit-ibm-provider (https://github.com/Qiskit/qiskit-ibm-provider) and qiskit-ibm-runtime (https://github.com/Qiskit/qiskit-ibm-runtime).\n",
      "  IBMQ.load_account()\n",
      "/tmp/ipykernel_4695/1234609365.py:3: DeprecationWarning: The qiskit.IBMQ entrypoint and the qiskit-ibmq-provider package (accessible from 'qiskit.providers.ibmq`) are deprecated and will be removed in a future release. Instead you should use the qiskit-ibm-provider package which is accessible from 'qiskit_ibm_provider'. You can install it with 'pip install qiskit_ibm_provider'. Just replace 'qiskit.IBMQ' with 'qiskit_ibm_provider.IBMProvider'\n",
      "  IBMQ.load_account()\n"
     ]
    },
    {
     "name": "stdout",
     "output_type": "stream",
     "text": [
      "[<IBMQBackend('ibmq_guadalupe') from IBMQ(hub='ibm-q-qal', group='tno', project='qae')>, <IBMQSimulator('simulator_statevector') from IBMQ(hub='ibm-q-qal', group='tno', project='qae')>, <IBMQBackend('ibm_perth') from IBMQ(hub='ibm-q-qal', group='tno', project='qae')>]\n",
      "ibm_perth\n"
     ]
    }
   ],
   "source": [
    "#API_TOKEN = load_API_token()\n",
    "#IBMQ.save_account(API_TOKEN, overwrite=True)\n",
    "IBMQ.load_account()\n",
    "\n",
    "# listing the providers you have access to \n",
    "IBMQ.providers()\n",
    "# Use your provider to access \"premium\" devices\n",
    "#provider = IBMQ.get_provider(hub='ibm-q-qal', group='tno', project='miscellaneous')\n",
    "provider = IBMQ.get_provider(hub='ibm-q-qal', group='tno', project='qae')\n",
    "# listing backends your provider have access to \n",
    "print(provider.backends())\n",
    "\n",
    "# Selecting ibm_perth\n",
    "backend = provider.get_backend('ibm_perth')\n",
    "#backend = provider.get_backend('ibmq_guadalupe')\n",
    "print(backend.name())\n"
   ]
  },
  {
   "cell_type": "code",
   "execution_count": null,
   "metadata": {},
   "outputs": [],
   "source": []
  },
  {
   "cell_type": "markdown",
   "metadata": {},
   "source": [
    "## Train the error model"
   ]
  },
  {
   "cell_type": "code",
   "execution_count": 4,
   "metadata": {},
   "outputs": [
    {
     "name": "stdout",
     "output_type": "stream",
     "text": [
      "20 10001\n"
     ]
    }
   ],
   "source": [
    "#Parameters\n",
    "nr_qubits = 7\n",
    "#nr_qubits = 16\n",
    "n_tests = 20\n",
    "print(n_tests, Nr_shots)"
   ]
  },
  {
   "cell_type": "code",
   "execution_count": 5,
   "metadata": {
    "scrolled": false
   },
   "outputs": [
    {
     "name": "stderr",
     "output_type": "stream",
     "text": [
      "WARNING: all-qubit error already exists for instruction \"measure\", composing with additional error.\n"
     ]
    },
    {
     "name": "stdout",
     "output_type": "stream",
     "text": [
      "Jobs1_ibm_perth_T:09:55:23_28-09-2023.txt Sims1_ibm_perth_T:09:55:23_28-09-2023.txt\n"
     ]
    },
    {
     "name": "stderr",
     "output_type": "stream",
     "text": [
      "WARNING: all-qubit error already exists for instruction \"cx\", composing with additional error.\n",
      "WARNING: all-qubit error already exists for instruction \"measure\", composing with additional error.\n",
      "WARNING: all-qubit error already exists for instruction \"cx\", composing with additional error.\n"
     ]
    },
    {
     "name": "stdout",
     "output_type": "stream",
     "text": [
      "J1_q=7_t=0_nr=1 sent.\n"
     ]
    },
    {
     "name": "stderr",
     "output_type": "stream",
     "text": [
      "WARNING: all-qubit error already exists for instruction \"measure\", composing with additional error.\n",
      "WARNING: all-qubit error already exists for instruction \"cx\", composing with additional error.\n"
     ]
    },
    {
     "name": "stdout",
     "output_type": "stream",
     "text": [
      "J1_q=7_t=0_nr=2 sent.\n"
     ]
    },
    {
     "name": "stderr",
     "output_type": "stream",
     "text": [
      "WARNING: all-qubit error already exists for instruction \"measure\", composing with additional error.\n",
      "WARNING: all-qubit error already exists for instruction \"cx\", composing with additional error.\n"
     ]
    },
    {
     "name": "stdout",
     "output_type": "stream",
     "text": [
      "J1_q=7_t=0_nr=3 sent.\n"
     ]
    },
    {
     "name": "stderr",
     "output_type": "stream",
     "text": [
      "WARNING: all-qubit error already exists for instruction \"measure\", composing with additional error.\n",
      "WARNING: all-qubit error already exists for instruction \"cx\", composing with additional error.\n"
     ]
    },
    {
     "name": "stdout",
     "output_type": "stream",
     "text": [
      "J1_q=7_t=0_nr=4 sent.\n",
      "J1_q=7_t=0_nr=5 sent.\n"
     ]
    },
    {
     "name": "stderr",
     "output_type": "stream",
     "text": [
      "WARNING: all-qubit error already exists for instruction \"measure\", composing with additional error.\n",
      "WARNING: all-qubit error already exists for instruction \"cx\", composing with additional error.\n",
      "WARNING: all-qubit error already exists for instruction \"measure\", composing with additional error.\n",
      "WARNING: all-qubit error already exists for instruction \"cx\", composing with additional error.\n"
     ]
    },
    {
     "name": "stdout",
     "output_type": "stream",
     "text": [
      "J1_q=7_t=0_nr=6 sent.\n"
     ]
    },
    {
     "name": "stderr",
     "output_type": "stream",
     "text": [
      "WARNING: all-qubit error already exists for instruction \"measure\", composing with additional error.\n",
      "WARNING: all-qubit error already exists for instruction \"cx\", composing with additional error.\n"
     ]
    },
    {
     "name": "stdout",
     "output_type": "stream",
     "text": [
      "J1_q=7_t=0_nr=7 sent.\n"
     ]
    },
    {
     "name": "stderr",
     "output_type": "stream",
     "text": [
      "WARNING: all-qubit error already exists for instruction \"measure\", composing with additional error.\n",
      "WARNING: all-qubit error already exists for instruction \"cx\", composing with additional error.\n"
     ]
    },
    {
     "name": "stdout",
     "output_type": "stream",
     "text": [
      "J1_q=7_t=0_nr=8 sent.\n"
     ]
    },
    {
     "name": "stderr",
     "output_type": "stream",
     "text": [
      "WARNING: all-qubit error already exists for instruction \"measure\", composing with additional error.\n",
      "WARNING: all-qubit error already exists for instruction \"cx\", composing with additional error.\n"
     ]
    },
    {
     "name": "stdout",
     "output_type": "stream",
     "text": [
      "J1_q=7_t=0_nr=9 sent.\n"
     ]
    },
    {
     "name": "stderr",
     "output_type": "stream",
     "text": [
      "WARNING: all-qubit error already exists for instruction \"measure\", composing with additional error.\n",
      "WARNING: all-qubit error already exists for instruction \"cx\", composing with additional error.\n"
     ]
    },
    {
     "name": "stdout",
     "output_type": "stream",
     "text": [
      "J1_q=7_t=0_nr=10 sent.\n"
     ]
    },
    {
     "name": "stderr",
     "output_type": "stream",
     "text": [
      "WARNING: all-qubit error already exists for instruction \"measure\", composing with additional error.\n",
      "WARNING: all-qubit error already exists for instruction \"cx\", composing with additional error.\n"
     ]
    },
    {
     "name": "stdout",
     "output_type": "stream",
     "text": [
      "J1_q=7_t=0_nr=11 sent.\n"
     ]
    },
    {
     "name": "stderr",
     "output_type": "stream",
     "text": [
      "WARNING: all-qubit error already exists for instruction \"measure\", composing with additional error.\n",
      "WARNING: all-qubit error already exists for instruction \"cx\", composing with additional error.\n"
     ]
    },
    {
     "name": "stdout",
     "output_type": "stream",
     "text": [
      "J1_q=7_t=0_nr=12 sent.\n"
     ]
    },
    {
     "name": "stderr",
     "output_type": "stream",
     "text": [
      "WARNING: all-qubit error already exists for instruction \"measure\", composing with additional error.\n",
      "WARNING: all-qubit error already exists for instruction \"cx\", composing with additional error.\n"
     ]
    },
    {
     "name": "stdout",
     "output_type": "stream",
     "text": [
      "J1_q=7_t=0_nr=13 sent.\n"
     ]
    },
    {
     "name": "stderr",
     "output_type": "stream",
     "text": [
      "WARNING: all-qubit error already exists for instruction \"measure\", composing with additional error.\n",
      "WARNING: all-qubit error already exists for instruction \"cx\", composing with additional error.\n"
     ]
    },
    {
     "name": "stdout",
     "output_type": "stream",
     "text": [
      "J1_q=7_t=0_nr=14 sent.\n"
     ]
    },
    {
     "name": "stderr",
     "output_type": "stream",
     "text": [
      "WARNING: all-qubit error already exists for instruction \"measure\", composing with additional error.\n",
      "WARNING: all-qubit error already exists for instruction \"cx\", composing with additional error.\n"
     ]
    },
    {
     "name": "stdout",
     "output_type": "stream",
     "text": [
      "J1_q=7_t=0_nr=15 sent.\n"
     ]
    },
    {
     "name": "stderr",
     "output_type": "stream",
     "text": [
      "WARNING: all-qubit error already exists for instruction \"measure\", composing with additional error.\n",
      "WARNING: all-qubit error already exists for instruction \"cx\", composing with additional error.\n"
     ]
    },
    {
     "name": "stdout",
     "output_type": "stream",
     "text": [
      "J1_q=7_t=0_nr=16 sent.\n"
     ]
    },
    {
     "name": "stderr",
     "output_type": "stream",
     "text": [
      "WARNING: all-qubit error already exists for instruction \"measure\", composing with additional error.\n",
      "WARNING: all-qubit error already exists for instruction \"cx\", composing with additional error.\n"
     ]
    },
    {
     "name": "stdout",
     "output_type": "stream",
     "text": [
      "J1_q=7_t=0_nr=17 sent.\n"
     ]
    },
    {
     "name": "stderr",
     "output_type": "stream",
     "text": [
      "WARNING: all-qubit error already exists for instruction \"measure\", composing with additional error.\n",
      "WARNING: all-qubit error already exists for instruction \"cx\", composing with additional error.\n"
     ]
    },
    {
     "name": "stdout",
     "output_type": "stream",
     "text": [
      "J1_q=7_t=0_nr=18 sent.\n"
     ]
    },
    {
     "name": "stderr",
     "output_type": "stream",
     "text": [
      "WARNING: all-qubit error already exists for instruction \"measure\", composing with additional error.\n",
      "WARNING: all-qubit error already exists for instruction \"cx\", composing with additional error.\n"
     ]
    },
    {
     "name": "stdout",
     "output_type": "stream",
     "text": [
      "J1_q=7_t=0_nr=19 sent.\n"
     ]
    },
    {
     "name": "stderr",
     "output_type": "stream",
     "text": [
      "WARNING: all-qubit error already exists for instruction \"measure\", composing with additional error.\n"
     ]
    },
    {
     "name": "stdout",
     "output_type": "stream",
     "text": [
      "J1_q=7_t=0_nr=20 sent.\n"
     ]
    },
    {
     "name": "stderr",
     "output_type": "stream",
     "text": [
      "WARNING: all-qubit error already exists for instruction \"cx\", composing with additional error.\n",
      "WARNING: all-qubit error already exists for instruction \"measure\", composing with additional error.\n",
      "WARNING: all-qubit error already exists for instruction \"cx\", composing with additional error.\n"
     ]
    },
    {
     "name": "stdout",
     "output_type": "stream",
     "text": [
      "J1_q=7_t=1_nr=1 sent.\n"
     ]
    },
    {
     "name": "stderr",
     "output_type": "stream",
     "text": [
      "WARNING: all-qubit error already exists for instruction \"measure\", composing with additional error.\n",
      "WARNING: all-qubit error already exists for instruction \"cx\", composing with additional error.\n"
     ]
    },
    {
     "name": "stdout",
     "output_type": "stream",
     "text": [
      "J1_q=7_t=1_nr=2 sent.\n"
     ]
    },
    {
     "name": "stderr",
     "output_type": "stream",
     "text": [
      "WARNING: all-qubit error already exists for instruction \"measure\", composing with additional error.\n",
      "WARNING: all-qubit error already exists for instruction \"cx\", composing with additional error.\n"
     ]
    },
    {
     "name": "stdout",
     "output_type": "stream",
     "text": [
      "J1_q=7_t=1_nr=3 sent.\n"
     ]
    },
    {
     "name": "stderr",
     "output_type": "stream",
     "text": [
      "WARNING: all-qubit error already exists for instruction \"measure\", composing with additional error.\n",
      "WARNING: all-qubit error already exists for instruction \"cx\", composing with additional error.\n"
     ]
    },
    {
     "name": "stdout",
     "output_type": "stream",
     "text": [
      "J1_q=7_t=1_nr=4 sent.\n"
     ]
    },
    {
     "name": "stderr",
     "output_type": "stream",
     "text": [
      "WARNING: all-qubit error already exists for instruction \"measure\", composing with additional error.\n",
      "WARNING: all-qubit error already exists for instruction \"cx\", composing with additional error.\n"
     ]
    },
    {
     "name": "stdout",
     "output_type": "stream",
     "text": [
      "J1_q=7_t=1_nr=5 sent.\n"
     ]
    },
    {
     "name": "stderr",
     "output_type": "stream",
     "text": [
      "WARNING: all-qubit error already exists for instruction \"measure\", composing with additional error.\n"
     ]
    },
    {
     "name": "stdout",
     "output_type": "stream",
     "text": [
      "J1_q=7_t=1_nr=6 sent.\n"
     ]
    },
    {
     "name": "stderr",
     "output_type": "stream",
     "text": [
      "WARNING: all-qubit error already exists for instruction \"cx\", composing with additional error.\n",
      "WARNING: all-qubit error already exists for instruction \"measure\", composing with additional error.\n",
      "WARNING: all-qubit error already exists for instruction \"cx\", composing with additional error.\n"
     ]
    },
    {
     "name": "stdout",
     "output_type": "stream",
     "text": [
      "J1_q=7_t=1_nr=7 sent.\n"
     ]
    },
    {
     "name": "stderr",
     "output_type": "stream",
     "text": [
      "WARNING: all-qubit error already exists for instruction \"measure\", composing with additional error.\n"
     ]
    },
    {
     "name": "stdout",
     "output_type": "stream",
     "text": [
      "J1_q=7_t=1_nr=8 sent.\n"
     ]
    },
    {
     "name": "stderr",
     "output_type": "stream",
     "text": [
      "WARNING: all-qubit error already exists for instruction \"cx\", composing with additional error.\n",
      "WARNING: all-qubit error already exists for instruction \"measure\", composing with additional error.\n",
      "WARNING: all-qubit error already exists for instruction \"cx\", composing with additional error.\n"
     ]
    },
    {
     "name": "stdout",
     "output_type": "stream",
     "text": [
      "J1_q=7_t=1_nr=9 sent.\n"
     ]
    },
    {
     "name": "stderr",
     "output_type": "stream",
     "text": [
      "WARNING: all-qubit error already exists for instruction \"measure\", composing with additional error.\n",
      "WARNING: all-qubit error already exists for instruction \"cx\", composing with additional error.\n"
     ]
    },
    {
     "name": "stdout",
     "output_type": "stream",
     "text": [
      "J1_q=7_t=1_nr=10 sent.\n"
     ]
    },
    {
     "name": "stderr",
     "output_type": "stream",
     "text": [
      "WARNING: all-qubit error already exists for instruction \"measure\", composing with additional error.\n"
     ]
    },
    {
     "name": "stdout",
     "output_type": "stream",
     "text": [
      "J1_q=7_t=1_nr=11 sent.\n"
     ]
    },
    {
     "name": "stderr",
     "output_type": "stream",
     "text": [
      "WARNING: all-qubit error already exists for instruction \"cx\", composing with additional error.\n",
      "WARNING: all-qubit error already exists for instruction \"measure\", composing with additional error.\n",
      "WARNING: all-qubit error already exists for instruction \"cx\", composing with additional error.\n"
     ]
    },
    {
     "name": "stdout",
     "output_type": "stream",
     "text": [
      "J1_q=7_t=1_nr=12 sent.\n",
      "J1_q=7_t=1_nr=13 sent.\n"
     ]
    },
    {
     "name": "stderr",
     "output_type": "stream",
     "text": [
      "WARNING: all-qubit error already exists for instruction \"measure\", composing with additional error.\n",
      "WARNING: all-qubit error already exists for instruction \"cx\", composing with additional error.\n",
      "WARNING: all-qubit error already exists for instruction \"measure\", composing with additional error.\n",
      "WARNING: all-qubit error already exists for instruction \"cx\", composing with additional error.\n"
     ]
    },
    {
     "name": "stdout",
     "output_type": "stream",
     "text": [
      "J1_q=7_t=1_nr=14 sent.\n"
     ]
    },
    {
     "name": "stderr",
     "output_type": "stream",
     "text": [
      "WARNING: all-qubit error already exists for instruction \"measure\", composing with additional error.\n",
      "WARNING: all-qubit error already exists for instruction \"cx\", composing with additional error.\n"
     ]
    },
    {
     "name": "stdout",
     "output_type": "stream",
     "text": [
      "J1_q=7_t=1_nr=15 sent.\n"
     ]
    },
    {
     "name": "stderr",
     "output_type": "stream",
     "text": [
      "WARNING: all-qubit error already exists for instruction \"measure\", composing with additional error.\n"
     ]
    },
    {
     "name": "stdout",
     "output_type": "stream",
     "text": [
      "J1_q=7_t=1_nr=16 sent.\n"
     ]
    },
    {
     "name": "stderr",
     "output_type": "stream",
     "text": [
      "WARNING: all-qubit error already exists for instruction \"cx\", composing with additional error.\n",
      "WARNING: all-qubit error already exists for instruction \"measure\", composing with additional error.\n"
     ]
    },
    {
     "name": "stdout",
     "output_type": "stream",
     "text": [
      "J1_q=7_t=1_nr=17 sent.\n"
     ]
    },
    {
     "name": "stderr",
     "output_type": "stream",
     "text": [
      "WARNING: all-qubit error already exists for instruction \"cx\", composing with additional error.\n"
     ]
    },
    {
     "name": "stdout",
     "output_type": "stream",
     "text": [
      "J1_q=7_t=1_nr=18 sent.\n"
     ]
    },
    {
     "name": "stderr",
     "output_type": "stream",
     "text": [
      "WARNING: all-qubit error already exists for instruction \"measure\", composing with additional error.\n",
      "WARNING: all-qubit error already exists for instruction \"cx\", composing with additional error.\n"
     ]
    },
    {
     "name": "stdout",
     "output_type": "stream",
     "text": [
      "J1_q=7_t=1_nr=19 sent.\n"
     ]
    },
    {
     "name": "stderr",
     "output_type": "stream",
     "text": [
      "WARNING: all-qubit error already exists for instruction \"measure\", composing with additional error.\n",
      "WARNING: all-qubit error already exists for instruction \"cx\", composing with additional error.\n"
     ]
    },
    {
     "name": "stdout",
     "output_type": "stream",
     "text": [
      "J1_q=7_t=1_nr=20 sent.\n"
     ]
    },
    {
     "name": "stderr",
     "output_type": "stream",
     "text": [
      "WARNING: all-qubit error already exists for instruction \"measure\", composing with additional error.\n",
      "WARNING: all-qubit error already exists for instruction \"cx\", composing with additional error.\n",
      "WARNING: all-qubit error already exists for instruction \"measure\", composing with additional error.\n",
      "WARNING: all-qubit error already exists for instruction \"cx\", composing with additional error.\n"
     ]
    },
    {
     "name": "stdout",
     "output_type": "stream",
     "text": [
      "J1_q=7_t=2_nr=1 sent.\n"
     ]
    },
    {
     "name": "stderr",
     "output_type": "stream",
     "text": [
      "WARNING: all-qubit error already exists for instruction \"measure\", composing with additional error.\n"
     ]
    },
    {
     "name": "stdout",
     "output_type": "stream",
     "text": [
      "J1_q=7_t=2_nr=2 sent.\n"
     ]
    },
    {
     "name": "stderr",
     "output_type": "stream",
     "text": [
      "WARNING: all-qubit error already exists for instruction \"cx\", composing with additional error.\n"
     ]
    },
    {
     "name": "stdout",
     "output_type": "stream",
     "text": [
      "J1_q=7_t=2_nr=3 sent.\n"
     ]
    },
    {
     "name": "stderr",
     "output_type": "stream",
     "text": [
      "WARNING: all-qubit error already exists for instruction \"measure\", composing with additional error.\n",
      "WARNING: all-qubit error already exists for instruction \"cx\", composing with additional error.\n"
     ]
    },
    {
     "name": "stdout",
     "output_type": "stream",
     "text": [
      "J1_q=7_t=2_nr=4 sent.\n"
     ]
    },
    {
     "name": "stderr",
     "output_type": "stream",
     "text": [
      "WARNING: all-qubit error already exists for instruction \"measure\", composing with additional error.\n",
      "WARNING: all-qubit error already exists for instruction \"cx\", composing with additional error.\n"
     ]
    },
    {
     "name": "stdout",
     "output_type": "stream",
     "text": [
      "J1_q=7_t=2_nr=5 sent.\n"
     ]
    },
    {
     "name": "stderr",
     "output_type": "stream",
     "text": [
      "WARNING: all-qubit error already exists for instruction \"measure\", composing with additional error.\n",
      "WARNING: all-qubit error already exists for instruction \"cx\", composing with additional error.\n"
     ]
    },
    {
     "name": "stdout",
     "output_type": "stream",
     "text": [
      "J1_q=7_t=2_nr=6 sent.\n"
     ]
    },
    {
     "name": "stderr",
     "output_type": "stream",
     "text": [
      "WARNING: all-qubit error already exists for instruction \"measure\", composing with additional error.\n",
      "WARNING: all-qubit error already exists for instruction \"cx\", composing with additional error.\n",
      "WARNING: all-qubit error already exists for instruction \"measure\", composing with additional error.\n",
      "WARNING: all-qubit error already exists for instruction \"cx\", composing with additional error.\n"
     ]
    },
    {
     "name": "stdout",
     "output_type": "stream",
     "text": [
      "J1_q=7_t=2_nr=7 sent.\n"
     ]
    },
    {
     "name": "stderr",
     "output_type": "stream",
     "text": [
      "WARNING: all-qubit error already exists for instruction \"measure\", composing with additional error.\n"
     ]
    },
    {
     "name": "stdout",
     "output_type": "stream",
     "text": [
      "J1_q=7_t=2_nr=8 sent.\n"
     ]
    },
    {
     "name": "stderr",
     "output_type": "stream",
     "text": [
      "WARNING: all-qubit error already exists for instruction \"cx\", composing with additional error.\n"
     ]
    },
    {
     "name": "stdout",
     "output_type": "stream",
     "text": [
      "J1_q=7_t=2_nr=9 sent.\n"
     ]
    },
    {
     "name": "stderr",
     "output_type": "stream",
     "text": [
      "WARNING: all-qubit error already exists for instruction \"measure\", composing with additional error.\n",
      "WARNING: all-qubit error already exists for instruction \"cx\", composing with additional error.\n",
      "WARNING: all-qubit error already exists for instruction \"measure\", composing with additional error.\n",
      "WARNING: all-qubit error already exists for instruction \"cx\", composing with additional error.\n"
     ]
    },
    {
     "name": "stdout",
     "output_type": "stream",
     "text": [
      "J1_q=7_t=2_nr=10 sent.\n",
      "J1_q=7_t=2_nr=11 sent.\n"
     ]
    },
    {
     "name": "stderr",
     "output_type": "stream",
     "text": [
      "WARNING: all-qubit error already exists for instruction \"measure\", composing with additional error.\n",
      "WARNING: all-qubit error already exists for instruction \"cx\", composing with additional error.\n",
      "WARNING: all-qubit error already exists for instruction \"measure\", composing with additional error.\n",
      "WARNING: all-qubit error already exists for instruction \"cx\", composing with additional error.\n"
     ]
    },
    {
     "name": "stdout",
     "output_type": "stream",
     "text": [
      "J1_q=7_t=2_nr=12 sent.\n"
     ]
    },
    {
     "name": "stderr",
     "output_type": "stream",
     "text": [
      "WARNING: all-qubit error already exists for instruction \"measure\", composing with additional error.\n",
      "WARNING: all-qubit error already exists for instruction \"cx\", composing with additional error.\n"
     ]
    },
    {
     "name": "stdout",
     "output_type": "stream",
     "text": [
      "J1_q=7_t=2_nr=13 sent.\n"
     ]
    },
    {
     "name": "stderr",
     "output_type": "stream",
     "text": [
      "WARNING: all-qubit error already exists for instruction \"measure\", composing with additional error.\n",
      "WARNING: all-qubit error already exists for instruction \"cx\", composing with additional error.\n"
     ]
    },
    {
     "name": "stdout",
     "output_type": "stream",
     "text": [
      "J1_q=7_t=2_nr=14 sent.\n"
     ]
    },
    {
     "name": "stderr",
     "output_type": "stream",
     "text": [
      "WARNING: all-qubit error already exists for instruction \"measure\", composing with additional error.\n",
      "WARNING: all-qubit error already exists for instruction \"cx\", composing with additional error.\n"
     ]
    },
    {
     "name": "stdout",
     "output_type": "stream",
     "text": [
      "J1_q=7_t=2_nr=15 sent.\n"
     ]
    },
    {
     "name": "stderr",
     "output_type": "stream",
     "text": [
      "WARNING: all-qubit error already exists for instruction \"measure\", composing with additional error.\n",
      "WARNING: all-qubit error already exists for instruction \"cx\", composing with additional error.\n"
     ]
    },
    {
     "name": "stdout",
     "output_type": "stream",
     "text": [
      "J1_q=7_t=2_nr=16 sent.\n"
     ]
    },
    {
     "name": "stderr",
     "output_type": "stream",
     "text": [
      "WARNING: all-qubit error already exists for instruction \"measure\", composing with additional error.\n",
      "WARNING: all-qubit error already exists for instruction \"cx\", composing with additional error.\n"
     ]
    },
    {
     "name": "stdout",
     "output_type": "stream",
     "text": [
      "J1_q=7_t=2_nr=17 sent.\n",
      "J1_q=7_t=2_nr=18 sent.\n"
     ]
    },
    {
     "name": "stderr",
     "output_type": "stream",
     "text": [
      "WARNING: all-qubit error already exists for instruction \"measure\", composing with additional error.\n",
      "WARNING: all-qubit error already exists for instruction \"cx\", composing with additional error.\n"
     ]
    },
    {
     "name": "stdout",
     "output_type": "stream",
     "text": [
      "J1_q=7_t=2_nr=19 sent.\n"
     ]
    },
    {
     "name": "stderr",
     "output_type": "stream",
     "text": [
      "WARNING: all-qubit error already exists for instruction \"measure\", composing with additional error.\n",
      "WARNING: all-qubit error already exists for instruction \"cx\", composing with additional error.\n"
     ]
    },
    {
     "name": "stdout",
     "output_type": "stream",
     "text": [
      "J1_q=7_t=2_nr=20 sent.\n"
     ]
    },
    {
     "name": "stderr",
     "output_type": "stream",
     "text": [
      "WARNING: all-qubit error already exists for instruction \"measure\", composing with additional error.\n",
      "WARNING: all-qubit error already exists for instruction \"cx\", composing with additional error.\n"
     ]
    },
    {
     "name": "stdout",
     "output_type": "stream",
     "text": [
      "J1_q=7_t=3_nr=1 sent.\n"
     ]
    },
    {
     "name": "stderr",
     "output_type": "stream",
     "text": [
      "WARNING: all-qubit error already exists for instruction \"measure\", composing with additional error.\n",
      "WARNING: all-qubit error already exists for instruction \"cx\", composing with additional error.\n"
     ]
    },
    {
     "name": "stdout",
     "output_type": "stream",
     "text": [
      "J1_q=7_t=3_nr=2 sent.\n"
     ]
    },
    {
     "name": "stderr",
     "output_type": "stream",
     "text": [
      "WARNING: all-qubit error already exists for instruction \"measure\", composing with additional error.\n",
      "WARNING: all-qubit error already exists for instruction \"cx\", composing with additional error.\n",
      "WARNING: all-qubit error already exists for instruction \"measure\", composing with additional error.\n"
     ]
    },
    {
     "name": "stdout",
     "output_type": "stream",
     "text": [
      "J1_q=7_t=3_nr=3 sent.\n"
     ]
    },
    {
     "name": "stderr",
     "output_type": "stream",
     "text": [
      "WARNING: all-qubit error already exists for instruction \"cx\", composing with additional error.\n"
     ]
    },
    {
     "name": "stdout",
     "output_type": "stream",
     "text": [
      "J1_q=7_t=3_nr=4 sent.\n"
     ]
    },
    {
     "name": "stderr",
     "output_type": "stream",
     "text": [
      "WARNING: all-qubit error already exists for instruction \"measure\", composing with additional error.\n",
      "WARNING: all-qubit error already exists for instruction \"cx\", composing with additional error.\n",
      "WARNING: all-qubit error already exists for instruction \"measure\", composing with additional error.\n",
      "WARNING: all-qubit error already exists for instruction \"cx\", composing with additional error.\n"
     ]
    },
    {
     "name": "stdout",
     "output_type": "stream",
     "text": [
      "J1_q=7_t=3_nr=5 sent.\n",
      "J1_q=7_t=3_nr=6 sent.\n"
     ]
    },
    {
     "name": "stderr",
     "output_type": "stream",
     "text": [
      "WARNING: all-qubit error already exists for instruction \"measure\", composing with additional error.\n",
      "WARNING: all-qubit error already exists for instruction \"cx\", composing with additional error.\n",
      "WARNING: all-qubit error already exists for instruction \"measure\", composing with additional error.\n"
     ]
    },
    {
     "name": "stdout",
     "output_type": "stream",
     "text": [
      "J1_q=7_t=3_nr=7 sent.\n"
     ]
    },
    {
     "name": "stderr",
     "output_type": "stream",
     "text": [
      "WARNING: all-qubit error already exists for instruction \"cx\", composing with additional error.\n",
      "WARNING: all-qubit error already exists for instruction \"measure\", composing with additional error.\n",
      "WARNING: all-qubit error already exists for instruction \"cx\", composing with additional error.\n"
     ]
    },
    {
     "name": "stdout",
     "output_type": "stream",
     "text": [
      "J1_q=7_t=3_nr=8 sent.\n",
      "J1_q=7_t=3_nr=9 sent.\n"
     ]
    },
    {
     "name": "stderr",
     "output_type": "stream",
     "text": [
      "WARNING: all-qubit error already exists for instruction \"measure\", composing with additional error.\n",
      "WARNING: all-qubit error already exists for instruction \"cx\", composing with additional error.\n"
     ]
    },
    {
     "name": "stdout",
     "output_type": "stream",
     "text": [
      "J1_q=7_t=3_nr=10 sent.\n"
     ]
    },
    {
     "name": "stderr",
     "output_type": "stream",
     "text": [
      "WARNING: all-qubit error already exists for instruction \"measure\", composing with additional error.\n",
      "WARNING: all-qubit error already exists for instruction \"cx\", composing with additional error.\n"
     ]
    },
    {
     "name": "stdout",
     "output_type": "stream",
     "text": [
      "J1_q=7_t=3_nr=11 sent.\n"
     ]
    },
    {
     "name": "stderr",
     "output_type": "stream",
     "text": [
      "WARNING: all-qubit error already exists for instruction \"measure\", composing with additional error.\n",
      "WARNING: all-qubit error already exists for instruction \"cx\", composing with additional error.\n",
      "WARNING: all-qubit error already exists for instruction \"measure\", composing with additional error.\n",
      "WARNING: all-qubit error already exists for instruction \"cx\", composing with additional error.\n"
     ]
    },
    {
     "name": "stdout",
     "output_type": "stream",
     "text": [
      "J1_q=7_t=3_nr=12 sent.\n"
     ]
    },
    {
     "name": "stderr",
     "output_type": "stream",
     "text": [
      "WARNING: all-qubit error already exists for instruction \"measure\", composing with additional error.\n",
      "WARNING: all-qubit error already exists for instruction \"cx\", composing with additional error.\n"
     ]
    },
    {
     "name": "stdout",
     "output_type": "stream",
     "text": [
      "J1_q=7_t=3_nr=13 sent.\n"
     ]
    },
    {
     "name": "stderr",
     "output_type": "stream",
     "text": [
      "WARNING: all-qubit error already exists for instruction \"measure\", composing with additional error.\n",
      "WARNING: all-qubit error already exists for instruction \"cx\", composing with additional error.\n"
     ]
    },
    {
     "name": "stdout",
     "output_type": "stream",
     "text": [
      "J1_q=7_t=3_nr=14 sent.\n",
      "J1_q=7_t=3_nr=15 sent.\n"
     ]
    },
    {
     "name": "stderr",
     "output_type": "stream",
     "text": [
      "WARNING: all-qubit error already exists for instruction \"measure\", composing with additional error.\n",
      "WARNING: all-qubit error already exists for instruction \"cx\", composing with additional error.\n",
      "WARNING: all-qubit error already exists for instruction \"measure\", composing with additional error.\n"
     ]
    },
    {
     "name": "stdout",
     "output_type": "stream",
     "text": [
      "J1_q=7_t=3_nr=16 sent.\n"
     ]
    },
    {
     "name": "stderr",
     "output_type": "stream",
     "text": [
      "WARNING: all-qubit error already exists for instruction \"cx\", composing with additional error.\n"
     ]
    },
    {
     "name": "stdout",
     "output_type": "stream",
     "text": [
      "J1_q=7_t=3_nr=17 sent.\n"
     ]
    },
    {
     "name": "stderr",
     "output_type": "stream",
     "text": [
      "WARNING: all-qubit error already exists for instruction \"measure\", composing with additional error.\n",
      "WARNING: all-qubit error already exists for instruction \"cx\", composing with additional error.\n",
      "WARNING: all-qubit error already exists for instruction \"measure\", composing with additional error.\n",
      "WARNING: all-qubit error already exists for instruction \"cx\", composing with additional error.\n"
     ]
    },
    {
     "name": "stdout",
     "output_type": "stream",
     "text": [
      "J1_q=7_t=3_nr=18 sent.\n"
     ]
    },
    {
     "name": "stderr",
     "output_type": "stream",
     "text": [
      "WARNING: all-qubit error already exists for instruction \"measure\", composing with additional error.\n"
     ]
    },
    {
     "name": "stdout",
     "output_type": "stream",
     "text": [
      "J1_q=7_t=3_nr=19 sent.\n"
     ]
    },
    {
     "name": "stderr",
     "output_type": "stream",
     "text": [
      "WARNING: all-qubit error already exists for instruction \"cx\", composing with additional error.\n"
     ]
    },
    {
     "name": "stdout",
     "output_type": "stream",
     "text": [
      "J1_q=7_t=3_nr=20 sent.\n"
     ]
    },
    {
     "name": "stderr",
     "output_type": "stream",
     "text": [
      "WARNING: all-qubit error already exists for instruction \"measure\", composing with additional error.\n",
      "WARNING: all-qubit error already exists for instruction \"cx\", composing with additional error.\n"
     ]
    },
    {
     "name": "stdout",
     "output_type": "stream",
     "text": [
      "J1_q=7_t=4_nr=1 sent.\n"
     ]
    },
    {
     "name": "stderr",
     "output_type": "stream",
     "text": [
      "WARNING: all-qubit error already exists for instruction \"measure\", composing with additional error.\n",
      "WARNING: all-qubit error already exists for instruction \"cx\", composing with additional error.\n"
     ]
    },
    {
     "name": "stdout",
     "output_type": "stream",
     "text": [
      "J1_q=7_t=4_nr=2 sent.\n"
     ]
    },
    {
     "name": "stderr",
     "output_type": "stream",
     "text": [
      "WARNING: all-qubit error already exists for instruction \"measure\", composing with additional error.\n",
      "WARNING: all-qubit error already exists for instruction \"cx\", composing with additional error.\n"
     ]
    },
    {
     "name": "stdout",
     "output_type": "stream",
     "text": [
      "J1_q=7_t=4_nr=3 sent.\n"
     ]
    },
    {
     "name": "stderr",
     "output_type": "stream",
     "text": [
      "WARNING: all-qubit error already exists for instruction \"measure\", composing with additional error.\n",
      "WARNING: all-qubit error already exists for instruction \"cx\", composing with additional error.\n"
     ]
    },
    {
     "name": "stdout",
     "output_type": "stream",
     "text": [
      "J1_q=7_t=4_nr=4 sent.\n"
     ]
    },
    {
     "name": "stderr",
     "output_type": "stream",
     "text": [
      "WARNING: all-qubit error already exists for instruction \"measure\", composing with additional error.\n",
      "WARNING: all-qubit error already exists for instruction \"cx\", composing with additional error.\n"
     ]
    },
    {
     "name": "stdout",
     "output_type": "stream",
     "text": [
      "J1_q=7_t=4_nr=5 sent.\n"
     ]
    },
    {
     "name": "stderr",
     "output_type": "stream",
     "text": [
      "WARNING: all-qubit error already exists for instruction \"measure\", composing with additional error.\n",
      "WARNING: all-qubit error already exists for instruction \"cx\", composing with additional error.\n"
     ]
    },
    {
     "name": "stdout",
     "output_type": "stream",
     "text": [
      "J1_q=7_t=4_nr=6 sent.\n"
     ]
    },
    {
     "name": "stderr",
     "output_type": "stream",
     "text": [
      "WARNING: all-qubit error already exists for instruction \"measure\", composing with additional error.\n",
      "WARNING: all-qubit error already exists for instruction \"cx\", composing with additional error.\n",
      "WARNING: all-qubit error already exists for instruction \"measure\", composing with additional error.\n",
      "WARNING: all-qubit error already exists for instruction \"cx\", composing with additional error.\n"
     ]
    },
    {
     "name": "stdout",
     "output_type": "stream",
     "text": [
      "J1_q=7_t=4_nr=7 sent.\n",
      "J1_q=7_t=4_nr=8 sent.\n"
     ]
    },
    {
     "name": "stderr",
     "output_type": "stream",
     "text": [
      "WARNING: all-qubit error already exists for instruction \"measure\", composing with additional error.\n",
      "WARNING: all-qubit error already exists for instruction \"cx\", composing with additional error.\n",
      "WARNING: all-qubit error already exists for instruction \"measure\", composing with additional error.\n",
      "WARNING: all-qubit error already exists for instruction \"cx\", composing with additional error.\n"
     ]
    },
    {
     "name": "stdout",
     "output_type": "stream",
     "text": [
      "J1_q=7_t=4_nr=9 sent.\n"
     ]
    },
    {
     "name": "stderr",
     "output_type": "stream",
     "text": [
      "WARNING: all-qubit error already exists for instruction \"measure\", composing with additional error.\n",
      "WARNING: all-qubit error already exists for instruction \"cx\", composing with additional error.\n"
     ]
    },
    {
     "name": "stdout",
     "output_type": "stream",
     "text": [
      "J1_q=7_t=4_nr=10 sent.\n",
      "J1_q=7_t=4_nr=11 sent.\n"
     ]
    },
    {
     "name": "stderr",
     "output_type": "stream",
     "text": [
      "WARNING: all-qubit error already exists for instruction \"measure\", composing with additional error.\n",
      "WARNING: all-qubit error already exists for instruction \"cx\", composing with additional error.\n",
      "WARNING: all-qubit error already exists for instruction \"measure\", composing with additional error.\n",
      "WARNING: all-qubit error already exists for instruction \"cx\", composing with additional error.\n"
     ]
    },
    {
     "name": "stdout",
     "output_type": "stream",
     "text": [
      "J1_q=7_t=4_nr=12 sent.\n"
     ]
    },
    {
     "name": "stderr",
     "output_type": "stream",
     "text": [
      "WARNING: all-qubit error already exists for instruction \"measure\", composing with additional error.\n",
      "WARNING: all-qubit error already exists for instruction \"cx\", composing with additional error.\n"
     ]
    },
    {
     "name": "stdout",
     "output_type": "stream",
     "text": [
      "J1_q=7_t=4_nr=13 sent.\n",
      "J1_q=7_t=4_nr=14 sent.\n"
     ]
    },
    {
     "name": "stderr",
     "output_type": "stream",
     "text": [
      "WARNING: all-qubit error already exists for instruction \"measure\", composing with additional error.\n",
      "WARNING: all-qubit error already exists for instruction \"cx\", composing with additional error.\n",
      "WARNING: all-qubit error already exists for instruction \"measure\", composing with additional error.\n",
      "WARNING: all-qubit error already exists for instruction \"cx\", composing with additional error.\n"
     ]
    },
    {
     "name": "stdout",
     "output_type": "stream",
     "text": [
      "J1_q=7_t=4_nr=15 sent.\n"
     ]
    },
    {
     "name": "stderr",
     "output_type": "stream",
     "text": [
      "WARNING: all-qubit error already exists for instruction \"measure\", composing with additional error.\n",
      "WARNING: all-qubit error already exists for instruction \"cx\", composing with additional error.\n"
     ]
    },
    {
     "name": "stdout",
     "output_type": "stream",
     "text": [
      "J1_q=7_t=4_nr=16 sent.\n"
     ]
    },
    {
     "name": "stderr",
     "output_type": "stream",
     "text": [
      "WARNING: all-qubit error already exists for instruction \"measure\", composing with additional error.\n",
      "WARNING: all-qubit error already exists for instruction \"cx\", composing with additional error.\n"
     ]
    },
    {
     "name": "stdout",
     "output_type": "stream",
     "text": [
      "J1_q=7_t=4_nr=17 sent.\n"
     ]
    },
    {
     "name": "stderr",
     "output_type": "stream",
     "text": [
      "WARNING: all-qubit error already exists for instruction \"measure\", composing with additional error.\n",
      "WARNING: all-qubit error already exists for instruction \"cx\", composing with additional error.\n"
     ]
    },
    {
     "name": "stdout",
     "output_type": "stream",
     "text": [
      "J1_q=7_t=4_nr=18 sent.\n",
      "J1_q=7_t=4_nr=19 sent.\n"
     ]
    },
    {
     "name": "stderr",
     "output_type": "stream",
     "text": [
      "WARNING: all-qubit error already exists for instruction \"measure\", composing with additional error.\n",
      "WARNING: all-qubit error already exists for instruction \"cx\", composing with additional error.\n",
      "WARNING: all-qubit error already exists for instruction \"measure\", composing with additional error.\n",
      "WARNING: all-qubit error already exists for instruction \"cx\", composing with additional error.\n"
     ]
    },
    {
     "name": "stdout",
     "output_type": "stream",
     "text": [
      "J1_q=7_t=4_nr=20 sent.\n"
     ]
    },
    {
     "name": "stderr",
     "output_type": "stream",
     "text": [
      "WARNING: all-qubit error already exists for instruction \"measure\", composing with additional error.\n",
      "WARNING: all-qubit error already exists for instruction \"cx\", composing with additional error.\n"
     ]
    },
    {
     "name": "stdout",
     "output_type": "stream",
     "text": [
      "J1_q=7_t=5_nr=1 sent.\n"
     ]
    },
    {
     "name": "stderr",
     "output_type": "stream",
     "text": [
      "WARNING: all-qubit error already exists for instruction \"measure\", composing with additional error.\n",
      "WARNING: all-qubit error already exists for instruction \"cx\", composing with additional error.\n"
     ]
    },
    {
     "name": "stdout",
     "output_type": "stream",
     "text": [
      "J1_q=7_t=5_nr=2 sent.\n",
      "J1_q=7_t=5_nr=3 sent.\n"
     ]
    },
    {
     "name": "stderr",
     "output_type": "stream",
     "text": [
      "WARNING: all-qubit error already exists for instruction \"measure\", composing with additional error.\n",
      "WARNING: all-qubit error already exists for instruction \"cx\", composing with additional error.\n",
      "WARNING: all-qubit error already exists for instruction \"measure\", composing with additional error.\n",
      "WARNING: all-qubit error already exists for instruction \"cx\", composing with additional error.\n"
     ]
    },
    {
     "name": "stdout",
     "output_type": "stream",
     "text": [
      "J1_q=7_t=5_nr=4 sent.\n"
     ]
    },
    {
     "name": "stderr",
     "output_type": "stream",
     "text": [
      "WARNING: all-qubit error already exists for instruction \"measure\", composing with additional error.\n"
     ]
    },
    {
     "name": "stdout",
     "output_type": "stream",
     "text": [
      "J1_q=7_t=5_nr=5 sent.\n"
     ]
    },
    {
     "name": "stderr",
     "output_type": "stream",
     "text": [
      "WARNING: all-qubit error already exists for instruction \"cx\", composing with additional error.\n",
      "WARNING: all-qubit error already exists for instruction \"measure\", composing with additional error.\n",
      "WARNING: all-qubit error already exists for instruction \"cx\", composing with additional error.\n"
     ]
    },
    {
     "name": "stdout",
     "output_type": "stream",
     "text": [
      "J1_q=7_t=5_nr=6 sent.\n",
      "J1_q=7_t=5_nr=7 sent.\n"
     ]
    },
    {
     "name": "stderr",
     "output_type": "stream",
     "text": [
      "WARNING: all-qubit error already exists for instruction \"measure\", composing with additional error.\n",
      "WARNING: all-qubit error already exists for instruction \"cx\", composing with additional error.\n"
     ]
    },
    {
     "name": "stdout",
     "output_type": "stream",
     "text": [
      "J1_q=7_t=5_nr=8 sent.\n"
     ]
    },
    {
     "name": "stderr",
     "output_type": "stream",
     "text": [
      "WARNING: all-qubit error already exists for instruction \"measure\", composing with additional error.\n",
      "WARNING: all-qubit error already exists for instruction \"cx\", composing with additional error.\n",
      "WARNING: all-qubit error already exists for instruction \"measure\", composing with additional error.\n",
      "WARNING: all-qubit error already exists for instruction \"cx\", composing with additional error.\n"
     ]
    },
    {
     "name": "stdout",
     "output_type": "stream",
     "text": [
      "J1_q=7_t=5_nr=9 sent.\n"
     ]
    },
    {
     "name": "stderr",
     "output_type": "stream",
     "text": [
      "WARNING: all-qubit error already exists for instruction \"measure\", composing with additional error.\n",
      "WARNING: all-qubit error already exists for instruction \"cx\", composing with additional error.\n"
     ]
    },
    {
     "name": "stdout",
     "output_type": "stream",
     "text": [
      "J1_q=7_t=5_nr=10 sent.\n"
     ]
    },
    {
     "name": "stderr",
     "output_type": "stream",
     "text": [
      "WARNING: all-qubit error already exists for instruction \"measure\", composing with additional error.\n",
      "WARNING: all-qubit error already exists for instruction \"cx\", composing with additional error.\n"
     ]
    },
    {
     "name": "stdout",
     "output_type": "stream",
     "text": [
      "J1_q=7_t=5_nr=11 sent.\n"
     ]
    },
    {
     "name": "stderr",
     "output_type": "stream",
     "text": [
      "WARNING: all-qubit error already exists for instruction \"measure\", composing with additional error.\n",
      "WARNING: all-qubit error already exists for instruction \"cx\", composing with additional error.\n"
     ]
    },
    {
     "name": "stdout",
     "output_type": "stream",
     "text": [
      "J1_q=7_t=5_nr=12 sent.\n"
     ]
    },
    {
     "name": "stderr",
     "output_type": "stream",
     "text": [
      "WARNING: all-qubit error already exists for instruction \"measure\", composing with additional error.\n",
      "WARNING: all-qubit error already exists for instruction \"cx\", composing with additional error.\n"
     ]
    },
    {
     "name": "stdout",
     "output_type": "stream",
     "text": [
      "J1_q=7_t=5_nr=13 sent.\n"
     ]
    },
    {
     "name": "stderr",
     "output_type": "stream",
     "text": [
      "WARNING: all-qubit error already exists for instruction \"measure\", composing with additional error.\n",
      "WARNING: all-qubit error already exists for instruction \"cx\", composing with additional error.\n"
     ]
    },
    {
     "name": "stdout",
     "output_type": "stream",
     "text": [
      "J1_q=7_t=5_nr=14 sent.\n",
      "J1_q=7_t=5_nr=15 sent.\n"
     ]
    },
    {
     "name": "stderr",
     "output_type": "stream",
     "text": [
      "WARNING: all-qubit error already exists for instruction \"measure\", composing with additional error.\n",
      "WARNING: all-qubit error already exists for instruction \"cx\", composing with additional error.\n",
      "WARNING: all-qubit error already exists for instruction \"measure\", composing with additional error.\n",
      "WARNING: all-qubit error already exists for instruction \"cx\", composing with additional error.\n"
     ]
    },
    {
     "name": "stdout",
     "output_type": "stream",
     "text": [
      "J1_q=7_t=5_nr=16 sent.\n"
     ]
    },
    {
     "name": "stderr",
     "output_type": "stream",
     "text": [
      "WARNING: all-qubit error already exists for instruction \"measure\", composing with additional error.\n",
      "WARNING: all-qubit error already exists for instruction \"cx\", composing with additional error.\n"
     ]
    },
    {
     "name": "stdout",
     "output_type": "stream",
     "text": [
      "J1_q=7_t=5_nr=17 sent.\n",
      "J1_q=7_t=5_nr=18 sent.\n"
     ]
    },
    {
     "name": "stderr",
     "output_type": "stream",
     "text": [
      "WARNING: all-qubit error already exists for instruction \"measure\", composing with additional error.\n",
      "WARNING: all-qubit error already exists for instruction \"cx\", composing with additional error.\n",
      "WARNING: all-qubit error already exists for instruction \"measure\", composing with additional error.\n",
      "WARNING: all-qubit error already exists for instruction \"cx\", composing with additional error.\n"
     ]
    },
    {
     "name": "stdout",
     "output_type": "stream",
     "text": [
      "J1_q=7_t=5_nr=19 sent.\n"
     ]
    },
    {
     "name": "stderr",
     "output_type": "stream",
     "text": [
      "WARNING: all-qubit error already exists for instruction \"measure\", composing with additional error.\n",
      "WARNING: all-qubit error already exists for instruction \"cx\", composing with additional error.\n"
     ]
    },
    {
     "name": "stdout",
     "output_type": "stream",
     "text": [
      "J1_q=7_t=5_nr=20 sent.\n"
     ]
    },
    {
     "name": "stderr",
     "output_type": "stream",
     "text": [
      "WARNING: all-qubit error already exists for instruction \"measure\", composing with additional error.\n",
      "WARNING: all-qubit error already exists for instruction \"cx\", composing with additional error.\n"
     ]
    },
    {
     "name": "stdout",
     "output_type": "stream",
     "text": [
      "J1_q=7_t=6_nr=1 sent.\n"
     ]
    },
    {
     "name": "stderr",
     "output_type": "stream",
     "text": [
      "WARNING: all-qubit error already exists for instruction \"measure\", composing with additional error.\n",
      "WARNING: all-qubit error already exists for instruction \"cx\", composing with additional error.\n"
     ]
    },
    {
     "name": "stdout",
     "output_type": "stream",
     "text": [
      "J1_q=7_t=6_nr=2 sent.\n",
      "J1_q=7_t=6_nr=3 sent.\n"
     ]
    },
    {
     "name": "stderr",
     "output_type": "stream",
     "text": [
      "WARNING: all-qubit error already exists for instruction \"measure\", composing with additional error.\n",
      "WARNING: all-qubit error already exists for instruction \"cx\", composing with additional error.\n"
     ]
    },
    {
     "name": "stdout",
     "output_type": "stream",
     "text": [
      "J1_q=7_t=6_nr=4 sent.\n"
     ]
    },
    {
     "name": "stderr",
     "output_type": "stream",
     "text": [
      "WARNING: all-qubit error already exists for instruction \"measure\", composing with additional error.\n",
      "WARNING: all-qubit error already exists for instruction \"cx\", composing with additional error.\n",
      "WARNING: all-qubit error already exists for instruction \"measure\", composing with additional error.\n"
     ]
    },
    {
     "name": "stdout",
     "output_type": "stream",
     "text": [
      "J1_q=7_t=6_nr=5 sent.\n"
     ]
    },
    {
     "name": "stderr",
     "output_type": "stream",
     "text": [
      "WARNING: all-qubit error already exists for instruction \"cx\", composing with additional error.\n"
     ]
    },
    {
     "name": "stdout",
     "output_type": "stream",
     "text": [
      "J1_q=7_t=6_nr=6 sent.\n"
     ]
    },
    {
     "name": "stderr",
     "output_type": "stream",
     "text": [
      "WARNING: all-qubit error already exists for instruction \"measure\", composing with additional error.\n",
      "WARNING: all-qubit error already exists for instruction \"cx\", composing with additional error.\n"
     ]
    },
    {
     "name": "stdout",
     "output_type": "stream",
     "text": [
      "J1_q=7_t=6_nr=7 sent.\n"
     ]
    },
    {
     "name": "stderr",
     "output_type": "stream",
     "text": [
      "WARNING: all-qubit error already exists for instruction \"measure\", composing with additional error.\n",
      "WARNING: all-qubit error already exists for instruction \"cx\", composing with additional error.\n"
     ]
    },
    {
     "name": "stdout",
     "output_type": "stream",
     "text": [
      "J1_q=7_t=6_nr=8 sent.\n"
     ]
    },
    {
     "name": "stderr",
     "output_type": "stream",
     "text": [
      "WARNING: all-qubit error already exists for instruction \"measure\", composing with additional error.\n",
      "WARNING: all-qubit error already exists for instruction \"cx\", composing with additional error.\n"
     ]
    },
    {
     "name": "stdout",
     "output_type": "stream",
     "text": [
      "J1_q=7_t=6_nr=9 sent.\n"
     ]
    },
    {
     "name": "stderr",
     "output_type": "stream",
     "text": [
      "WARNING: all-qubit error already exists for instruction \"measure\", composing with additional error.\n",
      "WARNING: all-qubit error already exists for instruction \"cx\", composing with additional error.\n",
      "WARNING: all-qubit error already exists for instruction \"measure\", composing with additional error.\n",
      "WARNING: all-qubit error already exists for instruction \"cx\", composing with additional error.\n"
     ]
    },
    {
     "name": "stdout",
     "output_type": "stream",
     "text": [
      "J1_q=7_t=6_nr=10 sent.\n",
      "J1_q=7_t=6_nr=11 sent.\n"
     ]
    },
    {
     "name": "stderr",
     "output_type": "stream",
     "text": [
      "WARNING: all-qubit error already exists for instruction \"measure\", composing with additional error.\n",
      "WARNING: all-qubit error already exists for instruction \"cx\", composing with additional error.\n",
      "WARNING: all-qubit error already exists for instruction \"measure\", composing with additional error.\n",
      "WARNING: all-qubit error already exists for instruction \"cx\", composing with additional error.\n"
     ]
    },
    {
     "name": "stdout",
     "output_type": "stream",
     "text": [
      "J1_q=7_t=6_nr=12 sent.\n",
      "J1_q=7_t=6_nr=13 sent.\n"
     ]
    },
    {
     "name": "stderr",
     "output_type": "stream",
     "text": [
      "WARNING: all-qubit error already exists for instruction \"measure\", composing with additional error.\n",
      "WARNING: all-qubit error already exists for instruction \"cx\", composing with additional error.\n"
     ]
    },
    {
     "name": "stdout",
     "output_type": "stream",
     "text": [
      "J1_q=7_t=6_nr=14 sent.\n"
     ]
    },
    {
     "name": "stderr",
     "output_type": "stream",
     "text": [
      "WARNING: all-qubit error already exists for instruction \"measure\", composing with additional error.\n",
      "WARNING: all-qubit error already exists for instruction \"cx\", composing with additional error.\n"
     ]
    },
    {
     "name": "stdout",
     "output_type": "stream",
     "text": [
      "J1_q=7_t=6_nr=15 sent.\n"
     ]
    },
    {
     "name": "stderr",
     "output_type": "stream",
     "text": [
      "WARNING: all-qubit error already exists for instruction \"measure\", composing with additional error.\n",
      "WARNING: all-qubit error already exists for instruction \"cx\", composing with additional error.\n"
     ]
    },
    {
     "name": "stdout",
     "output_type": "stream",
     "text": [
      "J1_q=7_t=6_nr=16 sent.\n"
     ]
    },
    {
     "name": "stderr",
     "output_type": "stream",
     "text": [
      "WARNING: all-qubit error already exists for instruction \"measure\", composing with additional error.\n",
      "WARNING: all-qubit error already exists for instruction \"cx\", composing with additional error.\n"
     ]
    },
    {
     "name": "stdout",
     "output_type": "stream",
     "text": [
      "J1_q=7_t=6_nr=17 sent.\n"
     ]
    },
    {
     "name": "stderr",
     "output_type": "stream",
     "text": [
      "WARNING: all-qubit error already exists for instruction \"measure\", composing with additional error.\n",
      "WARNING: all-qubit error already exists for instruction \"cx\", composing with additional error.\n"
     ]
    },
    {
     "name": "stdout",
     "output_type": "stream",
     "text": [
      "J1_q=7_t=6_nr=18 sent.\n"
     ]
    },
    {
     "name": "stderr",
     "output_type": "stream",
     "text": [
      "WARNING: all-qubit error already exists for instruction \"measure\", composing with additional error.\n",
      "WARNING: all-qubit error already exists for instruction \"cx\", composing with additional error.\n"
     ]
    },
    {
     "name": "stdout",
     "output_type": "stream",
     "text": [
      "J1_q=7_t=6_nr=19 sent.\n"
     ]
    },
    {
     "name": "stderr",
     "output_type": "stream",
     "text": [
      "WARNING: all-qubit error already exists for instruction \"measure\", composing with additional error.\n",
      "WARNING: all-qubit error already exists for instruction \"cx\", composing with additional error.\n"
     ]
    },
    {
     "name": "stdout",
     "output_type": "stream",
     "text": [
      "J1_q=7_t=6_nr=20 sent.\n"
     ]
    },
    {
     "name": "stderr",
     "output_type": "stream",
     "text": [
      "WARNING: all-qubit error already exists for instruction \"measure\", composing with additional error.\n",
      "WARNING: all-qubit error already exists for instruction \"cx\", composing with additional error.\n",
      "WARNING: all-qubit error already exists for instruction \"measure\", composing with additional error.\n",
      "WARNING: all-qubit error already exists for instruction \"cx\", composing with additional error.\n"
     ]
    },
    {
     "name": "stdout",
     "output_type": "stream",
     "text": [
      "J1_q=7_t=7_nr=1 sent.\n",
      "J1_q=7_t=7_nr=2 sent.\n"
     ]
    },
    {
     "name": "stderr",
     "output_type": "stream",
     "text": [
      "WARNING: all-qubit error already exists for instruction \"measure\", composing with additional error.\n",
      "WARNING: all-qubit error already exists for instruction \"cx\", composing with additional error.\n"
     ]
    },
    {
     "name": "stdout",
     "output_type": "stream",
     "text": [
      "J1_q=7_t=7_nr=3 sent.\n"
     ]
    },
    {
     "name": "stderr",
     "output_type": "stream",
     "text": [
      "WARNING: all-qubit error already exists for instruction \"measure\", composing with additional error.\n",
      "WARNING: all-qubit error already exists for instruction \"cx\", composing with additional error.\n",
      "WARNING: all-qubit error already exists for instruction \"measure\", composing with additional error.\n",
      "WARNING: all-qubit error already exists for instruction \"cx\", composing with additional error.\n"
     ]
    },
    {
     "name": "stdout",
     "output_type": "stream",
     "text": [
      "J1_q=7_t=7_nr=4 sent.\n"
     ]
    },
    {
     "name": "stderr",
     "output_type": "stream",
     "text": [
      "WARNING: all-qubit error already exists for instruction \"measure\", composing with additional error.\n",
      "WARNING: all-qubit error already exists for instruction \"cx\", composing with additional error.\n"
     ]
    },
    {
     "name": "stdout",
     "output_type": "stream",
     "text": [
      "J1_q=7_t=7_nr=5 sent.\n",
      "J1_q=7_t=7_nr=6 sent.\n"
     ]
    },
    {
     "name": "stderr",
     "output_type": "stream",
     "text": [
      "WARNING: all-qubit error already exists for instruction \"measure\", composing with additional error.\n",
      "WARNING: all-qubit error already exists for instruction \"cx\", composing with additional error.\n",
      "WARNING: all-qubit error already exists for instruction \"measure\", composing with additional error.\n",
      "WARNING: all-qubit error already exists for instruction \"cx\", composing with additional error.\n"
     ]
    },
    {
     "name": "stdout",
     "output_type": "stream",
     "text": [
      "J1_q=7_t=7_nr=7 sent.\n",
      "J1_q=7_t=7_nr=8 sent.\n"
     ]
    },
    {
     "name": "stderr",
     "output_type": "stream",
     "text": [
      "WARNING: all-qubit error already exists for instruction \"measure\", composing with additional error.\n",
      "WARNING: all-qubit error already exists for instruction \"cx\", composing with additional error.\n",
      "WARNING: all-qubit error already exists for instruction \"measure\", composing with additional error.\n",
      "WARNING: all-qubit error already exists for instruction \"cx\", composing with additional error.\n"
     ]
    },
    {
     "name": "stdout",
     "output_type": "stream",
     "text": [
      "J1_q=7_t=7_nr=9 sent.\n",
      "J1_q=7_t=7_nr=10 sent.\n"
     ]
    },
    {
     "name": "stderr",
     "output_type": "stream",
     "text": [
      "WARNING: all-qubit error already exists for instruction \"measure\", composing with additional error.\n",
      "WARNING: all-qubit error already exists for instruction \"cx\", composing with additional error.\n"
     ]
    },
    {
     "name": "stdout",
     "output_type": "stream",
     "text": [
      "J1_q=7_t=7_nr=11 sent.\n"
     ]
    },
    {
     "name": "stderr",
     "output_type": "stream",
     "text": [
      "WARNING: all-qubit error already exists for instruction \"measure\", composing with additional error.\n",
      "WARNING: all-qubit error already exists for instruction \"cx\", composing with additional error.\n"
     ]
    },
    {
     "name": "stdout",
     "output_type": "stream",
     "text": [
      "J1_q=7_t=7_nr=12 sent.\n"
     ]
    },
    {
     "name": "stderr",
     "output_type": "stream",
     "text": [
      "WARNING: all-qubit error already exists for instruction \"measure\", composing with additional error.\n",
      "WARNING: all-qubit error already exists for instruction \"cx\", composing with additional error.\n"
     ]
    },
    {
     "name": "stdout",
     "output_type": "stream",
     "text": [
      "J1_q=7_t=7_nr=13 sent.\n"
     ]
    },
    {
     "name": "stderr",
     "output_type": "stream",
     "text": [
      "WARNING: all-qubit error already exists for instruction \"measure\", composing with additional error.\n",
      "WARNING: all-qubit error already exists for instruction \"cx\", composing with additional error.\n"
     ]
    },
    {
     "name": "stdout",
     "output_type": "stream",
     "text": [
      "J1_q=7_t=7_nr=14 sent.\n"
     ]
    },
    {
     "name": "stderr",
     "output_type": "stream",
     "text": [
      "WARNING: all-qubit error already exists for instruction \"measure\", composing with additional error.\n",
      "WARNING: all-qubit error already exists for instruction \"cx\", composing with additional error.\n"
     ]
    },
    {
     "name": "stdout",
     "output_type": "stream",
     "text": [
      "J1_q=7_t=7_nr=15 sent.\n"
     ]
    },
    {
     "name": "stderr",
     "output_type": "stream",
     "text": [
      "WARNING: all-qubit error already exists for instruction \"measure\", composing with additional error.\n",
      "WARNING: all-qubit error already exists for instruction \"cx\", composing with additional error.\n"
     ]
    },
    {
     "name": "stdout",
     "output_type": "stream",
     "text": [
      "J1_q=7_t=7_nr=16 sent.\n"
     ]
    },
    {
     "name": "stderr",
     "output_type": "stream",
     "text": [
      "WARNING: all-qubit error already exists for instruction \"measure\", composing with additional error.\n",
      "WARNING: all-qubit error already exists for instruction \"cx\", composing with additional error.\n"
     ]
    },
    {
     "name": "stdout",
     "output_type": "stream",
     "text": [
      "J1_q=7_t=7_nr=17 sent.\n"
     ]
    },
    {
     "name": "stderr",
     "output_type": "stream",
     "text": [
      "WARNING: all-qubit error already exists for instruction \"measure\", composing with additional error.\n",
      "WARNING: all-qubit error already exists for instruction \"cx\", composing with additional error.\n",
      "WARNING: all-qubit error already exists for instruction \"measure\", composing with additional error.\n",
      "WARNING: all-qubit error already exists for instruction \"cx\", composing with additional error.\n"
     ]
    },
    {
     "name": "stdout",
     "output_type": "stream",
     "text": [
      "J1_q=7_t=7_nr=18 sent.\n",
      "J1_q=7_t=7_nr=19 sent.\n"
     ]
    },
    {
     "name": "stderr",
     "output_type": "stream",
     "text": [
      "WARNING: all-qubit error already exists for instruction \"measure\", composing with additional error.\n",
      "WARNING: all-qubit error already exists for instruction \"cx\", composing with additional error.\n"
     ]
    },
    {
     "name": "stdout",
     "output_type": "stream",
     "text": [
      "J1_q=7_t=7_nr=20 sent.\n"
     ]
    }
   ],
   "source": [
    "#Send jobs to hardware\n",
    "x = datetime.datetime.now()\n",
    "filename_jobs1 = \"Jobs1_\" + backend.name() + \"_T:\" + x.strftime(\"%H:%M:%S_%d-%m-%Y\") + \".txt\"\n",
    "filename_sims1 = \"Sims1_\" + backend.name() + \"_T:\" + x.strftime(\"%H:%M:%S_%d-%m-%Y\") + \".txt\"\n",
    "print(filename_jobs1, filename_sims1)\n",
    "\n",
    "D_jobs1 = {}\n",
    "D_sims1 = {}\n",
    "\n",
    "for q in range(nr_qubits,nr_qubits+1):\n",
    "    for t in range(0,8):#(2,11):\n",
    "        for test_nr in range(1,n_tests+1):\n",
    "            circ = random_circ(q,t)\n",
    "            counts1 = clean_exc(circ)\n",
    "            sS1 = \"S1_q=\"+str(q)+\"_t=\"+str(t)+\"_nr=\"+str(test_nr)\n",
    "            cd = circ.depth()\n",
    "            cs = circ.size()\n",
    "            sJ1 = \"J1_q=\"+str(q)+\"_t=\"+str(t)+\"_nr=\"+str(test_nr)\n",
    "            D_sims1[sS1] = [counts1, cd, cs, sJ1]\n",
    "            try:\n",
    "                job_id2 = hardware_exc(circ, backend)\n",
    "                D_jobs1[sJ1] = job_id2\n",
    "                print(sJ1, \"sent.\")\n",
    "            except:\n",
    "                print(sJ1, \"failed.\")"
   ]
  },
  {
   "cell_type": "code",
   "execution_count": 6,
   "metadata": {},
   "outputs": [
    {
     "name": "stdout",
     "output_type": "stream",
     "text": [
      "Jobs1_ibm_perth_T:09:55:23_28-09-2023.txt Sims1_ibm_perth_T:09:55:23_28-09-2023.txt\n",
      "Jobs1_ibm_perth_T:09:55:23_28-09-2023.txt\n",
      "Sims1_ibm_perth_T:09:55:23_28-09-2023.txt\n"
     ]
    }
   ],
   "source": [
    "#Save references to jobs in files.\n",
    "print(filename_jobs1, filename_sims1)\n",
    "fnj = dict_to_file(D_jobs1, filename_jobs1)\n",
    "print(fnj)\n",
    "fns = dict_to_file(D_sims1, filename_sims1)\n",
    "print(fns)"
   ]
  },
  {
   "cell_type": "code",
   "execution_count": 11,
   "metadata": {},
   "outputs": [
    {
     "name": "stdout",
     "output_type": "stream",
     "text": [
      "\n",
      "\n",
      "Ready: True\n"
     ]
    }
   ],
   "source": [
    "#Check if the sent jobs are finished.\n",
    "\n",
    "#filename_J1 = 'Jobs1_ibm_perth_T:08:27:10_18-11-2022.txt'#(2,11):\n",
    "#filename_J1 = 'Jobs1_ibm_perth_T:11:14:19_12-12-2022.txt'#(2,11):\n",
    "#filename_J1 = 'Jobs1_ibm_perth_T:16:13:12_10-01-2023.txt'#(0,8):\n",
    "filename_J1 = 'Jobs1_ibm_perth_T:09:55:23_28-09-2023.txt'#(0,8):\n",
    "modes = []\n",
    "ready = True\n",
    "\n",
    "D_J1 = file_to_dict(filename_J1)\n",
    "for x in D_J1.keys():\n",
    "    jobid = D_J1[x]\n",
    "    job2 = backend.retrieve_job(jobid)\n",
    "    stat = job2.status()\n",
    "    #print(job2.job_id(), \" : \", stat, \" : \", x)\n",
    "    if(str(stat)!='JobStatus.DONE'):\n",
    "        ready=False\n",
    "        break\n",
    "\n",
    "print(\"\\n\\nReady:\", ready)"
   ]
  },
  {
   "cell_type": "code",
   "execution_count": 12,
   "metadata": {},
   "outputs": [
    {
     "name": "stdout",
     "output_type": "stream",
     "text": [
      "Depth speed: 709254.5836346432 450144.98049150244\n",
      "Size speed: 1009361.1101480133 647195.4958919536\n"
     ]
    }
   ],
   "source": [
    "#filename_S1 = 'Sims1_ibm_perth_T:14:25:25_11-08-2023.txt'\n",
    "#filename_J1 = 'Jobs1_ibm_perth_T:14:25:25_11-08-2023.txt'#(0,8):\n",
    "filename_J1 = 'Jobs1_ibm_perth_T:09:55:23_28-09-2023.txt'#(0,8):\n",
    "filename_S1 = 'Sims1_ibm_perth_T:09:55:23_28-09-2023.txt'#(0,8):\n",
    "\n",
    "data = []\n",
    "\n",
    "D_S1 = file_to_dict(filename_S1)\n",
    "D_J1 = file_to_dict(filename_J1)\n",
    "for key in D_S1.keys():\n",
    "    [counts1, cd, cs, sJ1] = D_S1[key]\n",
    "    job2 = backend.retrieve_job(D_J1[sJ1])\n",
    "    Res = job2.result()\n",
    "    time = Res.time_taken\n",
    "    shots = Res.results[0].shots\n",
    "    data.append([cd, cs, shots, time, (shots*cd)/time, (shots*cs)/time].copy())\n",
    "\n",
    "avg = 0.0\n",
    "std = 0.0\n",
    "n = len(data)\n",
    "for [d,_,sh,t,c,_] in data:\n",
    "    avg += c/n\n",
    "    std += (c**2) / n\n",
    "std -= (avg**2)\n",
    "std = np.sqrt(std)\n",
    "print(\"Depth speed:\", avg, std)\n",
    "\n",
    "avg = 0.0\n",
    "std = 0.0\n",
    "n = len(data)\n",
    "for [_,s,sh,t,_,c] in data:\n",
    "    avg += c/n\n",
    "    std += (c**2) / n\n",
    "std -= (avg**2)\n",
    "std = np.sqrt(std)\n",
    "print(\"Size speed:\", avg, std)"
   ]
  },
  {
   "cell_type": "code",
   "execution_count": 13,
   "metadata": {},
   "outputs": [
    {
     "name": "stdout",
     "output_type": "stream",
     "text": [
      "7 0 20 1.0 1.0  :  0.938 1.0 0.0\n",
      "7 1 20 74.25 99.3  :  0.278 0.691 0.453\n",
      "7 2 20 144.5 202.85  :  0.233 0.8 0.4\n",
      "7 3 20 206.65 294.75  :  0.01 0.664 0.462\n",
      "7 4 20 290.6 408.45  :  0.044 0.55 0.497\n",
      "7 5 20 348.5 495.8  :  0.093 0.9 0.3\n",
      "7 6 20 401.45 570.45  :  -0.044 0.85 0.357\n",
      "7 7 20 497.5 725.45  :  0.056 0.55 0.497\n"
     ]
    }
   ],
   "source": [
    "#Preprocess results\n",
    "\n",
    "#filename_jobs1 = 'Jobs1_ibm_perth_T:08:27:10_18-11-2022.txt'#(2,11):\n",
    "#filename_sims1 = 'Sims1_ibm_perth_T:08:27:10_18-11-2022.txt'#(2,11):\n",
    "#filename_jobs1 = 'Jobs1_ibm_perth_T:11:14:19_12-12-2022.txt'#(2,11):\n",
    "#filename_sims1 = 'Sims1_ibm_perth_T:11:14:19_12-12-2022.txt'#(2,11):\n",
    "#filename_jobs1  = 'Jobs1_ibm_perth_T:16:13:12_10-01-2023.txt'#(0,8):\n",
    "#filename_sims1  = 'Sims1_ibm_perth_T:16:13:12_10-01-2023.txt'#(0,8):\n",
    "#filename_sims1 = 'Sims1_ibm_perth_T:14:25:25_11-08-2023.txt'\n",
    "#filename_jobs1 = 'Jobs1_ibm_perth_T:14:25:25_11-08-2023.txt'#(0,8):\n",
    "filename_J1 = 'Jobs1_ibm_perth_T:09:55:23_28-09-2023.txt'#(0,8):\n",
    "filename_S1 = 'Sims1_ibm_perth_T:09:55:23_28-09-2023.txt'#(0,8):\n",
    "\n",
    "\n",
    "D_jobs1 = file_to_dict(filename_jobs1)\n",
    "D_sims1 = file_to_dict(filename_sims1)\n",
    "R = []\n",
    "A_lst = []\n",
    "for q in range(nr_qubits,nr_qubits+1):\n",
    "    for t in range(0,8):#(2,11):\n",
    "        A_lst.append([])\n",
    "        a_avg = 0\n",
    "        R2_avg = 0\n",
    "        R2_std = 0\n",
    "        ads = 0\n",
    "        add = 0\n",
    "        ctr_tests = 0\n",
    "        for test_nr in range(1,n_tests+1):\n",
    "            sS1 = \"S1_q=\"+str(q)+\"_t=\"+str(t)+\"_nr=\"+str(test_nr)\n",
    "            sJ1 = \"J1_q=\"+str(q)+\"_t=\"+str(t)+\"_nr=\"+str(test_nr)\n",
    "            if( (sJ1 in D_jobs1.keys()) & (sS1 in D_sims1.keys()) ):\n",
    "                [counts1, cd, cs, _] = D_sims1[sS1]\n",
    "                job2 = backend.retrieve_job(D_jobs1[sJ1])\n",
    "                dummy_res = job2.result()\n",
    "                counts2 = dummy_res.get_counts(0)\n",
    "                a,R2 = analyse_noise(counts1, counts2)\n",
    "                A_lst[t].append(a)\n",
    "                ctr_tests += 1\n",
    "                a_avg += a\n",
    "                R2_avg += R2\n",
    "                R2_std += (R2**2)\n",
    "                add += cd\n",
    "                ads += cs\n",
    "        if(ctr_tests>0):\n",
    "            a_avg = a_avg/ctr_tests\n",
    "            R2_avg = R2_avg/ctr_tests\n",
    "            R2_std = R2_std/ctr_tests\n",
    "            add = add/ctr_tests\n",
    "            ads = ads/ctr_tests\n",
    "            R2_std -= R2_avg**2\n",
    "            if(R2_std>=0.0):\n",
    "                R2_std = np.sqrt(R2_std)\n",
    "            R.append([q, t, a_avg, R2_avg, R2_std, add, ads, ctr_tests].copy())\n",
    "            print(q, t, ctr_tests, round(add,2), round(ads,2), \" : \", round(a_avg,3), round(R2_avg,3), round(R2_std,3) )\n",
    "        else:\n",
    "            print(q, t, \"No usable circuits found.\" )"
   ]
  },
  {
   "cell_type": "code",
   "execution_count": 14,
   "metadata": {},
   "outputs": [
    {
     "data": {
      "image/png": "[encoded data removed]",
      "text/plain": [
       "<Figure size 432x288 with 1 Axes>"
      ]
     },
     "metadata": {
      "needs_background": "light"
     },
     "output_type": "display_data"
    },
    {
     "data": {
      "image/png": "[encoded data removed]",
      "text/plain": [
       "<Figure size 432x288 with 1 Axes>"
      ]
     },
     "metadata": {
      "needs_background": "light"
     },
     "output_type": "display_data"
    },
    {
     "data": {
      "image/png": "[encoded data removed]",
      "text/plain": [
       "<Figure size 432x288 with 1 Axes>"
      ]
     },
     "metadata": {
      "needs_background": "light"
     },
     "output_type": "display_data"
    },
    {
     "data": {
      "image/png": "[encoded data removed]",
      "text/plain": [
       "<Figure size 432x288 with 1 Axes>"
      ]
     },
     "metadata": {
      "needs_background": "light"
     },
     "output_type": "display_data"
    },
    {
     "data": {
      "image/png": "[encoded data removed]",
      "text/plain": [
       "<Figure size 432x288 with 1 Axes>"
      ]
     },
     "metadata": {
      "needs_background": "light"
     },
     "output_type": "display_data"
    },
    {
     "data": {
      "image/png": "[encoded data removed]",
      "text/plain": [
       "<Figure size 432x288 with 1 Axes>"
      ]
     },
     "metadata": {
      "needs_background": "light"
     },
     "output_type": "display_data"
    },
    {
     "data": {
      "image/png": "[encoded data removed]",
      "text/plain": [
       "<Figure size 432x288 with 1 Axes>"
      ]
     },
     "metadata": {
      "needs_background": "light"
     },
     "output_type": "display_data"
    },
    {
     "data": {
      "image/png": "[encoded data removed]",
      "text/plain": [
       "<Figure size 432x288 with 1 Axes>"
      ]
     },
     "metadata": {
      "needs_background": "light"
     },
     "output_type": "display_data"
    }
   ],
   "source": [
    "#Print the obtained distributions of the error probabilities a\n",
    "\n",
    "for a_lst in A_lst:\n",
    "    num_bins = 10\n",
    "    n, bins, patches = plt.hist(a_lst, num_bins)\n",
    "    plt.show()"
   ]
  },
  {
   "cell_type": "code",
   "execution_count": 15,
   "metadata": {
    "scrolled": true
   },
   "outputs": [
    {
     "name": "stdout",
     "output_type": "stream",
     "text": [
      "0.9383 0.25928 1.0 0.59791 simple\n",
      "\n",
      "0.9383 0.3738 0.64006 bcs\n",
      "\n",
      "0.9383 0.2593 0.59791 bcd\n",
      "\n",
      " 7  0 : 20:   1.0    1.0  ::    0.938     0.926\n",
      " 7  1 : 20:  74.2   99.3  ::    0.278     0.344\n",
      " 7  2 : 20: 144.5  202.8  ::    0.233     0.133\n",
      " 7  3 : 20: 206.7  294.8  ::    0.010     0.058\n",
      " 7  4 : 20: 290.6  408.4  ::    0.044     0.019\n",
      " 7  5 : 20: 348.5  495.8  ::    0.093     0.009\n",
      " 7  6 : 20: 401.4  570.5  ::   -0.044     0.004\n",
      " 7  7 : 20: 497.5  725.5  ::    0.056     0.001\n",
      "\n",
      " 0 &  20 &   1.0 &   1.0 &   0.938 &   0.926\\\\hline\n",
      " 1 &  20 &  74.2 &  99.3 &   0.278 &   0.344\\\\hline\n",
      " 2 &  20 & 144.5 & 202.8 &   0.233 &   0.133\\\\hline\n",
      " 3 &  20 & 206.7 & 294.8 &   0.010 &   0.058\\\\hline\n",
      " 4 &  20 & 290.6 & 408.4 &   0.044 &   0.019\\\\hline\n",
      " 5 &  20 & 348.5 & 495.8 &   0.093 &   0.009\\\\hline\n",
      " 6 &  20 & 401.4 & 570.5 &  -0.044 &   0.004\\\\hline\n",
      " 7 &  20 & 497.5 & 725.5 &   0.056 &   0.001\\\\hline\n",
      "\n",
      " 0 &  20 &   1.0 &   1.0 &   0.938 &   0.923\\\\hline\n",
      " 1 &  20 &  74.2 &  99.3 &   0.278 &   0.351\\\\hline\n",
      " 2 &  20 & 144.5 & 202.8 &   0.233 &   0.127\\\\hline\n",
      " 3 &  20 & 206.7 & 294.8 &   0.010 &   0.051\\\\hline\n",
      " 4 &  20 & 290.6 & 408.4 &   0.044 &   0.017\\\\hline\n",
      " 5 &  20 & 348.5 & 495.8 &   0.093 &   0.007\\\\hline\n",
      " 6 &  20 & 401.4 & 570.5 &  -0.044 &   0.003\\\\hline\n",
      " 7 &  20 & 497.5 & 725.5 &   0.056 &   0.001\\\\hline\n"
     ]
    }
   ],
   "source": [
    "#Analyze the preprocessed results.\n",
    "\n",
    "b_nm, cd_nm, cs_nm, SSE = optimize_noise_model_simple(R)\n",
    "print(round(b_nm,5), round(cd_nm,5), round(cs_nm,4), round(SSE,5), \"simple\\n\")\n",
    "bs_nm, cs_nm, SSE = optimize_noise_model_bcs(R)\n",
    "print(round(b_nm,5), round(cs_nm,5), round(SSE,5), \"bcs\\n\")\n",
    "bd_nm, cd_nm, SSE = optimize_noise_model_bcd(R)\n",
    "print(round(bd_nm,5), round(cd_nm,5), round(SSE,5), \"bcd\\n\")\n",
    "\n",
    "for [q,p,a,R2_avg,R2_std,add,ads,ctr] in R:\n",
    "    print( \"{5:2d} {0:2d} :{6:3d}: {3:5.1f}  {4:5.1f}  ::  {1:7.3f}   {2:7.3f}\".format(\n",
    "        p, a, b_nm*(cd_nm**(0.01*add)), add, ads, q, ctr \n",
    "    ) )\n",
    "\n",
    "\"\"\"    \n",
    "print(\"\\n\\n[q,p,a,R2_avg,R2_std,add,ads,ctr]\")\n",
    "for r in R:\n",
    "    print(r)\n",
    "\"\"\"    \n",
    "    \n",
    "print()\n",
    "for [q,p,a,R2_avg,R2_std,add,ads,ctr] in R:\n",
    "    print( \"{0:2d} & {6:3d} & {3:5.1f} & {4:5.1f} & {1:7.3f} & {2:7.3f}\\\\\\hline\".format(\n",
    "        p, a, bd_nm*(cd_nm**(0.01*add)), add, ads, q, ctr \n",
    "    ) )\n",
    "    \n",
    "print()\n",
    "for [q,p,a,R2_avg,R2_std,add,ads,ctr] in R:\n",
    "    print( \"{0:2d} & {6:3d} & {3:5.1f} & {4:5.1f} & {1:7.3f} & {2:7.3f}\\\\\\hline\".format(\n",
    "        p, a, bs_nm*(cs_nm**(0.01*ads)), add, ads, q, ctr \n",
    "    ) )"
   ]
  },
  {
   "cell_type": "code",
   "execution_count": 16,
   "metadata": {},
   "outputs": [
    {
     "data": {
      "text/plain": [
       "[<matplotlib.lines.Line2D at 0x7f7e07342bf0>]"
      ]
     },
     "execution_count": 16,
     "metadata": {},
     "output_type": "execute_result"
    },
    {
     "data": {
      "image/png": "[encoded data removed]",
      "text/plain": [
       "<Figure size 432x288 with 1 Axes>"
      ]
     },
     "metadata": {
      "needs_background": "light"
     },
     "output_type": "display_data"
    }
   ],
   "source": [
    "#Depict the error probabilities, the modelled probabilities and the R2 of the error probabilities.\n",
    "\n",
    "X = [ add for [q,p,a,R2_avg,R2_std,add,_,_] in R ]\n",
    "Y2 = [ a for [q,p,a,R2_avg,R2_std,add,_,_] in R ]\n",
    "Y3 = [ bd_nm*(cd_nm**(0.01*add)) for [q,p,a,R2_avg,R2_std,add,_,_] in R ]\n",
    "Y4 = [ R2_avg for [q,p,a,R2_avg,R2_std,add,_,_] in R ]\n",
    "fig, ax = plt.subplots()\n",
    "ax.plot(X,Y2, color='blue')\n",
    "ax.plot(X,Y3, color='orange')\n",
    "ax.plot(X,Y4, color='green')\n",
    "#ax.plot(X,Y2, color='magenta')"
   ]
  },
  {
   "cell_type": "code",
   "execution_count": 17,
   "metadata": {},
   "outputs": [
    {
     "data": {
      "text/plain": [
       "[<matplotlib.lines.Line2D at 0x7f7e073a9720>]"
      ]
     },
     "execution_count": 17,
     "metadata": {},
     "output_type": "execute_result"
    },
    {
     "data": {
      "image/png": "[encoded data removed]",
      "text/plain": [
       "<Figure size 432x288 with 1 Axes>"
      ]
     },
     "metadata": {
      "needs_background": "light"
     },
     "output_type": "display_data"
    }
   ],
   "source": [
    "#Depict the error probabilities, the modelled probabilities and the R2 of the error probabilities.\n",
    "\n",
    "X = [ ads for [q,p,a,R2_avg,R2_std,add,ads,_] in R ]\n",
    "Y2 = [ a for [q,p,a,R2_avg,R2_std,add,ads,_] in R ]\n",
    "Y3 = [ bs_nm*(cs_nm**(0.01*ads)) for [q,p,a,R2_avg,R2_std,add,ads,_] in R ]\n",
    "Y4 = [ R2_avg for [q,p,a,R2_avg,R2_std,add,ads,_] in R ]\n",
    "fig, ax = plt.subplots()\n",
    "ax.plot(X,Y2, color='blue')\n",
    "ax.plot(X,Y3, color='red')\n",
    "ax.plot(X,Y4, color='green')\n",
    "#ax.plot(X,Y2, color='magenta')"
   ]
  },
  {
   "cell_type": "markdown",
   "metadata": {},
   "source": [
    "## Test the error model"
   ]
  },
  {
   "cell_type": "code",
   "execution_count": 7,
   "metadata": {},
   "outputs": [
    {
     "name": "stdout",
     "output_type": "stream",
     "text": [
      "Jobs2_ibm_perth_T:10:17:32_28-09-2023.txt Sims2_ibm_perth_T:10:17:32_28-09-2023.txt\n"
     ]
    },
    {
     "name": "stderr",
     "output_type": "stream",
     "text": [
      "WARNING: all-qubit error already exists for instruction \"measure\", composing with additional error.\n",
      "WARNING: all-qubit error already exists for instruction \"cx\", composing with additional error.\n",
      "WARNING: all-qubit error already exists for instruction \"measure\", composing with additional error.\n",
      "WARNING: all-qubit error already exists for instruction \"cx\", composing with additional error.\n"
     ]
    },
    {
     "name": "stdout",
     "output_type": "stream",
     "text": [
      "J2_q=7_t=0_nr=1 sent.\n"
     ]
    },
    {
     "name": "stderr",
     "output_type": "stream",
     "text": [
      "WARNING: all-qubit error already exists for instruction \"measure\", composing with additional error.\n",
      "WARNING: all-qubit error already exists for instruction \"cx\", composing with additional error.\n"
     ]
    },
    {
     "name": "stdout",
     "output_type": "stream",
     "text": [
      "J2_q=7_t=0_nr=2 sent.\n"
     ]
    },
    {
     "name": "stderr",
     "output_type": "stream",
     "text": [
      "WARNING: all-qubit error already exists for instruction \"measure\", composing with additional error.\n",
      "WARNING: all-qubit error already exists for instruction \"cx\", composing with additional error.\n"
     ]
    },
    {
     "name": "stdout",
     "output_type": "stream",
     "text": [
      "J2_q=7_t=0_nr=3 sent.\n"
     ]
    },
    {
     "name": "stderr",
     "output_type": "stream",
     "text": [
      "WARNING: all-qubit error already exists for instruction \"measure\", composing with additional error.\n",
      "WARNING: all-qubit error already exists for instruction \"cx\", composing with additional error.\n"
     ]
    },
    {
     "name": "stdout",
     "output_type": "stream",
     "text": [
      "J2_q=7_t=0_nr=4 sent.\n"
     ]
    },
    {
     "name": "stderr",
     "output_type": "stream",
     "text": [
      "WARNING: all-qubit error already exists for instruction \"measure\", composing with additional error.\n",
      "WARNING: all-qubit error already exists for instruction \"cx\", composing with additional error.\n"
     ]
    },
    {
     "name": "stdout",
     "output_type": "stream",
     "text": [
      "J2_q=7_t=0_nr=5 sent.\n"
     ]
    },
    {
     "name": "stderr",
     "output_type": "stream",
     "text": [
      "WARNING: all-qubit error already exists for instruction \"measure\", composing with additional error.\n",
      "WARNING: all-qubit error already exists for instruction \"cx\", composing with additional error.\n"
     ]
    },
    {
     "name": "stdout",
     "output_type": "stream",
     "text": [
      "J2_q=7_t=0_nr=6 sent.\n"
     ]
    },
    {
     "name": "stderr",
     "output_type": "stream",
     "text": [
      "WARNING: all-qubit error already exists for instruction \"measure\", composing with additional error.\n",
      "WARNING: all-qubit error already exists for instruction \"cx\", composing with additional error.\n"
     ]
    },
    {
     "name": "stdout",
     "output_type": "stream",
     "text": [
      "J2_q=7_t=0_nr=7 sent.\n"
     ]
    },
    {
     "name": "stderr",
     "output_type": "stream",
     "text": [
      "WARNING: all-qubit error already exists for instruction \"measure\", composing with additional error.\n",
      "WARNING: all-qubit error already exists for instruction \"cx\", composing with additional error.\n"
     ]
    },
    {
     "name": "stdout",
     "output_type": "stream",
     "text": [
      "J2_q=7_t=0_nr=8 sent.\n"
     ]
    },
    {
     "name": "stderr",
     "output_type": "stream",
     "text": [
      "WARNING: all-qubit error already exists for instruction \"measure\", composing with additional error.\n",
      "WARNING: all-qubit error already exists for instruction \"cx\", composing with additional error.\n"
     ]
    },
    {
     "name": "stdout",
     "output_type": "stream",
     "text": [
      "J2_q=7_t=0_nr=9 sent.\n"
     ]
    },
    {
     "name": "stderr",
     "output_type": "stream",
     "text": [
      "WARNING: all-qubit error already exists for instruction \"measure\", composing with additional error.\n",
      "WARNING: all-qubit error already exists for instruction \"cx\", composing with additional error.\n"
     ]
    },
    {
     "name": "stdout",
     "output_type": "stream",
     "text": [
      "J2_q=7_t=0_nr=10 sent.\n"
     ]
    },
    {
     "name": "stderr",
     "output_type": "stream",
     "text": [
      "WARNING: all-qubit error already exists for instruction \"measure\", composing with additional error.\n",
      "WARNING: all-qubit error already exists for instruction \"cx\", composing with additional error.\n"
     ]
    },
    {
     "name": "stdout",
     "output_type": "stream",
     "text": [
      "J2_q=7_t=0_nr=11 sent.\n"
     ]
    },
    {
     "name": "stderr",
     "output_type": "stream",
     "text": [
      "WARNING: all-qubit error already exists for instruction \"measure\", composing with additional error.\n",
      "WARNING: all-qubit error already exists for instruction \"cx\", composing with additional error.\n"
     ]
    },
    {
     "name": "stdout",
     "output_type": "stream",
     "text": [
      "J2_q=7_t=0_nr=12 sent.\n"
     ]
    },
    {
     "name": "stderr",
     "output_type": "stream",
     "text": [
      "WARNING: all-qubit error already exists for instruction \"measure\", composing with additional error.\n",
      "WARNING: all-qubit error already exists for instruction \"cx\", composing with additional error.\n"
     ]
    },
    {
     "name": "stdout",
     "output_type": "stream",
     "text": [
      "J2_q=7_t=0_nr=13 sent.\n"
     ]
    },
    {
     "name": "stderr",
     "output_type": "stream",
     "text": [
      "WARNING: all-qubit error already exists for instruction \"measure\", composing with additional error.\n",
      "WARNING: all-qubit error already exists for instruction \"cx\", composing with additional error.\n"
     ]
    },
    {
     "name": "stdout",
     "output_type": "stream",
     "text": [
      "J2_q=7_t=0_nr=14 sent.\n"
     ]
    },
    {
     "name": "stderr",
     "output_type": "stream",
     "text": [
      "WARNING: all-qubit error already exists for instruction \"measure\", composing with additional error.\n",
      "WARNING: all-qubit error already exists for instruction \"cx\", composing with additional error.\n"
     ]
    },
    {
     "name": "stdout",
     "output_type": "stream",
     "text": [
      "J2_q=7_t=0_nr=15 sent.\n"
     ]
    },
    {
     "name": "stderr",
     "output_type": "stream",
     "text": [
      "WARNING: all-qubit error already exists for instruction \"measure\", composing with additional error.\n",
      "WARNING: all-qubit error already exists for instruction \"cx\", composing with additional error.\n"
     ]
    },
    {
     "name": "stdout",
     "output_type": "stream",
     "text": [
      "J2_q=7_t=0_nr=16 sent.\n"
     ]
    },
    {
     "name": "stderr",
     "output_type": "stream",
     "text": [
      "WARNING: all-qubit error already exists for instruction \"measure\", composing with additional error.\n",
      "WARNING: all-qubit error already exists for instruction \"cx\", composing with additional error.\n"
     ]
    },
    {
     "name": "stdout",
     "output_type": "stream",
     "text": [
      "J2_q=7_t=0_nr=17 sent.\n"
     ]
    },
    {
     "name": "stderr",
     "output_type": "stream",
     "text": [
      "WARNING: all-qubit error already exists for instruction \"measure\", composing with additional error.\n",
      "WARNING: all-qubit error already exists for instruction \"cx\", composing with additional error.\n"
     ]
    },
    {
     "name": "stdout",
     "output_type": "stream",
     "text": [
      "J2_q=7_t=0_nr=18 sent.\n"
     ]
    },
    {
     "name": "stderr",
     "output_type": "stream",
     "text": [
      "WARNING: all-qubit error already exists for instruction \"measure\", composing with additional error.\n",
      "WARNING: all-qubit error already exists for instruction \"cx\", composing with additional error.\n"
     ]
    },
    {
     "name": "stdout",
     "output_type": "stream",
     "text": [
      "J2_q=7_t=0_nr=19 sent.\n"
     ]
    },
    {
     "name": "stderr",
     "output_type": "stream",
     "text": [
      "WARNING: all-qubit error already exists for instruction \"measure\", composing with additional error.\n",
      "WARNING: all-qubit error already exists for instruction \"cx\", composing with additional error.\n"
     ]
    },
    {
     "name": "stdout",
     "output_type": "stream",
     "text": [
      "J2_q=7_t=0_nr=20 sent.\n"
     ]
    },
    {
     "name": "stderr",
     "output_type": "stream",
     "text": [
      "WARNING: all-qubit error already exists for instruction \"measure\", composing with additional error.\n"
     ]
    },
    {
     "name": "stdout",
     "output_type": "stream",
     "text": [
      "J2_q=7_t=1_nr=1 sent.\n"
     ]
    },
    {
     "name": "stderr",
     "output_type": "stream",
     "text": [
      "WARNING: all-qubit error already exists for instruction \"cx\", composing with additional error.\n",
      "WARNING: all-qubit error already exists for instruction \"measure\", composing with additional error.\n",
      "WARNING: all-qubit error already exists for instruction \"cx\", composing with additional error.\n"
     ]
    },
    {
     "name": "stdout",
     "output_type": "stream",
     "text": [
      "J2_q=7_t=1_nr=2 sent.\n"
     ]
    },
    {
     "name": "stderr",
     "output_type": "stream",
     "text": [
      "WARNING: all-qubit error already exists for instruction \"measure\", composing with additional error.\n"
     ]
    },
    {
     "name": "stdout",
     "output_type": "stream",
     "text": [
      "J2_q=7_t=1_nr=3 sent.\n"
     ]
    },
    {
     "name": "stderr",
     "output_type": "stream",
     "text": [
      "WARNING: all-qubit error already exists for instruction \"cx\", composing with additional error.\n",
      "WARNING: all-qubit error already exists for instruction \"measure\", composing with additional error.\n"
     ]
    },
    {
     "name": "stdout",
     "output_type": "stream",
     "text": [
      "J2_q=7_t=1_nr=4 sent.\n"
     ]
    },
    {
     "name": "stderr",
     "output_type": "stream",
     "text": [
      "WARNING: all-qubit error already exists for instruction \"cx\", composing with additional error.\n",
      "WARNING: all-qubit error already exists for instruction \"measure\", composing with additional error.\n",
      "WARNING: all-qubit error already exists for instruction \"cx\", composing with additional error.\n"
     ]
    },
    {
     "name": "stdout",
     "output_type": "stream",
     "text": [
      "J2_q=7_t=1_nr=5 sent.\n"
     ]
    },
    {
     "name": "stderr",
     "output_type": "stream",
     "text": [
      "WARNING: all-qubit error already exists for instruction \"measure\", composing with additional error.\n",
      "WARNING: all-qubit error already exists for instruction \"cx\", composing with additional error.\n"
     ]
    },
    {
     "name": "stdout",
     "output_type": "stream",
     "text": [
      "J2_q=7_t=1_nr=6 sent.\n"
     ]
    },
    {
     "name": "stderr",
     "output_type": "stream",
     "text": [
      "WARNING: all-qubit error already exists for instruction \"measure\", composing with additional error.\n",
      "WARNING: all-qubit error already exists for instruction \"cx\", composing with additional error.\n"
     ]
    },
    {
     "name": "stdout",
     "output_type": "stream",
     "text": [
      "J2_q=7_t=1_nr=7 sent.\n"
     ]
    },
    {
     "name": "stderr",
     "output_type": "stream",
     "text": [
      "WARNING: all-qubit error already exists for instruction \"measure\", composing with additional error.\n",
      "WARNING: all-qubit error already exists for instruction \"cx\", composing with additional error.\n"
     ]
    },
    {
     "name": "stdout",
     "output_type": "stream",
     "text": [
      "J2_q=7_t=1_nr=8 sent.\n"
     ]
    },
    {
     "name": "stderr",
     "output_type": "stream",
     "text": [
      "WARNING: all-qubit error already exists for instruction \"measure\", composing with additional error.\n",
      "WARNING: all-qubit error already exists for instruction \"cx\", composing with additional error.\n"
     ]
    },
    {
     "name": "stdout",
     "output_type": "stream",
     "text": [
      "J2_q=7_t=1_nr=9 sent.\n"
     ]
    },
    {
     "name": "stderr",
     "output_type": "stream",
     "text": [
      "WARNING: all-qubit error already exists for instruction \"measure\", composing with additional error.\n",
      "WARNING: all-qubit error already exists for instruction \"cx\", composing with additional error.\n"
     ]
    },
    {
     "name": "stdout",
     "output_type": "stream",
     "text": [
      "J2_q=7_t=1_nr=10 sent.\n"
     ]
    },
    {
     "name": "stderr",
     "output_type": "stream",
     "text": [
      "WARNING: all-qubit error already exists for instruction \"measure\", composing with additional error.\n"
     ]
    },
    {
     "name": "stdout",
     "output_type": "stream",
     "text": [
      "J2_q=7_t=1_nr=11 sent.\n"
     ]
    },
    {
     "name": "stderr",
     "output_type": "stream",
     "text": [
      "WARNING: all-qubit error already exists for instruction \"cx\", composing with additional error.\n",
      "WARNING: all-qubit error already exists for instruction \"measure\", composing with additional error.\n",
      "WARNING: all-qubit error already exists for instruction \"cx\", composing with additional error.\n"
     ]
    },
    {
     "name": "stdout",
     "output_type": "stream",
     "text": [
      "J2_q=7_t=1_nr=12 sent.\n"
     ]
    },
    {
     "name": "stderr",
     "output_type": "stream",
     "text": [
      "WARNING: all-qubit error already exists for instruction \"measure\", composing with additional error.\n",
      "WARNING: all-qubit error already exists for instruction \"cx\", composing with additional error.\n"
     ]
    },
    {
     "name": "stdout",
     "output_type": "stream",
     "text": [
      "J2_q=7_t=1_nr=13 sent.\n"
     ]
    },
    {
     "name": "stderr",
     "output_type": "stream",
     "text": [
      "WARNING: all-qubit error already exists for instruction \"measure\", composing with additional error.\n"
     ]
    },
    {
     "name": "stdout",
     "output_type": "stream",
     "text": [
      "J2_q=7_t=1_nr=14 sent.\n"
     ]
    },
    {
     "name": "stderr",
     "output_type": "stream",
     "text": [
      "WARNING: all-qubit error already exists for instruction \"cx\", composing with additional error.\n",
      "WARNING: all-qubit error already exists for instruction \"measure\", composing with additional error.\n",
      "WARNING: all-qubit error already exists for instruction \"cx\", composing with additional error.\n"
     ]
    },
    {
     "name": "stdout",
     "output_type": "stream",
     "text": [
      "J2_q=7_t=1_nr=15 sent.\n"
     ]
    },
    {
     "name": "stderr",
     "output_type": "stream",
     "text": [
      "WARNING: all-qubit error already exists for instruction \"measure\", composing with additional error.\n",
      "WARNING: all-qubit error already exists for instruction \"cx\", composing with additional error.\n"
     ]
    },
    {
     "name": "stdout",
     "output_type": "stream",
     "text": [
      "J2_q=7_t=1_nr=16 sent.\n"
     ]
    },
    {
     "name": "stderr",
     "output_type": "stream",
     "text": [
      "WARNING: all-qubit error already exists for instruction \"measure\", composing with additional error.\n",
      "WARNING: all-qubit error already exists for instruction \"cx\", composing with additional error.\n"
     ]
    },
    {
     "name": "stdout",
     "output_type": "stream",
     "text": [
      "J2_q=7_t=1_nr=17 sent.\n"
     ]
    },
    {
     "name": "stderr",
     "output_type": "stream",
     "text": [
      "WARNING: all-qubit error already exists for instruction \"measure\", composing with additional error.\n",
      "WARNING: all-qubit error already exists for instruction \"cx\", composing with additional error.\n"
     ]
    },
    {
     "name": "stdout",
     "output_type": "stream",
     "text": [
      "J2_q=7_t=1_nr=18 sent.\n"
     ]
    },
    {
     "name": "stderr",
     "output_type": "stream",
     "text": [
      "WARNING: all-qubit error already exists for instruction \"measure\", composing with additional error.\n",
      "WARNING: all-qubit error already exists for instruction \"cx\", composing with additional error.\n"
     ]
    },
    {
     "name": "stdout",
     "output_type": "stream",
     "text": [
      "J2_q=7_t=1_nr=19 sent.\n",
      "J2_q=7_t=1_nr=20 sent.\n"
     ]
    },
    {
     "name": "stderr",
     "output_type": "stream",
     "text": [
      "WARNING: all-qubit error already exists for instruction \"measure\", composing with additional error.\n",
      "WARNING: all-qubit error already exists for instruction \"cx\", composing with additional error.\n"
     ]
    },
    {
     "name": "stdout",
     "output_type": "stream",
     "text": [
      "J2_q=7_t=2_nr=1 sent.\n"
     ]
    },
    {
     "name": "stderr",
     "output_type": "stream",
     "text": [
      "WARNING: all-qubit error already exists for instruction \"measure\", composing with additional error.\n",
      "WARNING: all-qubit error already exists for instruction \"cx\", composing with additional error.\n",
      "WARNING: all-qubit error already exists for instruction \"measure\", composing with additional error.\n"
     ]
    },
    {
     "name": "stdout",
     "output_type": "stream",
     "text": [
      "J2_q=7_t=2_nr=2 sent.\n"
     ]
    },
    {
     "name": "stderr",
     "output_type": "stream",
     "text": [
      "WARNING: all-qubit error already exists for instruction \"cx\", composing with additional error.\n",
      "WARNING: all-qubit error already exists for instruction \"measure\", composing with additional error.\n",
      "WARNING: all-qubit error already exists for instruction \"cx\", composing with additional error.\n"
     ]
    },
    {
     "name": "stdout",
     "output_type": "stream",
     "text": [
      "J2_q=7_t=2_nr=3 sent.\n"
     ]
    },
    {
     "name": "stderr",
     "output_type": "stream",
     "text": [
      "WARNING: all-qubit error already exists for instruction \"measure\", composing with additional error.\n",
      "WARNING: all-qubit error already exists for instruction \"cx\", composing with additional error.\n"
     ]
    },
    {
     "name": "stdout",
     "output_type": "stream",
     "text": [
      "J2_q=7_t=2_nr=4 sent.\n"
     ]
    },
    {
     "name": "stderr",
     "output_type": "stream",
     "text": [
      "WARNING: all-qubit error already exists for instruction \"measure\", composing with additional error.\n",
      "WARNING: all-qubit error already exists for instruction \"cx\", composing with additional error.\n"
     ]
    },
    {
     "name": "stdout",
     "output_type": "stream",
     "text": [
      "J2_q=7_t=2_nr=5 sent.\n",
      "J2_q=7_t=2_nr=6 sent.\n"
     ]
    },
    {
     "name": "stderr",
     "output_type": "stream",
     "text": [
      "WARNING: all-qubit error already exists for instruction \"measure\", composing with additional error.\n",
      "WARNING: all-qubit error already exists for instruction \"cx\", composing with additional error.\n"
     ]
    },
    {
     "name": "stdout",
     "output_type": "stream",
     "text": [
      "J2_q=7_t=2_nr=7 sent.\n"
     ]
    },
    {
     "name": "stderr",
     "output_type": "stream",
     "text": [
      "WARNING: all-qubit error already exists for instruction \"measure\", composing with additional error.\n",
      "WARNING: all-qubit error already exists for instruction \"cx\", composing with additional error.\n",
      "WARNING: all-qubit error already exists for instruction \"measure\", composing with additional error.\n",
      "WARNING: all-qubit error already exists for instruction \"cx\", composing with additional error.\n"
     ]
    },
    {
     "name": "stdout",
     "output_type": "stream",
     "text": [
      "J2_q=7_t=2_nr=8 sent.\n",
      "J2_q=7_t=2_nr=9 sent.\n"
     ]
    },
    {
     "name": "stderr",
     "output_type": "stream",
     "text": [
      "WARNING: all-qubit error already exists for instruction \"measure\", composing with additional error.\n",
      "WARNING: all-qubit error already exists for instruction \"cx\", composing with additional error.\n"
     ]
    },
    {
     "name": "stdout",
     "output_type": "stream",
     "text": [
      "J2_q=7_t=2_nr=10 sent.\n"
     ]
    },
    {
     "name": "stderr",
     "output_type": "stream",
     "text": [
      "WARNING: all-qubit error already exists for instruction \"measure\", composing with additional error.\n",
      "WARNING: all-qubit error already exists for instruction \"cx\", composing with additional error.\n",
      "WARNING: all-qubit error already exists for instruction \"measure\", composing with additional error.\n",
      "WARNING: all-qubit error already exists for instruction \"cx\", composing with additional error.\n"
     ]
    },
    {
     "name": "stdout",
     "output_type": "stream",
     "text": [
      "J2_q=7_t=2_nr=11 sent.\n"
     ]
    },
    {
     "name": "stderr",
     "output_type": "stream",
     "text": [
      "WARNING: all-qubit error already exists for instruction \"measure\", composing with additional error.\n"
     ]
    },
    {
     "name": "stdout",
     "output_type": "stream",
     "text": [
      "J2_q=7_t=2_nr=12 sent.\n"
     ]
    },
    {
     "name": "stderr",
     "output_type": "stream",
     "text": [
      "WARNING: all-qubit error already exists for instruction \"cx\", composing with additional error.\n",
      "WARNING: all-qubit error already exists for instruction \"measure\", composing with additional error.\n",
      "WARNING: all-qubit error already exists for instruction \"cx\", composing with additional error.\n"
     ]
    },
    {
     "name": "stdout",
     "output_type": "stream",
     "text": [
      "J2_q=7_t=2_nr=13 sent.\n"
     ]
    },
    {
     "name": "stderr",
     "output_type": "stream",
     "text": [
      "WARNING: all-qubit error already exists for instruction \"measure\", composing with additional error.\n",
      "WARNING: all-qubit error already exists for instruction \"cx\", composing with additional error.\n"
     ]
    },
    {
     "name": "stdout",
     "output_type": "stream",
     "text": [
      "J2_q=7_t=2_nr=14 sent.\n"
     ]
    },
    {
     "name": "stderr",
     "output_type": "stream",
     "text": [
      "WARNING: all-qubit error already exists for instruction \"measure\", composing with additional error.\n",
      "WARNING: all-qubit error already exists for instruction \"cx\", composing with additional error.\n"
     ]
    },
    {
     "name": "stdout",
     "output_type": "stream",
     "text": [
      "J2_q=7_t=2_nr=15 sent.\n"
     ]
    },
    {
     "name": "stderr",
     "output_type": "stream",
     "text": [
      "WARNING: all-qubit error already exists for instruction \"measure\", composing with additional error.\n",
      "WARNING: all-qubit error already exists for instruction \"cx\", composing with additional error.\n"
     ]
    },
    {
     "name": "stdout",
     "output_type": "stream",
     "text": [
      "J2_q=7_t=2_nr=16 sent.\n"
     ]
    },
    {
     "name": "stderr",
     "output_type": "stream",
     "text": [
      "WARNING: all-qubit error already exists for instruction \"measure\", composing with additional error.\n"
     ]
    },
    {
     "name": "stdout",
     "output_type": "stream",
     "text": [
      "J2_q=7_t=2_nr=17 sent.\n"
     ]
    },
    {
     "name": "stderr",
     "output_type": "stream",
     "text": [
      "WARNING: all-qubit error already exists for instruction \"cx\", composing with additional error.\n",
      "WARNING: all-qubit error already exists for instruction \"measure\", composing with additional error.\n",
      "WARNING: all-qubit error already exists for instruction \"cx\", composing with additional error.\n"
     ]
    },
    {
     "name": "stdout",
     "output_type": "stream",
     "text": [
      "J2_q=7_t=2_nr=18 sent.\n"
     ]
    },
    {
     "name": "stderr",
     "output_type": "stream",
     "text": [
      "WARNING: all-qubit error already exists for instruction \"measure\", composing with additional error.\n",
      "WARNING: all-qubit error already exists for instruction \"cx\", composing with additional error.\n"
     ]
    },
    {
     "name": "stdout",
     "output_type": "stream",
     "text": [
      "J2_q=7_t=2_nr=19 sent.\n",
      "J2_q=7_t=2_nr=20 sent.\n"
     ]
    },
    {
     "name": "stderr",
     "output_type": "stream",
     "text": [
      "WARNING: all-qubit error already exists for instruction \"measure\", composing with additional error.\n",
      "WARNING: all-qubit error already exists for instruction \"cx\", composing with additional error.\n",
      "WARNING: all-qubit error already exists for instruction \"measure\", composing with additional error.\n"
     ]
    },
    {
     "name": "stdout",
     "output_type": "stream",
     "text": [
      "J2_q=7_t=3_nr=1 sent.\n"
     ]
    },
    {
     "name": "stderr",
     "output_type": "stream",
     "text": [
      "WARNING: all-qubit error already exists for instruction \"cx\", composing with additional error.\n"
     ]
    },
    {
     "name": "stdout",
     "output_type": "stream",
     "text": [
      "J2_q=7_t=3_nr=2 sent.\n"
     ]
    },
    {
     "name": "stderr",
     "output_type": "stream",
     "text": [
      "WARNING: all-qubit error already exists for instruction \"measure\", composing with additional error.\n",
      "WARNING: all-qubit error already exists for instruction \"cx\", composing with additional error.\n"
     ]
    },
    {
     "name": "stdout",
     "output_type": "stream",
     "text": [
      "J2_q=7_t=3_nr=3 sent.\n"
     ]
    },
    {
     "name": "stderr",
     "output_type": "stream",
     "text": [
      "WARNING: all-qubit error already exists for instruction \"measure\", composing with additional error.\n",
      "WARNING: all-qubit error already exists for instruction \"cx\", composing with additional error.\n"
     ]
    },
    {
     "name": "stdout",
     "output_type": "stream",
     "text": [
      "J2_q=7_t=3_nr=4 sent.\n"
     ]
    },
    {
     "name": "stderr",
     "output_type": "stream",
     "text": [
      "WARNING: all-qubit error already exists for instruction \"measure\", composing with additional error.\n",
      "WARNING: all-qubit error already exists for instruction \"cx\", composing with additional error.\n"
     ]
    },
    {
     "name": "stdout",
     "output_type": "stream",
     "text": [
      "J2_q=7_t=3_nr=5 sent.\n"
     ]
    },
    {
     "name": "stderr",
     "output_type": "stream",
     "text": [
      "WARNING: all-qubit error already exists for instruction \"measure\", composing with additional error.\n",
      "WARNING: all-qubit error already exists for instruction \"cx\", composing with additional error.\n"
     ]
    },
    {
     "name": "stdout",
     "output_type": "stream",
     "text": [
      "J2_q=7_t=3_nr=6 sent.\n"
     ]
    },
    {
     "name": "stderr",
     "output_type": "stream",
     "text": [
      "WARNING: all-qubit error already exists for instruction \"measure\", composing with additional error.\n",
      "WARNING: all-qubit error already exists for instruction \"cx\", composing with additional error.\n"
     ]
    },
    {
     "name": "stdout",
     "output_type": "stream",
     "text": [
      "J2_q=7_t=3_nr=7 sent.\n"
     ]
    },
    {
     "name": "stderr",
     "output_type": "stream",
     "text": [
      "WARNING: all-qubit error already exists for instruction \"measure\", composing with additional error.\n",
      "WARNING: all-qubit error already exists for instruction \"cx\", composing with additional error.\n",
      "WARNING: all-qubit error already exists for instruction \"measure\", composing with additional error.\n",
      "WARNING: all-qubit error already exists for instruction \"cx\", composing with additional error.\n"
     ]
    },
    {
     "name": "stdout",
     "output_type": "stream",
     "text": [
      "J2_q=7_t=3_nr=8 sent.\n",
      "J2_q=7_t=3_nr=9 sent.\n"
     ]
    },
    {
     "name": "stderr",
     "output_type": "stream",
     "text": [
      "WARNING: all-qubit error already exists for instruction \"measure\", composing with additional error.\n",
      "WARNING: all-qubit error already exists for instruction \"cx\", composing with additional error.\n"
     ]
    },
    {
     "name": "stdout",
     "output_type": "stream",
     "text": [
      "J2_q=7_t=3_nr=10 sent.\n"
     ]
    },
    {
     "name": "stderr",
     "output_type": "stream",
     "text": [
      "WARNING: all-qubit error already exists for instruction \"measure\", composing with additional error.\n",
      "WARNING: all-qubit error already exists for instruction \"cx\", composing with additional error.\n"
     ]
    },
    {
     "name": "stdout",
     "output_type": "stream",
     "text": [
      "J2_q=7_t=3_nr=11 sent.\n"
     ]
    },
    {
     "name": "stderr",
     "output_type": "stream",
     "text": [
      "WARNING: all-qubit error already exists for instruction \"measure\", composing with additional error.\n",
      "WARNING: all-qubit error already exists for instruction \"cx\", composing with additional error.\n"
     ]
    },
    {
     "name": "stdout",
     "output_type": "stream",
     "text": [
      "J2_q=7_t=3_nr=12 sent.\n"
     ]
    },
    {
     "name": "stderr",
     "output_type": "stream",
     "text": [
      "WARNING: all-qubit error already exists for instruction \"measure\", composing with additional error.\n",
      "WARNING: all-qubit error already exists for instruction \"cx\", composing with additional error.\n"
     ]
    },
    {
     "name": "stdout",
     "output_type": "stream",
     "text": [
      "J2_q=7_t=3_nr=13 sent.\n"
     ]
    },
    {
     "name": "stderr",
     "output_type": "stream",
     "text": [
      "WARNING: all-qubit error already exists for instruction \"measure\", composing with additional error.\n",
      "WARNING: all-qubit error already exists for instruction \"cx\", composing with additional error.\n",
      "WARNING: all-qubit error already exists for instruction \"measure\", composing with additional error.\n",
      "WARNING: all-qubit error already exists for instruction \"cx\", composing with additional error.\n"
     ]
    },
    {
     "name": "stdout",
     "output_type": "stream",
     "text": [
      "J2_q=7_t=3_nr=14 sent.\n",
      "J2_q=7_t=3_nr=15 sent.\n"
     ]
    },
    {
     "name": "stderr",
     "output_type": "stream",
     "text": [
      "WARNING: all-qubit error already exists for instruction \"measure\", composing with additional error.\n",
      "WARNING: all-qubit error already exists for instruction \"cx\", composing with additional error.\n",
      "WARNING: all-qubit error already exists for instruction \"measure\", composing with additional error.\n",
      "WARNING: all-qubit error already exists for instruction \"cx\", composing with additional error.\n"
     ]
    },
    {
     "name": "stdout",
     "output_type": "stream",
     "text": [
      "J2_q=7_t=3_nr=16 sent.\n"
     ]
    },
    {
     "name": "stderr",
     "output_type": "stream",
     "text": [
      "WARNING: all-qubit error already exists for instruction \"measure\", composing with additional error.\n",
      "WARNING: all-qubit error already exists for instruction \"cx\", composing with additional error.\n"
     ]
    },
    {
     "name": "stdout",
     "output_type": "stream",
     "text": [
      "J2_q=7_t=3_nr=17 sent.\n",
      "J2_q=7_t=3_nr=18 sent.\n"
     ]
    },
    {
     "name": "stderr",
     "output_type": "stream",
     "text": [
      "WARNING: all-qubit error already exists for instruction \"measure\", composing with additional error.\n",
      "WARNING: all-qubit error already exists for instruction \"cx\", composing with additional error.\n",
      "WARNING: all-qubit error already exists for instruction \"measure\", composing with additional error.\n",
      "WARNING: all-qubit error already exists for instruction \"cx\", composing with additional error.\n"
     ]
    },
    {
     "name": "stdout",
     "output_type": "stream",
     "text": [
      "J2_q=7_t=3_nr=19 sent.\n",
      "J2_q=7_t=3_nr=20 sent.\n"
     ]
    },
    {
     "name": "stderr",
     "output_type": "stream",
     "text": [
      "WARNING: all-qubit error already exists for instruction \"measure\", composing with additional error.\n",
      "WARNING: all-qubit error already exists for instruction \"cx\", composing with additional error.\n"
     ]
    },
    {
     "name": "stdout",
     "output_type": "stream",
     "text": [
      "J2_q=7_t=4_nr=1 sent.\n"
     ]
    },
    {
     "name": "stderr",
     "output_type": "stream",
     "text": [
      "WARNING: all-qubit error already exists for instruction \"measure\", composing with additional error.\n",
      "WARNING: all-qubit error already exists for instruction \"cx\", composing with additional error.\n"
     ]
    },
    {
     "name": "stdout",
     "output_type": "stream",
     "text": [
      "J2_q=7_t=4_nr=2 sent.\n"
     ]
    },
    {
     "name": "stderr",
     "output_type": "stream",
     "text": [
      "WARNING: all-qubit error already exists for instruction \"measure\", composing with additional error.\n",
      "WARNING: all-qubit error already exists for instruction \"cx\", composing with additional error.\n"
     ]
    },
    {
     "name": "stdout",
     "output_type": "stream",
     "text": [
      "J2_q=7_t=4_nr=3 sent.\n"
     ]
    },
    {
     "name": "stderr",
     "output_type": "stream",
     "text": [
      "WARNING: all-qubit error already exists for instruction \"measure\", composing with additional error.\n",
      "WARNING: all-qubit error already exists for instruction \"cx\", composing with additional error.\n",
      "WARNING: all-qubit error already exists for instruction \"measure\", composing with additional error.\n"
     ]
    },
    {
     "name": "stdout",
     "output_type": "stream",
     "text": [
      "J2_q=7_t=4_nr=4 sent.\n"
     ]
    },
    {
     "name": "stderr",
     "output_type": "stream",
     "text": [
      "WARNING: all-qubit error already exists for instruction \"cx\", composing with additional error.\n",
      "WARNING: all-qubit error already exists for instruction \"measure\", composing with additional error.\n",
      "WARNING: all-qubit error already exists for instruction \"cx\", composing with additional error.\n"
     ]
    },
    {
     "name": "stdout",
     "output_type": "stream",
     "text": [
      "J2_q=7_t=4_nr=5 sent.\n",
      "J2_q=7_t=4_nr=6 sent.\n"
     ]
    },
    {
     "name": "stderr",
     "output_type": "stream",
     "text": [
      "WARNING: all-qubit error already exists for instruction \"measure\", composing with additional error.\n",
      "WARNING: all-qubit error already exists for instruction \"cx\", composing with additional error.\n",
      "WARNING: all-qubit error already exists for instruction \"measure\", composing with additional error.\n"
     ]
    },
    {
     "name": "stdout",
     "output_type": "stream",
     "text": [
      "J2_q=7_t=4_nr=7 sent.\n"
     ]
    },
    {
     "name": "stderr",
     "output_type": "stream",
     "text": [
      "WARNING: all-qubit error already exists for instruction \"cx\", composing with additional error.\n",
      "WARNING: all-qubit error already exists for instruction \"measure\", composing with additional error.\n"
     ]
    },
    {
     "name": "stdout",
     "output_type": "stream",
     "text": [
      "J2_q=7_t=4_nr=8 sent.\n"
     ]
    },
    {
     "name": "stderr",
     "output_type": "stream",
     "text": [
      "WARNING: all-qubit error already exists for instruction \"cx\", composing with additional error.\n"
     ]
    },
    {
     "name": "stdout",
     "output_type": "stream",
     "text": [
      "J2_q=7_t=4_nr=9 sent.\n"
     ]
    },
    {
     "name": "stderr",
     "output_type": "stream",
     "text": [
      "WARNING: all-qubit error already exists for instruction \"measure\", composing with additional error.\n",
      "WARNING: all-qubit error already exists for instruction \"cx\", composing with additional error.\n"
     ]
    },
    {
     "name": "stdout",
     "output_type": "stream",
     "text": [
      "J2_q=7_t=4_nr=10 sent.\n"
     ]
    },
    {
     "name": "stderr",
     "output_type": "stream",
     "text": [
      "WARNING: all-qubit error already exists for instruction \"measure\", composing with additional error.\n",
      "WARNING: all-qubit error already exists for instruction \"cx\", composing with additional error.\n"
     ]
    },
    {
     "name": "stdout",
     "output_type": "stream",
     "text": [
      "J2_q=7_t=4_nr=11 sent.\n"
     ]
    },
    {
     "name": "stderr",
     "output_type": "stream",
     "text": [
      "WARNING: all-qubit error already exists for instruction \"measure\", composing with additional error.\n",
      "WARNING: all-qubit error already exists for instruction \"cx\", composing with additional error.\n"
     ]
    },
    {
     "name": "stdout",
     "output_type": "stream",
     "text": [
      "J2_q=7_t=4_nr=12 sent.\n"
     ]
    },
    {
     "name": "stderr",
     "output_type": "stream",
     "text": [
      "WARNING: all-qubit error already exists for instruction \"measure\", composing with additional error.\n",
      "WARNING: all-qubit error already exists for instruction \"cx\", composing with additional error.\n"
     ]
    },
    {
     "name": "stdout",
     "output_type": "stream",
     "text": [
      "J2_q=7_t=4_nr=13 sent.\n"
     ]
    },
    {
     "name": "stderr",
     "output_type": "stream",
     "text": [
      "WARNING: all-qubit error already exists for instruction \"measure\", composing with additional error.\n",
      "WARNING: all-qubit error already exists for instruction \"cx\", composing with additional error.\n",
      "WARNING: all-qubit error already exists for instruction \"measure\", composing with additional error.\n",
      "WARNING: all-qubit error already exists for instruction \"cx\", composing with additional error.\n"
     ]
    },
    {
     "name": "stdout",
     "output_type": "stream",
     "text": [
      "J2_q=7_t=4_nr=14 sent.\n",
      "J2_q=7_t=4_nr=15 sent.\n"
     ]
    },
    {
     "name": "stderr",
     "output_type": "stream",
     "text": [
      "WARNING: all-qubit error already exists for instruction \"measure\", composing with additional error.\n",
      "WARNING: all-qubit error already exists for instruction \"cx\", composing with additional error.\n"
     ]
    },
    {
     "name": "stdout",
     "output_type": "stream",
     "text": [
      "J2_q=7_t=4_nr=16 sent.\n"
     ]
    },
    {
     "name": "stderr",
     "output_type": "stream",
     "text": [
      "WARNING: all-qubit error already exists for instruction \"measure\", composing with additional error.\n",
      "WARNING: all-qubit error already exists for instruction \"cx\", composing with additional error.\n"
     ]
    },
    {
     "name": "stdout",
     "output_type": "stream",
     "text": [
      "J2_q=7_t=4_nr=17 sent.\n"
     ]
    },
    {
     "name": "stderr",
     "output_type": "stream",
     "text": [
      "WARNING: all-qubit error already exists for instruction \"measure\", composing with additional error.\n",
      "WARNING: all-qubit error already exists for instruction \"cx\", composing with additional error.\n"
     ]
    },
    {
     "name": "stdout",
     "output_type": "stream",
     "text": [
      "J2_q=7_t=4_nr=18 sent.\n"
     ]
    },
    {
     "name": "stderr",
     "output_type": "stream",
     "text": [
      "WARNING: all-qubit error already exists for instruction \"measure\", composing with additional error.\n",
      "WARNING: all-qubit error already exists for instruction \"cx\", composing with additional error.\n"
     ]
    },
    {
     "name": "stdout",
     "output_type": "stream",
     "text": [
      "J2_q=7_t=4_nr=19 sent.\n"
     ]
    },
    {
     "name": "stderr",
     "output_type": "stream",
     "text": [
      "WARNING: all-qubit error already exists for instruction \"measure\", composing with additional error.\n",
      "WARNING: all-qubit error already exists for instruction \"cx\", composing with additional error.\n"
     ]
    },
    {
     "name": "stdout",
     "output_type": "stream",
     "text": [
      "J2_q=7_t=4_nr=20 sent.\n"
     ]
    },
    {
     "name": "stderr",
     "output_type": "stream",
     "text": [
      "WARNING: all-qubit error already exists for instruction \"measure\", composing with additional error.\n",
      "WARNING: all-qubit error already exists for instruction \"cx\", composing with additional error.\n"
     ]
    },
    {
     "name": "stdout",
     "output_type": "stream",
     "text": [
      "J2_q=7_t=5_nr=1 sent.\n"
     ]
    },
    {
     "name": "stderr",
     "output_type": "stream",
     "text": [
      "WARNING: all-qubit error already exists for instruction \"measure\", composing with additional error.\n",
      "WARNING: all-qubit error already exists for instruction \"cx\", composing with additional error.\n"
     ]
    },
    {
     "name": "stdout",
     "output_type": "stream",
     "text": [
      "J2_q=7_t=5_nr=2 sent.\n"
     ]
    },
    {
     "name": "stderr",
     "output_type": "stream",
     "text": [
      "WARNING: all-qubit error already exists for instruction \"measure\", composing with additional error.\n",
      "WARNING: all-qubit error already exists for instruction \"cx\", composing with additional error.\n"
     ]
    },
    {
     "name": "stdout",
     "output_type": "stream",
     "text": [
      "J2_q=7_t=5_nr=3 sent.\n"
     ]
    },
    {
     "name": "stderr",
     "output_type": "stream",
     "text": [
      "WARNING: all-qubit error already exists for instruction \"measure\", composing with additional error.\n",
      "WARNING: all-qubit error already exists for instruction \"cx\", composing with additional error.\n"
     ]
    },
    {
     "name": "stdout",
     "output_type": "stream",
     "text": [
      "J2_q=7_t=5_nr=4 sent.\n"
     ]
    },
    {
     "name": "stderr",
     "output_type": "stream",
     "text": [
      "WARNING: all-qubit error already exists for instruction \"measure\", composing with additional error.\n",
      "WARNING: all-qubit error already exists for instruction \"cx\", composing with additional error.\n"
     ]
    },
    {
     "name": "stdout",
     "output_type": "stream",
     "text": [
      "J2_q=7_t=5_nr=5 sent.\n"
     ]
    },
    {
     "name": "stderr",
     "output_type": "stream",
     "text": [
      "WARNING: all-qubit error already exists for instruction \"measure\", composing with additional error.\n",
      "WARNING: all-qubit error already exists for instruction \"cx\", composing with additional error.\n"
     ]
    },
    {
     "name": "stdout",
     "output_type": "stream",
     "text": [
      "J2_q=7_t=5_nr=6 sent.\n"
     ]
    },
    {
     "name": "stderr",
     "output_type": "stream",
     "text": [
      "WARNING: all-qubit error already exists for instruction \"measure\", composing with additional error.\n",
      "WARNING: all-qubit error already exists for instruction \"cx\", composing with additional error.\n"
     ]
    },
    {
     "name": "stdout",
     "output_type": "stream",
     "text": [
      "J2_q=7_t=5_nr=7 sent.\n"
     ]
    },
    {
     "name": "stderr",
     "output_type": "stream",
     "text": [
      "WARNING: all-qubit error already exists for instruction \"measure\", composing with additional error.\n",
      "WARNING: all-qubit error already exists for instruction \"cx\", composing with additional error.\n"
     ]
    },
    {
     "name": "stdout",
     "output_type": "stream",
     "text": [
      "J2_q=7_t=5_nr=8 sent.\n"
     ]
    },
    {
     "name": "stderr",
     "output_type": "stream",
     "text": [
      "WARNING: all-qubit error already exists for instruction \"measure\", composing with additional error.\n",
      "WARNING: all-qubit error already exists for instruction \"cx\", composing with additional error.\n"
     ]
    },
    {
     "name": "stdout",
     "output_type": "stream",
     "text": [
      "J2_q=7_t=5_nr=9 sent.\n"
     ]
    },
    {
     "name": "stderr",
     "output_type": "stream",
     "text": [
      "WARNING: all-qubit error already exists for instruction \"measure\", composing with additional error.\n",
      "WARNING: all-qubit error already exists for instruction \"cx\", composing with additional error.\n"
     ]
    },
    {
     "name": "stdout",
     "output_type": "stream",
     "text": [
      "J2_q=7_t=5_nr=10 sent.\n"
     ]
    },
    {
     "name": "stderr",
     "output_type": "stream",
     "text": [
      "WARNING: all-qubit error already exists for instruction \"measure\", composing with additional error.\n",
      "WARNING: all-qubit error already exists for instruction \"cx\", composing with additional error.\n"
     ]
    },
    {
     "name": "stdout",
     "output_type": "stream",
     "text": [
      "J2_q=7_t=5_nr=11 sent.\n"
     ]
    },
    {
     "name": "stderr",
     "output_type": "stream",
     "text": [
      "WARNING: all-qubit error already exists for instruction \"measure\", composing with additional error.\n",
      "WARNING: all-qubit error already exists for instruction \"cx\", composing with additional error.\n",
      "WARNING: all-qubit error already exists for instruction \"measure\", composing with additional error.\n",
      "WARNING: all-qubit error already exists for instruction \"cx\", composing with additional error.\n"
     ]
    },
    {
     "name": "stdout",
     "output_type": "stream",
     "text": [
      "J2_q=7_t=5_nr=12 sent.\n",
      "J2_q=7_t=5_nr=13 sent.\n"
     ]
    },
    {
     "name": "stderr",
     "output_type": "stream",
     "text": [
      "WARNING: all-qubit error already exists for instruction \"measure\", composing with additional error.\n",
      "WARNING: all-qubit error already exists for instruction \"cx\", composing with additional error.\n",
      "WARNING: all-qubit error already exists for instruction \"measure\", composing with additional error.\n",
      "WARNING: all-qubit error already exists for instruction \"cx\", composing with additional error.\n"
     ]
    },
    {
     "name": "stdout",
     "output_type": "stream",
     "text": [
      "J2_q=7_t=5_nr=14 sent.\n",
      "J2_q=7_t=5_nr=15 sent.\n"
     ]
    },
    {
     "name": "stderr",
     "output_type": "stream",
     "text": [
      "WARNING: all-qubit error already exists for instruction \"measure\", composing with additional error.\n",
      "WARNING: all-qubit error already exists for instruction \"cx\", composing with additional error.\n"
     ]
    },
    {
     "name": "stdout",
     "output_type": "stream",
     "text": [
      "J2_q=7_t=5_nr=16 sent.\n"
     ]
    },
    {
     "name": "stderr",
     "output_type": "stream",
     "text": [
      "WARNING: all-qubit error already exists for instruction \"measure\", composing with additional error.\n",
      "WARNING: all-qubit error already exists for instruction \"cx\", composing with additional error.\n"
     ]
    },
    {
     "name": "stdout",
     "output_type": "stream",
     "text": [
      "J2_q=7_t=5_nr=17 sent.\n"
     ]
    },
    {
     "name": "stderr",
     "output_type": "stream",
     "text": [
      "WARNING: all-qubit error already exists for instruction \"measure\", composing with additional error.\n",
      "WARNING: all-qubit error already exists for instruction \"cx\", composing with additional error.\n"
     ]
    },
    {
     "name": "stdout",
     "output_type": "stream",
     "text": [
      "J2_q=7_t=5_nr=18 sent.\n"
     ]
    },
    {
     "name": "stderr",
     "output_type": "stream",
     "text": [
      "WARNING: all-qubit error already exists for instruction \"measure\", composing with additional error.\n",
      "WARNING: all-qubit error already exists for instruction \"cx\", composing with additional error.\n"
     ]
    },
    {
     "name": "stdout",
     "output_type": "stream",
     "text": [
      "J2_q=7_t=5_nr=19 sent.\n"
     ]
    },
    {
     "name": "stderr",
     "output_type": "stream",
     "text": [
      "WARNING: all-qubit error already exists for instruction \"measure\", composing with additional error.\n",
      "WARNING: all-qubit error already exists for instruction \"cx\", composing with additional error.\n"
     ]
    },
    {
     "name": "stdout",
     "output_type": "stream",
     "text": [
      "J2_q=7_t=5_nr=20 sent.\n"
     ]
    },
    {
     "name": "stderr",
     "output_type": "stream",
     "text": [
      "WARNING: all-qubit error already exists for instruction \"measure\", composing with additional error.\n",
      "WARNING: all-qubit error already exists for instruction \"cx\", composing with additional error.\n",
      "WARNING: all-qubit error already exists for instruction \"measure\", composing with additional error.\n"
     ]
    },
    {
     "name": "stdout",
     "output_type": "stream",
     "text": [
      "J2_q=7_t=6_nr=1 sent.\n"
     ]
    },
    {
     "name": "stderr",
     "output_type": "stream",
     "text": [
      "WARNING: all-qubit error already exists for instruction \"cx\", composing with additional error.\n"
     ]
    },
    {
     "name": "stdout",
     "output_type": "stream",
     "text": [
      "J2_q=7_t=6_nr=2 sent.\n"
     ]
    },
    {
     "name": "stderr",
     "output_type": "stream",
     "text": [
      "WARNING: all-qubit error already exists for instruction \"measure\", composing with additional error.\n",
      "WARNING: all-qubit error already exists for instruction \"cx\", composing with additional error.\n",
      "WARNING: all-qubit error already exists for instruction \"measure\", composing with additional error.\n",
      "WARNING: all-qubit error already exists for instruction \"cx\", composing with additional error.\n"
     ]
    },
    {
     "name": "stdout",
     "output_type": "stream",
     "text": [
      "J2_q=7_t=6_nr=3 sent.\n",
      "J2_q=7_t=6_nr=4 sent.\n"
     ]
    },
    {
     "name": "stderr",
     "output_type": "stream",
     "text": [
      "WARNING: all-qubit error already exists for instruction \"measure\", composing with additional error.\n",
      "WARNING: all-qubit error already exists for instruction \"cx\", composing with additional error.\n"
     ]
    },
    {
     "name": "stdout",
     "output_type": "stream",
     "text": [
      "J2_q=7_t=6_nr=5 sent.\n"
     ]
    },
    {
     "name": "stderr",
     "output_type": "stream",
     "text": [
      "WARNING: all-qubit error already exists for instruction \"measure\", composing with additional error.\n",
      "WARNING: all-qubit error already exists for instruction \"cx\", composing with additional error.\n"
     ]
    },
    {
     "name": "stdout",
     "output_type": "stream",
     "text": [
      "J2_q=7_t=6_nr=6 sent.\n"
     ]
    },
    {
     "name": "stderr",
     "output_type": "stream",
     "text": [
      "WARNING: all-qubit error already exists for instruction \"measure\", composing with additional error.\n",
      "WARNING: all-qubit error already exists for instruction \"cx\", composing with additional error.\n"
     ]
    },
    {
     "name": "stdout",
     "output_type": "stream",
     "text": [
      "J2_q=7_t=6_nr=7 sent.\n"
     ]
    },
    {
     "name": "stderr",
     "output_type": "stream",
     "text": [
      "WARNING: all-qubit error already exists for instruction \"measure\", composing with additional error.\n",
      "WARNING: all-qubit error already exists for instruction \"cx\", composing with additional error.\n"
     ]
    },
    {
     "name": "stdout",
     "output_type": "stream",
     "text": [
      "J2_q=7_t=6_nr=8 sent.\n"
     ]
    },
    {
     "name": "stderr",
     "output_type": "stream",
     "text": [
      "WARNING: all-qubit error already exists for instruction \"measure\", composing with additional error.\n",
      "WARNING: all-qubit error already exists for instruction \"cx\", composing with additional error.\n",
      "WARNING: all-qubit error already exists for instruction \"measure\", composing with additional error.\n",
      "WARNING: all-qubit error already exists for instruction \"cx\", composing with additional error.\n"
     ]
    },
    {
     "name": "stdout",
     "output_type": "stream",
     "text": [
      "J2_q=7_t=6_nr=9 sent.\n",
      "J2_q=7_t=6_nr=10 sent.\n"
     ]
    },
    {
     "name": "stderr",
     "output_type": "stream",
     "text": [
      "WARNING: all-qubit error already exists for instruction \"measure\", composing with additional error.\n",
      "WARNING: all-qubit error already exists for instruction \"cx\", composing with additional error.\n"
     ]
    },
    {
     "name": "stdout",
     "output_type": "stream",
     "text": [
      "J2_q=7_t=6_nr=11 sent.\n"
     ]
    },
    {
     "name": "stderr",
     "output_type": "stream",
     "text": [
      "WARNING: all-qubit error already exists for instruction \"measure\", composing with additional error.\n",
      "WARNING: all-qubit error already exists for instruction \"cx\", composing with additional error.\n"
     ]
    },
    {
     "name": "stdout",
     "output_type": "stream",
     "text": [
      "J2_q=7_t=6_nr=12 sent.\n"
     ]
    },
    {
     "name": "stderr",
     "output_type": "stream",
     "text": [
      "WARNING: all-qubit error already exists for instruction \"measure\", composing with additional error.\n",
      "WARNING: all-qubit error already exists for instruction \"cx\", composing with additional error.\n"
     ]
    },
    {
     "name": "stdout",
     "output_type": "stream",
     "text": [
      "J2_q=7_t=6_nr=13 sent.\n"
     ]
    },
    {
     "name": "stderr",
     "output_type": "stream",
     "text": [
      "WARNING: all-qubit error already exists for instruction \"measure\", composing with additional error.\n",
      "WARNING: all-qubit error already exists for instruction \"cx\", composing with additional error.\n"
     ]
    },
    {
     "name": "stdout",
     "output_type": "stream",
     "text": [
      "J2_q=7_t=6_nr=14 sent.\n"
     ]
    },
    {
     "name": "stderr",
     "output_type": "stream",
     "text": [
      "WARNING: all-qubit error already exists for instruction \"measure\", composing with additional error.\n",
      "WARNING: all-qubit error already exists for instruction \"cx\", composing with additional error.\n"
     ]
    },
    {
     "name": "stdout",
     "output_type": "stream",
     "text": [
      "J2_q=7_t=6_nr=15 sent.\n"
     ]
    },
    {
     "name": "stderr",
     "output_type": "stream",
     "text": [
      "WARNING: all-qubit error already exists for instruction \"measure\", composing with additional error.\n",
      "WARNING: all-qubit error already exists for instruction \"cx\", composing with additional error.\n",
      "WARNING: all-qubit error already exists for instruction \"measure\", composing with additional error.\n",
      "WARNING: all-qubit error already exists for instruction \"cx\", composing with additional error.\n"
     ]
    },
    {
     "name": "stdout",
     "output_type": "stream",
     "text": [
      "J2_q=7_t=6_nr=16 sent.\n",
      "J2_q=7_t=6_nr=17 sent.\n"
     ]
    },
    {
     "name": "stderr",
     "output_type": "stream",
     "text": [
      "WARNING: all-qubit error already exists for instruction \"measure\", composing with additional error.\n",
      "WARNING: all-qubit error already exists for instruction \"cx\", composing with additional error.\n"
     ]
    },
    {
     "name": "stdout",
     "output_type": "stream",
     "text": [
      "J2_q=7_t=6_nr=18 sent.\n"
     ]
    },
    {
     "name": "stderr",
     "output_type": "stream",
     "text": [
      "WARNING: all-qubit error already exists for instruction \"measure\", composing with additional error.\n",
      "WARNING: all-qubit error already exists for instruction \"cx\", composing with additional error.\n"
     ]
    },
    {
     "name": "stdout",
     "output_type": "stream",
     "text": [
      "J2_q=7_t=6_nr=19 sent.\n"
     ]
    },
    {
     "name": "stderr",
     "output_type": "stream",
     "text": [
      "WARNING: all-qubit error already exists for instruction \"measure\", composing with additional error.\n",
      "WARNING: all-qubit error already exists for instruction \"cx\", composing with additional error.\n"
     ]
    },
    {
     "name": "stdout",
     "output_type": "stream",
     "text": [
      "J2_q=7_t=6_nr=20 sent.\n"
     ]
    },
    {
     "name": "stderr",
     "output_type": "stream",
     "text": [
      "WARNING: all-qubit error already exists for instruction \"measure\", composing with additional error.\n",
      "WARNING: all-qubit error already exists for instruction \"cx\", composing with additional error.\n"
     ]
    },
    {
     "name": "stdout",
     "output_type": "stream",
     "text": [
      "J2_q=7_t=7_nr=1 sent.\n"
     ]
    },
    {
     "name": "stderr",
     "output_type": "stream",
     "text": [
      "WARNING: all-qubit error already exists for instruction \"measure\", composing with additional error.\n",
      "WARNING: all-qubit error already exists for instruction \"cx\", composing with additional error.\n"
     ]
    },
    {
     "name": "stdout",
     "output_type": "stream",
     "text": [
      "J2_q=7_t=7_nr=2 sent.\n"
     ]
    },
    {
     "name": "stderr",
     "output_type": "stream",
     "text": [
      "WARNING: all-qubit error already exists for instruction \"measure\", composing with additional error.\n",
      "WARNING: all-qubit error already exists for instruction \"cx\", composing with additional error.\n"
     ]
    },
    {
     "name": "stdout",
     "output_type": "stream",
     "text": [
      "J2_q=7_t=7_nr=3 sent.\n"
     ]
    },
    {
     "name": "stderr",
     "output_type": "stream",
     "text": [
      "WARNING: all-qubit error already exists for instruction \"measure\", composing with additional error.\n",
      "WARNING: all-qubit error already exists for instruction \"cx\", composing with additional error.\n"
     ]
    },
    {
     "name": "stdout",
     "output_type": "stream",
     "text": [
      "J2_q=7_t=7_nr=4 sent.\n"
     ]
    },
    {
     "name": "stderr",
     "output_type": "stream",
     "text": [
      "WARNING: all-qubit error already exists for instruction \"measure\", composing with additional error.\n",
      "WARNING: all-qubit error already exists for instruction \"cx\", composing with additional error.\n"
     ]
    },
    {
     "name": "stdout",
     "output_type": "stream",
     "text": [
      "J2_q=7_t=7_nr=5 sent.\n"
     ]
    },
    {
     "name": "stderr",
     "output_type": "stream",
     "text": [
      "WARNING: all-qubit error already exists for instruction \"measure\", composing with additional error.\n",
      "WARNING: all-qubit error already exists for instruction \"cx\", composing with additional error.\n"
     ]
    },
    {
     "name": "stdout",
     "output_type": "stream",
     "text": [
      "J2_q=7_t=7_nr=6 sent.\n"
     ]
    },
    {
     "name": "stderr",
     "output_type": "stream",
     "text": [
      "WARNING: all-qubit error already exists for instruction \"measure\", composing with additional error.\n",
      "WARNING: all-qubit error already exists for instruction \"cx\", composing with additional error.\n"
     ]
    },
    {
     "name": "stdout",
     "output_type": "stream",
     "text": [
      "J2_q=7_t=7_nr=7 sent.\n"
     ]
    },
    {
     "name": "stderr",
     "output_type": "stream",
     "text": [
      "WARNING: all-qubit error already exists for instruction \"measure\", composing with additional error.\n",
      "WARNING: all-qubit error already exists for instruction \"cx\", composing with additional error.\n"
     ]
    },
    {
     "name": "stdout",
     "output_type": "stream",
     "text": [
      "J2_q=7_t=7_nr=8 sent.\n"
     ]
    },
    {
     "name": "stderr",
     "output_type": "stream",
     "text": [
      "WARNING: all-qubit error already exists for instruction \"measure\", composing with additional error.\n",
      "WARNING: all-qubit error already exists for instruction \"cx\", composing with additional error.\n"
     ]
    },
    {
     "name": "stdout",
     "output_type": "stream",
     "text": [
      "J2_q=7_t=7_nr=9 sent.\n"
     ]
    },
    {
     "name": "stderr",
     "output_type": "stream",
     "text": [
      "WARNING: all-qubit error already exists for instruction \"measure\", composing with additional error.\n",
      "WARNING: all-qubit error already exists for instruction \"cx\", composing with additional error.\n"
     ]
    },
    {
     "name": "stdout",
     "output_type": "stream",
     "text": [
      "J2_q=7_t=7_nr=10 sent.\n"
     ]
    },
    {
     "name": "stderr",
     "output_type": "stream",
     "text": [
      "WARNING: all-qubit error already exists for instruction \"measure\", composing with additional error.\n",
      "WARNING: all-qubit error already exists for instruction \"cx\", composing with additional error.\n"
     ]
    },
    {
     "name": "stdout",
     "output_type": "stream",
     "text": [
      "J2_q=7_t=7_nr=11 sent.\n"
     ]
    },
    {
     "name": "stderr",
     "output_type": "stream",
     "text": [
      "WARNING: all-qubit error already exists for instruction \"measure\", composing with additional error.\n",
      "WARNING: all-qubit error already exists for instruction \"cx\", composing with additional error.\n"
     ]
    },
    {
     "name": "stdout",
     "output_type": "stream",
     "text": [
      "J2_q=7_t=7_nr=12 sent.\n"
     ]
    },
    {
     "name": "stderr",
     "output_type": "stream",
     "text": [
      "WARNING: all-qubit error already exists for instruction \"measure\", composing with additional error.\n",
      "WARNING: all-qubit error already exists for instruction \"cx\", composing with additional error.\n"
     ]
    },
    {
     "name": "stdout",
     "output_type": "stream",
     "text": [
      "J2_q=7_t=7_nr=13 sent.\n"
     ]
    },
    {
     "name": "stderr",
     "output_type": "stream",
     "text": [
      "WARNING: all-qubit error already exists for instruction \"measure\", composing with additional error.\n",
      "WARNING: all-qubit error already exists for instruction \"cx\", composing with additional error.\n"
     ]
    },
    {
     "name": "stdout",
     "output_type": "stream",
     "text": [
      "J2_q=7_t=7_nr=14 sent.\n"
     ]
    },
    {
     "name": "stderr",
     "output_type": "stream",
     "text": [
      "WARNING: all-qubit error already exists for instruction \"measure\", composing with additional error.\n",
      "WARNING: all-qubit error already exists for instruction \"cx\", composing with additional error.\n"
     ]
    },
    {
     "name": "stdout",
     "output_type": "stream",
     "text": [
      "J2_q=7_t=7_nr=15 sent.\n"
     ]
    },
    {
     "name": "stderr",
     "output_type": "stream",
     "text": [
      "WARNING: all-qubit error already exists for instruction \"measure\", composing with additional error.\n",
      "WARNING: all-qubit error already exists for instruction \"cx\", composing with additional error.\n"
     ]
    },
    {
     "name": "stdout",
     "output_type": "stream",
     "text": [
      "J2_q=7_t=7_nr=16 sent.\n"
     ]
    },
    {
     "name": "stderr",
     "output_type": "stream",
     "text": [
      "WARNING: all-qubit error already exists for instruction \"measure\", composing with additional error.\n",
      "WARNING: all-qubit error already exists for instruction \"cx\", composing with additional error.\n"
     ]
    },
    {
     "name": "stdout",
     "output_type": "stream",
     "text": [
      "J2_q=7_t=7_nr=17 sent.\n"
     ]
    },
    {
     "name": "stderr",
     "output_type": "stream",
     "text": [
      "WARNING: all-qubit error already exists for instruction \"measure\", composing with additional error.\n",
      "WARNING: all-qubit error already exists for instruction \"cx\", composing with additional error.\n"
     ]
    },
    {
     "name": "stdout",
     "output_type": "stream",
     "text": [
      "J2_q=7_t=7_nr=18 sent.\n"
     ]
    },
    {
     "name": "stderr",
     "output_type": "stream",
     "text": [
      "WARNING: all-qubit error already exists for instruction \"measure\", composing with additional error.\n",
      "WARNING: all-qubit error already exists for instruction \"cx\", composing with additional error.\n"
     ]
    },
    {
     "name": "stdout",
     "output_type": "stream",
     "text": [
      "J2_q=7_t=7_nr=19 sent.\n"
     ]
    },
    {
     "name": "stderr",
     "output_type": "stream",
     "text": [
      "WARNING: all-qubit error already exists for instruction \"measure\", composing with additional error.\n",
      "WARNING: all-qubit error already exists for instruction \"cx\", composing with additional error.\n"
     ]
    },
    {
     "name": "stdout",
     "output_type": "stream",
     "text": [
      "J2_q=7_t=7_nr=20 sent.\n"
     ]
    }
   ],
   "source": [
    "#Send jobs to hardware\n",
    "x = datetime.datetime.now()\n",
    "filename_jobs2 = \"Jobs2_\" + backend.name() + \"_T:\" + x.strftime(\"%H:%M:%S_%d-%m-%Y\") + \".txt\"\n",
    "filename_sims2 = \"Sims2_\" + backend.name() + \"_T:\" + x.strftime(\"%H:%M:%S_%d-%m-%Y\") + \".txt\"\n",
    "print(filename_jobs2, filename_sims2)\n",
    "\n",
    "D_jobs2 = {}\n",
    "D_sims2 = {}\n",
    "\n",
    "for q in range(nr_qubits,nr_qubits+1):\n",
    "    for t in range(0,8):#(2,11):\n",
    "        for test_nr in range(1,n_tests+1):\n",
    "            circ = random_circ(q,t)\n",
    "            counts1 = clean_exc(circ)\n",
    "            sS2 = \"S2_q=\"+str(q)+\"_t=\"+str(t)+\"_nr=\"+str(test_nr)\n",
    "            cd = circ.depth()\n",
    "            cs = circ.size()\n",
    "            D_sims2[sS2] = [counts1, cd, cs]\n",
    "            sJ2 = \"J2_q=\"+str(q)+\"_t=\"+str(t)+\"_nr=\"+str(test_nr)\n",
    "            try:\n",
    "                job_id2 = hardware_exc(circ, backend)\n",
    "                D_jobs2[sJ2] = job_id2\n",
    "                print(sJ2, \"sent.\")\n",
    "            except:\n",
    "                print(sJ2, \"failed.\")"
   ]
  },
  {
   "cell_type": "code",
   "execution_count": 8,
   "metadata": {},
   "outputs": [
    {
     "name": "stdout",
     "output_type": "stream",
     "text": [
      "Jobs2_ibm_perth_T:10:17:32_28-09-2023.txt\n",
      "Sims2_ibm_perth_T:10:17:32_28-09-2023.txt\n"
     ]
    }
   ],
   "source": [
    "#Save job id's to a file\n",
    "fnj = dict_to_file(D_jobs2, filename_jobs2)\n",
    "print(fnj)\n",
    "fns = dict_to_file(D_sims2, filename_sims2)\n",
    "print(fns)"
   ]
  },
  {
   "cell_type": "code",
   "execution_count": 18,
   "metadata": {},
   "outputs": [
    {
     "name": "stdout",
     "output_type": "stream",
     "text": [
      "\n",
      "\n",
      "Ready: False\n"
     ]
    }
   ],
   "source": [
    "#Check is the jobs are finished\n",
    "\n",
    "#filename_J2 = 'Jobs2_ibm_perth_T:16:49:24_18-11-2022.txt'#(2,11)\n",
    "#filename_J2 = 'Jobs2_ibm_perth_T:12:48:37_12-12-2022.txt'#(2,11)\n",
    "#filename_J2 = 'Jobs2_ibm_perth_T:16:50:38_10-01-2023.txt'#(0,8):\n",
    "#filename_J2 = 'Jobs1_ibm_perth_T:14:25:25_11-08-2023.txt'#(0,8):\n",
    "#filename_J2 = 'Jobs2_ibm_perth_T:11:11:52_15-08-2023.txt'#(0,8):\n",
    "filename_J2 = 'Jobs2_ibm_perth_T:10:17:32_28-09-2023.txt'#(0,8):\n",
    "\n",
    "\n",
    "ready = True\n",
    "\n",
    "D_J2 = file_to_dict(filename_J2)\n",
    "for x in D_J2.keys():\n",
    "    jobid = D_J2[x]\n",
    "    job2 = backend.retrieve_job(jobid)\n",
    "    stat = job2.status()\n",
    "    #print(job2.job_id(), \" : \", stat, \" : \", x)\n",
    "    if(str(stat)!='JobStatus.DONE'):\n",
    "        ready=False\n",
    "        break\n",
    "        \n",
    "print(\"\\n\\nReady:\", ready)"
   ]
  },
  {
   "cell_type": "code",
   "execution_count": 10,
   "metadata": {},
   "outputs": [],
   "source": [
    "#Recall learned parameters\n",
    "\n",
    "#b_nm =  0.3238#Run1 on  'Jobs2_ibm_perth_T:16:49:24_18-11-2022.txt'#(2,11)\n",
    "#cd_nm = 0.8445#Run1 and 'Sims2_ibm_perth_T:16:49:24_18-11-2022.txt'#(2,11)\n",
    "\n",
    "#b_nm =  0.2797#Run1 on  'Jobs2_ibm_perth_T:12:48:37_12-12-2022.txt'#(2,11)\n",
    "#cd_nm = 0.8167#Run1 and 'Sims2_ibm_perth_T:12:48:37_12-12-2022.txt'#(2,11)\n",
    "\n",
    "b_nm  = 0.9543 #Run1 on  'Jobs2_ibm_perth_T:16:50:38_10-01-2023.txt'#(0,8):\n",
    "cd_nm = 0.1757 #Run1 and 'Sims2_ibm_perth_T:16:50:38_10-01-2023.txt'#(0,8):\n",
    "\n",
    "b_nm = 0.9601 #Run1 on  'Jobs2_ibm_perth_T:11:11:52_15-08-2023.txt'#(0,8):\n",
    "cd_nm = 0.037 #Run1 on  'Sims2_ibm_perth_T:11:11:52_15-08-2023.txt'#(0,8):"
   ]
  },
  {
   "cell_type": "code",
   "execution_count": 11,
   "metadata": {},
   "outputs": [
    {
     "name": "stdout",
     "output_type": "stream",
     "text": [
      "q= 7 p= 0    1.0  20 : a_avg=0.929 R2_avg= 0.95 R2_std= 0.22 a_nm=0.929 R2_nm_avg= 1.00 R2_nm_std= 0.01 \n",
      "q= 7 p= 1   32.5  20 : a_avg=0.361 R2_avg= 0.90 R2_std= 0.30 a_nm=0.313 R2_nm_avg= 0.62 R2_nm_std= 0.39 \n",
      "q= 7 p= 2   80.3  20 : a_avg=0.111 R2_avg= 0.85 R2_std= 0.36 a_nm=0.092 R2_nm_avg= 0.87 R2_nm_std= 0.30 \n",
      "q= 7 p= 3  107.3  20 : a_avg=0.039 R2_avg= 0.85 R2_std= 0.36 a_nm=0.049 R2_nm_avg= 0.88 R2_nm_std= 0.26 \n",
      "q= 7 p= 4  142.8  20 : a_avg=0.056 R2_avg= 0.90 R2_std= 0.30 a_nm=0.010 R2_nm_avg= 0.93 R2_nm_std= 0.22 \n",
      "q= 7 p= 5  186.4  20 : a_avg=0.023 R2_avg= 0.80 R2_std= 0.40 a_nm=0.000 R2_nm_avg= 0.99 R2_nm_std= 0.04 \n",
      "q= 7 p= 6  213.7  20 : a_avg=-0.035 R2_avg= 0.80 R2_std= 0.40 a_nm=0.000 R2_nm_avg= 0.93 R2_nm_std= 0.22 \n",
      "q= 7 p= 7  255.8  20 : a_avg=-0.015 R2_avg= 0.80 R2_std= 0.40 a_nm=0.000 R2_nm_avg= 0.99 R2_nm_std= 0.01 \n"
     ]
    }
   ],
   "source": [
    "#Preproces results\n",
    "\n",
    "#filename_jobs2 = 'Jobs2_ibm_perth_T:16:49:24_18-11-2022.txt'#(2,11)\n",
    "#filename_sims2 = 'Sims2_ibm_perth_T:16:49:24_18-11-2022.txt#(2,11)'\n",
    "\n",
    "#filename_jobs2 = 'Jobs2_ibm_perth_T:12:48:37_12-12-2022.txt'#(2,11)\n",
    "#filename_sims2 = 'Sims2_ibm_perth_T:12:48:37_12-12-2022.txt'#(2,11)\n",
    "\n",
    "#filename_jobs2 = 'Jobs2_ibm_perth_T:16:50:38_10-01-2023.txt'#(0,8):\n",
    "#filename_sims2 = 'Sims2_ibm_perth_T:16:50:38_10-01-2023.txt'#(0,8):\n",
    "\n",
    "#filename_sims2 = 'Sims1_ibm_perth_T:14:25:25_11-08-2023.txt'\n",
    "#filename_jobs2 = 'Jobs1_ibm_perth_T:14:25:25_11-08-2023.txt'#(0,8):\n",
    "\n",
    "#filename_jobs2 = 'Jobs2_ibm_perth_T:11:11:52_15-08-2023.txt'#(0,8):\n",
    "#filename_sims2 = 'Sims2_ibm_perth_T:11:11:52_15-08-2023.txt'#(0,8):\n",
    "\n",
    "filename_J2 = 'Jobs2_ibm_perth_T:10:17:32_28-09-2023.txt'#(0,8):\n",
    "filename_S2 = 'Sims2_ibm_perth_T:10:17:32_28-09-2023.txt'#(0,8):\n",
    "\n",
    "\n",
    "D_jobs2 = file_to_dict(filename_jobs2)\n",
    "D_sims2 = file_to_dict(filename_sims2)\n",
    "results = []\n",
    "for q in range(nr_qubits,nr_qubits+1):\n",
    "    for t in range(0,8):#(2,11):\n",
    "        a_avg = 0\n",
    "        R2_avg = 0\n",
    "        R2_std = 0\n",
    "        R2_nm_avg = 0\n",
    "        R2_nm_std = 0\n",
    "        acd = 0\n",
    "        ctr_tests = 0\n",
    "        for test_nr in range(1,n_tests+1):\n",
    "            sS2 = \"S2_q=\"+str(q)+\"_t=\"+str(t)+\"_nr=\"+str(test_nr)\n",
    "            sJ2 = \"J2_q=\"+str(q)+\"_t=\"+str(t)+\"_nr=\"+str(test_nr)\n",
    "            if( (sJ2 in D_jobs2.keys()) & (sS2 in D_sims2.keys()) ):\n",
    "                [counts1, rcd, _] = D_sims2[sS2]\n",
    "                job2 = backend.retrieve_job(D_jobs2[sJ2])\n",
    "                counts2 = job2.result().get_counts(0)\n",
    "                a,R2 = analyse_noise(counts1, counts2)\n",
    "                a_nm = b_nm*(cd_nm**(0.01*rcd))\n",
    "                ctr_tests += 1\n",
    "                a_avg += a\n",
    "                acd += rcd\n",
    "                R2_avg += R2\n",
    "                R2_std += (R2**2)\n",
    "                R2_nm = c_R2(counts1,counts2,a_nm)\n",
    "                R2_nm_avg += R2_nm\n",
    "                R2_nm_std += (R2_nm**2)\n",
    "        if(ctr_tests>0):\n",
    "            a_avg = a_avg/ctr_tests\n",
    "            acd = acd/ctr_tests\n",
    "            R2_avg = R2_avg/ctr_tests\n",
    "            R2_std = R2_std/ctr_tests\n",
    "            R2_nm_avg = R2_nm_avg/ctr_tests\n",
    "            R2_nm_std = R2_nm_std/ctr_tests\n",
    "            R2_std -= R2_avg**2\n",
    "            R2_nm_std -= R2_nm_avg**2\n",
    "            if(R2_std>=0.0):\n",
    "                R2_std = np.sqrt(R2_std)\n",
    "            if(R2_nm_std>=0.0):\n",
    "                R2_nm_std = np.sqrt(R2_nm_std)\n",
    "            result = \"q={9:2d} p={0:2d} {7:6.1f} {8:3d} : a_avg={1:5.3f} R2_avg={2:5.2f} R2_std={3:5.2f} a_nm={4:5.3f} R2_nm_avg={5:5.2f} R2_nm_std={6:5.2f} \".format(\n",
    "                t,a_avg, R2_avg, R2_std, a_nm, R2_nm_avg, R2_nm_std, acd, ctr_tests, q\n",
    "            )\n",
    "            results.append([t,a_avg, R2_avg, R2_std, a_nm, R2_nm_avg, R2_nm_std, acd, ctr_tests, q])\n",
    "            print( result )\n",
    "        else:\n",
    "            print(q, t, \"No usable circuits found.\")"
   ]
  },
  {
   "cell_type": "code",
   "execution_count": 12,
   "metadata": {},
   "outputs": [
    {
     "data": {
      "image/png": "[encoded data removed]",
      "text/plain": [
       "<Figure size 432x288 with 1 Axes>"
      ]
     },
     "metadata": {
      "needs_background": "light"
     },
     "output_type": "display_data"
    }
   ],
   "source": [
    "#Compare the quality of the trained model with the new experiments\n",
    "\n",
    "X = [ acd for [t,a_avg, R2_avg, R2_std, a_nm, R2_nm_avg, R2_nm_std, acd, _, q] in results ]\n",
    "Y2 = [ R2_avg for [t,a_avg, R2_avg, R2_std, a_nm, R2_nm_avg, R2_nm_std, acd, _, q] in results ]\n",
    "Y3 = [ R2_std for [t,a_avg, R2_avg, R2_std, a_nm, R2_nm_avg, R2_nm_std, acd, _, q] in results ]\n",
    "Y4 = [ R2_nm_avg for [t,a_avg, R2_avg, R2_std, a_nm, R2_nm_avg, R2_nm_std, acd, _, q] in results ]\n",
    "Y5 = [ R2_nm_std for [t,a_avg, R2_avg, R2_std, a_nm, R2_nm_avg, R2_nm_std, acd, _, q] in results ]\n",
    "fig, ax = plt.subplots()\n",
    "ax.plot(X,Y2, color='blue')\n",
    "ax.plot(X,Y3, color='orange')\n",
    "ax.plot(X,Y4, color='purple')\n",
    "ax.plot(X,Y5, color='green')\n",
    "#ax.plot(X,Y2, color='magenta')\n",
    "plt.legend(['$R^{2}$ data', 'std dev $R^{2}$ data', '$R^{2}$ noise model', 'std dev $R^{2}$ noise model'])\n",
    "plt.savefig(\"R2_perth.pdf\")"
   ]
  },
  {
   "cell_type": "code",
   "execution_count": null,
   "metadata": {},
   "outputs": [],
   "source": []
  }
 ],
 "metadata": {
  "kernelspec": {
   "display_name": "Python 3 (ipykernel)",
   "language": "python",
   "name": "python3"
  },
  "language_info": {
   "codemirror_mode": {
    "name": "ipython",
    "version": 3
   },
   "file_extension": ".py",
   "mimetype": "text/x-python",
   "name": "python",
   "nbconvert_exporter": "python",
   "pygments_lexer": "ipython3",
   "version": "3.10.12"
  }
 },
 "nbformat": 4,
 "nbformat_minor": 4
}
