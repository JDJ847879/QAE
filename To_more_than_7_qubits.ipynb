{
 "cells": [
  {
   "cell_type": "code",
   "execution_count": 1,
   "metadata": {},
   "outputs": [],
   "source": [
    "from support_functions import *\n",
    "import datetime"
   ]
  },
  {
   "cell_type": "code",
   "execution_count": 2,
   "metadata": {},
   "outputs": [],
   "source": [
    "N_t = 10"
   ]
  },
  {
   "cell_type": "code",
   "execution_count": null,
   "metadata": {},
   "outputs": [],
   "source": []
  },
  {
   "cell_type": "code",
   "execution_count": 3,
   "metadata": {},
   "outputs": [
    {
     "name": "stderr",
     "output_type": "stream",
     "text": [
      "WARNING: all-qubit error already exists for instruction \"measure\", composing with additional error.\n",
      "WARNING: all-qubit error already exists for instruction \"cx\", composing with additional error.\n"
     ]
    }
   ],
   "source": [
    "noise_thermal = load_noise_thermal()"
   ]
  },
  {
   "cell_type": "code",
   "execution_count": null,
   "metadata": {},
   "outputs": [
    {
     "name": "stderr",
     "output_type": "stream",
     "text": [
      "WARNING: all-qubit error already exists for instruction \"measure\", composing with additional error.\n"
     ]
    },
    {
     "name": "stdout",
     "output_type": "stream",
     "text": [
      "\n",
      " 4 qubits\n"
     ]
    },
    {
     "name": "stderr",
     "output_type": "stream",
     "text": [
      "WARNING: all-qubit error already exists for instruction \"cx\", composing with additional error.\n",
      "WARNING: all-qubit error already exists for instruction \"measure\", composing with additional error.\n",
      "WARNING: all-qubit error already exists for instruction \"cx\", composing with additional error.\n",
      "WARNING: all-qubit error already exists for instruction \"measure\", composing with additional error.\n",
      "WARNING: all-qubit error already exists for instruction \"cx\", composing with additional error.\n",
      "WARNING: all-qubit error already exists for instruction \"measure\", composing with additional error.\n",
      "WARNING: all-qubit error already exists for instruction \"cx\", composing with additional error.\n",
      "WARNING: all-qubit error already exists for instruction \"measure\", composing with additional error.\n",
      "WARNING: all-qubit error already exists for instruction \"cx\", composing with additional error.\n",
      "WARNING: all-qubit error already exists for instruction \"measure\", composing with additional error.\n",
      "WARNING: all-qubit error already exists for instruction \"cx\", composing with additional error.\n",
      "WARNING: all-qubit error already exists for instruction \"measure\", composing with additional error.\n",
      "WARNING: all-qubit error already exists for instruction \"cx\", composing with additional error.\n",
      "WARNING: all-qubit error already exists for instruction \"measure\", composing with additional error.\n",
      "WARNING: all-qubit error already exists for instruction \"cx\", composing with additional error.\n",
      "WARNING: all-qubit error already exists for instruction \"measure\", composing with additional error.\n",
      "WARNING: all-qubit error already exists for instruction \"cx\", composing with additional error.\n",
      "WARNING: all-qubit error already exists for instruction \"measure\", composing with additional error.\n",
      "WARNING: all-qubit error already exists for instruction \"cx\", composing with additional error.\n",
      "WARNING: all-qubit error already exists for instruction \"measure\", composing with additional error.\n",
      "WARNING: all-qubit error already exists for instruction \"cx\", composing with additional error.\n"
     ]
    },
    {
     "name": "stdout",
     "output_type": "stream",
     "text": [
      "4 0 10 1.0 1.0  :  0.98 1.0 0.0\n"
     ]
    },
    {
     "name": "stderr",
     "output_type": "stream",
     "text": [
      "WARNING: all-qubit error already exists for instruction \"measure\", composing with additional error.\n",
      "WARNING: all-qubit error already exists for instruction \"cx\", composing with additional error.\n",
      "WARNING: all-qubit error already exists for instruction \"measure\", composing with additional error.\n",
      "WARNING: all-qubit error already exists for instruction \"cx\", composing with additional error.\n",
      "WARNING: all-qubit error already exists for instruction \"measure\", composing with additional error.\n",
      "WARNING: all-qubit error already exists for instruction \"cx\", composing with additional error.\n",
      "WARNING: all-qubit error already exists for instruction \"measure\", composing with additional error.\n",
      "WARNING: all-qubit error already exists for instruction \"cx\", composing with additional error.\n",
      "WARNING: all-qubit error already exists for instruction \"measure\", composing with additional error.\n",
      "WARNING: all-qubit error already exists for instruction \"cx\", composing with additional error.\n",
      "WARNING: all-qubit error already exists for instruction \"measure\", composing with additional error.\n",
      "WARNING: all-qubit error already exists for instruction \"cx\", composing with additional error.\n",
      "WARNING: all-qubit error already exists for instruction \"measure\", composing with additional error.\n",
      "WARNING: all-qubit error already exists for instruction \"cx\", composing with additional error.\n",
      "WARNING: all-qubit error already exists for instruction \"measure\", composing with additional error.\n",
      "WARNING: all-qubit error already exists for instruction \"cx\", composing with additional error.\n",
      "WARNING: all-qubit error already exists for instruction \"measure\", composing with additional error.\n",
      "WARNING: all-qubit error already exists for instruction \"cx\", composing with additional error.\n"
     ]
    },
    {
     "name": "stdout",
     "output_type": "stream",
     "text": [
      "4 1 10 19.7 27.2  :  0.887 0.8 0.4\n"
     ]
    },
    {
     "name": "stderr",
     "output_type": "stream",
     "text": [
      "WARNING: all-qubit error already exists for instruction \"measure\", composing with additional error.\n",
      "WARNING: all-qubit error already exists for instruction \"cx\", composing with additional error.\n",
      "WARNING: all-qubit error already exists for instruction \"measure\", composing with additional error.\n",
      "WARNING: all-qubit error already exists for instruction \"cx\", composing with additional error.\n",
      "WARNING: all-qubit error already exists for instruction \"measure\", composing with additional error.\n",
      "WARNING: all-qubit error already exists for instruction \"cx\", composing with additional error.\n",
      "WARNING: all-qubit error already exists for instruction \"measure\", composing with additional error.\n",
      "WARNING: all-qubit error already exists for instruction \"cx\", composing with additional error.\n",
      "WARNING: all-qubit error already exists for instruction \"measure\", composing with additional error.\n",
      "WARNING: all-qubit error already exists for instruction \"cx\", composing with additional error.\n",
      "WARNING: all-qubit error already exists for instruction \"measure\", composing with additional error.\n",
      "WARNING: all-qubit error already exists for instruction \"cx\", composing with additional error.\n",
      "WARNING: all-qubit error already exists for instruction \"measure\", composing with additional error.\n",
      "WARNING: all-qubit error already exists for instruction \"cx\", composing with additional error.\n",
      "WARNING: all-qubit error already exists for instruction \"measure\", composing with additional error.\n",
      "WARNING: all-qubit error already exists for instruction \"cx\", composing with additional error.\n",
      "WARNING: all-qubit error already exists for instruction \"measure\", composing with additional error.\n",
      "WARNING: all-qubit error already exists for instruction \"cx\", composing with additional error.\n",
      "WARNING: all-qubit error already exists for instruction \"measure\", composing with additional error.\n",
      "WARNING: all-qubit error already exists for instruction \"cx\", composing with additional error.\n",
      "WARNING: all-qubit error already exists for instruction \"measure\", composing with additional error.\n",
      "WARNING: all-qubit error already exists for instruction \"cx\", composing with additional error.\n"
     ]
    },
    {
     "name": "stdout",
     "output_type": "stream",
     "text": [
      "4 2 10 73.6 99.3  :  0.498 1.0 0.0\n"
     ]
    },
    {
     "name": "stderr",
     "output_type": "stream",
     "text": [
      "WARNING: all-qubit error already exists for instruction \"measure\", composing with additional error.\n",
      "WARNING: all-qubit error already exists for instruction \"cx\", composing with additional error.\n",
      "WARNING: all-qubit error already exists for instruction \"measure\", composing with additional error.\n",
      "WARNING: all-qubit error already exists for instruction \"cx\", composing with additional error.\n",
      "WARNING: all-qubit error already exists for instruction \"measure\", composing with additional error.\n",
      "WARNING: all-qubit error already exists for instruction \"cx\", composing with additional error.\n",
      "WARNING: all-qubit error already exists for instruction \"measure\", composing with additional error.\n",
      "WARNING: all-qubit error already exists for instruction \"cx\", composing with additional error.\n",
      "WARNING: all-qubit error already exists for instruction \"measure\", composing with additional error.\n",
      "WARNING: all-qubit error already exists for instruction \"cx\", composing with additional error.\n",
      "WARNING: all-qubit error already exists for instruction \"measure\", composing with additional error.\n",
      "WARNING: all-qubit error already exists for instruction \"cx\", composing with additional error.\n",
      "WARNING: all-qubit error already exists for instruction \"measure\", composing with additional error.\n",
      "WARNING: all-qubit error already exists for instruction \"cx\", composing with additional error.\n",
      "WARNING: all-qubit error already exists for instruction \"measure\", composing with additional error.\n",
      "WARNING: all-qubit error already exists for instruction \"cx\", composing with additional error.\n",
      "WARNING: all-qubit error already exists for instruction \"measure\", composing with additional error.\n",
      "WARNING: all-qubit error already exists for instruction \"cx\", composing with additional error.\n",
      "WARNING: all-qubit error already exists for instruction \"measure\", composing with additional error.\n",
      "WARNING: all-qubit error already exists for instruction \"cx\", composing with additional error.\n"
     ]
    },
    {
     "name": "stdout",
     "output_type": "stream",
     "text": [
      "4 3 10 84.0 116.5  :  0.556 0.9 0.3\n"
     ]
    },
    {
     "name": "stderr",
     "output_type": "stream",
     "text": [
      "WARNING: all-qubit error already exists for instruction \"measure\", composing with additional error.\n",
      "WARNING: all-qubit error already exists for instruction \"cx\", composing with additional error.\n",
      "WARNING: all-qubit error already exists for instruction \"measure\", composing with additional error.\n",
      "WARNING: all-qubit error already exists for instruction \"cx\", composing with additional error.\n",
      "WARNING: all-qubit error already exists for instruction \"measure\", composing with additional error.\n",
      "WARNING: all-qubit error already exists for instruction \"cx\", composing with additional error.\n",
      "WARNING: all-qubit error already exists for instruction \"measure\", composing with additional error.\n",
      "WARNING: all-qubit error already exists for instruction \"cx\", composing with additional error.\n",
      "WARNING: all-qubit error already exists for instruction \"measure\", composing with additional error.\n",
      "WARNING: all-qubit error already exists for instruction \"cx\", composing with additional error.\n",
      "WARNING: all-qubit error already exists for instruction \"measure\", composing with additional error.\n",
      "WARNING: all-qubit error already exists for instruction \"cx\", composing with additional error.\n",
      "WARNING: all-qubit error already exists for instruction \"measure\", composing with additional error.\n",
      "WARNING: all-qubit error already exists for instruction \"cx\", composing with additional error.\n",
      "WARNING: all-qubit error already exists for instruction \"measure\", composing with additional error.\n",
      "WARNING: all-qubit error already exists for instruction \"cx\", composing with additional error.\n",
      "WARNING: all-qubit error already exists for instruction \"measure\", composing with additional error.\n",
      "WARNING: all-qubit error already exists for instruction \"cx\", composing with additional error.\n",
      "WARNING: all-qubit error already exists for instruction \"measure\", composing with additional error.\n",
      "WARNING: all-qubit error already exists for instruction \"cx\", composing with additional error.\n"
     ]
    },
    {
     "name": "stdout",
     "output_type": "stream",
     "text": [
      "4 4 10 125.6 170.8  :  0.419 0.9 0.3\n"
     ]
    },
    {
     "name": "stderr",
     "output_type": "stream",
     "text": [
      "WARNING: all-qubit error already exists for instruction \"measure\", composing with additional error.\n",
      "WARNING: all-qubit error already exists for instruction \"cx\", composing with additional error.\n",
      "WARNING: all-qubit error already exists for instruction \"measure\", composing with additional error.\n",
      "WARNING: all-qubit error already exists for instruction \"cx\", composing with additional error.\n",
      "WARNING: all-qubit error already exists for instruction \"measure\", composing with additional error.\n",
      "WARNING: all-qubit error already exists for instruction \"cx\", composing with additional error.\n",
      "WARNING: all-qubit error already exists for instruction \"measure\", composing with additional error.\n",
      "WARNING: all-qubit error already exists for instruction \"cx\", composing with additional error.\n",
      "WARNING: all-qubit error already exists for instruction \"measure\", composing with additional error.\n",
      "WARNING: all-qubit error already exists for instruction \"cx\", composing with additional error.\n",
      "WARNING: all-qubit error already exists for instruction \"measure\", composing with additional error.\n",
      "WARNING: all-qubit error already exists for instruction \"cx\", composing with additional error.\n",
      "WARNING: all-qubit error already exists for instruction \"measure\", composing with additional error.\n",
      "WARNING: all-qubit error already exists for instruction \"cx\", composing with additional error.\n",
      "WARNING: all-qubit error already exists for instruction \"measure\", composing with additional error.\n",
      "WARNING: all-qubit error already exists for instruction \"cx\", composing with additional error.\n",
      "WARNING: all-qubit error already exists for instruction \"measure\", composing with additional error.\n",
      "WARNING: all-qubit error already exists for instruction \"cx\", composing with additional error.\n",
      "WARNING: all-qubit error already exists for instruction \"measure\", composing with additional error.\n",
      "WARNING: all-qubit error already exists for instruction \"cx\", composing with additional error.\n"
     ]
    },
    {
     "name": "stdout",
     "output_type": "stream",
     "text": [
      "4 5 10 156.9 214.1  :  0.245 0.9 0.3\n"
     ]
    },
    {
     "name": "stderr",
     "output_type": "stream",
     "text": [
      "WARNING: all-qubit error already exists for instruction \"measure\", composing with additional error.\n",
      "WARNING: all-qubit error already exists for instruction \"cx\", composing with additional error.\n",
      "WARNING: all-qubit error already exists for instruction \"measure\", composing with additional error.\n",
      "WARNING: all-qubit error already exists for instruction \"cx\", composing with additional error.\n",
      "WARNING: all-qubit error already exists for instruction \"measure\", composing with additional error.\n",
      "WARNING: all-qubit error already exists for instruction \"cx\", composing with additional error.\n",
      "WARNING: all-qubit error already exists for instruction \"measure\", composing with additional error.\n",
      "WARNING: all-qubit error already exists for instruction \"cx\", composing with additional error.\n",
      "WARNING: all-qubit error already exists for instruction \"measure\", composing with additional error.\n",
      "WARNING: all-qubit error already exists for instruction \"cx\", composing with additional error.\n",
      "WARNING: all-qubit error already exists for instruction \"measure\", composing with additional error.\n",
      "WARNING: all-qubit error already exists for instruction \"cx\", composing with additional error.\n",
      "WARNING: all-qubit error already exists for instruction \"measure\", composing with additional error.\n",
      "WARNING: all-qubit error already exists for instruction \"cx\", composing with additional error.\n",
      "WARNING: all-qubit error already exists for instruction \"measure\", composing with additional error.\n",
      "WARNING: all-qubit error already exists for instruction \"cx\", composing with additional error.\n",
      "WARNING: all-qubit error already exists for instruction \"measure\", composing with additional error.\n",
      "WARNING: all-qubit error already exists for instruction \"cx\", composing with additional error.\n",
      "WARNING: all-qubit error already exists for instruction \"measure\", composing with additional error.\n",
      "WARNING: all-qubit error already exists for instruction \"cx\", composing with additional error.\n"
     ]
    },
    {
     "name": "stdout",
     "output_type": "stream",
     "text": [
      "4 6 10 234.9 316.0  :  0.218 0.8 0.4\n"
     ]
    },
    {
     "name": "stderr",
     "output_type": "stream",
     "text": [
      "WARNING: all-qubit error already exists for instruction \"measure\", composing with additional error.\n",
      "WARNING: all-qubit error already exists for instruction \"cx\", composing with additional error.\n",
      "WARNING: all-qubit error already exists for instruction \"measure\", composing with additional error.\n",
      "WARNING: all-qubit error already exists for instruction \"cx\", composing with additional error.\n",
      "WARNING: all-qubit error already exists for instruction \"measure\", composing with additional error.\n",
      "WARNING: all-qubit error already exists for instruction \"cx\", composing with additional error.\n",
      "WARNING: all-qubit error already exists for instruction \"measure\", composing with additional error.\n",
      "WARNING: all-qubit error already exists for instruction \"cx\", composing with additional error.\n",
      "WARNING: all-qubit error already exists for instruction \"measure\", composing with additional error.\n",
      "WARNING: all-qubit error already exists for instruction \"cx\", composing with additional error.\n",
      "WARNING: all-qubit error already exists for instruction \"measure\", composing with additional error.\n",
      "WARNING: all-qubit error already exists for instruction \"cx\", composing with additional error.\n",
      "WARNING: all-qubit error already exists for instruction \"measure\", composing with additional error.\n",
      "WARNING: all-qubit error already exists for instruction \"cx\", composing with additional error.\n",
      "WARNING: all-qubit error already exists for instruction \"measure\", composing with additional error.\n",
      "WARNING: all-qubit error already exists for instruction \"cx\", composing with additional error.\n",
      "WARNING: all-qubit error already exists for instruction \"measure\", composing with additional error.\n",
      "WARNING: all-qubit error already exists for instruction \"cx\", composing with additional error.\n"
     ]
    },
    {
     "name": "stdout",
     "output_type": "stream",
     "text": [
      "4 7 10 197.3 265.1  :  0.205 0.5 0.5\n",
      "Time required: 0:02:17.850482\n",
      "0.9974 0.5683 0.14933 bcs\n"
     ]
    },
    {
     "name": "stderr",
     "output_type": "stream",
     "text": [
      "WARNING: all-qubit error already exists for instruction \"measure\", composing with additional error.\n",
      "WARNING: all-qubit error already exists for instruction \"cx\", composing with additional error.\n"
     ]
    },
    {
     "name": "stdout",
     "output_type": "stream",
     "text": [
      "0.9974 0.4636 0.14274 bcd\n",
      "\n",
      " 5 qubits\n"
     ]
    },
    {
     "name": "stderr",
     "output_type": "stream",
     "text": [
      "WARNING: all-qubit error already exists for instruction \"measure\", composing with additional error.\n",
      "WARNING: all-qubit error already exists for instruction \"cx\", composing with additional error.\n",
      "WARNING: all-qubit error already exists for instruction \"measure\", composing with additional error.\n",
      "WARNING: all-qubit error already exists for instruction \"cx\", composing with additional error.\n",
      "WARNING: all-qubit error already exists for instruction \"measure\", composing with additional error.\n",
      "WARNING: all-qubit error already exists for instruction \"cx\", composing with additional error.\n",
      "WARNING: all-qubit error already exists for instruction \"measure\", composing with additional error.\n",
      "WARNING: all-qubit error already exists for instruction \"cx\", composing with additional error.\n",
      "WARNING: all-qubit error already exists for instruction \"measure\", composing with additional error.\n",
      "WARNING: all-qubit error already exists for instruction \"cx\", composing with additional error.\n",
      "WARNING: all-qubit error already exists for instruction \"measure\", composing with additional error.\n",
      "WARNING: all-qubit error already exists for instruction \"cx\", composing with additional error.\n",
      "WARNING: all-qubit error already exists for instruction \"measure\", composing with additional error.\n",
      "WARNING: all-qubit error already exists for instruction \"cx\", composing with additional error.\n",
      "WARNING: all-qubit error already exists for instruction \"measure\", composing with additional error.\n",
      "WARNING: all-qubit error already exists for instruction \"cx\", composing with additional error.\n",
      "WARNING: all-qubit error already exists for instruction \"measure\", composing with additional error.\n",
      "WARNING: all-qubit error already exists for instruction \"cx\", composing with additional error.\n",
      "WARNING: all-qubit error already exists for instruction \"measure\", composing with additional error.\n",
      "WARNING: all-qubit error already exists for instruction \"cx\", composing with additional error.\n"
     ]
    },
    {
     "name": "stdout",
     "output_type": "stream",
     "text": [
      "5 0 10 1.0 1.0  :  0.98 1.0 0.0\n"
     ]
    },
    {
     "name": "stderr",
     "output_type": "stream",
     "text": [
      "WARNING: all-qubit error already exists for instruction \"measure\", composing with additional error.\n",
      "WARNING: all-qubit error already exists for instruction \"cx\", composing with additional error.\n",
      "WARNING: all-qubit error already exists for instruction \"measure\", composing with additional error.\n",
      "WARNING: all-qubit error already exists for instruction \"cx\", composing with additional error.\n",
      "WARNING: all-qubit error already exists for instruction \"measure\", composing with additional error.\n",
      "WARNING: all-qubit error already exists for instruction \"cx\", composing with additional error.\n",
      "WARNING: all-qubit error already exists for instruction \"measure\", composing with additional error.\n",
      "WARNING: all-qubit error already exists for instruction \"cx\", composing with additional error.\n",
      "WARNING: all-qubit error already exists for instruction \"measure\", composing with additional error.\n",
      "WARNING: all-qubit error already exists for instruction \"cx\", composing with additional error.\n",
      "WARNING: all-qubit error already exists for instruction \"measure\", composing with additional error.\n",
      "WARNING: all-qubit error already exists for instruction \"cx\", composing with additional error.\n",
      "WARNING: all-qubit error already exists for instruction \"measure\", composing with additional error.\n",
      "WARNING: all-qubit error already exists for instruction \"cx\", composing with additional error.\n",
      "WARNING: all-qubit error already exists for instruction \"measure\", composing with additional error.\n",
      "WARNING: all-qubit error already exists for instruction \"cx\", composing with additional error.\n",
      "WARNING: all-qubit error already exists for instruction \"measure\", composing with additional error.\n",
      "WARNING: all-qubit error already exists for instruction \"cx\", composing with additional error.\n",
      "WARNING: all-qubit error already exists for instruction \"measure\", composing with additional error.\n",
      "WARNING: all-qubit error already exists for instruction \"cx\", composing with additional error.\n"
     ]
    },
    {
     "name": "stdout",
     "output_type": "stream",
     "text": [
      "5 1 10 50.7 66.0  :  0.742 0.7 0.458\n"
     ]
    },
    {
     "name": "stderr",
     "output_type": "stream",
     "text": [
      "WARNING: all-qubit error already exists for instruction \"measure\", composing with additional error.\n",
      "WARNING: all-qubit error already exists for instruction \"cx\", composing with additional error.\n",
      "WARNING: all-qubit error already exists for instruction \"measure\", composing with additional error.\n",
      "WARNING: all-qubit error already exists for instruction \"cx\", composing with additional error.\n",
      "WARNING: all-qubit error already exists for instruction \"measure\", composing with additional error.\n",
      "WARNING: all-qubit error already exists for instruction \"cx\", composing with additional error.\n",
      "WARNING: all-qubit error already exists for instruction \"measure\", composing with additional error.\n",
      "WARNING: all-qubit error already exists for instruction \"cx\", composing with additional error.\n",
      "WARNING: all-qubit error already exists for instruction \"measure\", composing with additional error.\n",
      "WARNING: all-qubit error already exists for instruction \"cx\", composing with additional error.\n",
      "WARNING: all-qubit error already exists for instruction \"measure\", composing with additional error.\n",
      "WARNING: all-qubit error already exists for instruction \"cx\", composing with additional error.\n",
      "WARNING: all-qubit error already exists for instruction \"measure\", composing with additional error.\n",
      "WARNING: all-qubit error already exists for instruction \"cx\", composing with additional error.\n",
      "WARNING: all-qubit error already exists for instruction \"measure\", composing with additional error.\n",
      "WARNING: all-qubit error already exists for instruction \"cx\", composing with additional error.\n",
      "WARNING: all-qubit error already exists for instruction \"measure\", composing with additional error.\n",
      "WARNING: all-qubit error already exists for instruction \"cx\", composing with additional error.\n",
      "WARNING: all-qubit error already exists for instruction \"measure\", composing with additional error.\n",
      "WARNING: all-qubit error already exists for instruction \"cx\", composing with additional error.\n"
     ]
    },
    {
     "name": "stdout",
     "output_type": "stream",
     "text": [
      "5 2 10 98.6 130.9  :  0.48 0.9 0.3\n"
     ]
    },
    {
     "name": "stderr",
     "output_type": "stream",
     "text": [
      "WARNING: all-qubit error already exists for instruction \"measure\", composing with additional error.\n",
      "WARNING: all-qubit error already exists for instruction \"cx\", composing with additional error.\n",
      "WARNING: all-qubit error already exists for instruction \"measure\", composing with additional error.\n",
      "WARNING: all-qubit error already exists for instruction \"cx\", composing with additional error.\n",
      "WARNING: all-qubit error already exists for instruction \"measure\", composing with additional error.\n",
      "WARNING: all-qubit error already exists for instruction \"cx\", composing with additional error.\n",
      "WARNING: all-qubit error already exists for instruction \"measure\", composing with additional error.\n",
      "WARNING: all-qubit error already exists for instruction \"cx\", composing with additional error.\n",
      "WARNING: all-qubit error already exists for instruction \"measure\", composing with additional error.\n",
      "WARNING: all-qubit error already exists for instruction \"cx\", composing with additional error.\n",
      "WARNING: all-qubit error already exists for instruction \"measure\", composing with additional error.\n",
      "WARNING: all-qubit error already exists for instruction \"cx\", composing with additional error.\n",
      "WARNING: all-qubit error already exists for instruction \"measure\", composing with additional error.\n",
      "WARNING: all-qubit error already exists for instruction \"cx\", composing with additional error.\n",
      "WARNING: all-qubit error already exists for instruction \"measure\", composing with additional error.\n",
      "WARNING: all-qubit error already exists for instruction \"cx\", composing with additional error.\n",
      "WARNING: all-qubit error already exists for instruction \"measure\", composing with additional error.\n",
      "WARNING: all-qubit error already exists for instruction \"cx\", composing with additional error.\n"
     ]
    },
    {
     "name": "stdout",
     "output_type": "stream",
     "text": [
      "5 3 10 159.2 218.1  :  0.248 0.9 0.3\n"
     ]
    },
    {
     "name": "stderr",
     "output_type": "stream",
     "text": [
      "WARNING: all-qubit error already exists for instruction \"measure\", composing with additional error.\n",
      "WARNING: all-qubit error already exists for instruction \"cx\", composing with additional error.\n",
      "WARNING: all-qubit error already exists for instruction \"measure\", composing with additional error.\n",
      "WARNING: all-qubit error already exists for instruction \"cx\", composing with additional error.\n",
      "WARNING: all-qubit error already exists for instruction \"measure\", composing with additional error.\n",
      "WARNING: all-qubit error already exists for instruction \"cx\", composing with additional error.\n",
      "WARNING: all-qubit error already exists for instruction \"measure\", composing with additional error.\n",
      "WARNING: all-qubit error already exists for instruction \"cx\", composing with additional error.\n",
      "WARNING: all-qubit error already exists for instruction \"measure\", composing with additional error.\n",
      "WARNING: all-qubit error already exists for instruction \"cx\", composing with additional error.\n",
      "WARNING: all-qubit error already exists for instruction \"measure\", composing with additional error.\n",
      "WARNING: all-qubit error already exists for instruction \"cx\", composing with additional error.\n",
      "WARNING: all-qubit error already exists for instruction \"measure\", composing with additional error.\n",
      "WARNING: all-qubit error already exists for instruction \"cx\", composing with additional error.\n",
      "WARNING: all-qubit error already exists for instruction \"measure\", composing with additional error.\n",
      "WARNING: all-qubit error already exists for instruction \"cx\", composing with additional error.\n",
      "WARNING: all-qubit error already exists for instruction \"measure\", composing with additional error.\n",
      "WARNING: all-qubit error already exists for instruction \"cx\", composing with additional error.\n",
      "WARNING: all-qubit error already exists for instruction \"measure\", composing with additional error.\n",
      "WARNING: all-qubit error already exists for instruction \"cx\", composing with additional error.\n",
      "WARNING: all-qubit error already exists for instruction \"measure\", composing with additional error.\n",
      "WARNING: all-qubit error already exists for instruction \"cx\", composing with additional error.\n"
     ]
    },
    {
     "name": "stdout",
     "output_type": "stream",
     "text": [
      "5 4 10 215.4 295.7  :  0.027 0.83 0.347\n"
     ]
    },
    {
     "name": "stderr",
     "output_type": "stream",
     "text": [
      "WARNING: all-qubit error already exists for instruction \"measure\", composing with additional error.\n",
      "WARNING: all-qubit error already exists for instruction \"cx\", composing with additional error.\n",
      "WARNING: all-qubit error already exists for instruction \"measure\", composing with additional error.\n",
      "WARNING: all-qubit error already exists for instruction \"cx\", composing with additional error.\n",
      "WARNING: all-qubit error already exists for instruction \"measure\", composing with additional error.\n",
      "WARNING: all-qubit error already exists for instruction \"cx\", composing with additional error.\n",
      "WARNING: all-qubit error already exists for instruction \"measure\", composing with additional error.\n",
      "WARNING: all-qubit error already exists for instruction \"cx\", composing with additional error.\n",
      "WARNING: all-qubit error already exists for instruction \"measure\", composing with additional error.\n",
      "WARNING: all-qubit error already exists for instruction \"cx\", composing with additional error.\n",
      "WARNING: all-qubit error already exists for instruction \"measure\", composing with additional error.\n",
      "WARNING: all-qubit error already exists for instruction \"cx\", composing with additional error.\n",
      "WARNING: all-qubit error already exists for instruction \"measure\", composing with additional error.\n",
      "WARNING: all-qubit error already exists for instruction \"cx\", composing with additional error.\n",
      "WARNING: all-qubit error already exists for instruction \"measure\", composing with additional error.\n",
      "WARNING: all-qubit error already exists for instruction \"cx\", composing with additional error.\n",
      "WARNING: all-qubit error already exists for instruction \"measure\", composing with additional error.\n",
      "WARNING: all-qubit error already exists for instruction \"cx\", composing with additional error.\n",
      "WARNING: all-qubit error already exists for instruction \"measure\", composing with additional error.\n",
      "WARNING: all-qubit error already exists for instruction \"cx\", composing with additional error.\n"
     ]
    },
    {
     "name": "stdout",
     "output_type": "stream",
     "text": [
      "5 5 10 209.0 288.4  :  0.073 0.805 0.39\n"
     ]
    },
    {
     "name": "stderr",
     "output_type": "stream",
     "text": [
      "WARNING: all-qubit error already exists for instruction \"measure\", composing with additional error.\n",
      "WARNING: all-qubit error already exists for instruction \"cx\", composing with additional error.\n",
      "WARNING: all-qubit error already exists for instruction \"measure\", composing with additional error.\n",
      "WARNING: all-qubit error already exists for instruction \"cx\", composing with additional error.\n",
      "WARNING: all-qubit error already exists for instruction \"measure\", composing with additional error.\n",
      "WARNING: all-qubit error already exists for instruction \"cx\", composing with additional error.\n",
      "WARNING: all-qubit error already exists for instruction \"measure\", composing with additional error.\n",
      "WARNING: all-qubit error already exists for instruction \"cx\", composing with additional error.\n",
      "WARNING: all-qubit error already exists for instruction \"measure\", composing with additional error.\n",
      "WARNING: all-qubit error already exists for instruction \"cx\", composing with additional error.\n",
      "WARNING: all-qubit error already exists for instruction \"measure\", composing with additional error.\n",
      "WARNING: all-qubit error already exists for instruction \"cx\", composing with additional error.\n",
      "WARNING: all-qubit error already exists for instruction \"measure\", composing with additional error.\n",
      "WARNING: all-qubit error already exists for instruction \"cx\", composing with additional error.\n",
      "WARNING: all-qubit error already exists for instruction \"measure\", composing with additional error.\n",
      "WARNING: all-qubit error already exists for instruction \"cx\", composing with additional error.\n",
      "WARNING: all-qubit error already exists for instruction \"measure\", composing with additional error.\n",
      "WARNING: all-qubit error already exists for instruction \"cx\", composing with additional error.\n"
     ]
    },
    {
     "name": "stdout",
     "output_type": "stream",
     "text": [
      "5 6 10 272.9 374.5  :  0.114 0.8 0.4\n"
     ]
    },
    {
     "name": "stderr",
     "output_type": "stream",
     "text": [
      "WARNING: all-qubit error already exists for instruction \"measure\", composing with additional error.\n",
      "WARNING: all-qubit error already exists for instruction \"cx\", composing with additional error.\n",
      "WARNING: all-qubit error already exists for instruction \"measure\", composing with additional error.\n",
      "WARNING: all-qubit error already exists for instruction \"cx\", composing with additional error.\n",
      "WARNING: all-qubit error already exists for instruction \"measure\", composing with additional error.\n",
      "WARNING: all-qubit error already exists for instruction \"cx\", composing with additional error.\n",
      "WARNING: all-qubit error already exists for instruction \"measure\", composing with additional error.\n",
      "WARNING: all-qubit error already exists for instruction \"cx\", composing with additional error.\n",
      "WARNING: all-qubit error already exists for instruction \"measure\", composing with additional error.\n",
      "WARNING: all-qubit error already exists for instruction \"cx\", composing with additional error.\n",
      "WARNING: all-qubit error already exists for instruction \"measure\", composing with additional error.\n",
      "WARNING: all-qubit error already exists for instruction \"cx\", composing with additional error.\n",
      "WARNING: all-qubit error already exists for instruction \"measure\", composing with additional error.\n",
      "WARNING: all-qubit error already exists for instruction \"cx\", composing with additional error.\n",
      "WARNING: all-qubit error already exists for instruction \"measure\", composing with additional error.\n",
      "WARNING: all-qubit error already exists for instruction \"cx\", composing with additional error.\n",
      "WARNING: all-qubit error already exists for instruction \"measure\", composing with additional error.\n",
      "WARNING: all-qubit error already exists for instruction \"cx\", composing with additional error.\n",
      "WARNING: all-qubit error already exists for instruction \"measure\", composing with additional error.\n",
      "WARNING: all-qubit error already exists for instruction \"cx\", composing with additional error.\n"
     ]
    },
    {
     "name": "stdout",
     "output_type": "stream",
     "text": [
      "5 7 10 320.2 440.7  :  0.152 0.7 0.458\n",
      "Time required: 0:02:49.628571\n",
      "1.0 0.5283 0.4135 bcs\n"
     ]
    },
    {
     "name": "stderr",
     "output_type": "stream",
     "text": [
      "WARNING: all-qubit error already exists for instruction \"measure\", composing with additional error.\n",
      "WARNING: all-qubit error already exists for instruction \"cx\", composing with additional error.\n"
     ]
    },
    {
     "name": "stdout",
     "output_type": "stream",
     "text": [
      "1.0 0.4218 0.45394 bcd\n",
      "\n",
      " 6 qubits\n"
     ]
    },
    {
     "name": "stderr",
     "output_type": "stream",
     "text": [
      "WARNING: all-qubit error already exists for instruction \"measure\", composing with additional error.\n",
      "WARNING: all-qubit error already exists for instruction \"cx\", composing with additional error.\n",
      "WARNING: all-qubit error already exists for instruction \"measure\", composing with additional error.\n",
      "WARNING: all-qubit error already exists for instruction \"cx\", composing with additional error.\n",
      "WARNING: all-qubit error already exists for instruction \"measure\", composing with additional error.\n",
      "WARNING: all-qubit error already exists for instruction \"cx\", composing with additional error.\n",
      "WARNING: all-qubit error already exists for instruction \"measure\", composing with additional error.\n",
      "WARNING: all-qubit error already exists for instruction \"cx\", composing with additional error.\n",
      "WARNING: all-qubit error already exists for instruction \"measure\", composing with additional error.\n",
      "WARNING: all-qubit error already exists for instruction \"cx\", composing with additional error.\n",
      "WARNING: all-qubit error already exists for instruction \"measure\", composing with additional error.\n",
      "WARNING: all-qubit error already exists for instruction \"cx\", composing with additional error.\n",
      "WARNING: all-qubit error already exists for instruction \"measure\", composing with additional error.\n",
      "WARNING: all-qubit error already exists for instruction \"cx\", composing with additional error.\n",
      "WARNING: all-qubit error already exists for instruction \"measure\", composing with additional error.\n",
      "WARNING: all-qubit error already exists for instruction \"cx\", composing with additional error.\n",
      "WARNING: all-qubit error already exists for instruction \"measure\", composing with additional error.\n",
      "WARNING: all-qubit error already exists for instruction \"cx\", composing with additional error.\n",
      "WARNING: all-qubit error already exists for instruction \"measure\", composing with additional error.\n",
      "WARNING: all-qubit error already exists for instruction \"cx\", composing with additional error.\n"
     ]
    },
    {
     "name": "stdout",
     "output_type": "stream",
     "text": [
      "6 0 10 1.0 1.0  :  0.98 1.0 0.0\n"
     ]
    },
    {
     "name": "stderr",
     "output_type": "stream",
     "text": [
      "WARNING: all-qubit error already exists for instruction \"measure\", composing with additional error.\n",
      "WARNING: all-qubit error already exists for instruction \"cx\", composing with additional error.\n",
      "WARNING: all-qubit error already exists for instruction \"measure\", composing with additional error.\n",
      "WARNING: all-qubit error already exists for instruction \"cx\", composing with additional error.\n",
      "WARNING: all-qubit error already exists for instruction \"measure\", composing with additional error.\n",
      "WARNING: all-qubit error already exists for instruction \"cx\", composing with additional error.\n",
      "WARNING: all-qubit error already exists for instruction \"measure\", composing with additional error.\n",
      "WARNING: all-qubit error already exists for instruction \"cx\", composing with additional error.\n",
      "WARNING: all-qubit error already exists for instruction \"measure\", composing with additional error.\n",
      "WARNING: all-qubit error already exists for instruction \"cx\", composing with additional error.\n",
      "WARNING: all-qubit error already exists for instruction \"measure\", composing with additional error.\n",
      "WARNING: all-qubit error already exists for instruction \"cx\", composing with additional error.\n",
      "WARNING: all-qubit error already exists for instruction \"measure\", composing with additional error.\n",
      "WARNING: all-qubit error already exists for instruction \"cx\", composing with additional error.\n",
      "WARNING: all-qubit error already exists for instruction \"measure\", composing with additional error.\n",
      "WARNING: all-qubit error already exists for instruction \"cx\", composing with additional error.\n",
      "WARNING: all-qubit error already exists for instruction \"measure\", composing with additional error.\n",
      "WARNING: all-qubit error already exists for instruction \"cx\", composing with additional error.\n",
      "WARNING: all-qubit error already exists for instruction \"measure\", composing with additional error.\n",
      "WARNING: all-qubit error already exists for instruction \"cx\", composing with additional error.\n"
     ]
    },
    {
     "name": "stdout",
     "output_type": "stream",
     "text": [
      "6 1 10 52.7 70.8  :  0.511 1.0 0.0\n"
     ]
    },
    {
     "name": "stderr",
     "output_type": "stream",
     "text": [
      "WARNING: all-qubit error already exists for instruction \"measure\", composing with additional error.\n",
      "WARNING: all-qubit error already exists for instruction \"cx\", composing with additional error.\n",
      "WARNING: all-qubit error already exists for instruction \"measure\", composing with additional error.\n",
      "WARNING: all-qubit error already exists for instruction \"cx\", composing with additional error.\n",
      "WARNING: all-qubit error already exists for instruction \"measure\", composing with additional error.\n",
      "WARNING: all-qubit error already exists for instruction \"cx\", composing with additional error.\n",
      "WARNING: all-qubit error already exists for instruction \"measure\", composing with additional error.\n",
      "WARNING: all-qubit error already exists for instruction \"cx\", composing with additional error.\n",
      "WARNING: all-qubit error already exists for instruction \"measure\", composing with additional error.\n",
      "WARNING: all-qubit error already exists for instruction \"cx\", composing with additional error.\n",
      "WARNING: all-qubit error already exists for instruction \"measure\", composing with additional error.\n",
      "WARNING: all-qubit error already exists for instruction \"cx\", composing with additional error.\n",
      "WARNING: all-qubit error already exists for instruction \"measure\", composing with additional error.\n",
      "WARNING: all-qubit error already exists for instruction \"cx\", composing with additional error.\n",
      "WARNING: all-qubit error already exists for instruction \"measure\", composing with additional error.\n",
      "WARNING: all-qubit error already exists for instruction \"cx\", composing with additional error.\n",
      "WARNING: all-qubit error already exists for instruction \"measure\", composing with additional error.\n",
      "WARNING: all-qubit error already exists for instruction \"cx\", composing with additional error.\n"
     ]
    },
    {
     "name": "stdout",
     "output_type": "stream",
     "text": [
      "6 2 10 136.5 188.0  :  0.061 0.854 0.316\n"
     ]
    },
    {
     "name": "stderr",
     "output_type": "stream",
     "text": [
      "WARNING: all-qubit error already exists for instruction \"measure\", composing with additional error.\n",
      "WARNING: all-qubit error already exists for instruction \"cx\", composing with additional error.\n",
      "WARNING: all-qubit error already exists for instruction \"measure\", composing with additional error.\n",
      "WARNING: all-qubit error already exists for instruction \"cx\", composing with additional error.\n",
      "WARNING: all-qubit error already exists for instruction \"measure\", composing with additional error.\n",
      "WARNING: all-qubit error already exists for instruction \"cx\", composing with additional error.\n",
      "WARNING: all-qubit error already exists for instruction \"measure\", composing with additional error.\n",
      "WARNING: all-qubit error already exists for instruction \"cx\", composing with additional error.\n",
      "WARNING: all-qubit error already exists for instruction \"measure\", composing with additional error.\n",
      "WARNING: all-qubit error already exists for instruction \"cx\", composing with additional error.\n",
      "WARNING: all-qubit error already exists for instruction \"measure\", composing with additional error.\n",
      "WARNING: all-qubit error already exists for instruction \"cx\", composing with additional error.\n",
      "WARNING: all-qubit error already exists for instruction \"measure\", composing with additional error.\n",
      "WARNING: all-qubit error already exists for instruction \"cx\", composing with additional error.\n",
      "WARNING: all-qubit error already exists for instruction \"measure\", composing with additional error.\n",
      "WARNING: all-qubit error already exists for instruction \"cx\", composing with additional error.\n",
      "WARNING: all-qubit error already exists for instruction \"measure\", composing with additional error.\n",
      "WARNING: all-qubit error already exists for instruction \"cx\", composing with additional error.\n",
      "WARNING: all-qubit error already exists for instruction \"measure\", composing with additional error.\n",
      "WARNING: all-qubit error already exists for instruction \"cx\", composing with additional error.\n"
     ]
    },
    {
     "name": "stdout",
     "output_type": "stream",
     "text": [
      "6 3 10 152.6 216.0  :  0.224 0.8 0.4\n"
     ]
    },
    {
     "name": "stderr",
     "output_type": "stream",
     "text": [
      "WARNING: all-qubit error already exists for instruction \"measure\", composing with additional error.\n",
      "WARNING: all-qubit error already exists for instruction \"cx\", composing with additional error.\n",
      "WARNING: all-qubit error already exists for instruction \"measure\", composing with additional error.\n",
      "WARNING: all-qubit error already exists for instruction \"cx\", composing with additional error.\n",
      "WARNING: all-qubit error already exists for instruction \"measure\", composing with additional error.\n",
      "WARNING: all-qubit error already exists for instruction \"cx\", composing with additional error.\n",
      "WARNING: all-qubit error already exists for instruction \"measure\", composing with additional error.\n",
      "WARNING: all-qubit error already exists for instruction \"cx\", composing with additional error.\n",
      "WARNING: all-qubit error already exists for instruction \"measure\", composing with additional error.\n",
      "WARNING: all-qubit error already exists for instruction \"cx\", composing with additional error.\n",
      "WARNING: all-qubit error already exists for instruction \"measure\", composing with additional error.\n",
      "WARNING: all-qubit error already exists for instruction \"cx\", composing with additional error.\n",
      "WARNING: all-qubit error already exists for instruction \"measure\", composing with additional error.\n",
      "WARNING: all-qubit error already exists for instruction \"cx\", composing with additional error.\n",
      "WARNING: all-qubit error already exists for instruction \"measure\", composing with additional error.\n",
      "WARNING: all-qubit error already exists for instruction \"cx\", composing with additional error.\n",
      "WARNING: all-qubit error already exists for instruction \"measure\", composing with additional error.\n",
      "WARNING: all-qubit error already exists for instruction \"cx\", composing with additional error.\n",
      "WARNING: all-qubit error already exists for instruction \"measure\", composing with additional error.\n",
      "WARNING: all-qubit error already exists for instruction \"cx\", composing with additional error.\n",
      "WARNING: all-qubit error already exists for instruction \"measure\", composing with additional error.\n",
      "WARNING: all-qubit error already exists for instruction \"cx\", composing with additional error.\n"
     ]
    },
    {
     "name": "stdout",
     "output_type": "stream",
     "text": [
      "6 4 10 262.2 379.2  :  0.064 0.8 0.4\n"
     ]
    },
    {
     "name": "stderr",
     "output_type": "stream",
     "text": [
      "WARNING: all-qubit error already exists for instruction \"measure\", composing with additional error.\n",
      "WARNING: all-qubit error already exists for instruction \"cx\", composing with additional error.\n",
      "WARNING: all-qubit error already exists for instruction \"measure\", composing with additional error.\n",
      "WARNING: all-qubit error already exists for instruction \"cx\", composing with additional error.\n",
      "WARNING: all-qubit error already exists for instruction \"measure\", composing with additional error.\n",
      "WARNING: all-qubit error already exists for instruction \"cx\", composing with additional error.\n",
      "WARNING: all-qubit error already exists for instruction \"measure\", composing with additional error.\n",
      "WARNING: all-qubit error already exists for instruction \"cx\", composing with additional error.\n",
      "WARNING: all-qubit error already exists for instruction \"measure\", composing with additional error.\n",
      "WARNING: all-qubit error already exists for instruction \"cx\", composing with additional error.\n",
      "WARNING: all-qubit error already exists for instruction \"measure\", composing with additional error.\n",
      "WARNING: all-qubit error already exists for instruction \"cx\", composing with additional error.\n",
      "WARNING: all-qubit error already exists for instruction \"measure\", composing with additional error.\n",
      "WARNING: all-qubit error already exists for instruction \"cx\", composing with additional error.\n",
      "WARNING: all-qubit error already exists for instruction \"measure\", composing with additional error.\n",
      "WARNING: all-qubit error already exists for instruction \"cx\", composing with additional error.\n",
      "WARNING: all-qubit error already exists for instruction \"measure\", composing with additional error.\n",
      "WARNING: all-qubit error already exists for instruction \"cx\", composing with additional error.\n"
     ]
    },
    {
     "name": "stdout",
     "output_type": "stream",
     "text": [
      "6 5 10 295.2 419.0  :  0.079 0.9 0.3\n"
     ]
    },
    {
     "name": "stderr",
     "output_type": "stream",
     "text": [
      "WARNING: all-qubit error already exists for instruction \"measure\", composing with additional error.\n",
      "WARNING: all-qubit error already exists for instruction \"cx\", composing with additional error.\n",
      "WARNING: all-qubit error already exists for instruction \"measure\", composing with additional error.\n",
      "WARNING: all-qubit error already exists for instruction \"cx\", composing with additional error.\n",
      "WARNING: all-qubit error already exists for instruction \"measure\", composing with additional error.\n",
      "WARNING: all-qubit error already exists for instruction \"cx\", composing with additional error.\n",
      "WARNING: all-qubit error already exists for instruction \"measure\", composing with additional error.\n",
      "WARNING: all-qubit error already exists for instruction \"cx\", composing with additional error.\n",
      "WARNING: all-qubit error already exists for instruction \"measure\", composing with additional error.\n",
      "WARNING: all-qubit error already exists for instruction \"cx\", composing with additional error.\n",
      "WARNING: all-qubit error already exists for instruction \"measure\", composing with additional error.\n",
      "WARNING: all-qubit error already exists for instruction \"cx\", composing with additional error.\n",
      "WARNING: all-qubit error already exists for instruction \"measure\", composing with additional error.\n",
      "WARNING: all-qubit error already exists for instruction \"cx\", composing with additional error.\n",
      "WARNING: all-qubit error already exists for instruction \"measure\", composing with additional error.\n",
      "WARNING: all-qubit error already exists for instruction \"cx\", composing with additional error.\n",
      "WARNING: all-qubit error already exists for instruction \"measure\", composing with additional error.\n",
      "WARNING: all-qubit error already exists for instruction \"cx\", composing with additional error.\n",
      "WARNING: all-qubit error already exists for instruction \"measure\", composing with additional error.\n",
      "WARNING: all-qubit error already exists for instruction \"cx\", composing with additional error.\n",
      "WARNING: all-qubit error already exists for instruction \"measure\", composing with additional error.\n",
      "WARNING: all-qubit error already exists for instruction \"cx\", composing with additional error.\n"
     ]
    },
    {
     "name": "stdout",
     "output_type": "stream",
     "text": [
      "6 6 10 322.9 459.2  :  0.063 0.9 0.3\n"
     ]
    },
    {
     "name": "stderr",
     "output_type": "stream",
     "text": [
      "WARNING: all-qubit error already exists for instruction \"measure\", composing with additional error.\n",
      "WARNING: all-qubit error already exists for instruction \"cx\", composing with additional error.\n",
      "WARNING: all-qubit error already exists for instruction \"measure\", composing with additional error.\n",
      "WARNING: all-qubit error already exists for instruction \"cx\", composing with additional error.\n",
      "WARNING: all-qubit error already exists for instruction \"measure\", composing with additional error.\n",
      "WARNING: all-qubit error already exists for instruction \"cx\", composing with additional error.\n",
      "WARNING: all-qubit error already exists for instruction \"measure\", composing with additional error.\n",
      "WARNING: all-qubit error already exists for instruction \"cx\", composing with additional error.\n",
      "WARNING: all-qubit error already exists for instruction \"measure\", composing with additional error.\n",
      "WARNING: all-qubit error already exists for instruction \"cx\", composing with additional error.\n",
      "WARNING: all-qubit error already exists for instruction \"measure\", composing with additional error.\n",
      "WARNING: all-qubit error already exists for instruction \"cx\", composing with additional error.\n",
      "WARNING: all-qubit error already exists for instruction \"measure\", composing with additional error.\n",
      "WARNING: all-qubit error already exists for instruction \"cx\", composing with additional error.\n",
      "WARNING: all-qubit error already exists for instruction \"measure\", composing with additional error.\n",
      "WARNING: all-qubit error already exists for instruction \"cx\", composing with additional error.\n",
      "WARNING: all-qubit error already exists for instruction \"measure\", composing with additional error.\n",
      "WARNING: all-qubit error already exists for instruction \"cx\", composing with additional error.\n"
     ]
    },
    {
     "name": "stdout",
     "output_type": "stream",
     "text": [
      "6 7 10 444.2 646.7  :  0.096 0.6 0.49\n",
      "Time required: 0:03:46.839227\n",
      "0.9811 0.4021 0.366 bcs\n"
     ]
    },
    {
     "name": "stderr",
     "output_type": "stream",
     "text": [
      "WARNING: all-qubit error already exists for instruction \"measure\", composing with additional error.\n",
      "WARNING: all-qubit error already exists for instruction \"cx\", composing with additional error.\n"
     ]
    },
    {
     "name": "stdout",
     "output_type": "stream",
     "text": [
      "0.9865 0.2856 0.34362 bcd\n",
      "\n",
      " 7 qubits\n"
     ]
    },
    {
     "name": "stderr",
     "output_type": "stream",
     "text": [
      "WARNING: all-qubit error already exists for instruction \"measure\", composing with additional error.\n",
      "WARNING: all-qubit error already exists for instruction \"cx\", composing with additional error.\n",
      "WARNING: all-qubit error already exists for instruction \"measure\", composing with additional error.\n",
      "WARNING: all-qubit error already exists for instruction \"cx\", composing with additional error.\n",
      "WARNING: all-qubit error already exists for instruction \"measure\", composing with additional error.\n",
      "WARNING: all-qubit error already exists for instruction \"cx\", composing with additional error.\n",
      "WARNING: all-qubit error already exists for instruction \"measure\", composing with additional error.\n",
      "WARNING: all-qubit error already exists for instruction \"cx\", composing with additional error.\n",
      "WARNING: all-qubit error already exists for instruction \"measure\", composing with additional error.\n",
      "WARNING: all-qubit error already exists for instruction \"cx\", composing with additional error.\n",
      "WARNING: all-qubit error already exists for instruction \"measure\", composing with additional error.\n",
      "WARNING: all-qubit error already exists for instruction \"cx\", composing with additional error.\n",
      "WARNING: all-qubit error already exists for instruction \"measure\", composing with additional error.\n",
      "WARNING: all-qubit error already exists for instruction \"cx\", composing with additional error.\n",
      "WARNING: all-qubit error already exists for instruction \"measure\", composing with additional error.\n",
      "WARNING: all-qubit error already exists for instruction \"cx\", composing with additional error.\n",
      "WARNING: all-qubit error already exists for instruction \"measure\", composing with additional error.\n",
      "WARNING: all-qubit error already exists for instruction \"cx\", composing with additional error.\n",
      "WARNING: all-qubit error already exists for instruction \"measure\", composing with additional error.\n",
      "WARNING: all-qubit error already exists for instruction \"cx\", composing with additional error.\n"
     ]
    },
    {
     "name": "stdout",
     "output_type": "stream",
     "text": [
      "7 0 10 1.0 1.0  :  0.98 1.0 0.0\n"
     ]
    },
    {
     "name": "stderr",
     "output_type": "stream",
     "text": [
      "WARNING: all-qubit error already exists for instruction \"measure\", composing with additional error.\n",
      "WARNING: all-qubit error already exists for instruction \"cx\", composing with additional error.\n",
      "WARNING: all-qubit error already exists for instruction \"measure\", composing with additional error.\n",
      "WARNING: all-qubit error already exists for instruction \"cx\", composing with additional error.\n",
      "WARNING: all-qubit error already exists for instruction \"measure\", composing with additional error.\n",
      "WARNING: all-qubit error already exists for instruction \"cx\", composing with additional error.\n",
      "WARNING: all-qubit error already exists for instruction \"measure\", composing with additional error.\n",
      "WARNING: all-qubit error already exists for instruction \"cx\", composing with additional error.\n",
      "WARNING: all-qubit error already exists for instruction \"measure\", composing with additional error.\n",
      "WARNING: all-qubit error already exists for instruction \"cx\", composing with additional error.\n",
      "WARNING: all-qubit error already exists for instruction \"measure\", composing with additional error.\n",
      "WARNING: all-qubit error already exists for instruction \"cx\", composing with additional error.\n",
      "WARNING: all-qubit error already exists for instruction \"measure\", composing with additional error.\n",
      "WARNING: all-qubit error already exists for instruction \"cx\", composing with additional error.\n",
      "WARNING: all-qubit error already exists for instruction \"measure\", composing with additional error.\n",
      "WARNING: all-qubit error already exists for instruction \"cx\", composing with additional error.\n",
      "WARNING: all-qubit error already exists for instruction \"measure\", composing with additional error.\n",
      "WARNING: all-qubit error already exists for instruction \"cx\", composing with additional error.\n",
      "WARNING: all-qubit error already exists for instruction \"measure\", composing with additional error.\n",
      "WARNING: all-qubit error already exists for instruction \"cx\", composing with additional error.\n"
     ]
    },
    {
     "name": "stdout",
     "output_type": "stream",
     "text": [
      "7 1 10 89.9 118.1  :  0.62 1.0 0.0\n"
     ]
    },
    {
     "name": "stderr",
     "output_type": "stream",
     "text": [
      "WARNING: all-qubit error already exists for instruction \"measure\", composing with additional error.\n",
      "WARNING: all-qubit error already exists for instruction \"cx\", composing with additional error.\n",
      "WARNING: all-qubit error already exists for instruction \"measure\", composing with additional error.\n",
      "WARNING: all-qubit error already exists for instruction \"cx\", composing with additional error.\n",
      "WARNING: all-qubit error already exists for instruction \"measure\", composing with additional error.\n",
      "WARNING: all-qubit error already exists for instruction \"cx\", composing with additional error.\n",
      "WARNING: all-qubit error already exists for instruction \"measure\", composing with additional error.\n",
      "WARNING: all-qubit error already exists for instruction \"cx\", composing with additional error.\n",
      "WARNING: all-qubit error already exists for instruction \"measure\", composing with additional error.\n",
      "WARNING: all-qubit error already exists for instruction \"cx\", composing with additional error.\n",
      "WARNING: all-qubit error already exists for instruction \"measure\", composing with additional error.\n",
      "WARNING: all-qubit error already exists for instruction \"cx\", composing with additional error.\n",
      "WARNING: all-qubit error already exists for instruction \"measure\", composing with additional error.\n",
      "WARNING: all-qubit error already exists for instruction \"cx\", composing with additional error.\n",
      "WARNING: all-qubit error already exists for instruction \"measure\", composing with additional error.\n",
      "WARNING: all-qubit error already exists for instruction \"cx\", composing with additional error.\n",
      "WARNING: all-qubit error already exists for instruction \"measure\", composing with additional error.\n",
      "WARNING: all-qubit error already exists for instruction \"cx\", composing with additional error.\n"
     ]
    },
    {
     "name": "stdout",
     "output_type": "stream",
     "text": [
      "7 2 10 128.2 175.5  :  0.325 0.7 0.458\n"
     ]
    },
    {
     "name": "stderr",
     "output_type": "stream",
     "text": [
      "WARNING: all-qubit error already exists for instruction \"measure\", composing with additional error.\n",
      "WARNING: all-qubit error already exists for instruction \"cx\", composing with additional error.\n",
      "WARNING: all-qubit error already exists for instruction \"measure\", composing with additional error.\n",
      "WARNING: all-qubit error already exists for instruction \"cx\", composing with additional error.\n",
      "WARNING: all-qubit error already exists for instruction \"measure\", composing with additional error.\n",
      "WARNING: all-qubit error already exists for instruction \"cx\", composing with additional error.\n",
      "WARNING: all-qubit error already exists for instruction \"measure\", composing with additional error.\n",
      "WARNING: all-qubit error already exists for instruction \"cx\", composing with additional error.\n",
      "WARNING: all-qubit error already exists for instruction \"measure\", composing with additional error.\n",
      "WARNING: all-qubit error already exists for instruction \"cx\", composing with additional error.\n",
      "WARNING: all-qubit error already exists for instruction \"measure\", composing with additional error.\n",
      "WARNING: all-qubit error already exists for instruction \"cx\", composing with additional error.\n",
      "WARNING: all-qubit error already exists for instruction \"measure\", composing with additional error.\n",
      "WARNING: all-qubit error already exists for instruction \"cx\", composing with additional error.\n",
      "WARNING: all-qubit error already exists for instruction \"measure\", composing with additional error.\n",
      "WARNING: all-qubit error already exists for instruction \"cx\", composing with additional error.\n",
      "WARNING: all-qubit error already exists for instruction \"measure\", composing with additional error.\n",
      "WARNING: all-qubit error already exists for instruction \"cx\", composing with additional error.\n",
      "WARNING: all-qubit error already exists for instruction \"measure\", composing with additional error.\n",
      "WARNING: all-qubit error already exists for instruction \"cx\", composing with additional error.\n",
      "WARNING: all-qubit error already exists for instruction \"measure\", composing with additional error.\n",
      "WARNING: all-qubit error already exists for instruction \"cx\", composing with additional error.\n"
     ]
    },
    {
     "name": "stdout",
     "output_type": "stream",
     "text": [
      "7 3 10 213.6 298.9  :  0.114 0.8 0.4\n"
     ]
    },
    {
     "name": "stderr",
     "output_type": "stream",
     "text": [
      "WARNING: all-qubit error already exists for instruction \"measure\", composing with additional error.\n",
      "WARNING: all-qubit error already exists for instruction \"cx\", composing with additional error.\n",
      "WARNING: all-qubit error already exists for instruction \"measure\", composing with additional error.\n",
      "WARNING: all-qubit error already exists for instruction \"cx\", composing with additional error.\n",
      "WARNING: all-qubit error already exists for instruction \"measure\", composing with additional error.\n",
      "WARNING: all-qubit error already exists for instruction \"cx\", composing with additional error.\n",
      "WARNING: all-qubit error already exists for instruction \"measure\", composing with additional error.\n",
      "WARNING: all-qubit error already exists for instruction \"cx\", composing with additional error.\n",
      "WARNING: all-qubit error already exists for instruction \"measure\", composing with additional error.\n",
      "WARNING: all-qubit error already exists for instruction \"cx\", composing with additional error.\n",
      "WARNING: all-qubit error already exists for instruction \"measure\", composing with additional error.\n",
      "WARNING: all-qubit error already exists for instruction \"cx\", composing with additional error.\n",
      "WARNING: all-qubit error already exists for instruction \"measure\", composing with additional error.\n",
      "WARNING: all-qubit error already exists for instruction \"cx\", composing with additional error.\n",
      "WARNING: all-qubit error already exists for instruction \"measure\", composing with additional error.\n",
      "WARNING: all-qubit error already exists for instruction \"cx\", composing with additional error.\n",
      "WARNING: all-qubit error already exists for instruction \"measure\", composing with additional error.\n",
      "WARNING: all-qubit error already exists for instruction \"cx\", composing with additional error.\n"
     ]
    },
    {
     "name": "stdout",
     "output_type": "stream",
     "text": [
      "7 4 10 224.5 331.9  :  0.041 0.9 0.3\n"
     ]
    },
    {
     "name": "stderr",
     "output_type": "stream",
     "text": [
      "WARNING: all-qubit error already exists for instruction \"measure\", composing with additional error.\n",
      "WARNING: all-qubit error already exists for instruction \"cx\", composing with additional error.\n",
      "WARNING: all-qubit error already exists for instruction \"measure\", composing with additional error.\n",
      "WARNING: all-qubit error already exists for instruction \"cx\", composing with additional error.\n",
      "WARNING: all-qubit error already exists for instruction \"measure\", composing with additional error.\n",
      "WARNING: all-qubit error already exists for instruction \"cx\", composing with additional error.\n",
      "WARNING: all-qubit error already exists for instruction \"measure\", composing with additional error.\n",
      "WARNING: all-qubit error already exists for instruction \"cx\", composing with additional error.\n",
      "WARNING: all-qubit error already exists for instruction \"measure\", composing with additional error.\n",
      "WARNING: all-qubit error already exists for instruction \"cx\", composing with additional error.\n",
      "WARNING: all-qubit error already exists for instruction \"measure\", composing with additional error.\n",
      "WARNING: all-qubit error already exists for instruction \"cx\", composing with additional error.\n",
      "WARNING: all-qubit error already exists for instruction \"measure\", composing with additional error.\n",
      "WARNING: all-qubit error already exists for instruction \"cx\", composing with additional error.\n",
      "WARNING: all-qubit error already exists for instruction \"measure\", composing with additional error.\n",
      "WARNING: all-qubit error already exists for instruction \"cx\", composing with additional error.\n",
      "WARNING: all-qubit error already exists for instruction \"measure\", composing with additional error.\n",
      "WARNING: all-qubit error already exists for instruction \"cx\", composing with additional error.\n",
      "WARNING: all-qubit error already exists for instruction \"measure\", composing with additional error.\n",
      "WARNING: all-qubit error already exists for instruction \"cx\", composing with additional error.\n"
     ]
    },
    {
     "name": "stdout",
     "output_type": "stream",
     "text": [
      "7 5 10 338.9 487.1  :  0.041 0.9 0.3\n"
     ]
    },
    {
     "name": "stderr",
     "output_type": "stream",
     "text": [
      "WARNING: all-qubit error already exists for instruction \"measure\", composing with additional error.\n",
      "WARNING: all-qubit error already exists for instruction \"cx\", composing with additional error.\n",
      "WARNING: all-qubit error already exists for instruction \"measure\", composing with additional error.\n",
      "WARNING: all-qubit error already exists for instruction \"cx\", composing with additional error.\n",
      "WARNING: all-qubit error already exists for instruction \"measure\", composing with additional error.\n",
      "WARNING: all-qubit error already exists for instruction \"cx\", composing with additional error.\n",
      "WARNING: all-qubit error already exists for instruction \"measure\", composing with additional error.\n",
      "WARNING: all-qubit error already exists for instruction \"cx\", composing with additional error.\n",
      "WARNING: all-qubit error already exists for instruction \"measure\", composing with additional error.\n",
      "WARNING: all-qubit error already exists for instruction \"cx\", composing with additional error.\n",
      "WARNING: all-qubit error already exists for instruction \"measure\", composing with additional error.\n",
      "WARNING: all-qubit error already exists for instruction \"cx\", composing with additional error.\n",
      "WARNING: all-qubit error already exists for instruction \"measure\", composing with additional error.\n",
      "WARNING: all-qubit error already exists for instruction \"cx\", composing with additional error.\n",
      "WARNING: all-qubit error already exists for instruction \"measure\", composing with additional error.\n",
      "WARNING: all-qubit error already exists for instruction \"cx\", composing with additional error.\n",
      "WARNING: all-qubit error already exists for instruction \"measure\", composing with additional error.\n",
      "WARNING: all-qubit error already exists for instruction \"cx\", composing with additional error.\n",
      "WARNING: all-qubit error already exists for instruction \"measure\", composing with additional error.\n",
      "WARNING: all-qubit error already exists for instruction \"cx\", composing with additional error.\n"
     ]
    },
    {
     "name": "stdout",
     "output_type": "stream",
     "text": [
      "7 6 10 419.1 599.7  :  0.085 0.7 0.458\n"
     ]
    },
    {
     "name": "stderr",
     "output_type": "stream",
     "text": [
      "WARNING: all-qubit error already exists for instruction \"measure\", composing with additional error.\n",
      "WARNING: all-qubit error already exists for instruction \"cx\", composing with additional error.\n",
      "WARNING: all-qubit error already exists for instruction \"measure\", composing with additional error.\n",
      "WARNING: all-qubit error already exists for instruction \"cx\", composing with additional error.\n",
      "WARNING: all-qubit error already exists for instruction \"measure\", composing with additional error.\n",
      "WARNING: all-qubit error already exists for instruction \"cx\", composing with additional error.\n",
      "WARNING: all-qubit error already exists for instruction \"measure\", composing with additional error.\n",
      "WARNING: all-qubit error already exists for instruction \"cx\", composing with additional error.\n",
      "WARNING: all-qubit error already exists for instruction \"measure\", composing with additional error.\n",
      "WARNING: all-qubit error already exists for instruction \"cx\", composing with additional error.\n",
      "WARNING: all-qubit error already exists for instruction \"measure\", composing with additional error.\n",
      "WARNING: all-qubit error already exists for instruction \"cx\", composing with additional error.\n",
      "WARNING: all-qubit error already exists for instruction \"measure\", composing with additional error.\n",
      "WARNING: all-qubit error already exists for instruction \"cx\", composing with additional error.\n",
      "WARNING: all-qubit error already exists for instruction \"measure\", composing with additional error.\n",
      "WARNING: all-qubit error already exists for instruction \"cx\", composing with additional error.\n",
      "WARNING: all-qubit error already exists for instruction \"measure\", composing with additional error.\n",
      "WARNING: all-qubit error already exists for instruction \"cx\", composing with additional error.\n",
      "WARNING: all-qubit error already exists for instruction \"measure\", composing with additional error.\n",
      "WARNING: all-qubit error already exists for instruction \"cx\", composing with additional error.\n"
     ]
    },
    {
     "name": "stdout",
     "output_type": "stream",
     "text": [
      "7 7 10 524.7 758.3  :  0.218 0.5 0.5\n",
      "Time required: 0:04:20.290754\n",
      "1.0 0.5544 0.75234 bcs\n"
     ]
    },
    {
     "name": "stderr",
     "output_type": "stream",
     "text": [
      "WARNING: all-qubit error already exists for instruction \"measure\", composing with additional error.\n",
      "WARNING: all-qubit error already exists for instruction \"cx\", composing with additional error.\n"
     ]
    },
    {
     "name": "stdout",
     "output_type": "stream",
     "text": [
      "1.0 0.4423 0.83108 bcd\n",
      "\n",
      " 8 qubits\n"
     ]
    },
    {
     "name": "stderr",
     "output_type": "stream",
     "text": [
      "WARNING: all-qubit error already exists for instruction \"measure\", composing with additional error.\n",
      "WARNING: all-qubit error already exists for instruction \"cx\", composing with additional error.\n",
      "WARNING: all-qubit error already exists for instruction \"measure\", composing with additional error.\n",
      "WARNING: all-qubit error already exists for instruction \"cx\", composing with additional error.\n",
      "WARNING: all-qubit error already exists for instruction \"measure\", composing with additional error.\n",
      "WARNING: all-qubit error already exists for instruction \"cx\", composing with additional error.\n",
      "WARNING: all-qubit error already exists for instruction \"measure\", composing with additional error.\n",
      "WARNING: all-qubit error already exists for instruction \"cx\", composing with additional error.\n",
      "WARNING: all-qubit error already exists for instruction \"measure\", composing with additional error.\n",
      "WARNING: all-qubit error already exists for instruction \"cx\", composing with additional error.\n",
      "WARNING: all-qubit error already exists for instruction \"measure\", composing with additional error.\n",
      "WARNING: all-qubit error already exists for instruction \"cx\", composing with additional error.\n",
      "WARNING: all-qubit error already exists for instruction \"measure\", composing with additional error.\n",
      "WARNING: all-qubit error already exists for instruction \"cx\", composing with additional error.\n",
      "WARNING: all-qubit error already exists for instruction \"measure\", composing with additional error.\n",
      "WARNING: all-qubit error already exists for instruction \"cx\", composing with additional error.\n",
      "WARNING: all-qubit error already exists for instruction \"measure\", composing with additional error.\n",
      "WARNING: all-qubit error already exists for instruction \"cx\", composing with additional error.\n",
      "WARNING: all-qubit error already exists for instruction \"measure\", composing with additional error.\n",
      "WARNING: all-qubit error already exists for instruction \"cx\", composing with additional error.\n"
     ]
    },
    {
     "name": "stdout",
     "output_type": "stream",
     "text": [
      "8 0 10 1.0 1.0  :  0.98 1.0 0.0\n"
     ]
    },
    {
     "name": "stderr",
     "output_type": "stream",
     "text": [
      "WARNING: all-qubit error already exists for instruction \"measure\", composing with additional error.\n",
      "WARNING: all-qubit error already exists for instruction \"cx\", composing with additional error.\n",
      "WARNING: all-qubit error already exists for instruction \"measure\", composing with additional error.\n",
      "WARNING: all-qubit error already exists for instruction \"cx\", composing with additional error.\n",
      "WARNING: all-qubit error already exists for instruction \"measure\", composing with additional error.\n",
      "WARNING: all-qubit error already exists for instruction \"cx\", composing with additional error.\n",
      "WARNING: all-qubit error already exists for instruction \"measure\", composing with additional error.\n",
      "WARNING: all-qubit error already exists for instruction \"cx\", composing with additional error.\n",
      "WARNING: all-qubit error already exists for instruction \"measure\", composing with additional error.\n",
      "WARNING: all-qubit error already exists for instruction \"cx\", composing with additional error.\n",
      "WARNING: all-qubit error already exists for instruction \"measure\", composing with additional error.\n",
      "WARNING: all-qubit error already exists for instruction \"cx\", composing with additional error.\n",
      "WARNING: all-qubit error already exists for instruction \"measure\", composing with additional error.\n",
      "WARNING: all-qubit error already exists for instruction \"cx\", composing with additional error.\n",
      "WARNING: all-qubit error already exists for instruction \"measure\", composing with additional error.\n",
      "WARNING: all-qubit error already exists for instruction \"cx\", composing with additional error.\n",
      "WARNING: all-qubit error already exists for instruction \"measure\", composing with additional error.\n",
      "WARNING: all-qubit error already exists for instruction \"cx\", composing with additional error.\n",
      "WARNING: all-qubit error already exists for instruction \"measure\", composing with additional error.\n"
     ]
    },
    {
     "name": "stdout",
     "output_type": "stream",
     "text": [
      "8 1 10 77.9 107.8  :  0.461 0.9 0.3\n"
     ]
    },
    {
     "name": "stderr",
     "output_type": "stream",
     "text": [
      "WARNING: all-qubit error already exists for instruction \"cx\", composing with additional error.\n",
      "WARNING: all-qubit error already exists for instruction \"measure\", composing with additional error.\n",
      "WARNING: all-qubit error already exists for instruction \"cx\", composing with additional error.\n",
      "WARNING: all-qubit error already exists for instruction \"measure\", composing with additional error.\n",
      "WARNING: all-qubit error already exists for instruction \"cx\", composing with additional error.\n",
      "WARNING: all-qubit error already exists for instruction \"measure\", composing with additional error.\n",
      "WARNING: all-qubit error already exists for instruction \"cx\", composing with additional error.\n",
      "WARNING: all-qubit error already exists for instruction \"measure\", composing with additional error.\n",
      "WARNING: all-qubit error already exists for instruction \"cx\", composing with additional error.\n",
      "WARNING: all-qubit error already exists for instruction \"measure\", composing with additional error.\n",
      "WARNING: all-qubit error already exists for instruction \"cx\", composing with additional error.\n",
      "WARNING: all-qubit error already exists for instruction \"measure\", composing with additional error.\n",
      "WARNING: all-qubit error already exists for instruction \"cx\", composing with additional error.\n",
      "WARNING: all-qubit error already exists for instruction \"measure\", composing with additional error.\n",
      "WARNING: all-qubit error already exists for instruction \"cx\", composing with additional error.\n",
      "WARNING: all-qubit error already exists for instruction \"measure\", composing with additional error.\n",
      "WARNING: all-qubit error already exists for instruction \"cx\", composing with additional error.\n",
      "WARNING: all-qubit error already exists for instruction \"measure\", composing with additional error.\n",
      "WARNING: all-qubit error already exists for instruction \"cx\", composing with additional error.\n"
     ]
    },
    {
     "name": "stdout",
     "output_type": "stream",
     "text": [
      "8 2 10 181.3 249.3  :  0.216 0.7 0.458\n"
     ]
    },
    {
     "name": "stderr",
     "output_type": "stream",
     "text": [
      "WARNING: all-qubit error already exists for instruction \"measure\", composing with additional error.\n",
      "WARNING: all-qubit error already exists for instruction \"cx\", composing with additional error.\n",
      "WARNING: all-qubit error already exists for instruction \"measure\", composing with additional error.\n",
      "WARNING: all-qubit error already exists for instruction \"cx\", composing with additional error.\n",
      "WARNING: all-qubit error already exists for instruction \"measure\", composing with additional error.\n",
      "WARNING: all-qubit error already exists for instruction \"cx\", composing with additional error.\n",
      "WARNING: all-qubit error already exists for instruction \"measure\", composing with additional error.\n",
      "WARNING: all-qubit error already exists for instruction \"cx\", composing with additional error.\n",
      "WARNING: all-qubit error already exists for instruction \"measure\", composing with additional error.\n",
      "WARNING: all-qubit error already exists for instruction \"cx\", composing with additional error.\n",
      "WARNING: all-qubit error already exists for instruction \"measure\", composing with additional error.\n",
      "WARNING: all-qubit error already exists for instruction \"cx\", composing with additional error.\n",
      "WARNING: all-qubit error already exists for instruction \"measure\", composing with additional error.\n",
      "WARNING: all-qubit error already exists for instruction \"cx\", composing with additional error.\n",
      "WARNING: all-qubit error already exists for instruction \"measure\", composing with additional error.\n",
      "WARNING: all-qubit error already exists for instruction \"cx\", composing with additional error.\n",
      "WARNING: all-qubit error already exists for instruction \"measure\", composing with additional error.\n",
      "WARNING: all-qubit error already exists for instruction \"cx\", composing with additional error.\n",
      "WARNING: all-qubit error already exists for instruction \"measure\", composing with additional error.\n",
      "WARNING: all-qubit error already exists for instruction \"cx\", composing with additional error.\n"
     ]
    },
    {
     "name": "stdout",
     "output_type": "stream",
     "text": [
      "8 3 10 240.3 347.3  :  0.106 0.6 0.49\n"
     ]
    },
    {
     "name": "stderr",
     "output_type": "stream",
     "text": [
      "WARNING: all-qubit error already exists for instruction \"measure\", composing with additional error.\n",
      "WARNING: all-qubit error already exists for instruction \"cx\", composing with additional error.\n",
      "WARNING: all-qubit error already exists for instruction \"measure\", composing with additional error.\n",
      "WARNING: all-qubit error already exists for instruction \"cx\", composing with additional error.\n",
      "WARNING: all-qubit error already exists for instruction \"measure\", composing with additional error.\n",
      "WARNING: all-qubit error already exists for instruction \"cx\", composing with additional error.\n",
      "WARNING: all-qubit error already exists for instruction \"measure\", composing with additional error.\n",
      "WARNING: all-qubit error already exists for instruction \"cx\", composing with additional error.\n",
      "WARNING: all-qubit error already exists for instruction \"measure\", composing with additional error.\n",
      "WARNING: all-qubit error already exists for instruction \"cx\", composing with additional error.\n",
      "WARNING: all-qubit error already exists for instruction \"measure\", composing with additional error.\n",
      "WARNING: all-qubit error already exists for instruction \"cx\", composing with additional error.\n",
      "WARNING: all-qubit error already exists for instruction \"measure\", composing with additional error.\n",
      "WARNING: all-qubit error already exists for instruction \"cx\", composing with additional error.\n",
      "WARNING: all-qubit error already exists for instruction \"measure\", composing with additional error.\n",
      "WARNING: all-qubit error already exists for instruction \"cx\", composing with additional error.\n",
      "WARNING: all-qubit error already exists for instruction \"measure\", composing with additional error.\n",
      "WARNING: all-qubit error already exists for instruction \"cx\", composing with additional error.\n",
      "WARNING: all-qubit error already exists for instruction \"measure\", composing with additional error.\n",
      "WARNING: all-qubit error already exists for instruction \"cx\", composing with additional error.\n",
      "WARNING: all-qubit error already exists for instruction \"measure\", composing with additional error.\n",
      "WARNING: all-qubit error already exists for instruction \"cx\", composing with additional error.\n"
     ]
    },
    {
     "name": "stdout",
     "output_type": "stream",
     "text": [
      "8 4 10 296.3 423.2  :  0.05 0.6 0.49\n"
     ]
    },
    {
     "name": "stderr",
     "output_type": "stream",
     "text": [
      "WARNING: all-qubit error already exists for instruction \"measure\", composing with additional error.\n",
      "WARNING: all-qubit error already exists for instruction \"cx\", composing with additional error.\n",
      "WARNING: all-qubit error already exists for instruction \"measure\", composing with additional error.\n",
      "WARNING: all-qubit error already exists for instruction \"cx\", composing with additional error.\n",
      "WARNING: all-qubit error already exists for instruction \"measure\", composing with additional error.\n",
      "WARNING: all-qubit error already exists for instruction \"cx\", composing with additional error.\n",
      "WARNING: all-qubit error already exists for instruction \"measure\", composing with additional error.\n",
      "WARNING: all-qubit error already exists for instruction \"cx\", composing with additional error.\n",
      "WARNING: all-qubit error already exists for instruction \"measure\", composing with additional error.\n",
      "WARNING: all-qubit error already exists for instruction \"cx\", composing with additional error.\n",
      "WARNING: all-qubit error already exists for instruction \"measure\", composing with additional error.\n",
      "WARNING: all-qubit error already exists for instruction \"cx\", composing with additional error.\n",
      "WARNING: all-qubit error already exists for instruction \"measure\", composing with additional error.\n",
      "WARNING: all-qubit error already exists for instruction \"cx\", composing with additional error.\n",
      "WARNING: all-qubit error already exists for instruction \"measure\", composing with additional error.\n",
      "WARNING: all-qubit error already exists for instruction \"cx\", composing with additional error.\n",
      "WARNING: all-qubit error already exists for instruction \"measure\", composing with additional error.\n",
      "WARNING: all-qubit error already exists for instruction \"cx\", composing with additional error.\n",
      "WARNING: all-qubit error already exists for instruction \"measure\", composing with additional error.\n",
      "WARNING: all-qubit error already exists for instruction \"cx\", composing with additional error.\n"
     ]
    },
    {
     "name": "stdout",
     "output_type": "stream",
     "text": [
      "8 5 10 422.9 604.6  :  0.106 0.8 0.4\n"
     ]
    },
    {
     "name": "stderr",
     "output_type": "stream",
     "text": [
      "WARNING: all-qubit error already exists for instruction \"measure\", composing with additional error.\n",
      "WARNING: all-qubit error already exists for instruction \"cx\", composing with additional error.\n",
      "WARNING: all-qubit error already exists for instruction \"measure\", composing with additional error.\n",
      "WARNING: all-qubit error already exists for instruction \"cx\", composing with additional error.\n",
      "WARNING: all-qubit error already exists for instruction \"measure\", composing with additional error.\n",
      "WARNING: all-qubit error already exists for instruction \"cx\", composing with additional error.\n",
      "WARNING: all-qubit error already exists for instruction \"measure\", composing with additional error.\n",
      "WARNING: all-qubit error already exists for instruction \"cx\", composing with additional error.\n",
      "WARNING: all-qubit error already exists for instruction \"measure\", composing with additional error.\n",
      "WARNING: all-qubit error already exists for instruction \"cx\", composing with additional error.\n",
      "WARNING: all-qubit error already exists for instruction \"measure\", composing with additional error.\n",
      "WARNING: all-qubit error already exists for instruction \"cx\", composing with additional error.\n",
      "WARNING: all-qubit error already exists for instruction \"measure\", composing with additional error.\n",
      "WARNING: all-qubit error already exists for instruction \"cx\", composing with additional error.\n",
      "WARNING: all-qubit error already exists for instruction \"measure\", composing with additional error.\n",
      "WARNING: all-qubit error already exists for instruction \"cx\", composing with additional error.\n",
      "WARNING: all-qubit error already exists for instruction \"measure\", composing with additional error.\n",
      "WARNING: all-qubit error already exists for instruction \"cx\", composing with additional error.\n"
     ]
    },
    {
     "name": "stdout",
     "output_type": "stream",
     "text": [
      "8 6 10 492.7 715.4  :  -0.047 0.6 0.49\n"
     ]
    },
    {
     "name": "stderr",
     "output_type": "stream",
     "text": [
      "WARNING: all-qubit error already exists for instruction \"measure\", composing with additional error.\n",
      "WARNING: all-qubit error already exists for instruction \"cx\", composing with additional error.\n",
      "WARNING: all-qubit error already exists for instruction \"measure\", composing with additional error.\n",
      "WARNING: all-qubit error already exists for instruction \"cx\", composing with additional error.\n",
      "WARNING: all-qubit error already exists for instruction \"measure\", composing with additional error.\n",
      "WARNING: all-qubit error already exists for instruction \"cx\", composing with additional error.\n",
      "WARNING: all-qubit error already exists for instruction \"measure\", composing with additional error.\n",
      "WARNING: all-qubit error already exists for instruction \"cx\", composing with additional error.\n",
      "WARNING: all-qubit error already exists for instruction \"measure\", composing with additional error.\n",
      "WARNING: all-qubit error already exists for instruction \"cx\", composing with additional error.\n",
      "WARNING: all-qubit error already exists for instruction \"measure\", composing with additional error.\n",
      "WARNING: all-qubit error already exists for instruction \"cx\", composing with additional error.\n",
      "WARNING: all-qubit error already exists for instruction \"measure\", composing with additional error.\n",
      "WARNING: all-qubit error already exists for instruction \"cx\", composing with additional error.\n",
      "WARNING: all-qubit error already exists for instruction \"measure\", composing with additional error.\n",
      "WARNING: all-qubit error already exists for instruction \"cx\", composing with additional error.\n",
      "WARNING: all-qubit error already exists for instruction \"measure\", composing with additional error.\n",
      "WARNING: all-qubit error already exists for instruction \"cx\", composing with additional error.\n",
      "WARNING: all-qubit error already exists for instruction \"measure\", composing with additional error.\n",
      "WARNING: all-qubit error already exists for instruction \"cx\", composing with additional error.\n"
     ]
    },
    {
     "name": "stdout",
     "output_type": "stream",
     "text": [
      "8 7 10 595.3 859.7  :  -0.018 0.9 0.3\n",
      "Time required: 0:15:51.024275\n",
      "0.9787 0.5235 0.12439 bcs\n"
     ]
    },
    {
     "name": "stderr",
     "output_type": "stream",
     "text": [
      "WARNING: all-qubit error already exists for instruction \"measure\", composing with additional error.\n",
      "WARNING: all-qubit error already exists for instruction \"cx\", composing with additional error.\n"
     ]
    },
    {
     "name": "stdout",
     "output_type": "stream",
     "text": [
      "0.9827 0.4031 0.12624 bcd\n",
      "\n",
      " 9 qubits\n"
     ]
    },
    {
     "name": "stderr",
     "output_type": "stream",
     "text": [
      "WARNING: all-qubit error already exists for instruction \"measure\", composing with additional error.\n",
      "WARNING: all-qubit error already exists for instruction \"cx\", composing with additional error.\n",
      "WARNING: all-qubit error already exists for instruction \"measure\", composing with additional error.\n",
      "WARNING: all-qubit error already exists for instruction \"cx\", composing with additional error.\n",
      "WARNING: all-qubit error already exists for instruction \"measure\", composing with additional error.\n",
      "WARNING: all-qubit error already exists for instruction \"cx\", composing with additional error.\n",
      "WARNING: all-qubit error already exists for instruction \"measure\", composing with additional error.\n",
      "WARNING: all-qubit error already exists for instruction \"cx\", composing with additional error.\n",
      "WARNING: all-qubit error already exists for instruction \"measure\", composing with additional error.\n",
      "WARNING: all-qubit error already exists for instruction \"cx\", composing with additional error.\n",
      "WARNING: all-qubit error already exists for instruction \"measure\", composing with additional error.\n",
      "WARNING: all-qubit error already exists for instruction \"cx\", composing with additional error.\n",
      "WARNING: all-qubit error already exists for instruction \"measure\", composing with additional error.\n",
      "WARNING: all-qubit error already exists for instruction \"cx\", composing with additional error.\n",
      "WARNING: all-qubit error already exists for instruction \"measure\", composing with additional error.\n",
      "WARNING: all-qubit error already exists for instruction \"cx\", composing with additional error.\n",
      "WARNING: all-qubit error already exists for instruction \"measure\", composing with additional error.\n",
      "WARNING: all-qubit error already exists for instruction \"cx\", composing with additional error.\n",
      "WARNING: all-qubit error already exists for instruction \"measure\", composing with additional error.\n",
      "WARNING: all-qubit error already exists for instruction \"cx\", composing with additional error.\n"
     ]
    },
    {
     "name": "stdout",
     "output_type": "stream",
     "text": [
      "9 0 10 1.0 1.0  :  0.981 1.0 0.0\n"
     ]
    },
    {
     "name": "stderr",
     "output_type": "stream",
     "text": [
      "WARNING: all-qubit error already exists for instruction \"measure\", composing with additional error.\n",
      "WARNING: all-qubit error already exists for instruction \"cx\", composing with additional error.\n",
      "WARNING: all-qubit error already exists for instruction \"measure\", composing with additional error.\n",
      "WARNING: all-qubit error already exists for instruction \"cx\", composing with additional error.\n",
      "WARNING: all-qubit error already exists for instruction \"measure\", composing with additional error.\n",
      "WARNING: all-qubit error already exists for instruction \"cx\", composing with additional error.\n",
      "WARNING: all-qubit error already exists for instruction \"measure\", composing with additional error.\n",
      "WARNING: all-qubit error already exists for instruction \"cx\", composing with additional error.\n",
      "WARNING: all-qubit error already exists for instruction \"measure\", composing with additional error.\n",
      "WARNING: all-qubit error already exists for instruction \"cx\", composing with additional error.\n",
      "WARNING: all-qubit error already exists for instruction \"measure\", composing with additional error.\n",
      "WARNING: all-qubit error already exists for instruction \"cx\", composing with additional error.\n",
      "WARNING: all-qubit error already exists for instruction \"measure\", composing with additional error.\n",
      "WARNING: all-qubit error already exists for instruction \"cx\", composing with additional error.\n",
      "WARNING: all-qubit error already exists for instruction \"measure\", composing with additional error.\n",
      "WARNING: all-qubit error already exists for instruction \"cx\", composing with additional error.\n",
      "WARNING: all-qubit error already exists for instruction \"measure\", composing with additional error.\n",
      "WARNING: all-qubit error already exists for instruction \"cx\", composing with additional error.\n",
      "WARNING: all-qubit error already exists for instruction \"measure\", composing with additional error.\n",
      "WARNING: all-qubit error already exists for instruction \"cx\", composing with additional error.\n"
     ]
    },
    {
     "name": "stdout",
     "output_type": "stream",
     "text": [
      "9 1 10 94.5 126.4  :  0.351 0.8 0.4\n"
     ]
    },
    {
     "name": "stderr",
     "output_type": "stream",
     "text": [
      "WARNING: all-qubit error already exists for instruction \"measure\", composing with additional error.\n",
      "WARNING: all-qubit error already exists for instruction \"cx\", composing with additional error.\n",
      "WARNING: all-qubit error already exists for instruction \"measure\", composing with additional error.\n",
      "WARNING: all-qubit error already exists for instruction \"cx\", composing with additional error.\n",
      "WARNING: all-qubit error already exists for instruction \"measure\", composing with additional error.\n",
      "WARNING: all-qubit error already exists for instruction \"cx\", composing with additional error.\n",
      "WARNING: all-qubit error already exists for instruction \"measure\", composing with additional error.\n",
      "WARNING: all-qubit error already exists for instruction \"cx\", composing with additional error.\n",
      "WARNING: all-qubit error already exists for instruction \"measure\", composing with additional error.\n",
      "WARNING: all-qubit error already exists for instruction \"cx\", composing with additional error.\n",
      "WARNING: all-qubit error already exists for instruction \"measure\", composing with additional error.\n",
      "WARNING: all-qubit error already exists for instruction \"cx\", composing with additional error.\n",
      "WARNING: all-qubit error already exists for instruction \"measure\", composing with additional error.\n",
      "WARNING: all-qubit error already exists for instruction \"cx\", composing with additional error.\n",
      "WARNING: all-qubit error already exists for instruction \"measure\", composing with additional error.\n",
      "WARNING: all-qubit error already exists for instruction \"cx\", composing with additional error.\n",
      "WARNING: all-qubit error already exists for instruction \"measure\", composing with additional error.\n",
      "WARNING: all-qubit error already exists for instruction \"cx\", composing with additional error.\n",
      "WARNING: all-qubit error already exists for instruction \"measure\", composing with additional error.\n",
      "WARNING: all-qubit error already exists for instruction \"cx\", composing with additional error.\n"
     ]
    },
    {
     "name": "stdout",
     "output_type": "stream",
     "text": [
      "9 2 10 208.3 295.3  :  0.039 0.599 0.489\n"
     ]
    },
    {
     "name": "stderr",
     "output_type": "stream",
     "text": [
      "WARNING: all-qubit error already exists for instruction \"measure\", composing with additional error.\n",
      "WARNING: all-qubit error already exists for instruction \"cx\", composing with additional error.\n",
      "WARNING: all-qubit error already exists for instruction \"measure\", composing with additional error.\n",
      "WARNING: all-qubit error already exists for instruction \"cx\", composing with additional error.\n",
      "WARNING: all-qubit error already exists for instruction \"measure\", composing with additional error.\n",
      "WARNING: all-qubit error already exists for instruction \"cx\", composing with additional error.\n",
      "WARNING: all-qubit error already exists for instruction \"measure\", composing with additional error.\n",
      "WARNING: all-qubit error already exists for instruction \"cx\", composing with additional error.\n",
      "WARNING: all-qubit error already exists for instruction \"measure\", composing with additional error.\n",
      "WARNING: all-qubit error already exists for instruction \"cx\", composing with additional error.\n",
      "WARNING: all-qubit error already exists for instruction \"measure\", composing with additional error.\n",
      "WARNING: all-qubit error already exists for instruction \"cx\", composing with additional error.\n",
      "WARNING: all-qubit error already exists for instruction \"measure\", composing with additional error.\n",
      "WARNING: all-qubit error already exists for instruction \"cx\", composing with additional error.\n",
      "WARNING: all-qubit error already exists for instruction \"measure\", composing with additional error.\n",
      "WARNING: all-qubit error already exists for instruction \"cx\", composing with additional error.\n",
      "WARNING: all-qubit error already exists for instruction \"measure\", composing with additional error.\n",
      "WARNING: all-qubit error already exists for instruction \"cx\", composing with additional error.\n"
     ]
    },
    {
     "name": "stdout",
     "output_type": "stream",
     "text": [
      "9 3 10 322.4 473.8  :  -0.061 0.66 0.448\n"
     ]
    },
    {
     "name": "stderr",
     "output_type": "stream",
     "text": [
      "WARNING: all-qubit error already exists for instruction \"measure\", composing with additional error.\n",
      "WARNING: all-qubit error already exists for instruction \"cx\", composing with additional error.\n",
      "WARNING: all-qubit error already exists for instruction \"measure\", composing with additional error.\n",
      "WARNING: all-qubit error already exists for instruction \"cx\", composing with additional error.\n",
      "WARNING: all-qubit error already exists for instruction \"measure\", composing with additional error.\n",
      "WARNING: all-qubit error already exists for instruction \"cx\", composing with additional error.\n",
      "WARNING: all-qubit error already exists for instruction \"measure\", composing with additional error.\n",
      "WARNING: all-qubit error already exists for instruction \"cx\", composing with additional error.\n",
      "WARNING: all-qubit error already exists for instruction \"measure\", composing with additional error.\n",
      "WARNING: all-qubit error already exists for instruction \"cx\", composing with additional error.\n",
      "WARNING: all-qubit error already exists for instruction \"measure\", composing with additional error.\n",
      "WARNING: all-qubit error already exists for instruction \"cx\", composing with additional error.\n",
      "WARNING: all-qubit error already exists for instruction \"measure\", composing with additional error.\n",
      "WARNING: all-qubit error already exists for instruction \"cx\", composing with additional error.\n",
      "WARNING: all-qubit error already exists for instruction \"measure\", composing with additional error.\n",
      "WARNING: all-qubit error already exists for instruction \"cx\", composing with additional error.\n",
      "WARNING: all-qubit error already exists for instruction \"measure\", composing with additional error.\n",
      "WARNING: all-qubit error already exists for instruction \"cx\", composing with additional error.\n",
      "WARNING: all-qubit error already exists for instruction \"measure\", composing with additional error.\n",
      "WARNING: all-qubit error already exists for instruction \"cx\", composing with additional error.\n",
      "WARNING: all-qubit error already exists for instruction \"measure\", composing with additional error.\n",
      "WARNING: all-qubit error already exists for instruction \"cx\", composing with additional error.\n"
     ]
    },
    {
     "name": "stdout",
     "output_type": "stream",
     "text": [
      "9 4 10 392.6 572.0  :  -0.021 1.0 0.0\n"
     ]
    },
    {
     "name": "stderr",
     "output_type": "stream",
     "text": [
      "WARNING: all-qubit error already exists for instruction \"measure\", composing with additional error.\n",
      "WARNING: all-qubit error already exists for instruction \"cx\", composing with additional error.\n",
      "WARNING: all-qubit error already exists for instruction \"measure\", composing with additional error.\n",
      "WARNING: all-qubit error already exists for instruction \"cx\", composing with additional error.\n",
      "WARNING: all-qubit error already exists for instruction \"measure\", composing with additional error.\n",
      "WARNING: all-qubit error already exists for instruction \"cx\", composing with additional error.\n",
      "WARNING: all-qubit error already exists for instruction \"measure\", composing with additional error.\n",
      "WARNING: all-qubit error already exists for instruction \"cx\", composing with additional error.\n",
      "WARNING: all-qubit error already exists for instruction \"measure\", composing with additional error.\n",
      "WARNING: all-qubit error already exists for instruction \"cx\", composing with additional error.\n",
      "WARNING: all-qubit error already exists for instruction \"measure\", composing with additional error.\n",
      "WARNING: all-qubit error already exists for instruction \"cx\", composing with additional error.\n",
      "WARNING: all-qubit error already exists for instruction \"measure\", composing with additional error.\n",
      "WARNING: all-qubit error already exists for instruction \"cx\", composing with additional error.\n",
      "WARNING: all-qubit error already exists for instruction \"measure\", composing with additional error.\n",
      "WARNING: all-qubit error already exists for instruction \"cx\", composing with additional error.\n",
      "WARNING: all-qubit error already exists for instruction \"measure\", composing with additional error.\n",
      "WARNING: all-qubit error already exists for instruction \"cx\", composing with additional error.\n"
     ]
    },
    {
     "name": "stdout",
     "output_type": "stream",
     "text": [
      "9 5 10 528.2 775.5  :  0.021 0.7 0.458\n"
     ]
    },
    {
     "name": "stderr",
     "output_type": "stream",
     "text": [
      "WARNING: all-qubit error already exists for instruction \"measure\", composing with additional error.\n",
      "WARNING: all-qubit error already exists for instruction \"cx\", composing with additional error.\n",
      "WARNING: all-qubit error already exists for instruction \"measure\", composing with additional error.\n",
      "WARNING: all-qubit error already exists for instruction \"cx\", composing with additional error.\n",
      "WARNING: all-qubit error already exists for instruction \"measure\", composing with additional error.\n",
      "WARNING: all-qubit error already exists for instruction \"cx\", composing with additional error.\n",
      "WARNING: all-qubit error already exists for instruction \"measure\", composing with additional error.\n",
      "WARNING: all-qubit error already exists for instruction \"cx\", composing with additional error.\n",
      "WARNING: all-qubit error already exists for instruction \"measure\", composing with additional error.\n",
      "WARNING: all-qubit error already exists for instruction \"cx\", composing with additional error.\n",
      "WARNING: all-qubit error already exists for instruction \"measure\", composing with additional error.\n",
      "WARNING: all-qubit error already exists for instruction \"cx\", composing with additional error.\n",
      "WARNING: all-qubit error already exists for instruction \"measure\", composing with additional error.\n",
      "WARNING: all-qubit error already exists for instruction \"cx\", composing with additional error.\n",
      "WARNING: all-qubit error already exists for instruction \"measure\", composing with additional error.\n",
      "WARNING: all-qubit error already exists for instruction \"cx\", composing with additional error.\n",
      "WARNING: all-qubit error already exists for instruction \"measure\", composing with additional error.\n",
      "WARNING: all-qubit error already exists for instruction \"cx\", composing with additional error.\n",
      "WARNING: all-qubit error already exists for instruction \"measure\", composing with additional error.\n",
      "WARNING: all-qubit error already exists for instruction \"cx\", composing with additional error.\n"
     ]
    },
    {
     "name": "stdout",
     "output_type": "stream",
     "text": [
      "9 6 10 651.1 949.9  :  -0.092 0.9 0.3\n"
     ]
    },
    {
     "name": "stderr",
     "output_type": "stream",
     "text": [
      "WARNING: all-qubit error already exists for instruction \"measure\", composing with additional error.\n",
      "WARNING: all-qubit error already exists for instruction \"cx\", composing with additional error.\n",
      "WARNING: all-qubit error already exists for instruction \"measure\", composing with additional error.\n",
      "WARNING: all-qubit error already exists for instruction \"cx\", composing with additional error.\n",
      "WARNING: all-qubit error already exists for instruction \"measure\", composing with additional error.\n",
      "WARNING: all-qubit error already exists for instruction \"cx\", composing with additional error.\n",
      "WARNING: all-qubit error already exists for instruction \"measure\", composing with additional error.\n",
      "WARNING: all-qubit error already exists for instruction \"cx\", composing with additional error.\n",
      "WARNING: all-qubit error already exists for instruction \"measure\", composing with additional error.\n",
      "WARNING: all-qubit error already exists for instruction \"cx\", composing with additional error.\n",
      "WARNING: all-qubit error already exists for instruction \"measure\", composing with additional error.\n",
      "WARNING: all-qubit error already exists for instruction \"cx\", composing with additional error.\n",
      "WARNING: all-qubit error already exists for instruction \"measure\", composing with additional error.\n",
      "WARNING: all-qubit error already exists for instruction \"cx\", composing with additional error.\n",
      "WARNING: all-qubit error already exists for instruction \"measure\", composing with additional error.\n",
      "WARNING: all-qubit error already exists for instruction \"cx\", composing with additional error.\n",
      "WARNING: all-qubit error already exists for instruction \"measure\", composing with additional error.\n",
      "WARNING: all-qubit error already exists for instruction \"cx\", composing with additional error.\n",
      "WARNING: all-qubit error already exists for instruction \"measure\", composing with additional error.\n",
      "WARNING: all-qubit error already exists for instruction \"cx\", composing with additional error.\n"
     ]
    },
    {
     "name": "stdout",
     "output_type": "stream",
     "text": [
      "9 7 10 758.3 1105.3  :  -0.016 0.8 0.4\n",
      "Time required: 0:30:01.800938\n",
      "0.9962 0.4071 0.17566 bcs\n"
     ]
    },
    {
     "name": "stderr",
     "output_type": "stream",
     "text": [
      "WARNING: all-qubit error already exists for instruction \"measure\", composing with additional error.\n",
      "WARNING: all-qubit error already exists for instruction \"cx\", composing with additional error.\n"
     ]
    },
    {
     "name": "stdout",
     "output_type": "stream",
     "text": [
      "1.0 0.2905 0.19427 bcd\n",
      "\n",
      " 10 qubits\n"
     ]
    },
    {
     "name": "stderr",
     "output_type": "stream",
     "text": [
      "WARNING: all-qubit error already exists for instruction \"measure\", composing with additional error.\n",
      "WARNING: all-qubit error already exists for instruction \"cx\", composing with additional error.\n",
      "WARNING: all-qubit error already exists for instruction \"measure\", composing with additional error.\n",
      "WARNING: all-qubit error already exists for instruction \"cx\", composing with additional error.\n",
      "WARNING: all-qubit error already exists for instruction \"measure\", composing with additional error.\n",
      "WARNING: all-qubit error already exists for instruction \"cx\", composing with additional error.\n",
      "WARNING: all-qubit error already exists for instruction \"measure\", composing with additional error.\n",
      "WARNING: all-qubit error already exists for instruction \"cx\", composing with additional error.\n",
      "WARNING: all-qubit error already exists for instruction \"measure\", composing with additional error.\n",
      "WARNING: all-qubit error already exists for instruction \"cx\", composing with additional error.\n",
      "WARNING: all-qubit error already exists for instruction \"measure\", composing with additional error.\n",
      "WARNING: all-qubit error already exists for instruction \"cx\", composing with additional error.\n",
      "WARNING: all-qubit error already exists for instruction \"measure\", composing with additional error.\n",
      "WARNING: all-qubit error already exists for instruction \"cx\", composing with additional error.\n",
      "WARNING: all-qubit error already exists for instruction \"measure\", composing with additional error.\n",
      "WARNING: all-qubit error already exists for instruction \"cx\", composing with additional error.\n",
      "WARNING: all-qubit error already exists for instruction \"measure\", composing with additional error.\n",
      "WARNING: all-qubit error already exists for instruction \"cx\", composing with additional error.\n",
      "WARNING: all-qubit error already exists for instruction \"measure\", composing with additional error.\n",
      "WARNING: all-qubit error already exists for instruction \"cx\", composing with additional error.\n"
     ]
    },
    {
     "name": "stdout",
     "output_type": "stream",
     "text": [
      "10 0 10 1.0 1.0  :  0.98 0.9 0.3\n"
     ]
    },
    {
     "name": "stderr",
     "output_type": "stream",
     "text": [
      "WARNING: all-qubit error already exists for instruction \"measure\", composing with additional error.\n",
      "WARNING: all-qubit error already exists for instruction \"cx\", composing with additional error.\n",
      "WARNING: all-qubit error already exists for instruction \"measure\", composing with additional error.\n",
      "WARNING: all-qubit error already exists for instruction \"cx\", composing with additional error.\n",
      "WARNING: all-qubit error already exists for instruction \"measure\", composing with additional error.\n",
      "WARNING: all-qubit error already exists for instruction \"cx\", composing with additional error.\n",
      "WARNING: all-qubit error already exists for instruction \"measure\", composing with additional error.\n",
      "WARNING: all-qubit error already exists for instruction \"cx\", composing with additional error.\n",
      "WARNING: all-qubit error already exists for instruction \"measure\", composing with additional error.\n",
      "WARNING: all-qubit error already exists for instruction \"cx\", composing with additional error.\n",
      "WARNING: all-qubit error already exists for instruction \"measure\", composing with additional error.\n",
      "WARNING: all-qubit error already exists for instruction \"cx\", composing with additional error.\n",
      "WARNING: all-qubit error already exists for instruction \"measure\", composing with additional error.\n",
      "WARNING: all-qubit error already exists for instruction \"cx\", composing with additional error.\n",
      "WARNING: all-qubit error already exists for instruction \"measure\", composing with additional error.\n",
      "WARNING: all-qubit error already exists for instruction \"cx\", composing with additional error.\n",
      "WARNING: all-qubit error already exists for instruction \"measure\", composing with additional error.\n",
      "WARNING: all-qubit error already exists for instruction \"cx\", composing with additional error.\n",
      "WARNING: all-qubit error already exists for instruction \"measure\", composing with additional error.\n",
      "WARNING: all-qubit error already exists for instruction \"cx\", composing with additional error.\n"
     ]
    },
    {
     "name": "stdout",
     "output_type": "stream",
     "text": [
      "10 1 10 85.7 118.7  :  0.512 0.8 0.4\n"
     ]
    },
    {
     "name": "stderr",
     "output_type": "stream",
     "text": [
      "WARNING: all-qubit error already exists for instruction \"measure\", composing with additional error.\n",
      "WARNING: all-qubit error already exists for instruction \"cx\", composing with additional error.\n",
      "WARNING: all-qubit error already exists for instruction \"measure\", composing with additional error.\n",
      "WARNING: all-qubit error already exists for instruction \"cx\", composing with additional error.\n",
      "WARNING: all-qubit error already exists for instruction \"measure\", composing with additional error.\n",
      "WARNING: all-qubit error already exists for instruction \"cx\", composing with additional error.\n",
      "WARNING: all-qubit error already exists for instruction \"measure\", composing with additional error.\n",
      "WARNING: all-qubit error already exists for instruction \"cx\", composing with additional error.\n",
      "WARNING: all-qubit error already exists for instruction \"measure\", composing with additional error.\n",
      "WARNING: all-qubit error already exists for instruction \"cx\", composing with additional error.\n",
      "WARNING: all-qubit error already exists for instruction \"measure\", composing with additional error.\n",
      "WARNING: all-qubit error already exists for instruction \"cx\", composing with additional error.\n",
      "WARNING: all-qubit error already exists for instruction \"measure\", composing with additional error.\n",
      "WARNING: all-qubit error already exists for instruction \"cx\", composing with additional error.\n",
      "WARNING: all-qubit error already exists for instruction \"measure\", composing with additional error.\n",
      "WARNING: all-qubit error already exists for instruction \"cx\", composing with additional error.\n",
      "WARNING: all-qubit error already exists for instruction \"measure\", composing with additional error.\n",
      "WARNING: all-qubit error already exists for instruction \"cx\", composing with additional error.\n",
      "WARNING: all-qubit error already exists for instruction \"measure\", composing with additional error.\n",
      "WARNING: all-qubit error already exists for instruction \"cx\", composing with additional error.\n"
     ]
    },
    {
     "name": "stdout",
     "output_type": "stream",
     "text": [
      "10 2 10 253.8 361.2  :  0.177 0.6 0.49\n"
     ]
    },
    {
     "name": "stderr",
     "output_type": "stream",
     "text": [
      "WARNING: all-qubit error already exists for instruction \"measure\", composing with additional error.\n",
      "WARNING: all-qubit error already exists for instruction \"cx\", composing with additional error.\n",
      "WARNING: all-qubit error already exists for instruction \"measure\", composing with additional error.\n",
      "WARNING: all-qubit error already exists for instruction \"cx\", composing with additional error.\n",
      "WARNING: all-qubit error already exists for instruction \"measure\", composing with additional error.\n",
      "WARNING: all-qubit error already exists for instruction \"cx\", composing with additional error.\n",
      "WARNING: all-qubit error already exists for instruction \"measure\", composing with additional error.\n",
      "WARNING: all-qubit error already exists for instruction \"cx\", composing with additional error.\n",
      "WARNING: all-qubit error already exists for instruction \"measure\", composing with additional error.\n",
      "WARNING: all-qubit error already exists for instruction \"cx\", composing with additional error.\n",
      "WARNING: all-qubit error already exists for instruction \"measure\", composing with additional error.\n",
      "WARNING: all-qubit error already exists for instruction \"cx\", composing with additional error.\n",
      "WARNING: all-qubit error already exists for instruction \"measure\", composing with additional error.\n",
      "WARNING: all-qubit error already exists for instruction \"cx\", composing with additional error.\n",
      "WARNING: all-qubit error already exists for instruction \"measure\", composing with additional error.\n",
      "WARNING: all-qubit error already exists for instruction \"cx\", composing with additional error.\n",
      "WARNING: all-qubit error already exists for instruction \"measure\", composing with additional error.\n",
      "WARNING: all-qubit error already exists for instruction \"cx\", composing with additional error.\n"
     ]
    },
    {
     "name": "stdout",
     "output_type": "stream",
     "text": [
      "10 3 10 323.3 475.8  :  0.041 1.0 0.0\n"
     ]
    },
    {
     "name": "stderr",
     "output_type": "stream",
     "text": [
      "WARNING: all-qubit error already exists for instruction \"measure\", composing with additional error.\n",
      "WARNING: all-qubit error already exists for instruction \"cx\", composing with additional error.\n",
      "WARNING: all-qubit error already exists for instruction \"measure\", composing with additional error.\n",
      "WARNING: all-qubit error already exists for instruction \"cx\", composing with additional error.\n",
      "WARNING: all-qubit error already exists for instruction \"measure\", composing with additional error.\n",
      "WARNING: all-qubit error already exists for instruction \"cx\", composing with additional error.\n",
      "WARNING: all-qubit error already exists for instruction \"measure\", composing with additional error.\n",
      "WARNING: all-qubit error already exists for instruction \"cx\", composing with additional error.\n",
      "WARNING: all-qubit error already exists for instruction \"measure\", composing with additional error.\n",
      "WARNING: all-qubit error already exists for instruction \"cx\", composing with additional error.\n",
      "WARNING: all-qubit error already exists for instruction \"measure\", composing with additional error.\n",
      "WARNING: all-qubit error already exists for instruction \"cx\", composing with additional error.\n",
      "WARNING: all-qubit error already exists for instruction \"measure\", composing with additional error.\n",
      "WARNING: all-qubit error already exists for instruction \"cx\", composing with additional error.\n",
      "WARNING: all-qubit error already exists for instruction \"measure\", composing with additional error.\n",
      "WARNING: all-qubit error already exists for instruction \"cx\", composing with additional error.\n",
      "WARNING: all-qubit error already exists for instruction \"measure\", composing with additional error.\n",
      "WARNING: all-qubit error already exists for instruction \"cx\", composing with additional error.\n",
      "WARNING: all-qubit error already exists for instruction \"measure\", composing with additional error.\n",
      "WARNING: all-qubit error already exists for instruction \"cx\", composing with additional error.\n"
     ]
    },
    {
     "name": "stdout",
     "output_type": "stream",
     "text": [
      "10 4 10 507.9 730.1  :  -0.006 0.8 0.4\n"
     ]
    },
    {
     "name": "stderr",
     "output_type": "stream",
     "text": [
      "WARNING: all-qubit error already exists for instruction \"measure\", composing with additional error.\n",
      "WARNING: all-qubit error already exists for instruction \"cx\", composing with additional error.\n",
      "WARNING: all-qubit error already exists for instruction \"measure\", composing with additional error.\n",
      "WARNING: all-qubit error already exists for instruction \"cx\", composing with additional error.\n",
      "WARNING: all-qubit error already exists for instruction \"measure\", composing with additional error.\n",
      "WARNING: all-qubit error already exists for instruction \"cx\", composing with additional error.\n",
      "WARNING: all-qubit error already exists for instruction \"measure\", composing with additional error.\n",
      "WARNING: all-qubit error already exists for instruction \"cx\", composing with additional error.\n",
      "WARNING: all-qubit error already exists for instruction \"measure\", composing with additional error.\n",
      "WARNING: all-qubit error already exists for instruction \"cx\", composing with additional error.\n",
      "WARNING: all-qubit error already exists for instruction \"measure\", composing with additional error.\n",
      "WARNING: all-qubit error already exists for instruction \"cx\", composing with additional error.\n",
      "WARNING: all-qubit error already exists for instruction \"measure\", composing with additional error.\n",
      "WARNING: all-qubit error already exists for instruction \"cx\", composing with additional error.\n",
      "WARNING: all-qubit error already exists for instruction \"measure\", composing with additional error.\n",
      "WARNING: all-qubit error already exists for instruction \"cx\", composing with additional error.\n",
      "WARNING: all-qubit error already exists for instruction \"measure\", composing with additional error.\n",
      "WARNING: all-qubit error already exists for instruction \"cx\", composing with additional error.\n",
      "WARNING: all-qubit error already exists for instruction \"measure\", composing with additional error.\n",
      "WARNING: all-qubit error already exists for instruction \"cx\", composing with additional error.\n",
      "WARNING: all-qubit error already exists for instruction \"measure\", composing with additional error.\n",
      "WARNING: all-qubit error already exists for instruction \"cx\", composing with additional error.\n"
     ]
    },
    {
     "name": "stdout",
     "output_type": "stream",
     "text": [
      "10 5 10 674.8 998.5  :  0.008 0.8 0.4\n"
     ]
    },
    {
     "name": "stderr",
     "output_type": "stream",
     "text": [
      "WARNING: all-qubit error already exists for instruction \"measure\", composing with additional error.\n",
      "WARNING: all-qubit error already exists for instruction \"cx\", composing with additional error.\n",
      "WARNING: all-qubit error already exists for instruction \"measure\", composing with additional error.\n",
      "WARNING: all-qubit error already exists for instruction \"cx\", composing with additional error.\n",
      "WARNING: all-qubit error already exists for instruction \"measure\", composing with additional error.\n",
      "WARNING: all-qubit error already exists for instruction \"cx\", composing with additional error.\n",
      "WARNING: all-qubit error already exists for instruction \"measure\", composing with additional error.\n",
      "WARNING: all-qubit error already exists for instruction \"cx\", composing with additional error.\n",
      "WARNING: all-qubit error already exists for instruction \"measure\", composing with additional error.\n",
      "WARNING: all-qubit error already exists for instruction \"cx\", composing with additional error.\n",
      "WARNING: all-qubit error already exists for instruction \"measure\", composing with additional error.\n",
      "WARNING: all-qubit error already exists for instruction \"cx\", composing with additional error.\n",
      "WARNING: all-qubit error already exists for instruction \"measure\", composing with additional error.\n",
      "WARNING: all-qubit error already exists for instruction \"cx\", composing with additional error.\n",
      "WARNING: all-qubit error already exists for instruction \"measure\", composing with additional error.\n",
      "WARNING: all-qubit error already exists for instruction \"cx\", composing with additional error.\n",
      "WARNING: all-qubit error already exists for instruction \"measure\", composing with additional error.\n",
      "WARNING: all-qubit error already exists for instruction \"cx\", composing with additional error.\n",
      "WARNING: all-qubit error already exists for instruction \"measure\", composing with additional error.\n",
      "WARNING: all-qubit error already exists for instruction \"cx\", composing with additional error.\n"
     ]
    },
    {
     "name": "stdout",
     "output_type": "stream",
     "text": [
      "10 6 10 700.3 1053.5  :  -0.002 0.8 0.4\n"
     ]
    },
    {
     "name": "stderr",
     "output_type": "stream",
     "text": [
      "WARNING: all-qubit error already exists for instruction \"measure\", composing with additional error.\n",
      "WARNING: all-qubit error already exists for instruction \"cx\", composing with additional error.\n",
      "WARNING: all-qubit error already exists for instruction \"measure\", composing with additional error.\n",
      "WARNING: all-qubit error already exists for instruction \"cx\", composing with additional error.\n",
      "WARNING: all-qubit error already exists for instruction \"measure\", composing with additional error.\n",
      "WARNING: all-qubit error already exists for instruction \"cx\", composing with additional error.\n",
      "WARNING: all-qubit error already exists for instruction \"measure\", composing with additional error.\n",
      "WARNING: all-qubit error already exists for instruction \"cx\", composing with additional error.\n",
      "WARNING: all-qubit error already exists for instruction \"measure\", composing with additional error.\n",
      "WARNING: all-qubit error already exists for instruction \"cx\", composing with additional error.\n",
      "WARNING: all-qubit error already exists for instruction \"measure\", composing with additional error.\n",
      "WARNING: all-qubit error already exists for instruction \"cx\", composing with additional error.\n",
      "WARNING: all-qubit error already exists for instruction \"measure\", composing with additional error.\n",
      "WARNING: all-qubit error already exists for instruction \"cx\", composing with additional error.\n",
      "WARNING: all-qubit error already exists for instruction \"measure\", composing with additional error.\n",
      "WARNING: all-qubit error already exists for instruction \"cx\", composing with additional error.\n",
      "WARNING: all-qubit error already exists for instruction \"measure\", composing with additional error.\n",
      "WARNING: all-qubit error already exists for instruction \"cx\", composing with additional error.\n"
     ]
    },
    {
     "name": "stdout",
     "output_type": "stream",
     "text": [
      "10 7 10 854.2 1270.0  :  -0.01 0.8 0.4\n",
      "Time required: 0:24:15.932156\n",
      "0.9845 0.5818 0.03371 bcs\n"
     ]
    },
    {
     "name": "stderr",
     "output_type": "stream",
     "text": [
      "WARNING: all-qubit error already exists for instruction \"measure\", composing with additional error.\n",
      "WARNING: all-qubit error already exists for instruction \"cx\", composing with additional error.\n",
      "WARNING: all-qubit error already exists for instruction \"measure\", composing with additional error.\n",
      "WARNING: all-qubit error already exists for instruction \"cx\", composing with additional error.\n"
     ]
    },
    {
     "name": "stdout",
     "output_type": "stream",
     "text": [
      "0.9893 0.4626 0.03876 bcd\n",
      "\n",
      " 11 qubits\n"
     ]
    },
    {
     "name": "stderr",
     "output_type": "stream",
     "text": [
      "WARNING: all-qubit error already exists for instruction \"measure\", composing with additional error.\n",
      "WARNING: all-qubit error already exists for instruction \"cx\", composing with additional error.\n",
      "WARNING: all-qubit error already exists for instruction \"measure\", composing with additional error.\n",
      "WARNING: all-qubit error already exists for instruction \"cx\", composing with additional error.\n",
      "WARNING: all-qubit error already exists for instruction \"measure\", composing with additional error.\n",
      "WARNING: all-qubit error already exists for instruction \"cx\", composing with additional error.\n",
      "WARNING: all-qubit error already exists for instruction \"measure\", composing with additional error.\n",
      "WARNING: all-qubit error already exists for instruction \"cx\", composing with additional error.\n",
      "WARNING: all-qubit error already exists for instruction \"measure\", composing with additional error.\n",
      "WARNING: all-qubit error already exists for instruction \"cx\", composing with additional error.\n",
      "WARNING: all-qubit error already exists for instruction \"measure\", composing with additional error.\n",
      "WARNING: all-qubit error already exists for instruction \"cx\", composing with additional error.\n",
      "WARNING: all-qubit error already exists for instruction \"measure\", composing with additional error.\n",
      "WARNING: all-qubit error already exists for instruction \"cx\", composing with additional error.\n",
      "WARNING: all-qubit error already exists for instruction \"measure\", composing with additional error.\n",
      "WARNING: all-qubit error already exists for instruction \"cx\", composing with additional error.\n",
      "WARNING: all-qubit error already exists for instruction \"measure\", composing with additional error.\n",
      "WARNING: all-qubit error already exists for instruction \"cx\", composing with additional error.\n"
     ]
    },
    {
     "name": "stdout",
     "output_type": "stream",
     "text": [
      "11 0 10 1.0 1.0  :  0.979 1.0 0.0\n"
     ]
    },
    {
     "name": "stderr",
     "output_type": "stream",
     "text": [
      "WARNING: all-qubit error already exists for instruction \"measure\", composing with additional error.\n",
      "WARNING: all-qubit error already exists for instruction \"cx\", composing with additional error.\n",
      "WARNING: all-qubit error already exists for instruction \"measure\", composing with additional error.\n",
      "WARNING: all-qubit error already exists for instruction \"cx\", composing with additional error.\n",
      "WARNING: all-qubit error already exists for instruction \"measure\", composing with additional error.\n",
      "WARNING: all-qubit error already exists for instruction \"cx\", composing with additional error.\n",
      "WARNING: all-qubit error already exists for instruction \"measure\", composing with additional error.\n",
      "WARNING: all-qubit error already exists for instruction \"cx\", composing with additional error.\n",
      "WARNING: all-qubit error already exists for instruction \"measure\", composing with additional error.\n",
      "WARNING: all-qubit error already exists for instruction \"cx\", composing with additional error.\n",
      "WARNING: all-qubit error already exists for instruction \"measure\", composing with additional error.\n",
      "WARNING: all-qubit error already exists for instruction \"cx\", composing with additional error.\n",
      "WARNING: all-qubit error already exists for instruction \"measure\", composing with additional error.\n",
      "WARNING: all-qubit error already exists for instruction \"cx\", composing with additional error.\n",
      "WARNING: all-qubit error already exists for instruction \"measure\", composing with additional error.\n",
      "WARNING: all-qubit error already exists for instruction \"cx\", composing with additional error.\n",
      "WARNING: all-qubit error already exists for instruction \"measure\", composing with additional error.\n",
      "WARNING: all-qubit error already exists for instruction \"cx\", composing with additional error.\n",
      "WARNING: all-qubit error already exists for instruction \"measure\", composing with additional error.\n",
      "WARNING: all-qubit error already exists for instruction \"cx\", composing with additional error.\n"
     ]
    },
    {
     "name": "stdout",
     "output_type": "stream",
     "text": [
      "11 1 10 100.1 138.8  :  0.352 0.8 0.4\n"
     ]
    },
    {
     "name": "stderr",
     "output_type": "stream",
     "text": [
      "WARNING: all-qubit error already exists for instruction \"measure\", composing with additional error.\n",
      "WARNING: all-qubit error already exists for instruction \"cx\", composing with additional error.\n",
      "WARNING: all-qubit error already exists for instruction \"measure\", composing with additional error.\n",
      "WARNING: all-qubit error already exists for instruction \"cx\", composing with additional error.\n",
      "WARNING: all-qubit error already exists for instruction \"measure\", composing with additional error.\n",
      "WARNING: all-qubit error already exists for instruction \"cx\", composing with additional error.\n",
      "WARNING: all-qubit error already exists for instruction \"measure\", composing with additional error.\n",
      "WARNING: all-qubit error already exists for instruction \"cx\", composing with additional error.\n",
      "WARNING: all-qubit error already exists for instruction \"measure\", composing with additional error.\n",
      "WARNING: all-qubit error already exists for instruction \"cx\", composing with additional error.\n",
      "WARNING: all-qubit error already exists for instruction \"measure\", composing with additional error.\n",
      "WARNING: all-qubit error already exists for instruction \"cx\", composing with additional error.\n",
      "WARNING: all-qubit error already exists for instruction \"measure\", composing with additional error.\n",
      "WARNING: all-qubit error already exists for instruction \"cx\", composing with additional error.\n",
      "WARNING: all-qubit error already exists for instruction \"measure\", composing with additional error.\n",
      "WARNING: all-qubit error already exists for instruction \"cx\", composing with additional error.\n",
      "WARNING: all-qubit error already exists for instruction \"measure\", composing with additional error.\n",
      "WARNING: all-qubit error already exists for instruction \"cx\", composing with additional error.\n",
      "WARNING: all-qubit error already exists for instruction \"measure\", composing with additional error.\n",
      "WARNING: all-qubit error already exists for instruction \"cx\", composing with additional error.\n"
     ]
    },
    {
     "name": "stdout",
     "output_type": "stream",
     "text": [
      "11 2 10 274.0 402.7  :  0.151 0.9 0.3\n"
     ]
    },
    {
     "name": "stderr",
     "output_type": "stream",
     "text": [
      "WARNING: all-qubit error already exists for instruction \"measure\", composing with additional error.\n",
      "WARNING: all-qubit error already exists for instruction \"cx\", composing with additional error.\n",
      "WARNING: all-qubit error already exists for instruction \"measure\", composing with additional error.\n",
      "WARNING: all-qubit error already exists for instruction \"cx\", composing with additional error.\n",
      "WARNING: all-qubit error already exists for instruction \"measure\", composing with additional error.\n",
      "WARNING: all-qubit error already exists for instruction \"cx\", composing with additional error.\n",
      "WARNING: all-qubit error already exists for instruction \"measure\", composing with additional error.\n",
      "WARNING: all-qubit error already exists for instruction \"cx\", composing with additional error.\n",
      "WARNING: all-qubit error already exists for instruction \"measure\", composing with additional error.\n",
      "WARNING: all-qubit error already exists for instruction \"cx\", composing with additional error.\n",
      "WARNING: all-qubit error already exists for instruction \"measure\", composing with additional error.\n",
      "WARNING: all-qubit error already exists for instruction \"cx\", composing with additional error.\n",
      "WARNING: all-qubit error already exists for instruction \"measure\", composing with additional error.\n",
      "WARNING: all-qubit error already exists for instruction \"cx\", composing with additional error.\n",
      "WARNING: all-qubit error already exists for instruction \"measure\", composing with additional error.\n",
      "WARNING: all-qubit error already exists for instruction \"cx\", composing with additional error.\n",
      "WARNING: all-qubit error already exists for instruction \"measure\", composing with additional error.\n",
      "WARNING: all-qubit error already exists for instruction \"cx\", composing with additional error.\n",
      "WARNING: all-qubit error already exists for instruction \"measure\", composing with additional error.\n",
      "WARNING: all-qubit error already exists for instruction \"cx\", composing with additional error.\n"
     ]
    },
    {
     "name": "stdout",
     "output_type": "stream",
     "text": [
      "11 3 10 446.9 641.3  :  0.065 0.9 0.3\n"
     ]
    },
    {
     "name": "stderr",
     "output_type": "stream",
     "text": [
      "WARNING: all-qubit error already exists for instruction \"measure\", composing with additional error.\n",
      "WARNING: all-qubit error already exists for instruction \"cx\", composing with additional error.\n",
      "WARNING: all-qubit error already exists for instruction \"measure\", composing with additional error.\n",
      "WARNING: all-qubit error already exists for instruction \"cx\", composing with additional error.\n",
      "WARNING: all-qubit error already exists for instruction \"measure\", composing with additional error.\n",
      "WARNING: all-qubit error already exists for instruction \"cx\", composing with additional error.\n",
      "WARNING: all-qubit error already exists for instruction \"measure\", composing with additional error.\n",
      "WARNING: all-qubit error already exists for instruction \"cx\", composing with additional error.\n",
      "WARNING: all-qubit error already exists for instruction \"measure\", composing with additional error.\n",
      "WARNING: all-qubit error already exists for instruction \"cx\", composing with additional error.\n",
      "WARNING: all-qubit error already exists for instruction \"measure\", composing with additional error.\n",
      "WARNING: all-qubit error already exists for instruction \"cx\", composing with additional error.\n",
      "WARNING: all-qubit error already exists for instruction \"measure\", composing with additional error.\n",
      "WARNING: all-qubit error already exists for instruction \"cx\", composing with additional error.\n",
      "WARNING: all-qubit error already exists for instruction \"measure\", composing with additional error.\n",
      "WARNING: all-qubit error already exists for instruction \"cx\", composing with additional error.\n",
      "WARNING: all-qubit error already exists for instruction \"measure\", composing with additional error.\n",
      "WARNING: all-qubit error already exists for instruction \"cx\", composing with additional error.\n"
     ]
    },
    {
     "name": "stdout",
     "output_type": "stream",
     "text": [
      "11 4 10 609.3 901.6  :  0.003 0.6 0.49\n"
     ]
    },
    {
     "name": "stderr",
     "output_type": "stream",
     "text": [
      "WARNING: all-qubit error already exists for instruction \"measure\", composing with additional error.\n",
      "WARNING: all-qubit error already exists for instruction \"cx\", composing with additional error.\n",
      "WARNING: all-qubit error already exists for instruction \"measure\", composing with additional error.\n",
      "WARNING: all-qubit error already exists for instruction \"cx\", composing with additional error.\n",
      "WARNING: all-qubit error already exists for instruction \"measure\", composing with additional error.\n",
      "WARNING: all-qubit error already exists for instruction \"cx\", composing with additional error.\n",
      "WARNING: all-qubit error already exists for instruction \"measure\", composing with additional error.\n",
      "WARNING: all-qubit error already exists for instruction \"cx\", composing with additional error.\n",
      "WARNING: all-qubit error already exists for instruction \"measure\", composing with additional error.\n",
      "WARNING: all-qubit error already exists for instruction \"cx\", composing with additional error.\n",
      "WARNING: all-qubit error already exists for instruction \"measure\", composing with additional error.\n",
      "WARNING: all-qubit error already exists for instruction \"cx\", composing with additional error.\n",
      "WARNING: all-qubit error already exists for instruction \"measure\", composing with additional error.\n",
      "WARNING: all-qubit error already exists for instruction \"cx\", composing with additional error.\n",
      "WARNING: all-qubit error already exists for instruction \"measure\", composing with additional error.\n",
      "WARNING: all-qubit error already exists for instruction \"cx\", composing with additional error.\n",
      "WARNING: all-qubit error already exists for instruction \"measure\", composing with additional error.\n",
      "WARNING: all-qubit error already exists for instruction \"cx\", composing with additional error.\n",
      "WARNING: all-qubit error already exists for instruction \"measure\", composing with additional error.\n",
      "WARNING: all-qubit error already exists for instruction \"cx\", composing with additional error.\n",
      "WARNING: all-qubit error already exists for instruction \"measure\", composing with additional error.\n",
      "WARNING: all-qubit error already exists for instruction \"cx\", composing with additional error.\n"
     ]
    },
    {
     "name": "stdout",
     "output_type": "stream",
     "text": [
      "11 5 10 830.8 1197.8  :  -0.023 0.8 0.4\n"
     ]
    },
    {
     "name": "stderr",
     "output_type": "stream",
     "text": [
      "WARNING: all-qubit error already exists for instruction \"measure\", composing with additional error.\n",
      "WARNING: all-qubit error already exists for instruction \"cx\", composing with additional error.\n",
      "WARNING: all-qubit error already exists for instruction \"measure\", composing with additional error.\n",
      "WARNING: all-qubit error already exists for instruction \"cx\", composing with additional error.\n",
      "WARNING: all-qubit error already exists for instruction \"measure\", composing with additional error.\n",
      "WARNING: all-qubit error already exists for instruction \"cx\", composing with additional error.\n",
      "WARNING: all-qubit error already exists for instruction \"measure\", composing with additional error.\n",
      "WARNING: all-qubit error already exists for instruction \"cx\", composing with additional error.\n",
      "WARNING: all-qubit error already exists for instruction \"measure\", composing with additional error.\n",
      "WARNING: all-qubit error already exists for instruction \"cx\", composing with additional error.\n",
      "WARNING: all-qubit error already exists for instruction \"measure\", composing with additional error.\n",
      "WARNING: all-qubit error already exists for instruction \"cx\", composing with additional error.\n",
      "WARNING: all-qubit error already exists for instruction \"measure\", composing with additional error.\n",
      "WARNING: all-qubit error already exists for instruction \"cx\", composing with additional error.\n",
      "WARNING: all-qubit error already exists for instruction \"measure\", composing with additional error.\n",
      "WARNING: all-qubit error already exists for instruction \"cx\", composing with additional error.\n",
      "WARNING: all-qubit error already exists for instruction \"measure\", composing with additional error.\n",
      "WARNING: all-qubit error already exists for instruction \"cx\", composing with additional error.\n",
      "WARNING: all-qubit error already exists for instruction \"measure\", composing with additional error.\n",
      "WARNING: all-qubit error already exists for instruction \"cx\", composing with additional error.\n"
     ]
    },
    {
     "name": "stdout",
     "output_type": "stream",
     "text": [
      "11 6 10 917.8 1356.7  :  0.099 0.8 0.4\n"
     ]
    },
    {
     "name": "stderr",
     "output_type": "stream",
     "text": [
      "WARNING: all-qubit error already exists for instruction \"measure\", composing with additional error.\n",
      "WARNING: all-qubit error already exists for instruction \"cx\", composing with additional error.\n",
      "WARNING: all-qubit error already exists for instruction \"measure\", composing with additional error.\n",
      "WARNING: all-qubit error already exists for instruction \"cx\", composing with additional error.\n",
      "WARNING: all-qubit error already exists for instruction \"measure\", composing with additional error.\n",
      "WARNING: all-qubit error already exists for instruction \"cx\", composing with additional error.\n",
      "WARNING: all-qubit error already exists for instruction \"measure\", composing with additional error.\n",
      "WARNING: all-qubit error already exists for instruction \"cx\", composing with additional error.\n",
      "WARNING: all-qubit error already exists for instruction \"measure\", composing with additional error.\n",
      "WARNING: all-qubit error already exists for instruction \"cx\", composing with additional error.\n",
      "WARNING: all-qubit error already exists for instruction \"measure\", composing with additional error.\n",
      "WARNING: all-qubit error already exists for instruction \"cx\", composing with additional error.\n",
      "WARNING: all-qubit error already exists for instruction \"measure\", composing with additional error.\n",
      "WARNING: all-qubit error already exists for instruction \"cx\", composing with additional error.\n",
      "WARNING: all-qubit error already exists for instruction \"measure\", composing with additional error.\n",
      "WARNING: all-qubit error already exists for instruction \"cx\", composing with additional error.\n",
      "WARNING: all-qubit error already exists for instruction \"measure\", composing with additional error.\n",
      "WARNING: all-qubit error already exists for instruction \"cx\", composing with additional error.\n"
     ]
    },
    {
     "name": "stdout",
     "output_type": "stream",
     "text": [
      "11 7 10 1212.8 1782.9  :  -0.022 0.8 0.4\n",
      "Time required: 0:43:05.811520\n"
     ]
    },
    {
     "name": "stderr",
     "output_type": "stream",
     "text": [
      "WARNING: all-qubit error already exists for instruction \"measure\", composing with additional error.\n",
      "WARNING: all-qubit error already exists for instruction \"cx\", composing with additional error.\n",
      "WARNING: all-qubit error already exists for instruction \"measure\", composing with additional error.\n",
      "WARNING: all-qubit error already exists for instruction \"cx\", composing with additional error.\n"
     ]
    },
    {
     "name": "stdout",
     "output_type": "stream",
     "text": [
      "0.9709 0.5307 0.21487 bcs\n",
      "0.9745 0.4114 0.19672 bcd\n",
      "\n",
      " 12 qubits\n"
     ]
    },
    {
     "name": "stderr",
     "output_type": "stream",
     "text": [
      "WARNING: all-qubit error already exists for instruction \"measure\", composing with additional error.\n",
      "WARNING: all-qubit error already exists for instruction \"cx\", composing with additional error.\n",
      "WARNING: all-qubit error already exists for instruction \"measure\", composing with additional error.\n",
      "WARNING: all-qubit error already exists for instruction \"cx\", composing with additional error.\n",
      "WARNING: all-qubit error already exists for instruction \"measure\", composing with additional error.\n",
      "WARNING: all-qubit error already exists for instruction \"cx\", composing with additional error.\n",
      "WARNING: all-qubit error already exists for instruction \"measure\", composing with additional error.\n",
      "WARNING: all-qubit error already exists for instruction \"cx\", composing with additional error.\n",
      "WARNING: all-qubit error already exists for instruction \"measure\", composing with additional error.\n",
      "WARNING: all-qubit error already exists for instruction \"cx\", composing with additional error.\n",
      "WARNING: all-qubit error already exists for instruction \"measure\", composing with additional error.\n",
      "WARNING: all-qubit error already exists for instruction \"cx\", composing with additional error.\n",
      "WARNING: all-qubit error already exists for instruction \"measure\", composing with additional error.\n",
      "WARNING: all-qubit error already exists for instruction \"cx\", composing with additional error.\n",
      "WARNING: all-qubit error already exists for instruction \"measure\", composing with additional error.\n",
      "WARNING: all-qubit error already exists for instruction \"cx\", composing with additional error.\n",
      "WARNING: all-qubit error already exists for instruction \"measure\", composing with additional error.\n",
      "WARNING: all-qubit error already exists for instruction \"cx\", composing with additional error.\n"
     ]
    },
    {
     "name": "stdout",
     "output_type": "stream",
     "text": [
      "12 0 10 1.0 1.0  :  0.98 1.0 0.0\n"
     ]
    },
    {
     "name": "stderr",
     "output_type": "stream",
     "text": [
      "WARNING: all-qubit error already exists for instruction \"measure\", composing with additional error.\n",
      "WARNING: all-qubit error already exists for instruction \"cx\", composing with additional error.\n",
      "WARNING: all-qubit error already exists for instruction \"measure\", composing with additional error.\n",
      "WARNING: all-qubit error already exists for instruction \"cx\", composing with additional error.\n",
      "WARNING: all-qubit error already exists for instruction \"measure\", composing with additional error.\n",
      "WARNING: all-qubit error already exists for instruction \"cx\", composing with additional error.\n",
      "WARNING: all-qubit error already exists for instruction \"measure\", composing with additional error.\n",
      "WARNING: all-qubit error already exists for instruction \"cx\", composing with additional error.\n",
      "WARNING: all-qubit error already exists for instruction \"measure\", composing with additional error.\n",
      "WARNING: all-qubit error already exists for instruction \"cx\", composing with additional error.\n",
      "WARNING: all-qubit error already exists for instruction \"measure\", composing with additional error.\n",
      "WARNING: all-qubit error already exists for instruction \"cx\", composing with additional error.\n",
      "WARNING: all-qubit error already exists for instruction \"measure\", composing with additional error.\n",
      "WARNING: all-qubit error already exists for instruction \"cx\", composing with additional error.\n",
      "WARNING: all-qubit error already exists for instruction \"measure\", composing with additional error.\n",
      "WARNING: all-qubit error already exists for instruction \"cx\", composing with additional error.\n",
      "WARNING: all-qubit error already exists for instruction \"measure\", composing with additional error.\n",
      "WARNING: all-qubit error already exists for instruction \"cx\", composing with additional error.\n",
      "WARNING: all-qubit error already exists for instruction \"measure\", composing with additional error.\n",
      "WARNING: all-qubit error already exists for instruction \"cx\", composing with additional error.\n"
     ]
    },
    {
     "name": "stdout",
     "output_type": "stream",
     "text": [
      "12 1 10 206.1 284.4  :  0.319 0.6 0.49\n"
     ]
    },
    {
     "name": "stderr",
     "output_type": "stream",
     "text": [
      "WARNING: all-qubit error already exists for instruction \"measure\", composing with additional error.\n",
      "WARNING: all-qubit error already exists for instruction \"cx\", composing with additional error.\n",
      "WARNING: all-qubit error already exists for instruction \"measure\", composing with additional error.\n",
      "WARNING: all-qubit error already exists for instruction \"cx\", composing with additional error.\n",
      "WARNING: all-qubit error already exists for instruction \"measure\", composing with additional error.\n",
      "WARNING: all-qubit error already exists for instruction \"cx\", composing with additional error.\n",
      "WARNING: all-qubit error already exists for instruction \"measure\", composing with additional error.\n",
      "WARNING: all-qubit error already exists for instruction \"cx\", composing with additional error.\n",
      "WARNING: all-qubit error already exists for instruction \"measure\", composing with additional error.\n",
      "WARNING: all-qubit error already exists for instruction \"cx\", composing with additional error.\n",
      "WARNING: all-qubit error already exists for instruction \"measure\", composing with additional error.\n",
      "WARNING: all-qubit error already exists for instruction \"cx\", composing with additional error.\n",
      "WARNING: all-qubit error already exists for instruction \"measure\", composing with additional error.\n",
      "WARNING: all-qubit error already exists for instruction \"cx\", composing with additional error.\n",
      "WARNING: all-qubit error already exists for instruction \"measure\", composing with additional error.\n",
      "WARNING: all-qubit error already exists for instruction \"cx\", composing with additional error.\n",
      "WARNING: all-qubit error already exists for instruction \"measure\", composing with additional error.\n",
      "WARNING: all-qubit error already exists for instruction \"cx\", composing with additional error.\n",
      "WARNING: all-qubit error already exists for instruction \"measure\", composing with additional error.\n",
      "WARNING: all-qubit error already exists for instruction \"cx\", composing with additional error.\n"
     ]
    },
    {
     "name": "stdout",
     "output_type": "stream",
     "text": [
      "12 2 10 262.4 394.7  :  0.095 0.9 0.3\n"
     ]
    },
    {
     "name": "stderr",
     "output_type": "stream",
     "text": [
      "WARNING: all-qubit error already exists for instruction \"measure\", composing with additional error.\n",
      "WARNING: all-qubit error already exists for instruction \"cx\", composing with additional error.\n",
      "WARNING: all-qubit error already exists for instruction \"measure\", composing with additional error.\n",
      "WARNING: all-qubit error already exists for instruction \"cx\", composing with additional error.\n",
      "WARNING: all-qubit error already exists for instruction \"measure\", composing with additional error.\n",
      "WARNING: all-qubit error already exists for instruction \"cx\", composing with additional error.\n",
      "WARNING: all-qubit error already exists for instruction \"measure\", composing with additional error.\n",
      "WARNING: all-qubit error already exists for instruction \"cx\", composing with additional error.\n",
      "WARNING: all-qubit error already exists for instruction \"measure\", composing with additional error.\n",
      "WARNING: all-qubit error already exists for instruction \"cx\", composing with additional error.\n",
      "WARNING: all-qubit error already exists for instruction \"measure\", composing with additional error.\n",
      "WARNING: all-qubit error already exists for instruction \"cx\", composing with additional error.\n",
      "WARNING: all-qubit error already exists for instruction \"measure\", composing with additional error.\n",
      "WARNING: all-qubit error already exists for instruction \"cx\", composing with additional error.\n",
      "WARNING: all-qubit error already exists for instruction \"measure\", composing with additional error.\n",
      "WARNING: all-qubit error already exists for instruction \"cx\", composing with additional error.\n",
      "WARNING: all-qubit error already exists for instruction \"measure\", composing with additional error.\n",
      "WARNING: all-qubit error already exists for instruction \"cx\", composing with additional error.\n",
      "WARNING: all-qubit error already exists for instruction \"measure\", composing with additional error.\n",
      "WARNING: all-qubit error already exists for instruction \"cx\", composing with additional error.\n"
     ]
    },
    {
     "name": "stdout",
     "output_type": "stream",
     "text": [
      "12 3 10 507.1 744.2  :  0.019 0.8 0.4\n"
     ]
    },
    {
     "name": "stderr",
     "output_type": "stream",
     "text": [
      "WARNING: all-qubit error already exists for instruction \"measure\", composing with additional error.\n",
      "WARNING: all-qubit error already exists for instruction \"cx\", composing with additional error.\n",
      "WARNING: all-qubit error already exists for instruction \"measure\", composing with additional error.\n",
      "WARNING: all-qubit error already exists for instruction \"cx\", composing with additional error.\n",
      "WARNING: all-qubit error already exists for instruction \"measure\", composing with additional error.\n",
      "WARNING: all-qubit error already exists for instruction \"cx\", composing with additional error.\n",
      "WARNING: all-qubit error already exists for instruction \"measure\", composing with additional error.\n",
      "WARNING: all-qubit error already exists for instruction \"cx\", composing with additional error.\n",
      "WARNING: all-qubit error already exists for instruction \"measure\", composing with additional error.\n",
      "WARNING: all-qubit error already exists for instruction \"cx\", composing with additional error.\n",
      "WARNING: all-qubit error already exists for instruction \"measure\", composing with additional error.\n",
      "WARNING: all-qubit error already exists for instruction \"cx\", composing with additional error.\n",
      "WARNING: all-qubit error already exists for instruction \"measure\", composing with additional error.\n",
      "WARNING: all-qubit error already exists for instruction \"cx\", composing with additional error.\n",
      "WARNING: all-qubit error already exists for instruction \"measure\", composing with additional error.\n",
      "WARNING: all-qubit error already exists for instruction \"cx\", composing with additional error.\n",
      "WARNING: all-qubit error already exists for instruction \"measure\", composing with additional error.\n",
      "WARNING: all-qubit error already exists for instruction \"cx\", composing with additional error.\n",
      "WARNING: all-qubit error already exists for instruction \"measure\", composing with additional error.\n",
      "WARNING: all-qubit error already exists for instruction \"cx\", composing with additional error.\n"
     ]
    },
    {
     "name": "stdout",
     "output_type": "stream",
     "text": [
      "12 4 10 814.7 1180.0  :  0.044 0.9 0.3\n"
     ]
    },
    {
     "name": "stderr",
     "output_type": "stream",
     "text": [
      "WARNING: all-qubit error already exists for instruction \"measure\", composing with additional error.\n",
      "WARNING: all-qubit error already exists for instruction \"cx\", composing with additional error.\n",
      "WARNING: all-qubit error already exists for instruction \"measure\", composing with additional error.\n",
      "WARNING: all-qubit error already exists for instruction \"cx\", composing with additional error.\n",
      "WARNING: all-qubit error already exists for instruction \"measure\", composing with additional error.\n",
      "WARNING: all-qubit error already exists for instruction \"cx\", composing with additional error.\n",
      "WARNING: all-qubit error already exists for instruction \"measure\", composing with additional error.\n",
      "WARNING: all-qubit error already exists for instruction \"cx\", composing with additional error.\n",
      "WARNING: all-qubit error already exists for instruction \"measure\", composing with additional error.\n",
      "WARNING: all-qubit error already exists for instruction \"cx\", composing with additional error.\n",
      "WARNING: all-qubit error already exists for instruction \"measure\", composing with additional error.\n",
      "WARNING: all-qubit error already exists for instruction \"cx\", composing with additional error.\n",
      "WARNING: all-qubit error already exists for instruction \"measure\", composing with additional error.\n",
      "WARNING: all-qubit error already exists for instruction \"cx\", composing with additional error.\n",
      "WARNING: all-qubit error already exists for instruction \"measure\", composing with additional error.\n",
      "WARNING: all-qubit error already exists for instruction \"cx\", composing with additional error.\n",
      "WARNING: all-qubit error already exists for instruction \"measure\", composing with additional error.\n",
      "WARNING: all-qubit error already exists for instruction \"cx\", composing with additional error.\n",
      "WARNING: all-qubit error already exists for instruction \"measure\", composing with additional error.\n",
      "WARNING: all-qubit error already exists for instruction \"cx\", composing with additional error.\n"
     ]
    },
    {
     "name": "stdout",
     "output_type": "stream",
     "text": [
      "12 5 10 911.6 1360.7  :  0.014 0.9 0.3\n"
     ]
    },
    {
     "name": "stderr",
     "output_type": "stream",
     "text": [
      "WARNING: all-qubit error already exists for instruction \"measure\", composing with additional error.\n",
      "WARNING: all-qubit error already exists for instruction \"cx\", composing with additional error.\n",
      "WARNING: all-qubit error already exists for instruction \"measure\", composing with additional error.\n",
      "WARNING: all-qubit error already exists for instruction \"cx\", composing with additional error.\n",
      "WARNING: all-qubit error already exists for instruction \"measure\", composing with additional error.\n",
      "WARNING: all-qubit error already exists for instruction \"cx\", composing with additional error.\n",
      "WARNING: all-qubit error already exists for instruction \"measure\", composing with additional error.\n",
      "WARNING: all-qubit error already exists for instruction \"cx\", composing with additional error.\n",
      "WARNING: all-qubit error already exists for instruction \"measure\", composing with additional error.\n",
      "WARNING: all-qubit error already exists for instruction \"cx\", composing with additional error.\n",
      "WARNING: all-qubit error already exists for instruction \"measure\", composing with additional error.\n",
      "WARNING: all-qubit error already exists for instruction \"cx\", composing with additional error.\n",
      "WARNING: all-qubit error already exists for instruction \"measure\", composing with additional error.\n",
      "WARNING: all-qubit error already exists for instruction \"cx\", composing with additional error.\n",
      "WARNING: all-qubit error already exists for instruction \"measure\", composing with additional error.\n",
      "WARNING: all-qubit error already exists for instruction \"cx\", composing with additional error.\n",
      "WARNING: all-qubit error already exists for instruction \"measure\", composing with additional error.\n",
      "WARNING: all-qubit error already exists for instruction \"cx\", composing with additional error.\n",
      "WARNING: all-qubit error already exists for instruction \"measure\", composing with additional error.\n",
      "WARNING: all-qubit error already exists for instruction \"cx\", composing with additional error.\n"
     ]
    },
    {
     "name": "stdout",
     "output_type": "stream",
     "text": [
      "12 6 10 1138.7 1664.3  :  -0.003 0.6 0.49\n"
     ]
    },
    {
     "name": "stderr",
     "output_type": "stream",
     "text": [
      "WARNING: all-qubit error already exists for instruction \"measure\", composing with additional error.\n",
      "WARNING: all-qubit error already exists for instruction \"cx\", composing with additional error.\n",
      "WARNING: all-qubit error already exists for instruction \"measure\", composing with additional error.\n",
      "WARNING: all-qubit error already exists for instruction \"cx\", composing with additional error.\n",
      "WARNING: all-qubit error already exists for instruction \"measure\", composing with additional error.\n",
      "WARNING: all-qubit error already exists for instruction \"cx\", composing with additional error.\n",
      "WARNING: all-qubit error already exists for instruction \"measure\", composing with additional error.\n",
      "WARNING: all-qubit error already exists for instruction \"cx\", composing with additional error.\n",
      "WARNING: all-qubit error already exists for instruction \"measure\", composing with additional error.\n",
      "WARNING: all-qubit error already exists for instruction \"cx\", composing with additional error.\n",
      "WARNING: all-qubit error already exists for instruction \"measure\", composing with additional error.\n",
      "WARNING: all-qubit error already exists for instruction \"cx\", composing with additional error.\n",
      "WARNING: all-qubit error already exists for instruction \"measure\", composing with additional error.\n",
      "WARNING: all-qubit error already exists for instruction \"cx\", composing with additional error.\n",
      "WARNING: all-qubit error already exists for instruction \"measure\", composing with additional error.\n",
      "WARNING: all-qubit error already exists for instruction \"cx\", composing with additional error.\n",
      "WARNING: all-qubit error already exists for instruction \"measure\", composing with additional error.\n",
      "WARNING: all-qubit error already exists for instruction \"cx\", composing with additional error.\n"
     ]
    },
    {
     "name": "stdout",
     "output_type": "stream",
     "text": [
      "12 7 10 1136.9 1735.1  :  -0.095 0.885 0.298\n",
      "Time required: 2:18:28.186953\n",
      "0.9889 0.6291 0.17915 bcs\n"
     ]
    },
    {
     "name": "stderr",
     "output_type": "stream",
     "text": [
      "WARNING: all-qubit error already exists for instruction \"measure\", composing with additional error.\n",
      "WARNING: all-qubit error already exists for instruction \"cx\", composing with additional error.\n"
     ]
    },
    {
     "name": "stdout",
     "output_type": "stream",
     "text": [
      "0.9907 0.5125 0.21588 bcd\n",
      "\n",
      " 13 qubits\n"
     ]
    },
    {
     "name": "stderr",
     "output_type": "stream",
     "text": [
      "WARNING: all-qubit error already exists for instruction \"measure\", composing with additional error.\n",
      "WARNING: all-qubit error already exists for instruction \"cx\", composing with additional error.\n",
      "WARNING: all-qubit error already exists for instruction \"measure\", composing with additional error.\n",
      "WARNING: all-qubit error already exists for instruction \"cx\", composing with additional error.\n",
      "WARNING: all-qubit error already exists for instruction \"measure\", composing with additional error.\n",
      "WARNING: all-qubit error already exists for instruction \"cx\", composing with additional error.\n",
      "WARNING: all-qubit error already exists for instruction \"measure\", composing with additional error.\n",
      "WARNING: all-qubit error already exists for instruction \"cx\", composing with additional error.\n",
      "WARNING: all-qubit error already exists for instruction \"measure\", composing with additional error.\n",
      "WARNING: all-qubit error already exists for instruction \"cx\", composing with additional error.\n",
      "WARNING: all-qubit error already exists for instruction \"measure\", composing with additional error.\n",
      "WARNING: all-qubit error already exists for instruction \"cx\", composing with additional error.\n",
      "WARNING: all-qubit error already exists for instruction \"measure\", composing with additional error.\n",
      "WARNING: all-qubit error already exists for instruction \"cx\", composing with additional error.\n",
      "WARNING: all-qubit error already exists for instruction \"measure\", composing with additional error.\n",
      "WARNING: all-qubit error already exists for instruction \"cx\", composing with additional error.\n",
      "WARNING: all-qubit error already exists for instruction \"measure\", composing with additional error.\n",
      "WARNING: all-qubit error already exists for instruction \"cx\", composing with additional error.\n",
      "WARNING: all-qubit error already exists for instruction \"measure\", composing with additional error.\n",
      "WARNING: all-qubit error already exists for instruction \"cx\", composing with additional error.\n"
     ]
    },
    {
     "name": "stdout",
     "output_type": "stream",
     "text": [
      "13 0 10 1.0 1.0  :  0.98 1.0 0.0\n"
     ]
    },
    {
     "name": "stderr",
     "output_type": "stream",
     "text": [
      "WARNING: all-qubit error already exists for instruction \"measure\", composing with additional error.\n",
      "WARNING: all-qubit error already exists for instruction \"cx\", composing with additional error.\n",
      "WARNING: all-qubit error already exists for instruction \"measure\", composing with additional error.\n",
      "WARNING: all-qubit error already exists for instruction \"cx\", composing with additional error.\n",
      "WARNING: all-qubit error already exists for instruction \"measure\", composing with additional error.\n",
      "WARNING: all-qubit error already exists for instruction \"cx\", composing with additional error.\n",
      "WARNING: all-qubit error already exists for instruction \"measure\", composing with additional error.\n",
      "WARNING: all-qubit error already exists for instruction \"cx\", composing with additional error.\n",
      "WARNING: all-qubit error already exists for instruction \"measure\", composing with additional error.\n",
      "WARNING: all-qubit error already exists for instruction \"cx\", composing with additional error.\n",
      "WARNING: all-qubit error already exists for instruction \"measure\", composing with additional error.\n",
      "WARNING: all-qubit error already exists for instruction \"cx\", composing with additional error.\n",
      "WARNING: all-qubit error already exists for instruction \"measure\", composing with additional error.\n",
      "WARNING: all-qubit error already exists for instruction \"cx\", composing with additional error.\n",
      "WARNING: all-qubit error already exists for instruction \"measure\", composing with additional error.\n",
      "WARNING: all-qubit error already exists for instruction \"cx\", composing with additional error.\n",
      "WARNING: all-qubit error already exists for instruction \"measure\", composing with additional error.\n",
      "WARNING: all-qubit error already exists for instruction \"cx\", composing with additional error.\n",
      "WARNING: all-qubit error already exists for instruction \"measure\", composing with additional error.\n",
      "WARNING: all-qubit error already exists for instruction \"cx\", composing with additional error.\n"
     ]
    },
    {
     "name": "stdout",
     "output_type": "stream",
     "text": [
      "13 1 10 209.7 290.1  :  -0.001 0.978 0.066\n"
     ]
    },
    {
     "name": "stderr",
     "output_type": "stream",
     "text": [
      "WARNING: all-qubit error already exists for instruction \"measure\", composing with additional error.\n",
      "WARNING: all-qubit error already exists for instruction \"cx\", composing with additional error.\n",
      "WARNING: all-qubit error already exists for instruction \"measure\", composing with additional error.\n",
      "WARNING: all-qubit error already exists for instruction \"cx\", composing with additional error.\n",
      "WARNING: all-qubit error already exists for instruction \"measure\", composing with additional error.\n",
      "WARNING: all-qubit error already exists for instruction \"cx\", composing with additional error.\n",
      "WARNING: all-qubit error already exists for instruction \"measure\", composing with additional error.\n",
      "WARNING: all-qubit error already exists for instruction \"cx\", composing with additional error.\n",
      "WARNING: all-qubit error already exists for instruction \"measure\", composing with additional error.\n",
      "WARNING: all-qubit error already exists for instruction \"cx\", composing with additional error.\n",
      "WARNING: all-qubit error already exists for instruction \"measure\", composing with additional error.\n",
      "WARNING: all-qubit error already exists for instruction \"cx\", composing with additional error.\n",
      "WARNING: all-qubit error already exists for instruction \"measure\", composing with additional error.\n",
      "WARNING: all-qubit error already exists for instruction \"cx\", composing with additional error.\n",
      "WARNING: all-qubit error already exists for instruction \"measure\", composing with additional error.\n",
      "WARNING: all-qubit error already exists for instruction \"cx\", composing with additional error.\n",
      "WARNING: all-qubit error already exists for instruction \"measure\", composing with additional error.\n",
      "WARNING: all-qubit error already exists for instruction \"cx\", composing with additional error.\n",
      "WARNING: all-qubit error already exists for instruction \"measure\", composing with additional error.\n",
      "WARNING: all-qubit error already exists for instruction \"cx\", composing with additional error.\n"
     ]
    },
    {
     "name": "stdout",
     "output_type": "stream",
     "text": [
      "13 2 10 424.7 621.8  :  0.042 0.8 0.4\n"
     ]
    },
    {
     "name": "stderr",
     "output_type": "stream",
     "text": [
      "WARNING: all-qubit error already exists for instruction \"measure\", composing with additional error.\n",
      "WARNING: all-qubit error already exists for instruction \"cx\", composing with additional error.\n",
      "WARNING: all-qubit error already exists for instruction \"measure\", composing with additional error.\n",
      "WARNING: all-qubit error already exists for instruction \"cx\", composing with additional error.\n",
      "WARNING: all-qubit error already exists for instruction \"measure\", composing with additional error.\n",
      "WARNING: all-qubit error already exists for instruction \"cx\", composing with additional error.\n",
      "WARNING: all-qubit error already exists for instruction \"measure\", composing with additional error.\n",
      "WARNING: all-qubit error already exists for instruction \"cx\", composing with additional error.\n",
      "WARNING: all-qubit error already exists for instruction \"measure\", composing with additional error.\n",
      "WARNING: all-qubit error already exists for instruction \"cx\", composing with additional error.\n",
      "WARNING: all-qubit error already exists for instruction \"measure\", composing with additional error.\n",
      "WARNING: all-qubit error already exists for instruction \"cx\", composing with additional error.\n",
      "WARNING: all-qubit error already exists for instruction \"measure\", composing with additional error.\n",
      "WARNING: all-qubit error already exists for instruction \"cx\", composing with additional error.\n",
      "WARNING: all-qubit error already exists for instruction \"measure\", composing with additional error.\n",
      "WARNING: all-qubit error already exists for instruction \"cx\", composing with additional error.\n",
      "WARNING: all-qubit error already exists for instruction \"measure\", composing with additional error.\n",
      "WARNING: all-qubit error already exists for instruction \"cx\", composing with additional error.\n",
      "WARNING: all-qubit error already exists for instruction \"measure\", composing with additional error.\n",
      "WARNING: all-qubit error already exists for instruction \"cx\", composing with additional error.\n"
     ]
    },
    {
     "name": "stdout",
     "output_type": "stream",
     "text": [
      "13 3 10 646.0 980.4  :  0.042 1.0 0.0\n"
     ]
    },
    {
     "name": "stderr",
     "output_type": "stream",
     "text": [
      "WARNING: all-qubit error already exists for instruction \"measure\", composing with additional error.\n",
      "WARNING: all-qubit error already exists for instruction \"cx\", composing with additional error.\n",
      "WARNING: all-qubit error already exists for instruction \"measure\", composing with additional error.\n",
      "WARNING: all-qubit error already exists for instruction \"cx\", composing with additional error.\n",
      "WARNING: all-qubit error already exists for instruction \"measure\", composing with additional error.\n",
      "WARNING: all-qubit error already exists for instruction \"cx\", composing with additional error.\n"
     ]
    }
   ],
   "source": [
    "%%time\n",
    "n_tests = N_t\n",
    "for q in range(4,14):\n",
    "    print(\"\\n\", q, \"qubits\")\n",
    "    start = datetime.datetime.now()\n",
    "    R = []\n",
    "    A_lst = []\n",
    "    for t in range(0,8):\n",
    "        A_lst.append([])\n",
    "        a_avg = 0\n",
    "        R2_avg = 0\n",
    "        R2_std = 0\n",
    "        ads = 0\n",
    "        add = 0\n",
    "        ctr_tests = 0\n",
    "        for _ in range(n_tests):\n",
    "            circ = random_circ(q,t)\n",
    "            counts1 = clean_exc(circ)\n",
    "            counts2 = noisy_exc(circ, noise_thermal)\n",
    "            a,R2 = analyse_noise(counts1, counts2)\n",
    "            A_lst[t].append(a)\n",
    "            ctr_tests += 1\n",
    "            a_avg += a\n",
    "            R2_avg += R2\n",
    "            R2_std += (R2**2)\n",
    "            add += circ.depth()\n",
    "            ads += circ.size()\n",
    "        if(ctr_tests>0):\n",
    "            a_avg = a_avg/ctr_tests\n",
    "            R2_avg = R2_avg/ctr_tests\n",
    "            R2_std = R2_std/ctr_tests\n",
    "            add = add/ctr_tests\n",
    "            ads = ads/ctr_tests\n",
    "            R2_std -= R2_avg**2\n",
    "            if(R2_std>=0.0):\n",
    "                R2_std = np.sqrt(R2_std)\n",
    "            R.append([q, t, a_avg, R2_avg, R2_std, add, ads, ctr_tests].copy())\n",
    "            print(q, t, ctr_tests, round(add,2), round(ads,2), \" : \", round(a_avg,3), round(R2_avg,3), round(R2_std,3) )\n",
    "        else:\n",
    "            print(q, t, \"No usable circuits found.\" )\n",
    "    stop = datetime.datetime.now()\n",
    "    print(\"Time required:\", stop-start)\n",
    "    b_nm, cs_nm, SSE = optimize_noise_model_bcs(R)\n",
    "    print(round(b_nm,5), round(cs_nm,5), round(SSE,5), \"bcs\")\n",
    "    b_nm, cd_nm, SSE = optimize_noise_model_bcd(R)\n",
    "    print(round(b_nm,5), round(cd_nm,5), round(SSE,5), \"bcd\")\n",
    "            "
   ]
  },
  {
   "cell_type": "code",
   "execution_count": null,
   "metadata": {},
   "outputs": [
    {
     "name": "stderr",
     "output_type": "stream",
     "text": [
      "WARNING: all-qubit error already exists for instruction \"measure\", composing with additional error.\n",
      "WARNING: all-qubit error already exists for instruction \"cx\", composing with additional error.\n"
     ]
    },
    {
     "name": "stdout",
     "output_type": "stream",
     "text": [
      "\n",
      " 13 qubits\n"
     ]
    },
    {
     "name": "stderr",
     "output_type": "stream",
     "text": [
      "WARNING: all-qubit error already exists for instruction \"measure\", composing with additional error.\n",
      "WARNING: all-qubit error already exists for instruction \"cx\", composing with additional error.\n",
      "WARNING: all-qubit error already exists for instruction \"measure\", composing with additional error.\n",
      "WARNING: all-qubit error already exists for instruction \"cx\", composing with additional error.\n",
      "WARNING: all-qubit error already exists for instruction \"measure\", composing with additional error.\n",
      "WARNING: all-qubit error already exists for instruction \"cx\", composing with additional error.\n",
      "WARNING: all-qubit error already exists for instruction \"measure\", composing with additional error.\n",
      "WARNING: all-qubit error already exists for instruction \"cx\", composing with additional error.\n",
      "WARNING: all-qubit error already exists for instruction \"measure\", composing with additional error.\n",
      "WARNING: all-qubit error already exists for instruction \"cx\", composing with additional error.\n",
      "WARNING: all-qubit error already exists for instruction \"measure\", composing with additional error.\n",
      "WARNING: all-qubit error already exists for instruction \"cx\", composing with additional error.\n",
      "WARNING: all-qubit error already exists for instruction \"measure\", composing with additional error.\n",
      "WARNING: all-qubit error already exists for instruction \"cx\", composing with additional error.\n",
      "WARNING: all-qubit error already exists for instruction \"measure\", composing with additional error.\n",
      "WARNING: all-qubit error already exists for instruction \"cx\", composing with additional error.\n",
      "WARNING: all-qubit error already exists for instruction \"measure\", composing with additional error.\n",
      "WARNING: all-qubit error already exists for instruction \"cx\", composing with additional error.\n",
      "WARNING: all-qubit error already exists for instruction \"measure\", composing with additional error.\n",
      "WARNING: all-qubit error already exists for instruction \"cx\", composing with additional error.\n"
     ]
    },
    {
     "name": "stdout",
     "output_type": "stream",
     "text": [
      "13 0 10 1.0 1.0  :  0.98 1.0 0.0\n"
     ]
    },
    {
     "name": "stderr",
     "output_type": "stream",
     "text": [
      "WARNING: all-qubit error already exists for instruction \"measure\", composing with additional error.\n",
      "WARNING: all-qubit error already exists for instruction \"cx\", composing with additional error.\n",
      "WARNING: all-qubit error already exists for instruction \"measure\", composing with additional error.\n",
      "WARNING: all-qubit error already exists for instruction \"cx\", composing with additional error.\n",
      "WARNING: all-qubit error already exists for instruction \"measure\", composing with additional error.\n",
      "WARNING: all-qubit error already exists for instruction \"cx\", composing with additional error.\n",
      "WARNING: all-qubit error already exists for instruction \"measure\", composing with additional error.\n",
      "WARNING: all-qubit error already exists for instruction \"cx\", composing with additional error.\n",
      "WARNING: all-qubit error already exists for instruction \"measure\", composing with additional error.\n",
      "WARNING: all-qubit error already exists for instruction \"cx\", composing with additional error.\n",
      "WARNING: all-qubit error already exists for instruction \"measure\", composing with additional error.\n",
      "WARNING: all-qubit error already exists for instruction \"cx\", composing with additional error.\n",
      "WARNING: all-qubit error already exists for instruction \"measure\", composing with additional error.\n",
      "WARNING: all-qubit error already exists for instruction \"cx\", composing with additional error.\n",
      "WARNING: all-qubit error already exists for instruction \"measure\", composing with additional error.\n",
      "WARNING: all-qubit error already exists for instruction \"cx\", composing with additional error.\n",
      "WARNING: all-qubit error already exists for instruction \"measure\", composing with additional error.\n",
      "WARNING: all-qubit error already exists for instruction \"cx\", composing with additional error.\n",
      "WARNING: all-qubit error already exists for instruction \"measure\", composing with additional error.\n",
      "WARNING: all-qubit error already exists for instruction \"cx\", composing with additional error.\n"
     ]
    },
    {
     "name": "stdout",
     "output_type": "stream",
     "text": [
      "13 1 10 317.7 439.9  :  0.122 0.7 0.458\n"
     ]
    },
    {
     "name": "stderr",
     "output_type": "stream",
     "text": [
      "WARNING: all-qubit error already exists for instruction \"measure\", composing with additional error.\n",
      "WARNING: all-qubit error already exists for instruction \"cx\", composing with additional error.\n",
      "WARNING: all-qubit error already exists for instruction \"measure\", composing with additional error.\n",
      "WARNING: all-qubit error already exists for instruction \"cx\", composing with additional error.\n",
      "WARNING: all-qubit error already exists for instruction \"measure\", composing with additional error.\n",
      "WARNING: all-qubit error already exists for instruction \"cx\", composing with additional error.\n",
      "WARNING: all-qubit error already exists for instruction \"measure\", composing with additional error.\n",
      "WARNING: all-qubit error already exists for instruction \"cx\", composing with additional error.\n",
      "WARNING: all-qubit error already exists for instruction \"measure\", composing with additional error.\n",
      "WARNING: all-qubit error already exists for instruction \"cx\", composing with additional error.\n",
      "WARNING: all-qubit error already exists for instruction \"measure\", composing with additional error.\n",
      "WARNING: all-qubit error already exists for instruction \"cx\", composing with additional error.\n",
      "WARNING: all-qubit error already exists for instruction \"measure\", composing with additional error.\n",
      "WARNING: all-qubit error already exists for instruction \"cx\", composing with additional error.\n",
      "WARNING: all-qubit error already exists for instruction \"measure\", composing with additional error.\n",
      "WARNING: all-qubit error already exists for instruction \"cx\", composing with additional error.\n",
      "WARNING: all-qubit error already exists for instruction \"measure\", composing with additional error.\n",
      "WARNING: all-qubit error already exists for instruction \"cx\", composing with additional error.\n",
      "WARNING: all-qubit error already exists for instruction \"measure\", composing with additional error.\n",
      "WARNING: all-qubit error already exists for instruction \"cx\", composing with additional error.\n"
     ]
    },
    {
     "name": "stdout",
     "output_type": "stream",
     "text": [
      "13 2 10 426.2 625.4  :  0.113 0.4 0.49\n"
     ]
    },
    {
     "name": "stderr",
     "output_type": "stream",
     "text": [
      "WARNING: all-qubit error already exists for instruction \"measure\", composing with additional error.\n",
      "WARNING: all-qubit error already exists for instruction \"cx\", composing with additional error.\n",
      "WARNING: all-qubit error already exists for instruction \"measure\", composing with additional error.\n",
      "WARNING: all-qubit error already exists for instruction \"cx\", composing with additional error.\n",
      "WARNING: all-qubit error already exists for instruction \"measure\", composing with additional error.\n",
      "WARNING: all-qubit error already exists for instruction \"cx\", composing with additional error.\n",
      "WARNING: all-qubit error already exists for instruction \"measure\", composing with additional error.\n",
      "WARNING: all-qubit error already exists for instruction \"cx\", composing with additional error.\n",
      "WARNING: all-qubit error already exists for instruction \"measure\", composing with additional error.\n",
      "WARNING: all-qubit error already exists for instruction \"cx\", composing with additional error.\n",
      "WARNING: all-qubit error already exists for instruction \"measure\", composing with additional error.\n",
      "WARNING: all-qubit error already exists for instruction \"cx\", composing with additional error.\n",
      "WARNING: all-qubit error already exists for instruction \"measure\", composing with additional error.\n",
      "WARNING: all-qubit error already exists for instruction \"cx\", composing with additional error.\n",
      "WARNING: all-qubit error already exists for instruction \"measure\", composing with additional error.\n",
      "WARNING: all-qubit error already exists for instruction \"cx\", composing with additional error.\n",
      "WARNING: all-qubit error already exists for instruction \"measure\", composing with additional error.\n",
      "WARNING: all-qubit error already exists for instruction \"cx\", composing with additional error.\n"
     ]
    },
    {
     "name": "stdout",
     "output_type": "stream",
     "text": [
      "13 3 10 738.2 1105.5  :  -0.014 0.8 0.4\n"
     ]
    },
    {
     "name": "stderr",
     "output_type": "stream",
     "text": [
      "WARNING: all-qubit error already exists for instruction \"measure\", composing with additional error.\n",
      "WARNING: all-qubit error already exists for instruction \"cx\", composing with additional error.\n",
      "WARNING: all-qubit error already exists for instruction \"measure\", composing with additional error.\n",
      "WARNING: all-qubit error already exists for instruction \"cx\", composing with additional error.\n",
      "WARNING: all-qubit error already exists for instruction \"measure\", composing with additional error.\n",
      "WARNING: all-qubit error already exists for instruction \"cx\", composing with additional error.\n",
      "WARNING: all-qubit error already exists for instruction \"measure\", composing with additional error.\n",
      "WARNING: all-qubit error already exists for instruction \"cx\", composing with additional error.\n",
      "WARNING: all-qubit error already exists for instruction \"measure\", composing with additional error.\n",
      "WARNING: all-qubit error already exists for instruction \"cx\", composing with additional error.\n",
      "WARNING: all-qubit error already exists for instruction \"measure\", composing with additional error.\n",
      "WARNING: all-qubit error already exists for instruction \"cx\", composing with additional error.\n",
      "WARNING: all-qubit error already exists for instruction \"measure\", composing with additional error.\n",
      "WARNING: all-qubit error already exists for instruction \"cx\", composing with additional error.\n",
      "WARNING: all-qubit error already exists for instruction \"measure\", composing with additional error.\n",
      "WARNING: all-qubit error already exists for instruction \"cx\", composing with additional error.\n",
      "WARNING: all-qubit error already exists for instruction \"measure\", composing with additional error.\n",
      "WARNING: all-qubit error already exists for instruction \"cx\", composing with additional error.\n",
      "WARNING: all-qubit error already exists for instruction \"measure\", composing with additional error.\n",
      "WARNING: all-qubit error already exists for instruction \"cx\", composing with additional error.\n",
      "WARNING: all-qubit error already exists for instruction \"measure\", composing with additional error.\n",
      "WARNING: all-qubit error already exists for instruction \"cx\", composing with additional error.\n"
     ]
    },
    {
     "name": "stdout",
     "output_type": "stream",
     "text": [
      "13 4 10 1001.1 1495.3  :  -0.017 0.9 0.3\n"
     ]
    },
    {
     "name": "stderr",
     "output_type": "stream",
     "text": [
      "WARNING: all-qubit error already exists for instruction \"measure\", composing with additional error.\n",
      "WARNING: all-qubit error already exists for instruction \"cx\", composing with additional error.\n",
      "WARNING: all-qubit error already exists for instruction \"measure\", composing with additional error.\n",
      "WARNING: all-qubit error already exists for instruction \"cx\", composing with additional error.\n",
      "WARNING: all-qubit error already exists for instruction \"measure\", composing with additional error.\n",
      "WARNING: all-qubit error already exists for instruction \"cx\", composing with additional error.\n",
      "WARNING: all-qubit error already exists for instruction \"measure\", composing with additional error.\n",
      "WARNING: all-qubit error already exists for instruction \"cx\", composing with additional error.\n"
     ]
    }
   ],
   "source": [
    "%%time\n",
    "n_tests = N_t\n",
    "for q in range(13,17):\n",
    "    print(\"\\n\", q, \"qubits\")\n",
    "    start = datetime.datetime.now()\n",
    "    R = []\n",
    "    A_lst = []\n",
    "    for t in range(0,8):\n",
    "        A_lst.append([])\n",
    "        a_avg = 0\n",
    "        R2_avg = 0\n",
    "        R2_std = 0\n",
    "        ads = 0\n",
    "        add = 0\n",
    "        ctr_tests = 0\n",
    "        for _ in range(n_tests):\n",
    "            circ = random_circ(q,t)\n",
    "            counts1 = clean_exc(circ)\n",
    "            counts2 = noisy_exc(circ, noise_thermal)\n",
    "            a,R2 = analyse_noise(counts1, counts2)\n",
    "            A_lst[t].append(a)\n",
    "            ctr_tests += 1\n",
    "            a_avg += a\n",
    "            R2_avg += R2\n",
    "            R2_std += (R2**2)\n",
    "            add += circ.depth()\n",
    "            ads += circ.size()\n",
    "        if(ctr_tests>0):\n",
    "            a_avg = a_avg/ctr_tests\n",
    "            R2_avg = R2_avg/ctr_tests\n",
    "            R2_std = R2_std/ctr_tests\n",
    "            add = add/ctr_tests\n",
    "            ads = ads/ctr_tests\n",
    "            R2_std -= R2_avg**2\n",
    "            if(R2_std>=0.0):\n",
    "                R2_std = np.sqrt(R2_std)\n",
    "            R.append([q, t, a_avg, R2_avg, R2_std, add, ads, ctr_tests].copy())\n",
    "            print(q, t, ctr_tests, round(add,2), round(ads,2), \" : \", round(a_avg,3), round(R2_avg,3), round(R2_std,3) )\n",
    "        else:\n",
    "            print(q, t, \"No usable circuits found.\" )\n",
    "    stop = datetime.datetime.now()\n",
    "    print(\"Time required:\", stop-start)\n",
    "    b_nm, cs_nm, SSE = optimize_noise_model_bcs(R)\n",
    "    print(round(b_nm,5), round(cs_nm,5), round(SSE,5), \"bcs\")\n",
    "    b_nm, cd_nm, SSE = optimize_noise_model_bcd(R)\n",
    "    print(round(b_nm,5), round(cd_nm,5), round(SSE,5), \"bcd\")"
   ]
  },
  {
   "cell_type": "code",
   "execution_count": null,
   "metadata": {},
   "outputs": [],
   "source": []
  },
  {
   "cell_type": "code",
   "execution_count": null,
   "metadata": {},
   "outputs": [],
   "source": []
  },
  {
   "cell_type": "code",
   "execution_count": null,
   "metadata": {},
   "outputs": [],
   "source": []
  },
  {
   "cell_type": "code",
   "execution_count": null,
   "metadata": {},
   "outputs": [],
   "source": []
  },
  {
   "cell_type": "code",
   "execution_count": null,
   "metadata": {},
   "outputs": [],
   "source": []
  }
 ],
 "metadata": {
  "kernelspec": {
   "display_name": "Python 3 (ipykernel)",
   "language": "python",
   "name": "python3"
  },
  "language_info": {
   "codemirror_mode": {
    "name": "ipython",
    "version": 3
   },
   "file_extension": ".py",
   "mimetype": "text/x-python",
   "name": "python",
   "nbconvert_exporter": "python",
   "pygments_lexer": "ipython3",
   "version": "3.10.12"
  }
 },
 "nbformat": 4,
 "nbformat_minor": 4
}
